{
 "cells": [
  {
   "cell_type": "code",
   "execution_count": 1,
   "id": "aab6798a-71e9-4acd-a8e3-67bdf4ea84ba",
   "metadata": {},
   "outputs": [],
   "source": [
    "import numpy as np\n",
    "import pandas as pd\n",
    "import matplotlib.pyplot as plt \n",
    "import folium\n",
    "from folium.plugins import MarkerCluster\n",
    "from datetime import datetime\n",
    "import seaborn as sns\n",
    "import re"
   ]
  },
  {
   "cell_type": "markdown",
   "metadata": {},
   "source": [
    "Please set this constant to false if you wish the cells not to plot graphs"
   ]
  },
  {
   "cell_type": "code",
   "execution_count": 2,
   "metadata": {},
   "outputs": [],
   "source": [
    "PLOT_GRAPHS = False"
   ]
  },
  {
   "cell_type": "code",
   "execution_count": 3,
   "id": "f61ae2dd-4233-41ac-a1d7-f3605d64a1f6",
   "metadata": {},
   "outputs": [],
   "source": [
    "\n",
    "nepal_file_path = input(\"Please paste the path to the Nepal dataset (excel file):\")\n",
    "senegal_file_path = input(\"Please paste the path to the Senegal dataset (excel file):\")\n",
    "\n",
    "NEPAL_PATH_NADAV = r\"E:\\Atuda\\67814-Data-Science-Final-Project\\Code\\smallholder-productivity-analysis\\data\\raw\\nepal_new_feature_names.xlsx\"\n",
    "SENEGAL_PATH_NADAV = r\"E:\\Atuda\\67814-Data-Science-Final-Project\\Code\\smallholder-productivity-analysis\\data\\raw\\senegal_new_feature_names.xlsx\"\n",
    "\n",
    "nepal_df = pd.read_excel(nepal_file_path.strip('\"'))\n",
    "senegal_df = pd.read_excel(senegal_file_path.strip('\"'))"
   ]
  },
  {
   "cell_type": "markdown",
   "id": "e75112d0-013b-4f50-bda8-42f2bce41966",
   "metadata": {},
   "source": [
    "## 1. Initial Parsing of the Data\n",
    "This phase includes removal of features that we from the start knew we would not use or would not be beneficial, and also coerces the remaining features's values to be their declared types"
   ]
  },
  {
   "cell_type": "code",
   "execution_count": 4,
   "id": "b6fd9986-4d7f-4d05-8373-ac1ca0405c04",
   "metadata": {},
   "outputs": [],
   "source": [
    "\n",
    "from collections import defaultdict\n",
    "\n",
    "def parse_feature_metadata(col: str):\n",
    "    parts = col.split('-', maxsplit=3)\n",
    "    if len(parts) not in (3,4):\n",
    "        return None\n",
    "    qid, name, ftype = parts[:3]\n",
    "    if not re.fullmatch(r'Q\\d+|Q#', qid):\n",
    "        return None\n",
    "    dummy = parts[3] if len(parts)==4 else None\n",
    "    return {\"qid\": qid, \"name\": name, \"type\": ftype, \"dummy\": dummy}\n",
    "\n",
    "\n",
    "def fix_column_values(series: pd.Series, meta: dict) -> pd.Series:\n",
    "    \"\"\"\n",
    "    Given a pandas Series and its parsed metadata,\n",
    "    coerce its values to the right type:\n",
    "      - continuous, ordinal, nominal → numeric (floats or ints; bad → NaN)\n",
    "      - binary → 0/1 integers   (anything non‐zero → 1)\n",
    "      - time   → pandas datetime (bad → NaT)\n",
    "    \"\"\"\n",
    "    ftype = meta[\"type\"]\n",
    "    fname = meta[\"name\"].lower()\n",
    "\n",
    "    if ftype in (\"continuous\", \"ordinal\"):\n",
    "        # numeric codes or measurements\n",
    "        return pd.to_numeric(series, errors=\"coerce\")\n",
    "    if ftype == \"nominal\":\n",
    "        return series.astype(\"category\")\n",
    "    if \"binary\" in ftype:\n",
    "        # strings that are not '0': → 1, otherwise -> 0, floats/ints: non-zero → 1, zero or NaN → 0\n",
    "        def to_binary(x):\n",
    "            if pd.isna(x):\n",
    "                return 0\n",
    "            if isinstance(x, str):\n",
    "                return x != '0'\n",
    "            try:\n",
    "                return 1 if float(x) != 0 else 0\n",
    "            except:\n",
    "                return 1\n",
    "        return series.map(to_binary).astype(int)\n",
    "\n",
    "    if ftype == \"time\":\n",
    "        # Force everything to str so we have uniform input\n",
    "        s = series.astype(str)\n",
    "        # 0) special: End_Date holds a full datetime → extract only the time\n",
    "        if \"end_date\" in fname:\n",
    "            # parses strings like \"4/27/2018 9:47:17 AM\" into Timestamps\n",
    "            dt = pd.to_datetime(s, errors=\"coerce\")\n",
    "            # grab Python datetime.time\n",
    "            return dt.dt.time\n",
    "        # 1) true date column → datetime64\n",
    "        if \"date\" in fname:\n",
    "            return pd.to_datetime(s, format=\"%Y-%m-%d\", errors=\"coerce\")\n",
    "\n",
    "        # 2) survey‐length durations → timedelta64\n",
    "        if \"length\" in fname:\n",
    "            # strings like \"00:21:14\" → Timedelta\n",
    "            return pd.to_timedelta(s, errors=\"coerce\")\n",
    "\n",
    "        # 3) the two pure clock‐time columns → Python time\n",
    "        #    strings like \"11:27:52\" → Timestamp → .time()\n",
    "        parsed = pd.to_datetime(s, format=\"%H:%M:%S\", errors=\"coerce\")\n",
    "        return parsed.dt.time\n",
    "\n",
    "    # otherwise leave it alone\n",
    "    return series\n",
    "\n",
    "\n",
    "def clean_survey_dataframe(df: pd.DataFrame) -> pd.DataFrame:\n",
    "    \"\"\"\n",
    "    Returns a copy of df in which:\n",
    "      - all columns named Q<digits>-… have been coerced to their declared types\n",
    "      - all other columns are left untouched (you can drop them later)\n",
    "    \"\"\"\n",
    "    df = df.copy()\n",
    "    for col in df.columns:\n",
    "        meta = parse_feature_metadata(col)\n",
    "        if meta is None:\n",
    "            continue\n",
    "        df[col] = fix_column_values(df[col], meta)\n",
    "    return df\n",
    "\n",
    "\n",
    "def drop_non_relevant_columns(df: pd.DataFrame) -> pd.DataFrame:\n",
    "    \"\"\"\n",
    "    Remove everything except Q<digits> columns:\n",
    "    \"\"\"\n",
    "    keep = [col for col in df.columns if parse_feature_metadata(col) is not None]\n",
    "    return df[keep]\n",
    "\n",
    "import pandas as pd\n",
    "from collections import defaultdict\n",
    "\n",
    "def combine_dummy_columns(orig_df: pd.DataFrame) -> pd.DataFrame:\n",
    "    \"\"\"\n",
    "    Combines your binary dummy columns into single categorical columns,\n",
    "    but now *preserves* the option labels.\n",
    "\n",
    "    For each (qid, type):\n",
    "      - If there's exactly one dummy → just rename it to end in `-1`.\n",
    "      - If there are many and it's one-hot (max 1 per row) → new column takes the option LABEL, or None.\n",
    "      - Otherwise (multi-select) → new column is a list of the LABELS selected (possibly empty).\n",
    "    \"\"\"\n",
    "    df = orig_df.copy()\n",
    "\n",
    "    # 1) Gather metadata & group columns by (qid, type)\n",
    "    meta_map   = {}               # col_name → {qid, qname, var_type, dummy_idx, label}\n",
    "    buckets    = defaultdict(list)\n",
    "\n",
    "    for col in df.columns:\n",
    "        if \"binary\" not in col:\n",
    "            continue\n",
    "        m = parse_feature_metadata(col)\n",
    "        qid        = m[\"qid\"]\n",
    "        qname      = m[\"name\"]\n",
    "        var_type   = m[\"type\"]\n",
    "        dummy_idx  = m[\"dummy\"]\n",
    "        \n",
    "        subnames = qname.split(':')\n",
    "        label      = subnames[-1] if len(subnames) > 1 else f\"{qname}_{dummy_idx}\"\n",
    "\n",
    "        meta_map[col] = {\n",
    "            \"qid\":       qid,\n",
    "            \"qname\":     qname,\n",
    "            \"var_type\":  var_type,\n",
    "            \"dummy_idx\": dummy_idx,\n",
    "            \"label\":     label\n",
    "        }\n",
    "        buckets[(qid, var_type)].append(col)\n",
    "\n",
    "    to_drop  = []\n",
    "    new_cols = {}\n",
    "\n",
    "    # 2) Process each question group\n",
    "    for (qid, var_type), cols in buckets.items():\n",
    "        # sort by dummy_idx so labels stay in the right order\n",
    "        cols_sorted   = sorted(cols, key=lambda c: meta_map[c][\"dummy_idx\"])\n",
    "        labels_sorted = [meta_map[c][\"label\"] for c in cols_sorted]\n",
    "        arr           = df[cols_sorted].fillna(0).astype(int).values\n",
    "\n",
    "        # A) Single-dummy → just rename it to ...-1\n",
    "        if len(cols_sorted) == 1:\n",
    "            old = cols_sorted[0]\n",
    "            new = f\"{qid}-{meta_map[old]['qname']}-binary-1\"\n",
    "            df = df.rename(columns={old: new})\n",
    "            continue\n",
    "        \n",
    "\n",
    "        new_type = \"nominal\" if var_type.endswith(\"nominal\") else \"ordinal\"\n",
    "        subnames = meta_map[cols[0]]['qname'].split(':')\n",
    "        new_name = f\"\"\"{qid}-{':'.join(subnames[:-1]) \n",
    "                            if len(subnames) > 1\n",
    "                            else subnames[0]}-{new_type}\"\"\"\n",
    "        \n",
    "\n",
    "        # B) One-hot? (no row has more than one “1”)\n",
    "        if arr.sum(axis=1).max() <= 1:\n",
    "            cat = []\n",
    "            for row in arr:\n",
    "                if row.sum() == 0:\n",
    "                    cat.append(None)\n",
    "                else:\n",
    "                    cat.append(labels_sorted[row.argmax()])\n",
    "            \n",
    "            new_cols[new_name] = cat\n",
    "\n",
    "        # C) Multi-select\n",
    "        else:\n",
    "            multi = []\n",
    "            for row in arr:\n",
    "                # collect all the labels whose dummy==1\n",
    "                sel = [labels_sorted[i] for i, v in enumerate(row) if v == 1]\n",
    "                multi.append(tuple(sel))\n",
    "            new_cols[new_name] = multi\n",
    "\n",
    "        to_drop.extend(cols_sorted)\n",
    "\n",
    "    # 3) Drop old dummies & add the new columns\n",
    "    if to_drop:\n",
    "        df = df.drop(columns=to_drop)\n",
    "        df = pd.concat([df, pd.DataFrame(new_cols, index=df.index)], axis=1)\n",
    "\n",
    "    return df\n",
    "\n"
   ]
  },
  {
   "cell_type": "code",
   "execution_count": 5,
   "id": "6a2e67bc-2528-4ad9-b223-a92f9e7df7bb",
   "metadata": {},
   "outputs": [],
   "source": [
    "# dropping non Q#... columns\n",
    "nepal_df = drop_non_relevant_columns(nepal_df)\n",
    "senegal_df = drop_non_relevant_columns(senegal_df)\n",
    "\n",
    "# initial clean\n",
    "nepal_df = clean_survey_dataframe(nepal_df)\n",
    "senegal_df = clean_survey_dataframe(senegal_df)\n",
    "\n",
    "# combine and remove dummy columns\n",
    "nepal_df = combine_dummy_columns(nepal_df)\n",
    "senegal_df = combine_dummy_columns(senegal_df)"
   ]
  },
  {
   "cell_type": "markdown",
   "id": "8c21be13-c065-4f8f-b69b-ae3e7ddd1a7b",
   "metadata": {},
   "source": [
    "## Create Productivity Metric Columns (Targets)"
   ]
  },
  {
   "cell_type": "code",
   "execution_count": 6,
   "id": "f0c4b03c-250e-40cf-9ab4-3fe169658f47",
   "metadata": {},
   "outputs": [],
   "source": [
    "BIG_TO_SQM = 6772.63\n",
    "HEC_TO_SQM = 10_000\n",
    "XOF_TO_USD = 0.001871\n",
    "NP_TO_USD = 0.008851\n",
    "\n",
    "NPL_YEARLY_AGR_INCOME_COL = \"Q108-What_is_your_households_yearly_income_from_agriculture_NPR-continuous\"\n",
    "SNGL_YEARLY_AGR_INCOME_COL = 'Q90-Yearly_income_agriculture_XOF-continuous'\n",
    "NPL_OWND_CULTVTD_LAND_COL = \"Q50-How_much_land_that_is_yours_do_you_cultivate_bigha-continuous\"\n",
    "SNGL_OWND_CULTVTD_LAND_COL = \"Q60-Land_owned_cultivated_ha-continuous\"\n",
    "NPL_LEAS_CULTVTD_LAND_COL = \"Q51-How_much_land_that_is_rented_or_leased_do_you_cultivate_bigha-continuous\"\n",
    "SNGL_LEAS_CULTVTD_LAND_COL = \"Q61-Land_rented_cultivated_ha-continuous\"\n",
    "NPL_VEG_HARVEST_PER_YEAR_COL = \"Q62-How_much_VEGETABLES_do_you_harvest_per_year_from_this_plot_kilograms-continuous\"\n",
    "SNGL_VEG_HARVEST_PER_YEAR_COL = \"Q71-VEG_harvest_per_year_kg-continuous\"\n",
    "NPL_SELF_REPORTED_FARM_LEVEL_COL = \"Q112-Generally_speaking_how_would_you_define_your_farming-ordinal\"\n",
    "SNGL_SELF_REPORTED_FARM_LEVEL_COL = \"Q94-Farming_level_relative-ordinal\"\n",
    "\n",
    "\n",
    "nepal_df['Q#-target1_yearly_income_from_agr_per_land_SQM-continuous'] = (NP_TO_USD * nepal_df[NPL_YEARLY_AGR_INCOME_COL]) / (BIG_TO_SQM * (nepal_df[NPL_OWND_CULTVTD_LAND_COL] + nepal_df[NPL_LEAS_CULTVTD_LAND_COL]))\n",
    "senegal_df['Q#-target1_yearly_income_from_agr_per_land_SQM-continuous'] = (XOF_TO_USD * senegal_df[SNGL_YEARLY_AGR_INCOME_COL]) / (HEC_TO_SQM * (senegal_df[SNGL_OWND_CULTVTD_LAND_COL] + senegal_df[SNGL_LEAS_CULTVTD_LAND_COL]))\n",
    "\n",
    "nepal_df['Q#-target2_yearly_income_from_agr_USD-continuous'] = NP_TO_USD * nepal_df[NPL_YEARLY_AGR_INCOME_COL]\n",
    "senegal_df['Q#-target2_yearly_income_from_agr_USD-continuous'] = XOF_TO_USD * senegal_df[SNGL_YEARLY_AGR_INCOME_COL]\n",
    "\n",
    "nepal_df['Q#-target3_veg_per_area-continuous'] = nepal_df[NPL_VEG_HARVEST_PER_YEAR_COL] / (BIG_TO_SQM * (nepal_df[NPL_OWND_CULTVTD_LAND_COL] + nepal_df[NPL_LEAS_CULTVTD_LAND_COL]))\n",
    "senegal_df['Q#-target3_veg_per_area-continuous'] = senegal_df[SNGL_VEG_HARVEST_PER_YEAR_COL] / (HEC_TO_SQM * (senegal_df[SNGL_OWND_CULTVTD_LAND_COL] + senegal_df[SNGL_LEAS_CULTVTD_LAND_COL]))\n",
    "\n",
    "nepal_df.rename(columns={NPL_SELF_REPORTED_FARM_LEVEL_COL: 'Q#-target4_self_farming_perception-ordinal'}, inplace=True)\n",
    "senegal_df.rename(columns={SNGL_SELF_REPORTED_FARM_LEVEL_COL: 'Q#-target4_self_farming_perception-ordinal'}, inplace=True)\n",
    "\n",
    "# defragment\n",
    "nepal_df = nepal_df.copy()\n",
    "senegal_df = senegal_df.copy()\n",
    "\n",
    "target_cols = ['Q#-target1_yearly_income_from_agr_per_land_SQM-continuous',\n",
    "               'Q#-target2_yearly_income_from_agr_USD-continuous',\n",
    "               'Q#-target3_veg_per_area-continuous',\n",
    "               'Q#-target4_self_farming_perception-ordinal']"
   ]
  },
  {
   "cell_type": "markdown",
   "id": "21276580-c1c8-416a-8b09-ed65896e4f6e",
   "metadata": {},
   "source": [
    "# Univariate Analysis"
   ]
  },
  {
   "cell_type": "markdown",
   "id": "55bdcf07-96ed-4c8f-9ff2-9f2a6401f884",
   "metadata": {},
   "source": [
    "## Analyze Datetime columns"
   ]
  },
  {
   "cell_type": "markdown",
   "metadata": {},
   "source": [
    "Create mew datetime column"
   ]
  },
  {
   "cell_type": "code",
   "execution_count": 7,
   "id": "4edcfa54-48ab-45d1-9878-094a95bdaf6b",
   "metadata": {},
   "outputs": [
    {
     "name": "stdout",
     "output_type": "stream",
     "text": [
      "datetime64[ns]\n",
      "datetime64[ns]\n"
     ]
    }
   ],
   "source": [
    "\n",
    "\n",
    "nepal_df['Q2-SurveyedDate-time'] = pd.to_datetime(nepal_df['Q2-SurveyedDate-time'], errors='coerce')\n",
    "\n",
    "def create_datetime_col(df):\n",
    "    # ensure your date column is datetime64\n",
    "    df['Q2-SurveyedDate-time'] = pd.to_datetime(\n",
    "        df['Q2-SurveyedDate-time'], format=\"%Y-%m-%d\", errors='coerce'\n",
    "    )\n",
    "\n",
    "    # 1) build an all‐string “HH:MM:SS” series\n",
    "    time_str = df['Q2-SurveyedTime-time'].astype(str).str.extract(r'(\\d{2}:\\d{2}:\\d{2})')[0]\n",
    "\n",
    "    # 2) combine\n",
    "    dt_strings = df['Q2-SurveyedDate-time'].dt.strftime('%Y-%m-%d') + ' ' + time_str\n",
    "\n",
    "    # 3) parse into real timestamps\n",
    "    df['Q2-Surveyed_Date_Time-time'] = pd.to_datetime(dt_strings, errors='coerce')\n",
    "\n",
    "    print(df['Q2-Surveyed_Date_Time-time'].dtype)  # should be datetime64[ns]\n",
    "    \n",
    "create_datetime_col(nepal_df)\n",
    "create_datetime_col(senegal_df)"
   ]
  },
  {
   "cell_type": "markdown",
   "metadata": {},
   "source": [
    "Removed old one since already have DateTime column"
   ]
  },
  {
   "cell_type": "code",
   "execution_count": 8,
   "id": "82aa142c-1801-4e67-b489-36231346af29",
   "metadata": {},
   "outputs": [],
   "source": [
    "\n",
    "nepal_df = nepal_df.drop(['Q2-SurveyedDate-time', 'Q2-SurveyedTime-time'], axis=1)\n",
    "senegal_df = senegal_df.drop(['Q2-SurveyedDate-time', 'Q2-SurveyedTime-time'], axis=1)"
   ]
  },
  {
   "cell_type": "markdown",
   "metadata": {},
   "source": [
    "Define function to analyze new datetime columns"
   ]
  },
  {
   "cell_type": "code",
   "execution_count": 9,
   "id": "3b36661c-fad0-4194-aa29-352e7bdd0762",
   "metadata": {},
   "outputs": [],
   "source": [
    "\n",
    "def analyze_datetime(df, col):\n",
    "    \"\"\"\n",
    "    Perform univariate analysis on a datetime64 column:\n",
    "      - prints basic stats (min, max, missing)\n",
    "      - plots counts per day, month, weekday, and hour-of-day\n",
    "    \"\"\"\n",
    "    # Basic info\n",
    "    series = df[col]\n",
    "    if not series.dtype.name.startswith('datetime'):\n",
    "        raise ValueError(f\"Column {col!r} is not datetime dtype.\")\n",
    "    \n",
    "    print(f\"\\n--- ANALYSIS OF {col.upper()} ---\")\n",
    "    print(f\"Type: {series.dtype}\")\n",
    "    print(f\"Missing: {series.isna().sum()} / {len(series)}\")\n",
    "    print(f\"Range: {series.min()} → {series.max()}\")\n",
    "    \n",
    "    # Extract time features\n",
    "    df_temp = df.dropna(subset=[col]).copy()\n",
    "    df_temp['date']    = df_temp[col].dt.date\n",
    "    df_temp['month']   = df_temp[col].dt.to_period('M').astype(str)\n",
    "    df_temp['weekday'] = df_temp[col].dt.day_name()\n",
    "    df_temp['hour']    = df_temp[col].dt.hour\n",
    "    \n",
    "    # 1. Counts per day\n",
    "    daily = df_temp.groupby('date').size()\n",
    "    plt.figure()\n",
    "    daily.plot(kind='bar')\n",
    "    plt.title(f\"Number of Records per Day ({col})\")\n",
    "    plt.xlabel(\"Date\")\n",
    "    plt.ylabel(\"Count\")\n",
    "    plt.xticks(rotation=45)\n",
    "    plt.tight_layout()\n",
    "    plt.show()\n",
    "    \n",
    "    # 2. Counts by month\n",
    "    monthly = df_temp.groupby('month').size().sort_index()\n",
    "    plt.figure()\n",
    "    monthly.plot(kind='bar')\n",
    "    plt.title(f\"Counts by Month ({col})\")\n",
    "    plt.xlabel(\"Month\")\n",
    "    plt.ylabel(\"Count\")\n",
    "    plt.xticks(rotation=45)\n",
    "    plt.tight_layout()\n",
    "    plt.show()\n",
    "    \n",
    "    # 3. Counts by weekday\n",
    "    # ensure Mon–Sun order\n",
    "    weekdays = ['Monday','Tuesday','Wednesday','Thursday','Friday','Saturday','Sunday']\n",
    "    wd = df_temp['weekday'].value_counts().reindex(weekdays)\n",
    "    plt.figure()\n",
    "    wd.plot(kind='bar')\n",
    "    plt.title(f\"Counts by Weekday ({col})\")\n",
    "    plt.xlabel(\"Weekday\")\n",
    "    plt.ylabel(\"Count\")\n",
    "    plt.tight_layout()\n",
    "    plt.show()\n",
    "    \n",
    "    # 4. Distribution of hour of day\n",
    "    plt.figure()\n",
    "    sns.histplot(df_temp['hour'], bins=24, discrete=True, kde=False)\n",
    "    plt.title(f\"Survey Time of Day Distribution ({col})\")\n",
    "    plt.xlabel(\"Hour of Day\")\n",
    "    plt.ylabel(\"Count\")\n",
    "    plt.xticks(range(0,24))\n",
    "    plt.tight_layout()\n",
    "    plt.show()\n",
    "\n",
    "    "
   ]
  },
  {
   "cell_type": "markdown",
   "metadata": {},
   "source": [
    "Analyze new datetime columns"
   ]
  },
  {
   "cell_type": "code",
   "execution_count": 10,
   "id": "a48af941-c391-4bc3-b0ac-ec18207c3ee0",
   "metadata": {},
   "outputs": [],
   "source": [
    "if PLOT_GRAPHS: \n",
    "    print(\"NEPAL DATA\")\n",
    "    analyze_datetime(nepal_df, 'Q2-Surveyed_Date_Time-time')\n",
    "    print(\"SENEGAL DATA\")\n",
    "    analyze_datetime(senegal_df, 'Q2-Surveyed_Date_Time-time')"
   ]
  },
  {
   "cell_type": "markdown",
   "id": "38beb10c-62e6-4f5d-af05-8e8a00c0858c",
   "metadata": {},
   "source": [
    "## Analyze Survey Length"
   ]
  },
  {
   "cell_type": "markdown",
   "metadata": {},
   "source": [
    "Add Survey_Length column"
   ]
  },
  {
   "cell_type": "code",
   "execution_count": 11,
   "id": "6a5f0c14-e60e-4877-9f6f-ae42c288fad0",
   "metadata": {},
   "outputs": [],
   "source": [
    "\n",
    "# turn time → \"HH:MM:SS\" strings → Timedelta\n",
    "nepal_df['Q#-SurveyLengthTime-time'] = (\n",
    "    nepal_df['Q#-SurveyLengthTime-time']\n",
    "      .astype(str)                # datetime.time → \"HH:MM:SS\"\n",
    "      .pipe(pd.to_timedelta)      # parse into timedelta64[ns]\n",
    ")\n",
    "\n",
    "# first, make sure both your start‐ and end‐times are strings\n",
    "senegal_df['Q2-Surveyed_Date_Time-time'] = senegal_df['Q2-Surveyed_Date_Time-time'].astype(str)\n",
    "senegal_df['Q#-Surveyed_End_Date-time']   = senegal_df['Q#-Surveyed_End_Date-time'].astype(str)\n",
    "\n",
    "# 1) Parse your “start” column as a real timestamp\n",
    "senegal_df['start_dt'] = pd.to_datetime(\n",
    "    senegal_df['Q2-Surveyed_Date_Time-time'],\n",
    "    format='%Y-%m-%d %H:%M:%S'\n",
    ")\n",
    "\n",
    "# 2) Turn your “end time” (just HH:MM:SS) into a Timedelta\n",
    "senegal_df['end_td'] = pd.to_timedelta(\n",
    "    senegal_df['Q#-Surveyed_End_Date-time'].astype(str)\n",
    ")\n",
    "\n",
    "# 3) Build a full “end” timestamp by taking the date from start_dt and adding the time delta\n",
    "senegal_df['end_dt'] = (\n",
    "    senegal_df['start_dt'].dt.normalize()  # midnight of the start date\n",
    "  + senegal_df['end_td']\n",
    ")\n",
    "\n",
    "senegal_df['Q#-SurveyLengthTime-time'] = senegal_df['end_dt'] - senegal_df['start_dt']\n",
    "\n",
    "senegal_df.drop(columns=['start_dt', 'end_td', 'end_dt'], inplace=True)"
   ]
  },
  {
   "cell_type": "markdown",
   "metadata": {},
   "source": [
    "Function to analyze Survey_Length column"
   ]
  },
  {
   "cell_type": "code",
   "execution_count": 12,
   "id": "efdded1a-ce51-4ca7-ae13-b8c828a996ed",
   "metadata": {},
   "outputs": [],
   "source": [
    "from matplotlib.ticker import FuncFormatter\n",
    "\n",
    "def analyze_survey_length(df, column='Q#-SurveyLengthTime-time', bins=30):\n",
    "    \"\"\"\n",
    "    Analyze the distribution of survey lengths in a DataFrame.\n",
    "\n",
    "    Parameters\n",
    "    ----------\n",
    "    df : pandas.DataFrame\n",
    "        The DataFrame containing the survey length column.\n",
    "    column : str, default 'Survey_Length'\n",
    "        Name of the timedelta column to analyze.\n",
    "    bins : int, default 30\n",
    "        Number of histogram bins.\n",
    "\n",
    "    Outputs\n",
    "    -------\n",
    "    - Histogram of survey lengths (HH:MM:SS) distribution.\n",
    "    - Printed mean and standard deviation of survey lengths.\n",
    "    - Returns a tuple (mean_timedelta, std_timedelta).\n",
    "    \"\"\"\n",
    "    # Ensure the column is timedelta64[ns]\n",
    "    if not pd.api.types.is_timedelta64_dtype(df[column]):\n",
    "        raise TypeError(f\"Column '{column}' must be timedelta64[ns] dtype\")\n",
    "\n",
    "    # Compute statistics\n",
    "    mean_td = df[column].mean()\n",
    "    std_td = df[column].std()\n",
    "\n",
    "    # Convert to total seconds for plotting\n",
    "    secs = df[column].dt.total_seconds()\n",
    "\n",
    "    # Plot histogram\n",
    "    fig, ax = plt.subplots()\n",
    "    ax.hist(secs, bins=bins)\n",
    "    ax.set_title(\"Distribution of Survey Lengths\")\n",
    "    ax.set_xlabel(\"Survey Length (HH:MM:SS)\")\n",
    "    ax.set_ylabel(\"Frequency\")\n",
    "\n",
    "    # Formatter to convert seconds back to HH:MM:SS\n",
    "    def sec_to_hhmmss(x, pos):\n",
    "        h = int(x // 3600)\n",
    "        m = int((x % 3600) // 60)\n",
    "        s = int(x % 60)\n",
    "        return f\"{h:02d}:{m:02d}:{s:02d}\"\n",
    "\n",
    "    ax.xaxis.set_major_formatter(FuncFormatter(sec_to_hhmmss))\n",
    "    plt.xticks(rotation=45)\n",
    "    plt.tight_layout()\n",
    "    plt.show()\n",
    "\n",
    "    # Print mean and std in HH:MM:SS\n",
    "    mean_str = str(mean_td).split()[-1]\n",
    "    std_str  = str(std_td).split()[-1]\n",
    "    print(f\"Mean survey length: {mean_str}\")\n",
    "    print(f\"Std dev survey length: {std_str}\")\n",
    "\n",
    "    return mean_td, std_td"
   ]
  },
  {
   "cell_type": "code",
   "execution_count": 13,
   "id": "7e5c35ec-21a2-44fe-be73-b8376dd2daa1",
   "metadata": {},
   "outputs": [],
   "source": [
    "if PLOT_GRAPHS:\n",
    "    print(\"NEPAL DATA\")\n",
    "    analyze_survey_length(nepal_df)\n",
    "    print(\"SENEGAL DATA\")\n",
    "    analyze_survey_length(senegal_df)"
   ]
  },
  {
   "cell_type": "markdown",
   "metadata": {},
   "source": [
    "Discovered data-entry glitch extreme value at one Senegalese survey"
   ]
  },
  {
   "cell_type": "code",
   "execution_count": 14,
   "id": "570bc6e6-82fd-4f4f-8a5b-74eb374283b7",
   "metadata": {},
   "outputs": [
    {
     "name": "stdout",
     "output_type": "stream",
     "text": [
      "    Q2-Surveyed_Date_Time-time Q#-Surveyed_End_Date-time  \\\n",
      "328        2018-04-27 14:18:09                  00:11:33   \n",
      "\n",
      "    Q#-SurveyLengthTime-time  \n",
      "328        -1 days +09:53:24  \n"
     ]
    }
   ],
   "source": [
    "bad = senegal_df[ senegal_df['Q#-SurveyLengthTime-time'] < pd.Timedelta(0) ]\n",
    "print(bad[['Q2-Surveyed_Date_Time-time','Q#-Surveyed_End_Date-time','Q#-SurveyLengthTime-time']])"
   ]
  },
  {
   "cell_type": "markdown",
   "metadata": {},
   "source": [
    "Filling in this survey with median survey length"
   ]
  },
  {
   "cell_type": "code",
   "execution_count": 15,
   "id": "b8b4295a-8a1c-4d1c-944a-f134db186624",
   "metadata": {},
   "outputs": [
    {
     "name": "stdout",
     "output_type": "stream",
     "text": [
      "Found 1 negative Survey_Length(s), filling with median = 0 days 00:31:58\n"
     ]
    }
   ],
   "source": [
    "median_td = senegal_df.loc[ senegal_df['Q#-SurveyLengthTime-time'] >= pd.Timedelta(0), 'Q#-SurveyLengthTime-time' ].median()\n",
    "mask = senegal_df['Q#-SurveyLengthTime-time'] < pd.Timedelta(0)\n",
    "print(f\"Found {mask.sum()} negative Survey_Length(s), filling with median = {median_td}\")\n",
    "senegal_df.loc[mask, 'Q#-SurveyLengthTime-time'] = median_td"
   ]
  },
  {
   "cell_type": "markdown",
   "metadata": {},
   "source": [
    "Redefine survey analysis function by adding standard deviation markers"
   ]
  },
  {
   "cell_type": "code",
   "execution_count": 16,
   "id": "1c956e20-3ac3-4efe-ba2c-f74283e6da6b",
   "metadata": {},
   "outputs": [],
   "source": [
    "from matplotlib.ticker import FuncFormatter\n",
    "\n",
    "def analyze_survey_length(df, column='Q#-SurveyLengthTime-time', bins=30, max_std=3):\n",
    "    \"\"\"\n",
    "    Analyze the distribution of survey lengths in a DataFrame,\n",
    "    and overlay vertical lines at mean ± n * std for n = 1..max_std.\n",
    "\n",
    "    Parameters\n",
    "    ----------\n",
    "    df : pandas.DataFrame\n",
    "        The DataFrame containing the survey length column.\n",
    "    column : str, default 'Survey_Length'\n",
    "        Name of the timedelta column to analyze.\n",
    "    bins : int, default 30\n",
    "        Number of histogram bins.\n",
    "    max_std : int, default 3\n",
    "        How many standard-deviation multiples to draw lines for.\n",
    "\n",
    "    Outputs\n",
    "    -------\n",
    "    - Histogram of survey lengths (HH:MM:SS) distribution with σ-lines.\n",
    "    - Printed mean and standard deviation of survey lengths.\n",
    "    - Returns a tuple (mean_timedelta, std_timedelta).\n",
    "    \"\"\"\n",
    "    # 1) Type check\n",
    "    if not pd.api.types.is_timedelta64_dtype(df[column]):\n",
    "        raise TypeError(f\"Column '{column}' must be timedelta64[ns] dtype\")\n",
    "\n",
    "    # 2) Compute statistics\n",
    "    mean_td = df[column].mean()\n",
    "    std_td  = df[column].std()\n",
    "\n",
    "    mean_sec = mean_td.total_seconds()\n",
    "    std_sec  = std_td.total_seconds()\n",
    "\n",
    "    # 3) Build histogram\n",
    "    secs = df[column].dt.total_seconds()\n",
    "    fig, ax = plt.subplots(figsize=(8,4))\n",
    "    ax.hist(secs, bins=bins, edgecolor='black', alpha=0.7)\n",
    "    ax.set_title(\"Distribution of Survey Lengths\")\n",
    "    ax.set_xlabel(\"Survey Length (HH:MM:SS)\")\n",
    "    ax.set_ylabel(\"Frequency\")\n",
    "\n",
    "    # Formatter: seconds → HH:MM:SS\n",
    "    def sec_to_hhmmss(x, pos):\n",
    "        h = int(x // 3600)\n",
    "        m = int((x % 3600) // 60)\n",
    "        s = int(x % 60)\n",
    "        return f\"{h:02d}:{m:02d}:{s:02d}\"\n",
    "\n",
    "    ax.xaxis.set_major_formatter(FuncFormatter(sec_to_hhmmss))\n",
    "    plt.xticks(rotation=45)\n",
    "\n",
    "    # 4) Overlay mean and std-bands\n",
    "    #    use different linestyles/colors for clarity\n",
    "    for n in range(0, max_std+1):\n",
    "        # skip n=0 since that’s the mean line (draw it separately for legend clarity)\n",
    "        if n == 0:\n",
    "            ax.axvline(mean_sec, color='black', linestyle='-', linewidth=2,\n",
    "                       label='Mean')\n",
    "        else:\n",
    "            for sign, label in [(+1, f'+{n}σ'), (-1, f'-{n}σ')]:\n",
    "                x = mean_sec + sign * n * std_sec\n",
    "                ax.axvline(x, linestyle='--' if n==1 else ':',\n",
    "                           linewidth=1.5 if n==1 else 1,\n",
    "                           label=label if sign>0 else None)\n",
    "    # Only one -σ label needed, so we skip labeling the negative side\n",
    "\n",
    "    ax.legend(loc='upper right')\n",
    "    plt.tight_layout()\n",
    "    plt.show()\n",
    "\n",
    "    # 5) Print out\n",
    "    mean_str = str(mean_td).split()[-1]\n",
    "    std_str  = str(std_td).split()[-1]\n",
    "    print(f\"Mean survey length: {mean_str}\")\n",
    "    print(f\"Std dev survey length: {std_str}\")\n",
    "\n",
    "    return mean_td, std_td"
   ]
  },
  {
   "cell_type": "code",
   "execution_count": 17,
   "id": "35407d79-a680-4d20-87d5-9eac98c0b81d",
   "metadata": {},
   "outputs": [],
   "source": [
    "if PLOT_GRAPHS:\n",
    "    print(\"SENEGAL DATA\")\n",
    "    analyze_survey_length(senegal_df)"
   ]
  },
  {
   "cell_type": "markdown",
   "metadata": {},
   "source": [
    "Outliers defined as beyond 3 standard deviations, we swap outliers with median survey length"
   ]
  },
  {
   "cell_type": "code",
   "execution_count": 18,
   "id": "128b58f0-db8e-40ac-8c5d-c05f42edb2d8",
   "metadata": {},
   "outputs": [
    {
     "name": "stdout",
     "output_type": "stream",
     "text": [
      "Changed 3 outlier survey lengths to median\n"
     ]
    }
   ],
   "source": [
    "threshold = senegal_df['Q#-SurveyLengthTime-time'].mean() + 2*senegal_df['Q#-SurveyLengthTime-time'].std()\n",
    "mask = senegal_df['Q#-SurveyLengthTime-time'] > threshold\n",
    "print(f\"Changed {mask.sum()} outlier survey lengths to median\")\n",
    "senegal_df.loc[mask, 'Q#-SurveyLengthTime-time'] = median_td"
   ]
  },
  {
   "cell_type": "markdown",
   "metadata": {},
   "source": [
    "Recheck survey length histogram"
   ]
  },
  {
   "cell_type": "code",
   "execution_count": 19,
   "id": "934b4039-77d0-44df-9b08-c307f4f74e70",
   "metadata": {},
   "outputs": [],
   "source": [
    "if PLOT_GRAPHS:\n",
    "    print(\"SENEGAL DATA\")\n",
    "    analyze_survey_length(senegal_df)"
   ]
  },
  {
   "cell_type": "markdown",
   "id": "295ad0ff-3968-4fe5-9020-3af1540311f1",
   "metadata": {},
   "source": [
    "## Analyze Locational Data"
   ]
  },
  {
   "cell_type": "markdown",
   "metadata": {},
   "source": [
    "Since added Survey_Length column, took out others"
   ]
  },
  {
   "cell_type": "code",
   "execution_count": 20,
   "id": "ab8402b2-d4d7-4488-9b56-ba0a0137640f",
   "metadata": {},
   "outputs": [],
   "source": [
    "\n",
    "nepal_df = nepal_df.drop(['Q#-SurveyedEndTime-time'], axis=1)\n",
    "senegal_df = senegal_df.drop(['Q#-Surveyed_End_Date-time'], axis=1)"
   ]
  },
  {
   "cell_type": "markdown",
   "metadata": {},
   "source": [
    "Showing missing columns in the Senegal dataset's Location_... columns"
   ]
  },
  {
   "cell_type": "code",
   "execution_count": 21,
   "id": "30667ccb-75c1-435a-8d51-d3e38f7e0727",
   "metadata": {},
   "outputs": [
    {
     "name": "stdout",
     "output_type": "stream",
     "text": [
      "missing values in Q1-Location_Latitude: 335\n",
      "missing values in Latitude: 0\n",
      "missing values in Q1-Location_Longitude: 335\n",
      "missing values in Longitude: 0\n",
      "missing values in Q1-Location_Altitude: 335\n",
      "missing values in Altitude: 0\n",
      "missing values in Q1-Location_Accuracy: 335\n",
      "missing values in Accuracy: 0\n"
     ]
    }
   ],
   "source": [
    "for column in ['Latitude', 'Longitude', 'Altitude', 'Accuracy']:\n",
    "    print(f\"missing values in Q1-Location_{column}: {senegal_df[f'Q1-Location_{column}-continuous'].isna().sum()}\")\n",
    "    print(f\"missing values in {column}: {senegal_df[f'Q1-{column}-continuous'].isna().sum()}\")\n"
   ]
  },
  {
   "cell_type": "markdown",
   "metadata": {},
   "source": [
    "Removing Location_ columns from senegal data\n"
   ]
  },
  {
   "cell_type": "code",
   "execution_count": 22,
   "id": "ccad853b-d0d9-410b-ab10-cd481d4f2665",
   "metadata": {},
   "outputs": [],
   "source": [
    "senegal_df = senegal_df.drop(['Q1-Location_Latitude-continuous', 'Q1-Location_Longitude-continuous', 'Q1-Location_Altitude-continuous', 'Q1-Location_Accuracy-continuous'], axis=1)"
   ]
  },
  {
   "cell_type": "markdown",
   "metadata": {},
   "source": [
    "Both are ok for nepal"
   ]
  },
  {
   "cell_type": "code",
   "execution_count": 23,
   "id": "1bed6ab4-eb14-44bc-a6c9-dbeb62075545",
   "metadata": {},
   "outputs": [
    {
     "name": "stdout",
     "output_type": "stream",
     "text": [
      "missing values in Location_Latitude: 0\n",
      "missing values in Latitude: 0\n",
      "missing values in Location_Longitude: 0\n",
      "missing values in Longitude: 0\n",
      "missing values in Location_Altitude: 0\n",
      "missing values in Altitude: 0\n",
      "missing values in Location_Accuracy: 0\n",
      "missing values in Accuracy: 0\n"
     ]
    }
   ],
   "source": [
    "for column in ['Latitude', 'Longitude', 'Altitude', 'Accuracy']:\n",
    "    print(f\"missing values in Location_{column}: {nepal_df[f'Q1-Location_{column}-continuous'].isna().sum()}\")\n",
    "    print(f\"missing values in {column}: {nepal_df[f'Q1-{column}-continuous'].isna().sum()}\")"
   ]
  },
  {
   "cell_type": "markdown",
   "metadata": {},
   "source": [
    "Still removing from nepal Location_ columns for consistency between both datasets"
   ]
  },
  {
   "cell_type": "code",
   "execution_count": 24,
   "id": "d9249852-d6d5-4a72-bb03-8dbc1e438488",
   "metadata": {},
   "outputs": [],
   "source": [
    "nepal_df = nepal_df.drop(['Q1-Location_Latitude-continuous', 'Q1-Location_Longitude-continuous', 'Q1-Location_Altitude-continuous', 'Q1-Location_Accuracy-continuous'], axis=1)"
   ]
  },
  {
   "cell_type": "markdown",
   "metadata": {},
   "source": [
    "Defining function to analyze locational columns"
   ]
  },
  {
   "cell_type": "code",
   "execution_count": 25,
   "id": "5749cede-e5f2-4f59-b52c-e4b8d010a494",
   "metadata": {},
   "outputs": [],
   "source": [
    "\n",
    "from folium.plugins import MarkerCluster\n",
    "\n",
    "def lat_lon_hillshade_map(df, zoom_start=11):\n",
    "    \"\"\"\n",
    "    Folium map with:\n",
    "      • Default OpenStreetMap layer\n",
    "      • ESRI World Hillshade (true terrain) layer\n",
    "      • MarkerCluster of your points with Altitude pop-ups\n",
    "      • LayerControl for toggling back and forth\n",
    "    \"\"\"\n",
    "    # 1) Prepare & center\n",
    "    df_map = df.dropna(subset=['Q1-Latitude-continuous','Q1-Longitude-continuous']).copy()\n",
    "    center = [df_map['Q1-Latitude-continuous'].mean(), df_map['Q1-Longitude-continuous'].mean()]\n",
    "\n",
    "    # 2) Build base map (OSM by default)\n",
    "    m = folium.Map(location=center, zoom_start=zoom_start)\n",
    "\n",
    "    # 3) Add ESRI World Hillshade as a second base layer\n",
    "    folium.TileLayer(\n",
    "        tiles='https://server.arcgisonline.com/ArcGIS/rest/services/'\n",
    "              'Elevation/World_Hillshade/MapServer/tile/{z}/{y}/{x}',\n",
    "        attr='Tiles © Esri — Source: USGS',\n",
    "        name='Hillshade (ESRI)'\n",
    "    ).add_to(m)\n",
    "\n",
    "    # 4) Your markers (clustered)\n",
    "    mc = MarkerCluster(name='Points').add_to(m)\n",
    "    for idx, row in df_map.iterrows():\n",
    "        folium.Marker(\n",
    "            location=[row['Q1-Latitude-continuous'], row['Q1-Longitude-continuous']],\n",
    "            popup=(\n",
    "                f\"<b>Index:</b> {idx}<br>\"\n",
    "                f\"<b>Altitude:</b> {row.get('Q1-Altitude-continuous','N/A')} m\"\n",
    "            )\n",
    "        ).add_to(mc)\n",
    "\n",
    "    # 5) Toggle control\n",
    "    folium.LayerControl(collapsed=False).add_to(m)\n",
    "\n",
    "    return m\n"
   ]
  },
  {
   "cell_type": "markdown",
   "metadata": {},
   "source": [
    "Analyze lat long data for nepal, both openstreetmap and hillshade for elevation"
   ]
  },
  {
   "cell_type": "code",
   "execution_count": 26,
   "id": "1dcc78c5-1516-44ee-aaa6-72640660a166",
   "metadata": {},
   "outputs": [],
   "source": [
    "if PLOT_GRAPHS:\n",
    "    nepal_map = lat_lon_hillshade_map(nepal_df)\n",
    "    nepal_map   # in Jupyter this will render with two base‐layers to switch between\n"
   ]
  },
  {
   "cell_type": "markdown",
   "metadata": {},
   "source": [
    "The same for Senegal"
   ]
  },
  {
   "cell_type": "code",
   "execution_count": 27,
   "id": "00523075-5b8e-4e65-8a44-754fd75e3d82",
   "metadata": {},
   "outputs": [],
   "source": [
    "if PLOT_GRAPHS:\n",
    "    print(\"SENEGAL DATA\")\n",
    "    senegal_map = lat_lon_hillshade_map(senegal_df)\n",
    "    senegal_map\n"
   ]
  },
  {
   "cell_type": "markdown",
   "metadata": {},
   "source": [
    "Check against google if the altitude column is accurate given the lat lot coordinates, plot accuracy also to see if there is some connection"
   ]
  },
  {
   "cell_type": "code",
   "execution_count": 28,
   "id": "73fb5d68-2bbe-4b1b-b1b6-6c1c89070a48",
   "metadata": {},
   "outputs": [],
   "source": [
    "import requests\n",
    "\n",
    "def plot_altitude_error(df, lat_col='Q1-Latitude-continuous', lon_col='Q1-Longitude-continuous', alt_col='Q1-Altitude-continuous', accuracy_col='Q1-Accuracy-continuous', api_url='https://api.open-elevation.com/api/v1/lookup', batch_size=100, bins=30):\n",
    "    '''\n",
    "    Fetches true elevations and plots a combined view showing:\n",
    "      - Histogram of altitude errors (recorded - true).\n",
    "      - Median reported accuracy for each error bin overlaid as a line.\n",
    "\n",
    "    Parameters:\n",
    "    df (pd.DataFrame): DataFrame with latitude, longitude, recorded altitude, and accuracy columns.\n",
    "    lat_col (str): Name of the latitude column.\n",
    "    lon_col (str): Name of the longitude column.\n",
    "    alt_col (str): Name of the recorded altitude column.\n",
    "    accuracy_col (str): Name of the accuracy column.\n",
    "    api_url (str): Elevation API endpoint.\n",
    "    batch_size (int): Number of locations per API request.\n",
    "    bins (int): Number of bins for error histogram and averaging.\n",
    "\n",
    "    Returns:\n",
    "    None. Displays a joint plot of error distribution and median accuracy per error bin.\n",
    "    '''\n",
    "    # Work on a copy\n",
    "    df = df.copy()\n",
    "    true_alts = []\n",
    "\n",
    "    # Batch request loop to fetch true elevations\n",
    "    for i in range(0, len(df), batch_size):\n",
    "        batch = df.iloc[i:i+batch_size]\n",
    "        locations = '|'.join(f\"{lat},{lon}\" for lat, lon in zip(batch[lat_col], batch[lon_col]))\n",
    "        resp = requests.get(api_url, params={'locations': locations})\n",
    "        resp.raise_for_status()\n",
    "        results = resp.json().get('results', [])\n",
    "        if len(results) != len(batch):\n",
    "            raise ValueError(f\"Expected {len(batch)} results, got {len(results)}\")\n",
    "        true_alts.extend(r['elevation'] for r in results)\n",
    "\n",
    "    # Compute errors and extract accuracy\n",
    "    recorded = df[alt_col].values\n",
    "    errors = recorded - np.array(true_alts)\n",
    "    accuracies = df[accuracy_col].values\n",
    "\n",
    "    # Prepare bins and compute median accuracy per bin\n",
    "    bin_edges = np.linspace(errors.min(), errors.max(), bins + 1)\n",
    "    bin_centers = 0.5 * (bin_edges[:-1] + bin_edges[1:])\n",
    "    digitized = np.digitize(errors, bin_edges) - 1\n",
    "    median_acc = [np.median(accuracies[digitized == i]) if np.any(digitized == i) else np.nan for i in range(bins)]\n",
    "\n",
    "    # Create combined plot\n",
    "    fig, ax1 = plt.subplots()\n",
    "\n",
    "    # Histogram of errors\n",
    "    ax1.hist(errors, bins=bin_edges, alpha=0.6)\n",
    "    ax1.set_xlabel('Altitude Error (m)')\n",
    "    ax1.set_ylabel('Frequency')\n",
    "    ax1.axvline(0, color='k', linestyle='--')\n",
    "\n",
    "    # Overlay median accuracy line on a twin y-axis\n",
    "    ax2 = ax1.twinx()\n",
    "    ax2.plot(bin_centers, median_acc, marker='o', linestyle='-')\n",
    "    ax2.set_ylabel('Median Reported Accuracy')\n",
    "\n",
    "    plt.title('Altitude Error Distribution with Median Accuracy per Error Bin')\n",
    "    plt.show()"
   ]
  },
  {
   "cell_type": "code",
   "execution_count": 29,
   "id": "0e589b22-d596-4723-9eb0-3ba37e153bfa",
   "metadata": {},
   "outputs": [],
   "source": [
    "if PLOT_GRAPHS:\n",
    "    plot_altitude_error(nepal_df)"
   ]
  },
  {
   "cell_type": "code",
   "execution_count": 30,
   "id": "de92c5e5-cc9e-43fd-a2a7-4d9a17a8ba37",
   "metadata": {},
   "outputs": [],
   "source": [
    "if PLOT_GRAPHS:\n",
    "    plot_altitude_error(senegal_df)"
   ]
  },
  {
   "cell_type": "markdown",
   "metadata": {},
   "source": [
    "Except for a very few farmers in nepal, altitude is pretty similar all throughout, there is quite a lot of error, accuracy seems to have no helpful connection with this altitude error, will just keep the features for now"
   ]
  },
  {
   "cell_type": "markdown",
   "id": "d9ce3ad322ee23a",
   "metadata": {},
   "source": [
    "## Analyze All Other Features"
   ]
  },
  {
   "cell_type": "markdown",
   "metadata": {},
   "source": [
    "Define a function to plot the marginal distributions of the remaining features, bar plots used for categorical features and histograms for numeric features"
   ]
  },
  {
   "cell_type": "code",
   "execution_count": 31,
   "id": "0e305327-abe5-4162-a3d1-a9576f6bc613",
   "metadata": {},
   "outputs": [],
   "source": [
    "from collections import defaultdict\n",
    "\n",
    "def plot_marginals(df: pd.DataFrame):\n",
    "    # Group columns by question\n",
    "    groups = defaultdict(list)\n",
    "    for col in df.columns:\n",
    "        meta = parse_feature_metadata(col)\n",
    "        if meta:\n",
    "            groups[meta[\"qid\"]].append(col)\n",
    "\n",
    "    for qid, cols in groups.items():\n",
    "        meta0 = parse_feature_metadata(cols[0])\n",
    "        ftype = meta0[\"type\"]\n",
    "        feat = meta0[\"name\"].replace('_', ' ')\n",
    "\n",
    "        plt.figure()\n",
    "        if ftype == \"binary\":\n",
    "            # ---- single‐select (<=2 columns) ----\n",
    "            if len(cols) <= 2:\n",
    "                # pick the “yes” column: if only one, use that; if two, look for '-1'\n",
    "                if len(cols) == 1:\n",
    "                    yes_col = cols[0]\n",
    "                else:\n",
    "                    yes_col = next(c for c in cols if c.endswith('-1'))\n",
    "                ser = df[yes_col].fillna(0).astype(int)\n",
    "                ser.value_counts().sort_index().plot(kind=\"bar\", rot=0)\n",
    "                plt.title(f\"{qid} {feat} (binary yes/no)\")\n",
    "                plt.xlabel(feat)\n",
    "                plt.ylabel(\"Count\")\n",
    "\n",
    "            # ---- multi‐select (>2 columns) ----\n",
    "            else:\n",
    "                counts = df[cols].fillna(0).astype(int).sum(axis=0)\n",
    "                labels = [parse_feature_metadata(c)[\"name\"].replace('_',' ')\n",
    "                          for c in cols]\n",
    "                pd.Series(counts.values, index=labels)\\\n",
    "                  .sort_values(ascending=False)\\\n",
    "                  .plot(kind=\"bar\", rot=45)\n",
    "                plt.title(f\"{qid} {feat} (multi-select)\")\n",
    "                plt.xlabel(feat)\n",
    "                plt.ylabel(\"Count\")\n",
    "\n",
    "        else:\n",
    "            # continuous/ordinal/nominal\n",
    "            ser = df[cols[0]]\n",
    "            if pd.api.types.is_numeric_dtype(ser):\n",
    "                plt.hist(ser.dropna(), bins='auto')\n",
    "                plt.title(f\"{qid} {feat} ({ftype})\\n\"\n",
    "                          f\"mean={ser.mean():.2f}, std={ser.std():.2f}\")\n",
    "            else:\n",
    "                ser.value_counts().sort_index().plot(kind=\"bar\", rot=0)\n",
    "                plt.title(f\"{qid} {feat} ({ftype})\")\n",
    "                plt.xlabel(feat)\n",
    "                plt.ylabel(\"Count\")\n",
    "\n",
    "        plt.tight_layout()\n",
    "        plt.show()"
   ]
  },
  {
   "cell_type": "code",
   "execution_count": 32,
   "id": "634d73ef-bc85-4543-bc47-39f615963dbd",
   "metadata": {},
   "outputs": [],
   "source": [
    "if PLOT_GRAPHS:\n",
    "    plot_marginals(nepal_df)"
   ]
  },
  {
   "cell_type": "code",
   "execution_count": 33,
   "id": "1eeca221-d4d4-4f6d-bb96-655da6ff36cf",
   "metadata": {},
   "outputs": [],
   "source": [
    "if PLOT_GRAPHS:\n",
    "    plot_marginals(senegal_df)"
   ]
  },
  {
   "cell_type": "markdown",
   "id": "ffdfc431",
   "metadata": {},
   "source": [
    "# Continuous & Discrete Missing Values"
   ]
  },
  {
   "cell_type": "markdown",
   "metadata": {},
   "source": [
    "Get all discrete and continuous columns"
   ]
  },
  {
   "cell_type": "code",
   "execution_count": 34,
   "id": "5ba05ecf",
   "metadata": {},
   "outputs": [],
   "source": [
    "non_cat_cols_nepal = []\n",
    "non_cat_cols_senegal = []\n",
    "for col in nepal_df.columns:\n",
    "    meta_type = parse_feature_metadata(col)['type']\n",
    "    if meta_type in ['continuous', 'discrete']:\n",
    "        non_cat_cols_nepal.append(col)\n",
    "\n",
    "for col in senegal_df.columns:\n",
    "\n",
    "    meta_type = parse_feature_metadata(col)['type']\n",
    "    \n",
    "    if meta_type in ['continuous', 'discrete']:\n",
    "        non_cat_cols_senegal.append(col)\n",
    "    "
   ]
  },
  {
   "cell_type": "markdown",
   "metadata": {},
   "source": [
    "Check how many missing values per column"
   ]
  },
  {
   "cell_type": "code",
   "execution_count": 35,
   "id": "b65d3ef8",
   "metadata": {},
   "outputs": [
    {
     "name": "stdout",
     "output_type": "stream",
     "text": [
      "Missing values per non-categorical column in nepal:\n",
      "Q1-Latitude-continuous                                                                            0\n",
      "Q1-Longitude-continuous                                                                           0\n",
      "Q1-Altitude-continuous                                                                            0\n",
      "Q1-Accuracy-continuous                                                                            0\n",
      "Q5-AgeYears-continuous                                                                            0\n",
      "Q50-How_much_land_that_is_yours_do_you_cultivate_bigha-continuous                                 0\n",
      "Q51-How_much_land_that_is_rented_or_leased_do_you_cultivate_bigha-continuous                      0\n",
      "Q52-On_how_much_land_do_you_grow_vegetables_bigha-continuous                                      1\n",
      "Q62-How_much_VEGETABLES_do_you_harvest_per_year_from_this_plot_kilograms-continuous               0\n",
      "Q78-How_many_years_have_you_been_using_drip_irrigation_if_no_zero-continuous                      1\n",
      "Q101-how_many_people_live_in_this_household-continuous                                            0\n",
      "Q102-How_many_children_do_you_have-continuous                                                    17\n",
      "Q103-How_many_children_do_you_plan_to_have_in_your_whole_live-continuous                         17\n",
      "Q106-Education_level_of_this_person_that_is_interviewed._years_of_formal_education-continuous     1\n",
      "Q107-Education_level_of_your_wife_husband_How_many_years_of_formal_education-continuous           0\n",
      "Q108-What_is_your_households_yearly_income_from_agriculture_NPR-continuous                        0\n",
      "Q109-What_is_your_households_yearly_income_overall_including_agriculture_NPR-continuous           1\n",
      "Q110-Do_you_currently_have_a_loan__if_no_zero_if_yes_amount_of_money_loaned_NPR-continuous        0\n",
      "Q#-hope_total-continuous                                                                          0\n",
      "Q#-positive_total-continuous                                                                      0\n",
      "Q#-negative_total-continuous                                                                      0\n",
      "Q#-Positive_Negative_Score-continuous                                                             0\n",
      "Q#-Distance-continuous                                                                            0\n",
      "Q#-TOTAL_AREA-continuous                                                                          0\n",
      "Q#-self_control_score-continuous                                                                  0\n",
      "Q#-target1_yearly_income_from_agr_per_land_SQM-continuous                                         0\n",
      "Q#-target2_yearly_income_from_agr_USD-continuous                                                  0\n",
      "Q#-target3_veg_per_area-continuous                                                                0\n",
      "dtype: int64\n",
      "Missing values per non-categorical column in senegal:\n",
      "Q1-Latitude-continuous                                       0\n",
      "Q1-Longitude-continuous                                      0\n",
      "Q1-Altitude-continuous                                       0\n",
      "Q1-Accuracy-continuous                                       0\n",
      "Q5-Age-continuous                                            1\n",
      "Q#-Hope_total-continuous                                     0\n",
      "Q60-Land_owned_cultivated_ha-continuous                      0\n",
      "Q61-Land_rented_cultivated_ha-continuous                     0\n",
      "Q62-Land_grow_vegetables_ha-continuous                       0\n",
      "Q71-VEG_harvest_per_year_kg-continuous                       0\n",
      "Q84-Years_using_drip_irrigation-continuous                   0\n",
      "Q87-Household_size-continuous                                3\n",
      "Q#-Education_years-continuous                                0\n",
      "Q90-Yearly_income_agriculture_XOF-continuous                 0\n",
      "Q91-Yearly_income_overall_XOF-continuous                     0\n",
      "Q92-Current_loan_amount_XOF-continuous                       0\n",
      "Q#-target1_yearly_income_from_agr_per_land_SQM-continuous    0\n",
      "Q#-target2_yearly_income_from_agr_USD-continuous             0\n",
      "Q#-target3_veg_per_area-continuous                           0\n",
      "dtype: int64\n"
     ]
    }
   ],
   "source": [
    "missing_counts_nepal = nepal_df[non_cat_cols_nepal].isnull().sum()\n",
    "print(\"Missing values per non-categorical column in nepal:\")\n",
    "print(missing_counts_nepal)\n",
    "\n",
    "missing_counts_senegal = senegal_df[non_cat_cols_senegal].isnull().sum()\n",
    "print(\"Missing values per non-categorical column in senegal:\")\n",
    "print(missing_counts_senegal)"
   ]
  },
  {
   "cell_type": "markdown",
   "metadata": {},
   "source": [
    "Check if missingness of How_many_children_do_you... columns in nepal are random"
   ]
  },
  {
   "cell_type": "code",
   "execution_count": 36,
   "id": "9d76264c",
   "metadata": {},
   "outputs": [],
   "source": [
    "children_cols = ['Q102-How_many_children_do_you_have-continuous', 'Q103-How_many_children_do_you_plan_to_have_in_your_whole_live-continuous']\n",
    "y_col = 'Q#-target2_yearly_income_from_agr_USD-continuous'\n",
    "\n",
    "if PLOT_GRAPHS:\n",
    "    for col in children_cols:\n",
    "\n",
    "        mask_missing = nepal_df[col].isnull().values\n",
    "\n",
    "        # Choose colors for each point\n",
    "        colors = np.where(mask_missing, 'red', 'blue')\n",
    "\n",
    "        plt.figure(figsize=(8,4))\n",
    "        plt.scatter(nepal_df.index, nepal_df[y_col], c=colors, alpha=0.7)\n",
    "        plt.xlabel(\"Index\")\n",
    "        plt.ylabel(\"Yearly Income from Agriculture (USD)\")\n",
    "        plt.title(\"Yearly Income from Agriculture (USD) vs. index\\n\\nRed = 'how many children' feature was missing\")\n",
    "        plt.show()"
   ]
  },
  {
   "cell_type": "markdown",
   "metadata": {},
   "source": [
    "Missingness is uniformly spread throughout. We remove the columns because our coordinator\n",
    "said we should"
   ]
  },
  {
   "cell_type": "code",
   "execution_count": 37,
   "id": "3a8e244b",
   "metadata": {},
   "outputs": [],
   "source": [
    "nepal_df = nepal_df.drop(columns=children_cols)\n"
   ]
  },
  {
   "cell_type": "code",
   "execution_count": 38,
   "id": "847ae26b",
   "metadata": {},
   "outputs": [],
   "source": [
    "\n",
    "for col in children_cols:\n",
    "    non_cat_cols_nepal.remove(col)"
   ]
  },
  {
   "cell_type": "markdown",
   "id": "e8f0a8f4",
   "metadata": {},
   "source": [
    "For the rest, fill missing values with median since very small amount of them and don't want to lose farmers"
   ]
  },
  {
   "cell_type": "code",
   "execution_count": 39,
   "id": "323764d3",
   "metadata": {},
   "outputs": [],
   "source": [
    "nepal_df[non_cat_cols_nepal] = nepal_df[non_cat_cols_nepal].fillna(nepal_df[non_cat_cols_nepal].median())\n",
    "senegal_df[non_cat_cols_senegal] = senegal_df[non_cat_cols_senegal].fillna(senegal_df[non_cat_cols_senegal].median())"
   ]
  },
  {
   "cell_type": "markdown",
   "metadata": {},
   "source": [
    "Recheck missing values in both datasets"
   ]
  },
  {
   "cell_type": "code",
   "execution_count": 40,
   "id": "d767acb5",
   "metadata": {},
   "outputs": [
    {
     "name": "stdout",
     "output_type": "stream",
     "text": [
      "Missing values per non-categorical column in nepal:\n",
      "Q1-Latitude-continuous                                                                           0\n",
      "Q1-Longitude-continuous                                                                          0\n",
      "Q1-Altitude-continuous                                                                           0\n",
      "Q1-Accuracy-continuous                                                                           0\n",
      "Q5-AgeYears-continuous                                                                           0\n",
      "Q50-How_much_land_that_is_yours_do_you_cultivate_bigha-continuous                                0\n",
      "Q51-How_much_land_that_is_rented_or_leased_do_you_cultivate_bigha-continuous                     0\n",
      "Q52-On_how_much_land_do_you_grow_vegetables_bigha-continuous                                     0\n",
      "Q62-How_much_VEGETABLES_do_you_harvest_per_year_from_this_plot_kilograms-continuous              0\n",
      "Q78-How_many_years_have_you_been_using_drip_irrigation_if_no_zero-continuous                     0\n",
      "Q101-how_many_people_live_in_this_household-continuous                                           0\n",
      "Q106-Education_level_of_this_person_that_is_interviewed._years_of_formal_education-continuous    0\n",
      "Q107-Education_level_of_your_wife_husband_How_many_years_of_formal_education-continuous          0\n",
      "Q108-What_is_your_households_yearly_income_from_agriculture_NPR-continuous                       0\n",
      "Q109-What_is_your_households_yearly_income_overall_including_agriculture_NPR-continuous          0\n",
      "Q110-Do_you_currently_have_a_loan__if_no_zero_if_yes_amount_of_money_loaned_NPR-continuous       0\n",
      "Q#-hope_total-continuous                                                                         0\n",
      "Q#-positive_total-continuous                                                                     0\n",
      "Q#-negative_total-continuous                                                                     0\n",
      "Q#-Positive_Negative_Score-continuous                                                            0\n",
      "Q#-Distance-continuous                                                                           0\n",
      "Q#-TOTAL_AREA-continuous                                                                         0\n",
      "Q#-self_control_score-continuous                                                                 0\n",
      "Q#-target1_yearly_income_from_agr_per_land_SQM-continuous                                        0\n",
      "Q#-target2_yearly_income_from_agr_USD-continuous                                                 0\n",
      "Q#-target3_veg_per_area-continuous                                                               0\n",
      "dtype: int64\n",
      "Missing values per non-categorical column in senegal:\n",
      "Q1-Latitude-continuous                                       0\n",
      "Q1-Longitude-continuous                                      0\n",
      "Q1-Altitude-continuous                                       0\n",
      "Q1-Accuracy-continuous                                       0\n",
      "Q5-Age-continuous                                            0\n",
      "Q#-Hope_total-continuous                                     0\n",
      "Q60-Land_owned_cultivated_ha-continuous                      0\n",
      "Q61-Land_rented_cultivated_ha-continuous                     0\n",
      "Q62-Land_grow_vegetables_ha-continuous                       0\n",
      "Q71-VEG_harvest_per_year_kg-continuous                       0\n",
      "Q84-Years_using_drip_irrigation-continuous                   0\n",
      "Q87-Household_size-continuous                                0\n",
      "Q#-Education_years-continuous                                0\n",
      "Q90-Yearly_income_agriculture_XOF-continuous                 0\n",
      "Q91-Yearly_income_overall_XOF-continuous                     0\n",
      "Q92-Current_loan_amount_XOF-continuous                       0\n",
      "Q#-target1_yearly_income_from_agr_per_land_SQM-continuous    0\n",
      "Q#-target2_yearly_income_from_agr_USD-continuous             0\n",
      "Q#-target3_veg_per_area-continuous                           0\n",
      "dtype: int64\n"
     ]
    }
   ],
   "source": [
    "# Check how many missing values per column\n",
    "missing_counts_nepal = nepal_df[non_cat_cols_nepal].isnull().sum()\n",
    "print(\"Missing values per non-categorical column in nepal:\")\n",
    "print(missing_counts_nepal)\n",
    "\n",
    "missing_counts_senegal = senegal_df[non_cat_cols_senegal].isnull().sum()\n",
    "print(\"Missing values per non-categorical column in senegal:\")\n",
    "print(missing_counts_senegal)"
   ]
  },
  {
   "cell_type": "markdown",
   "id": "6173cd96",
   "metadata": {},
   "source": [
    "# Outliers"
   ]
  },
  {
   "cell_type": "markdown",
   "metadata": {},
   "source": [
    "Check skew and kurtosis of features"
   ]
  },
  {
   "cell_type": "code",
   "execution_count": 41,
   "id": "72e40ede",
   "metadata": {},
   "outputs": [
    {
     "name": "stdout",
     "output_type": "stream",
     "text": [
      "For nepal dataset:\n",
      "                                                     skewness    kurtosis\n",
      "Q1-Latitude-continuous                               2.501469   11.458427\n",
      "Q1-Longitude-continuous                             -2.078695    3.327960\n",
      "Q1-Altitude-continuous                               7.738261   61.181298\n",
      "Q1-Accuracy-continuous                               1.245955    1.722112\n",
      "Q5-AgeYears-continuous                               0.011752   -0.698653\n",
      "Q50-How_much_land_that_is_yours_do_you_cultivat...   0.380098   -0.503872\n",
      "Q51-How_much_land_that_is_rented_or_leased_do_y...   2.428187    7.002975\n",
      "Q52-On_how_much_land_do_you_grow_vegetables_big...   1.379596    1.564302\n",
      "Q62-How_much_VEGETABLES_do_you_harvest_per_year...   7.498011   80.246841\n",
      "Q78-How_many_years_have_you_been_using_drip_irr...  13.138456  180.751947\n",
      "Q101-how_many_people_live_in_this_household-con...   1.779578    7.940154\n",
      "Q106-Education_level_of_this_person_that_is_int...  -0.183514    0.424381\n",
      "Q107-Education_level_of_your_wife_husband_How_m...  -1.168109    0.796278\n",
      "Q108-What_is_your_households_yearly_income_from...  14.294988  221.703194\n",
      "Q109-What_is_your_households_yearly_income_over...   3.708312   34.412789\n",
      "Q110-Do_you_currently_have_a_loan__if_no_zero_i...   1.007137    0.722186\n",
      "Q#-hope_total-continuous                            -0.068428   -0.247737\n",
      "Q#-positive_total-continuous                        -0.995703    1.178711\n",
      "Q#-negative_total-continuous                         1.245883    1.792229\n",
      "Q#-Positive_Negative_Score-continuous               -0.139433    0.386755\n",
      "Q#-Distance-continuous                               2.168921    6.756909\n",
      "Q#-TOTAL_AREA-continuous                             0.814573    0.920237\n",
      "Q#-self_control_score-continuous                    -0.108054   -0.678342\n",
      "Q#-target1_yearly_income_from_agr_per_land_SQM-...  11.195837  155.999342\n",
      "Q#-target2_yearly_income_from_agr_USD-continuous    14.294988  221.703194\n",
      "Q#-target3_veg_per_area-continuous                   3.702255   25.891907\n"
     ]
    }
   ],
   "source": [
    "def print_per_col_skew_and_kurtosis(df, cols):\n",
    "    desc = pd.DataFrame(index=cols, columns=['skewness','kurtosis'])\n",
    "    desc['skewness'] = df[cols].skew()\n",
    "    desc['kurtosis'] = df[cols].kurtosis()\n",
    "    print(desc)\n",
    "\n",
    "print(\"For nepal dataset:\")\n",
    "print_per_col_skew_and_kurtosis(nepal_df, non_cat_cols_nepal)\n",
    "\n",
    "\n"
   ]
  },
  {
   "cell_type": "code",
   "execution_count": 42,
   "id": "f9e19821",
   "metadata": {},
   "outputs": [
    {
     "name": "stdout",
     "output_type": "stream",
     "text": [
      "For senegal dataset:\n",
      "                                                     skewness    kurtosis\n",
      "Q1-Latitude-continuous                               0.651947   -1.027130\n",
      "Q1-Longitude-continuous                              0.434510   -1.374106\n",
      "Q1-Altitude-continuous                              -0.027704    1.898947\n",
      "Q1-Accuracy-continuous                               2.523551    6.847364\n",
      "Q5-Age-continuous                                    0.067253   -0.843279\n",
      "Q#-Hope_total-continuous                             0.911953    1.005143\n",
      "Q60-Land_owned_cultivated_ha-continuous              0.261807   -1.177306\n",
      "Q61-Land_rented_cultivated_ha-continuous             4.403219   20.345663\n",
      "Q62-Land_grow_vegetables_ha-continuous               0.228387   -1.165957\n",
      "Q71-VEG_harvest_per_year_kg-continuous               2.712008   10.480210\n",
      "Q84-Years_using_drip_irrigation-continuous           2.467766    5.748366\n",
      "Q87-Household_size-continuous                        0.841336    1.153271\n",
      "Q#-Education_years-continuous                        1.471622    1.029800\n",
      "Q90-Yearly_income_agriculture_XOF-continuous        10.905860  157.091244\n",
      "Q91-Yearly_income_overall_XOF-continuous             1.020673    0.581433\n",
      "Q92-Current_loan_amount_XOF-continuous               5.617264   38.867939\n",
      "Q#-target1_yearly_income_from_agr_per_land_SQM-...   3.680180   17.212542\n",
      "Q#-target2_yearly_income_from_agr_USD-continuous    10.905860  157.091244\n",
      "Q#-target3_veg_per_area-continuous                   4.070120   17.892666\n"
     ]
    }
   ],
   "source": [
    "print(\"For senegal dataset:\")\n",
    "print_per_col_skew_and_kurtosis(senegal_df, non_cat_cols_senegal)"
   ]
  },
  {
   "cell_type": "markdown",
   "metadata": {},
   "source": [
    "A lot of features have very long and heavy tails, would like also a visual understanding, we plot qq plots aswell for the non-categorical columns"
   ]
  },
  {
   "cell_type": "code",
   "execution_count": 43,
   "id": "5c3d88e5",
   "metadata": {},
   "outputs": [
    {
     "name": "stdout",
     "output_type": "stream",
     "text": [
      "nepal qq plots\n"
     ]
    }
   ],
   "source": [
    "# Get QQ plots\n",
    "\n",
    "import scipy.stats as stats\n",
    "\n",
    "print(\"nepal qq plots\")\n",
    "if PLOT_GRAPHS:\n",
    "    for col in non_cat_cols_nepal:\n",
    "        plt.figure()\n",
    "        stats.probplot(nepal_df[col].dropna(), dist=\"norm\", plot=plt)\n",
    "        plt.title(f\"Q–Q plot for {col}\")\n",
    "        plt.show()"
   ]
  },
  {
   "cell_type": "code",
   "execution_count": 44,
   "id": "1fcf34ef",
   "metadata": {},
   "outputs": [
    {
     "name": "stdout",
     "output_type": "stream",
     "text": [
      "senegal qq plots\n"
     ]
    }
   ],
   "source": [
    "print(\"senegal qq plots\")\n",
    "if PLOT_GRAPHS:\n",
    "    for col in non_cat_cols_senegal:\n",
    "        plt.figure()\n",
    "        stats.probplot(senegal_df[col].dropna(), dist=\"norm\", plot=plt)\n",
    "        plt.title(f\"Q–Q plot for {col}\")\n",
    "        plt.show()"
   ]
  },
  {
   "cell_type": "markdown",
   "metadata": {},
   "source": [
    "Very assymetric and kurtosis high, would like to classify outliers in a robust manner, taking into account the shape of the empirical distribution, we will use robust z scores calculated using the Qn scale"
   ]
  },
  {
   "cell_type": "code",
   "execution_count": 45,
   "id": "055fe2d7",
   "metadata": {},
   "outputs": [],
   "source": [
    "from statsmodels import robust\n",
    "\n",
    "threshold = 3\n",
    "\n",
    "def robust_z_scores(df, cols):\n",
    "\n",
    "    outlier_counts = {}\n",
    "    outlier_indices = {}\n",
    "    robust_z_scores = {}\n",
    "\n",
    "    for col in cols:\n",
    "        # 1. Grab the non-null values as a 1D NumPy array\n",
    "        data = df[col].dropna().values\n",
    "        \n",
    "        # 2. Compute Qn scale\n",
    "        qn = robust.scale.qn_scale(data)\n",
    "\n",
    "        # 3. Compute the column’s median\n",
    "        med = np.median(data)\n",
    "\n",
    "        # 4. Compute “robust z‐scores” relative to Qn\n",
    "        #    (Note: unlike classical z, this is robust to heavy tails & skew)\n",
    "        robust_z = (data - med) / qn\n",
    "        robust_z_scores[col] = robust_z\n",
    "        \n",
    "        # 5. Flag outliers\n",
    "        mask = np.abs(robust_z) > threshold\n",
    "        \n",
    "        # 6. Store counts and (optionally) original DataFrame indices\n",
    "        outlier_counts[col] = int(mask.sum())\n",
    "        # to get the original df indices:\n",
    "        outlier_indices[col] = df[col].dropna().index[mask].tolist()\n",
    "\n",
    "    # Convert to a nice summary DataFrame\n",
    "    summary = pd.DataFrame.from_dict({\n",
    "        'n_outliers': outlier_counts,\n",
    "        'pct_outliers': {c: outlier_counts[c] / df[c].count() * 100 \n",
    "                        for c in cols}\n",
    "    }).T\n",
    "\n",
    "    print(\"Outliers per column (using Qn):\")\n",
    "    print(summary)\n",
    "\n",
    "    return outlier_indices, robust_z_scores"
   ]
  },
  {
   "cell_type": "code",
   "execution_count": 46,
   "id": "8d59488b",
   "metadata": {},
   "outputs": [
    {
     "name": "stdout",
     "output_type": "stream",
     "text": [
      "applied robust z-score outlier flagging to nepal:\n",
      "Outliers per column (using Qn):\n",
      "              Q1-Latitude-continuous  Q1-Longitude-continuous  \\\n",
      "n_outliers                 43.000000                48.000000   \n",
      "pct_outliers               16.044776                17.910448   \n",
      "\n",
      "              Q1-Altitude-continuous  Q1-Accuracy-continuous  \\\n",
      "n_outliers                  9.000000               11.000000   \n",
      "pct_outliers                3.358209                4.104478   \n",
      "\n",
      "              Q5-AgeYears-continuous  \\\n",
      "n_outliers                       0.0   \n",
      "pct_outliers                     0.0   \n",
      "\n",
      "              Q50-How_much_land_that_is_yours_do_you_cultivate_bigha-continuous  \\\n",
      "n_outliers                                           155.000000                   \n",
      "pct_outliers                                          57.835821                   \n",
      "\n",
      "              Q51-How_much_land_that_is_rented_or_leased_do_you_cultivate_bigha-continuous  \\\n",
      "n_outliers                                            50.000000                              \n",
      "pct_outliers                                          18.656716                              \n",
      "\n",
      "              Q52-On_how_much_land_do_you_grow_vegetables_bigha-continuous  \\\n",
      "n_outliers                                            104.00000              \n",
      "pct_outliers                                           38.80597              \n",
      "\n",
      "              Q62-How_much_VEGETABLES_do_you_harvest_per_year_from_this_plot_kilograms-continuous  \\\n",
      "n_outliers                                            17.000000                                     \n",
      "pct_outliers                                           6.343284                                     \n",
      "\n",
      "              Q78-How_many_years_have_you_been_using_drip_irrigation_if_no_zero-continuous  \\\n",
      "n_outliers                                             2.000000                              \n",
      "pct_outliers                                           0.746269                              \n",
      "\n",
      "              ...  Q#-hope_total-continuous  Q#-positive_total-continuous  \\\n",
      "n_outliers    ...                  1.000000                     12.000000   \n",
      "pct_outliers  ...                  0.373134                      4.477612   \n",
      "\n",
      "              Q#-negative_total-continuous  \\\n",
      "n_outliers                       10.000000   \n",
      "pct_outliers                      3.731343   \n",
      "\n",
      "              Q#-Positive_Negative_Score-continuous  Q#-Distance-continuous  \\\n",
      "n_outliers                                 1.000000               42.000000   \n",
      "pct_outliers                               0.373134               15.671642   \n",
      "\n",
      "              Q#-TOTAL_AREA-continuous  Q#-self_control_score-continuous  \\\n",
      "n_outliers                   164.00000                               0.0   \n",
      "pct_outliers                  61.19403                               0.0   \n",
      "\n",
      "              Q#-target1_yearly_income_from_agr_per_land_SQM-continuous  \\\n",
      "n_outliers                                            13.000000           \n",
      "pct_outliers                                           4.850746           \n",
      "\n",
      "              Q#-target2_yearly_income_from_agr_USD-continuous  \\\n",
      "n_outliers                                           17.000000   \n",
      "pct_outliers                                          6.343284   \n",
      "\n",
      "              Q#-target3_veg_per_area-continuous  \n",
      "n_outliers                             17.000000  \n",
      "pct_outliers                            6.343284  \n",
      "\n",
      "[2 rows x 26 columns]\n"
     ]
    },
    {
     "name": "stderr",
     "output_type": "stream",
     "text": [
      "C:\\Users\\nadav\\AppData\\Local\\Temp\\ipykernel_26780\\2071753757.py:23: RuntimeWarning: divide by zero encountered in divide\n",
      "  robust_z = (data - med) / qn\n",
      "C:\\Users\\nadav\\AppData\\Local\\Temp\\ipykernel_26780\\2071753757.py:23: RuntimeWarning: invalid value encountered in divide\n",
      "  robust_z = (data - med) / qn\n"
     ]
    }
   ],
   "source": [
    "print(\"applied robust z-score outlier flagging to nepal:\")\n",
    "outlier_indices_nepal, robust_z_scores_nepal = robust_z_scores(nepal_df, non_cat_cols_nepal)"
   ]
  },
  {
   "cell_type": "code",
   "execution_count": 47,
   "id": "b490dcbf",
   "metadata": {},
   "outputs": [
    {
     "name": "stdout",
     "output_type": "stream",
     "text": [
      "applied robust z-score outlier flagging to senegal:\n",
      "Outliers per column (using Qn):\n",
      "              Q1-Latitude-continuous  Q1-Longitude-continuous  \\\n",
      "n_outliers                 72.000000               106.000000   \n",
      "pct_outliers               21.492537                31.641791   \n",
      "\n",
      "              Q1-Altitude-continuous  Q1-Accuracy-continuous  \\\n",
      "n_outliers                  5.000000               28.000000   \n",
      "pct_outliers                1.492537                8.358209   \n",
      "\n",
      "              Q5-Age-continuous  Q#-Hope_total-continuous  \\\n",
      "n_outliers                  0.0                 20.000000   \n",
      "pct_outliers                0.0                  5.970149   \n",
      "\n",
      "              Q60-Land_owned_cultivated_ha-continuous  \\\n",
      "n_outliers                                        0.0   \n",
      "pct_outliers                                      0.0   \n",
      "\n",
      "              Q61-Land_rented_cultivated_ha-continuous  \\\n",
      "n_outliers                                   33.000000   \n",
      "pct_outliers                                  9.850746   \n",
      "\n",
      "              Q62-Land_grow_vegetables_ha-continuous  \\\n",
      "n_outliers                                       0.0   \n",
      "pct_outliers                                     0.0   \n",
      "\n",
      "              Q71-VEG_harvest_per_year_kg-continuous  \\\n",
      "n_outliers                                 57.000000   \n",
      "pct_outliers                               17.014925   \n",
      "\n",
      "              Q84-Years_using_drip_irrigation-continuous  \\\n",
      "n_outliers                                      71.00000   \n",
      "pct_outliers                                    21.19403   \n",
      "\n",
      "              Q87-Household_size-continuous  Q#-Education_years-continuous  \\\n",
      "n_outliers                          4.00000                      98.000000   \n",
      "pct_outliers                        1.19403                      29.253731   \n",
      "\n",
      "              Q90-Yearly_income_agriculture_XOF-continuous  \\\n",
      "n_outliers                                       23.000000   \n",
      "pct_outliers                                      6.865672   \n",
      "\n",
      "              Q91-Yearly_income_overall_XOF-continuous  \\\n",
      "n_outliers                                    9.000000   \n",
      "pct_outliers                                  2.686567   \n",
      "\n",
      "              Q92-Current_loan_amount_XOF-continuous  \\\n",
      "n_outliers                                 51.000000   \n",
      "pct_outliers                               15.223881   \n",
      "\n",
      "              Q#-target1_yearly_income_from_agr_per_land_SQM-continuous  \\\n",
      "n_outliers                                            31.000000           \n",
      "pct_outliers                                           9.253731           \n",
      "\n",
      "              Q#-target2_yearly_income_from_agr_USD-continuous  \\\n",
      "n_outliers                                           23.000000   \n",
      "pct_outliers                                          6.865672   \n",
      "\n",
      "              Q#-target3_veg_per_area-continuous  \n",
      "n_outliers                             37.000000  \n",
      "pct_outliers                           11.044776  \n"
     ]
    },
    {
     "name": "stderr",
     "output_type": "stream",
     "text": [
      "C:\\Users\\nadav\\AppData\\Local\\Temp\\ipykernel_26780\\2071753757.py:23: RuntimeWarning: divide by zero encountered in divide\n",
      "  robust_z = (data - med) / qn\n",
      "C:\\Users\\nadav\\AppData\\Local\\Temp\\ipykernel_26780\\2071753757.py:23: RuntimeWarning: invalid value encountered in divide\n",
      "  robust_z = (data - med) / qn\n"
     ]
    }
   ],
   "source": [
    "print(\"applied robust z-score outlier flagging to senegal:\")\n",
    "outlier_indices_senegal, robust_z_scores_senegal = robust_z_scores(senegal_df, non_cat_cols_senegal)"
   ]
  },
  {
   "cell_type": "markdown",
   "metadata": {},
   "source": [
    "Crosschecking with the QQ plots and marginal distributions of a lot of these features, many of these values classified as outliers make sense in terms of the data and should not be classified as such (especially in the ordinal columns), took a handful of columns frome ach dataset for which there could be outliers and only classified these outliers, to run analysis on them seperately (consider them a seperate population)"
   ]
  },
  {
   "cell_type": "code",
   "execution_count": 48,
   "id": "83448286",
   "metadata": {},
   "outputs": [],
   "source": [
    "outlier_cols_nepal = ['Q62-How_much_VEGETABLES_do_you_harvest_per_year_from_this_plot_kilograms-continuous',\n",
    "                      'Q78-How_many_years_have_you_been_using_drip_irrigation_if_no_zero-continuous',\n",
    "                      'Q101-how_many_people_live_in_this_household-continuous',\n",
    "                      'Q#-hope_total-continuous',\n",
    "                      'Q#-positive_total-continuous',\n",
    "                      'Q#-negative_total-continuous',\n",
    "                      'Q#-Positive_Negative_Score-continuous',\n",
    "                      'Q#-target1_yearly_income_from_agr_per_land_SQM-continuous',\n",
    "                      'Q#-target2_yearly_income_from_agr_USD-continuous',\n",
    "                      'Q#-target3_veg_per_area-continuous']\n",
    "\n",
    "outlier_cols_senegal = ['Q#-Hope_total-continuous',\n",
    "                        'Q71-VEG_harvest_per_year_kg-continuous',\n",
    "                        'Q87-Household_size-continuous',\n",
    "                        'Q90-Yearly_income_agriculture_XOF-continuous',\n",
    "                        'Q91-Yearly_income_overall_XOF-continuous',\n",
    "                        'Q92-Current_loan_amount_XOF-continuous',\n",
    "                        'Q#-target1_yearly_income_from_agr_per_land_SQM-continuous',\n",
    "                        'Q#-target2_yearly_income_from_agr_USD-continuous',\n",
    "                        'Q#-target3_veg_per_area-continuous']\n",
    "\n",
    "def highlight_outliers(df, outlier_cols, robust_z_scores):\n",
    "\n",
    "    for col in outlier_cols:\n",
    "        meta = parse_feature_metadata(col)\n",
    "        col_z_scores = robust_z_scores[col]\n",
    "        df[f\"{meta['qid']}-is_outlier_high_{meta['name']}-binary-1\"] = (col_z_scores > threshold).astype(int)\n",
    "        df[f\"{meta['qid']}-is_outlier_low_{meta['name']}-binary-1\"] = (col_z_scores < -threshold).astype(int)\n"
   ]
  },
  {
   "cell_type": "code",
   "execution_count": 49,
   "id": "41372f0c",
   "metadata": {},
   "outputs": [],
   "source": [
    "nepal_outliers = highlight_outliers(nepal_df, outlier_cols_nepal, robust_z_scores_nepal)\n",
    "senegal_outliers = highlight_outliers(senegal_df, outlier_cols_senegal, robust_z_scores_senegal)\n",
    "\n",
    "\n"
   ]
  },
  {
   "cell_type": "markdown",
   "metadata": {},
   "source": [
    "We do drop and quarantine the target outliers since the productivity metrics are what we are analyzing and this could affect the rest of this EDA"
   ]
  },
  {
   "cell_type": "code",
   "execution_count": 50,
   "id": "e0946266",
   "metadata": {},
   "outputs": [],
   "source": [
    "target_outlier_cols = ['Q#-is_outlier_high_target1_yearly_income_from_agr_per_land_SQM-binary-1',\n",
    "                        'Q#-is_outlier_low_target1_yearly_income_from_agr_per_land_SQM-binary-1',\n",
    "                        'Q#-is_outlier_high_target2_yearly_income_from_agr_USD-binary-1',\n",
    "                        'Q#-is_outlier_low_target2_yearly_income_from_agr_USD-binary-1',\n",
    "                        'Q#-is_outlier_high_target3_veg_per_area-binary-1',\n",
    "                        'Q#-is_outlier_low_target3_veg_per_area-binary-1']\n",
    "\n",
    "\n",
    "def seperate_target_outliers(df):\n",
    "\n",
    "    target_outlier_mask = pd.Series(False, index=df.index)\n",
    "\n",
    "    for col in target_outlier_cols:\n",
    "        target_outlier_mask |= (df[col] == 1)\n",
    "\n",
    "    outliers = df[target_outlier_mask].copy()\n",
    "\n",
    "    df = df[~target_outlier_mask]\n",
    "\n",
    "    return df, outliers"
   ]
  },
  {
   "cell_type": "code",
   "execution_count": 51,
   "id": "89832a06",
   "metadata": {},
   "outputs": [],
   "source": [
    "nepal_df, nepal_target_outliers = seperate_target_outliers(nepal_df)\n",
    "senegal_df, senegal_target_outliers = seperate_target_outliers(senegal_df)"
   ]
  },
  {
   "cell_type": "markdown",
   "metadata": {},
   "source": [
    "Get all categorical and binary columns"
   ]
  },
  {
   "cell_type": "code",
   "execution_count": 52,
   "id": "a660ff40",
   "metadata": {},
   "outputs": [],
   "source": [
    "cat_cols_nepal = []\n",
    "cat_cols_senegal = []\n",
    "for col in nepal_df.columns:\n",
    "    meta_type = parse_feature_metadata(col)['type']\n",
    "    if meta_type not in ['continuous', 'discrete', 'time']:\n",
    "        cat_cols_nepal.append(col)\n",
    "\n",
    "for col in senegal_df.columns:\n",
    "    meta_type = parse_feature_metadata(col)['type']\n",
    "    if meta_type not in ['continuous', 'discrete', 'time']:\n",
    "        cat_cols_senegal.append(col)"
   ]
  },
  {
   "cell_type": "markdown",
   "metadata": {},
   "source": [
    "Check that none have an overly large amount of categories"
   ]
  },
  {
   "cell_type": "code",
   "execution_count": 53,
   "id": "ad23aa27",
   "metadata": {},
   "outputs": [
    {
     "name": "stdout",
     "output_type": "stream",
     "text": [
      "Columns with ≤20 categories:\n",
      " Q105-main_sources_of_income-nominal                                       19\n",
      "Q69-What_is_correct_for_you-nominal                                       16\n",
      "Q53-What_type_of_crop_is_grown_on_this_plot-nominal                       14\n",
      "Q73-Did_you_receive_anything_from_these_organizations-nominal             13\n",
      "Q72-specify_the_names_of_organizations-nominal                            13\n",
      "                                                                          ..\n",
      "Q#-is_outlier_low_target1_yearly_income_from_agr_per_land_SQM-binary-1     1\n",
      "Q#-is_outlier_high_target2_yearly_income_from_agr_USD-binary-1             1\n",
      "Q#-is_outlier_low_target2_yearly_income_from_agr_USD-binary-1              1\n",
      "Q#-is_outlier_high_target3_veg_per_area-binary-1                           1\n",
      "Q#-is_outlier_low_target3_veg_per_area-binary-1                            1\n",
      "Length: 105, dtype: int64\n",
      "\n",
      "Columns with >20 categories:\n",
      " Q4-PhoneNumberAndIsZeroIfNone-nominal                            220\n",
      "Q9-NameOfVillage-nominal                                          99\n",
      "Q64-Do_you_use_machinery_or_and_equipment_on_the_plot-nominal     22\n",
      "dtype: int64\n",
      "\n",
      "Columns with <0 categories:\n",
      " Series([], dtype: int64)\n"
     ]
    }
   ],
   "source": [
    "unique_counts = nepal_df[cat_cols_nepal].nunique()\n",
    "# 3. see which columns are OK (≤20) or not (>20)\n",
    "ok      = unique_counts[ unique_counts <= 20 ]\n",
    "too_many = unique_counts[ unique_counts  > 20 ]\n",
    "bad = unique_counts[ unique_counts < 0 ]\n",
    "\n",
    "print(\"Columns with ≤20 categories:\\n\", ok.sort_values(ascending=False))\n",
    "print(\"\\nColumns with >20 categories:\\n\", too_many.sort_values(ascending=False))\n",
    "print(\"\\nColumns with <0 categories:\\n\", bad)"
   ]
  },
  {
   "cell_type": "code",
   "execution_count": 54,
   "id": "1cd44730",
   "metadata": {},
   "outputs": [
    {
     "name": "stdout",
     "output_type": "stream",
     "text": [
      "Columns with ≤20 categories:\n",
      " Q7-name_of_village-nominal                                                                        17\n",
      "Q14-Hope_4_There_are_lots_of_ways_around_any_problem-ordinal                                       9\n",
      "Q11-Hope_1_I_can_think_of_many_ways_to_get_out_of_a_jam-ordinal                                    8\n",
      "Q16-Hope_6_I_can_think_of_many_ways_to_get_the_things_in_life_that_are_important_to_me-ordinal     8\n",
      "Q12-Hope_2_I_energetically_pursue_my_goals-ordinal                                                 8\n",
      "                                                                                                  ..\n",
      "Q#-is_outlier_low_target1_yearly_income_from_agr_per_land_SQM-binary-1                             1\n",
      "Q#-is_outlier_high_target2_yearly_income_from_agr_USD-binary-1                                     1\n",
      "Q#-is_outlier_low_target2_yearly_income_from_agr_USD-binary-1                                      1\n",
      "Q#-is_outlier_high_target3_veg_per_area-binary-1                                                   1\n",
      "Q#-is_outlier_low_target3_veg_per_area-binary-1                                                    1\n",
      "Length: 91, dtype: int64\n",
      "\n",
      "Columns with >20 categories:\n",
      " Q4-Phone_Number-nominal          94\n",
      "Q73-Machinery_tractor-nominal    26\n",
      "dtype: int64\n",
      "\n",
      "Columns with <0 categories:\n",
      " Series([], dtype: int64)\n"
     ]
    }
   ],
   "source": [
    "unique_counts = senegal_df[cat_cols_senegal].nunique()\n",
    "# 3. see which columns are OK (≤20) or not (>20)\n",
    "ok      = unique_counts[ unique_counts <= 20 ]\n",
    "too_many = unique_counts[ unique_counts  > 20 ]\n",
    "bad = unique_counts[ unique_counts < 0 ]\n",
    "\n",
    "print(\"Columns with ≤20 categories:\\n\", ok.sort_values(ascending=False))\n",
    "print(\"\\nColumns with >20 categories:\\n\", too_many.sort_values(ascending=False))\n",
    "print(\"\\nColumns with <0 categories:\\n\", bad)"
   ]
  },
  {
   "cell_type": "markdown",
   "metadata": {},
   "source": [
    "Only telephone, village and machinery columns have large amounts of categories which makes sense"
   ]
  },
  {
   "cell_type": "markdown",
   "metadata": {},
   "source": [
    "# Constant Columns"
   ]
  },
  {
   "cell_type": "markdown",
   "metadata": {},
   "source": [
    "We remove all remaining columns that have only a single value as this adds no new information"
   ]
  },
  {
   "cell_type": "code",
   "execution_count": 55,
   "metadata": {},
   "outputs": [],
   "source": [
    "nepal_df = nepal_df.loc[:, nepal_df.nunique(dropna=False) > 1]\n",
    "senegal_df = senegal_df.loc[:, senegal_df.nunique(dropna=False) > 1]"
   ]
  },
  {
   "cell_type": "markdown",
   "id": "12aa7564-6482-42fe-b687-17eab44ef07e",
   "metadata": {},
   "source": [
    "# Bivariate Analysis"
   ]
  },
  {
   "cell_type": "markdown",
   "metadata": {},
   "source": [
    "Define the feature groups that we will be interested in throughout this project"
   ]
  },
  {
   "cell_type": "code",
   "execution_count": 56,
   "id": "49397f7b-c56b-469b-a328-c9ee13bf4ef0",
   "metadata": {},
   "outputs": [],
   "source": [
    "\n",
    "geo_features_nepal = [\n",
    "    \"Q1-Latitude-continuous\",\n",
    "    \"Q1-Longitude-continuous\",\n",
    "    \"Q7-District-nominal\",\n",
    "    \"Q8-WardNumber-nominal\",\n",
    "    \"Q9-NameOfVillage-nominal\",\n",
    "    \"Q1-Altitude-continuous\",\n",
    "    \"Q1-Accuracy-continuous\"\n",
    "]\n",
    "\n",
    "geo_features_senegal = [\n",
    "    \"Q1-Latitude-continuous\",\n",
    "    \"Q1-Longitude-continuous\",\n",
    "    \"Q6-Arrondissement-nominal\",\n",
    "    \"Q7-name_of_village-nominal\",\n",
    "    \"Q1-Altitude-continuous\",\n",
    "    \"Q1-Accuracy-continuous\"\n",
    "]\n",
    "\n",
    "feelings_features_nepal = [\n",
    "    \"Q30-To_what_extent_you_have_felt_this_way_during_the_past_week:_interested-ordinal\",\n",
    "    \"Q31-To_what_extent_you_have_felt_this_way_during_the_past_week:_Distressed_worried-ordinal\",\n",
    "    \"Q32-To_what_extent_you_have_felt_this_way_during_the_past_week:_Excited-ordinal\",\n",
    "    \"Q33-To_what_extent_you_have_felt_this_way_during_the_past_week:_Upset-ordinal\",\n",
    "    \"Q34-To_what_extent_you_have_felt_this_way_during_the_past_week:_Strong-ordinal\",\n",
    "    \"Q35-To_what_extent_you_have_felt_this_way_during_the_past_week:_Guilty-ordinal\",\n",
    "    \"Q36-To_what_extent_you_have_felt_this_way_during_the_past_week:_Scared-ordinal\",\n",
    "    \"Q37-To_what_extent_you_have_felt_this_way_during_the_past_week:_Hostile-ordinal\",\n",
    "    \"Q38-To_what_extent_you_have_felt_this_way_during_the_past_week:_Enthusiastic-ordinal\",\n",
    "    \"Q39-To_what_extent_you_have_felt_this_way_during_the_past_week:_Proud-ordinal\",\n",
    "    \"Q40-To_what_extent_you_have_felt_this_way_during_the_past_week:_Irritable-ordinal\",\n",
    "    \"Q41-To_what_extent_you_have_felt_this_way_during_the_past_week:_Alert-ordinal\",\n",
    "    \"Q42-To_what_extent_you_have_felt_this_way_during_the_past_week:_Ashamed-ordinal\",\n",
    "    \"Q43-To_what_extent_you_have_felt_this_way_during_the_past_week:_Inspired-ordinal\",\n",
    "    \"Q44-To_what_extent_you_have_felt_this_way_during_the_past_week:_Nervous-ordinal\",\n",
    "    \"Q45-To_what_extent_you_have_felt_this_way_during_the_past_week:_Determined-ordinal\",\n",
    "    \"Q46-To_what_extent_you_have_felt_this_way_during_the_past_week:_Attentive-ordinal\",\n",
    "    \"Q47-To_what_extent_you_have_felt_this_way_during_the_past_week:_Jittery-ordinal\",\n",
    "    \"Q48-To_what_extent_you_have_felt_this_way_during_the_past_week:_Active-ordinal\",\n",
    "    \"Q49-To_what_extent_you_have_felt_this_way_during_the_past_week:_Afraid-ordinal\"\n",
    "]\n",
    "\n",
    "character_features_senegal = [\n",
    "    \"Q24-Stand_up_in_face_of_opposition-ordinal\",\n",
    "    \"Q25-Never_quit_task_before_done-ordinal\",\n",
    "    \"Q26-Always_keep_promises-ordinal\",\n",
    "    \"Q27-Always_finish_what_I_start-ordinal\",\n",
    "    \"Q28-Leader_treats_everyone_equally-ordinal\",\n",
    "    \"Q29-Always_busy_with_something_interesting-ordinal\",\n",
    "    \"Q30-Strength_help_group_work_together-ordinal\",\n",
    "    \"Q31-Must_stand_up_for_beliefs-ordinal\",\n",
    "    \"Q32-Finish_things_despite_obstacles-ordinal\",\n",
    "    \"Q33-Everyones_rights_equally_important-ordinal\",\n",
    "    \"Q34-Excited_by_many_activities-ordinal\",\n",
    "    \"Q35-Always_coming_up_with_new_ways-ordinal\",\n",
    "    \"Q36-People_describe_me_as_wise-ordinal\",\n",
    "    \"Q37-Promises_can_be_trusted-ordinal\",\n",
    "    \"Q38-Give_everyone_a_chance-ordinal\",\n",
    "    \"Q39-Effective_leader_treats_same-ordinal\",\n",
    "    \"Q40-Extremely_grateful_person-ordinal\",\n",
    "    \"Q41-Look_forward_to_each_new_day-ordinal\",\n",
    "    \"Q42-Friends_say_I_have_many_ideas-ordinal\",\n",
    "    \"Q43-Always_stand_up_for_beliefs-ordinal\",\n",
    "    \"Q44-True_to_own_values-ordinal\",\n",
    "    \"Q45-Think_through_consequences_before_acting-ordinal\",\n",
    "    \"Q46-Have_lots_of_energy-ordinal\",\n",
    "    \"Q47-Find_interest_in_any_situation-ordinal\",\n",
    "    \"Q48-Thinking_things_through_is_part_of_me-ordinal\",\n",
    "    \"Q49-Original_thinker-ordinal\",\n",
    "    \"Q50-Mature_view_on_life-ordinal\",\n",
    "    \"Q51-Feel_thankful_for_what_I_have-ordinal\",\n",
    "    \"Q52-Always_weigh_pros_and_cons-ordinal\",\n",
    "    \"Q53-Very_careful_person-ordinal\",\n",
    "    \"Q54-Try_to_have_good_reasons_for_decisions-ordinal\",\n",
    "    \"Q55-Always_make_careful_choices-ordinal\",\n",
    "    \"Q56-Feel_profound_appreciation_daily-ordinal\",\n",
    "    \"Q57-Awaken_with_excitement-ordinal\",\n",
    "    \"Q58-Others_consider_me_wise-ordinal\",\n",
    "    \"Q59-Worth_listening_to_everyones_opinion-ordinal\"\n",
    "]\n",
    "\n",
    "\n",
    "demo_features_nepal = [\n",
    "    \"Q10-SexMale-binary-1\",\n",
    "    \"Q11-Marital_Status_Single-nominal\"\n",
    "]\n",
    "\n",
    "demo_features_senegal = [\n",
    "    \"Q86-Sex_male-binary-1\"\n",
    "]\n",
    "\n",
    "# 3) The “Hope” ordinal items\n",
    "hope_features_nepal = [\n",
    "    \"Q17-Hope_1_I_Can_Think_Of_Many_Ways_To_Get_Out_Of_A_Jam-ordinal\",\n",
    "    \"Q18-Hope_2_I_energetically_pursue_my_goals-ordinal\",\n",
    "    \"Q19-Hope_3_I_feel_tired_most_of_the_time-ordinal\",\n",
    "    \"Q20-Hope_4_There_are_lots_of_ways_around_any_problem-ordinal\",\n",
    "    \"Q21-Hope_5_I_am_easily_downed_being_at_a_low_position_brought_down_in_an_argument-ordinal\",\n",
    "    \"Q22-Hope_6_I_can_think_of_many_ways_to_get_the_things_in_life_that_are_important_to_me-ordinal\",\n",
    "    \"Q23-Hope_7_I_worry_about_my_health-ordinal\",\n",
    "    \"Q24-Hope_8_Even_when_others_get_discouraged_I_know_I_can_find_a_way_to_solve_the_problem-ordinal\",\n",
    "    \"Q25-Hope_9_My_past_experiences_have_prepared_me_well_for_my_future-ordinal\",\n",
    "    \"Q26-Hope_10_I_have_been_pretty_successful_in_life-ordinal\",\n",
    "    \"Q27-Hope_11_I_usually_find_myself_worrying_about_something-ordinal\",\n",
    "    \"Q28-Hope_12_I_meet_the_goals_that_I_set_for_myself-ordinal\"\n",
    "]\n",
    "\n",
    "hope_features_senegal = [\n",
    "    \"Q11-Hope_1_I_can_think_of_many_ways_to_get_out_of_a_jam-ordinal\",\n",
    "    \"Q12-Hope_2_I_energetically_pursue_my_goals-ordinal\",\n",
    "    \"Q13-Hope_3_I_feel_tired_most_of_the_time-ordinal\",\n",
    "    \"Q14-Hope_4_There_are_lots_of_ways_around_any_problem-ordinal\",\n",
    "    \"Q15-Hope_5_I_am_easily_downed_in_an_argument-ordinal\",\n",
    "    \"Q16-Hope_6_I_can_think_of_many_ways_to_get_the_things_in_life_that_are_important_to_me-ordinal\",\n",
    "    \"Q17-Hope_7_I_worry_about_my_health-ordinal\",\n",
    "    \"Q18-Hope_8_Even_when_others_get_discouraged_I_know_I_can_find_a_way-ordinal\",\n",
    "    \"Q19-Hope_9_My_past_experiences_have_prepared_me_well_for_my_future-ordinal\",\n",
    "    \"Q20-Hope_10_Ive_been_pretty_successful_in_life-ordinal\",\n",
    "    \"Q21-Hope_11_I_usually_find_myself_worrying_about_something-ordinal\",\n",
    "    \"Q22-Hope_12_I_meet_the_goals_that_I_set_for_myself-ordinal\"\n",
    "]\n",
    "\n",
    "# 4) Crop & fertilizer\n",
    "crop_fertilizer_features_nepal = [\n",
    "    \"Q53-What_type_of_crop_is_grown_on_this_plot-nominal\",\n",
    "    \"Q54-For_vegetables:_what_is_your_source_of_seeds-nominal\",\n",
    "    \"Q55-For_Vegetables:_do_you_use_improved_and_or_variety_seeds:_yes-binary-1\",\n",
    "    \"Q56-For_vegetables_do_you_use_seedlings-nominal\",\n",
    "    \"Q57-If_you_self_prepare_seedlings_how:_Nursery-binary-1\",\n",
    "    \"Q58-fertilizer_on_this_plot-nominal\"\n",
    "]\n",
    "\n",
    "crop_fertilizer_features_senegal = [\n",
    "    \"Q63-CROP_Rice-nominal\",\n",
    "    \"Q64-Seed_source_Selfprepared-nominal\",\n",
    "    \"Q65-Variety_Imported-nominal\",\n",
    "    \"Q66-Seedlings_Selfprepared-nominal\",\n",
    "    \"Q67-Fertilizer_Chemical-nominal\"\n",
    "]\n",
    "\n",
    "\n",
    "# 5) Pest control & machinery & weeding\n",
    "plot_practice_features_nepal = [\n",
    "    \"Q63-What_is_the_main_use_of_produce_from_holding-nominal\",\n",
    "    \"Q64-Do_you_use_machinery_or_and_equipment_on_the_plot-nominal\",\n",
    "    \"Q65-Do_you_do_any_of_the_following-nominal\"\n",
    "]\n",
    "\n",
    "plot_practice_features_senegal = [\n",
    "    \"Q69-Use_pesticide_or_herbicide-binary-1\",\n",
    "    \"Q72-Sold_VEG_Trade-nominal\",\n",
    "    \"Q73-Machinery_tractor-nominal\",\n",
    "    \"Q74-Practice_cover_crops-nominal\"\n",
    "]\n",
    "\n",
    "# 6) Soil analysis questions\n",
    "soil_features_nepal = [\n",
    "    \"Q67-What_do_you_use_soil_analysis_for-nominal\",\n",
    "    \"Q68-How_do_you_conduct_soil_analysis-nominal\",\n",
    "    \"Q69-What_is_correct_for_you-nominal\",\n",
    "    \"Q70-in_the_past_12_months_did_you_receive_any_info_from_anyone_on_agriculture-binary-1\",\n",
    "    \"Q71-in_the_past_12_months_from_who_did_you_receive_info_on_agriculture-nominal\",\n",
    "    \"Q72-specify_the_names_of_organizations-nominal\",\n",
    "    \"Q73-Did_you_receive_anything_from_these_organizations-nominal\"\n",
    "]\n",
    "\n",
    "\n",
    "soil_features_senegal = [\n",
    "    \"Q76-Received_agri_info_last_12m-binary-1\",\n",
    "    \"Q77-Info_source_Govt-nominal\",\n",
    "    \"Q78-Names_of_organizations-nominal\",\n",
    "    \"Q79-Yes_drip_irrigation-nominal\"\n",
    "]\n",
    "\n",
    "# 7) Plowing, sowing & irrigation\n",
    "plow_irrigation_features_nepal = [\n",
    "    \"Q74-How_do_you_decide_to_plow-nominal\",\n",
    "    \"Q75-How_do_you_decide_to_begin_sowing-nominal\",\n",
    "    \"Q76-What_type_of_irrigation_do_you_use-nominal\"\n",
    "]\n",
    "\n",
    "\n",
    "plow_irrigation_features_senegal = [\n",
    "    \"Q80-Plow_weather_self-nominal\",\n",
    "    \"Q81-Sow_weather_self-nominal\",\n",
    "    \"Q82-Irrigation_surface-nominal\",\n",
    "    \"Q84-Years_using_drip_irrigation-continuous\"\n",
    "]\n",
    "\n",
    "# 8) Self­-control items\n",
    "self_control_features_nepal = [\n",
    "    \"Q80-SC_1_When_I_do_a_boring_job_I_think_about_the_less_boring_parts_of_the_job-ordinal\",\n",
    "    \"Q81-SC_2_By_changing_my_way_of_thinking_I_am_often_able_to_change_my_feelings_about_almost_everything-ordinal\",\n",
    "    \"Q82-SC_3_I_often_find_it_difficult_to_overcome_my_feelings_of_nervousness_and_tension_without_help-ordinal\",\n",
    "    \"Q83-SC_4_When_I_am_feeling_depressed_I_try_to_think_about_pleasant_events-ordinal\",\n",
    "    \"Q84-SC_5_I_cannot_help_thinking_about_mistakes_I_made-ordinal\",\n",
    "    \"Q85-SC_6_I_usually_do_what_I_am_supposed_to_do_more_quickly_when_someone_is_pressuring_me-ordinal\",\n",
    "    \"Q86-SC_7_When_I_am_faced_with_a_difficult_decision_I_prefer_to_postpone_it-ordinal\",\n",
    "    \"Q87-SC_8_When_I_try_to_get_rid_of_a_bad_habit_for_example_smoking_stealing_i_first_try_to_find_out_why_i_have_the_habit-ordinal\",\n",
    "    \"Q88-SC_9_If_I_smoked_two_packs_of_cigarettes_a_day_I_would_need_help_to_stop_smoking-ordinal\",\n",
    "    \"Q89-SC_10_When_I_feel_down_I_try_to_act_cheerful_so_that_my_mood_will_change-ordinal\",\n",
    "    \"Q90-SC_11_I_tend_to_postpone_unpleasant_tasks-ordinal\",\n",
    "    \"Q91-SC_12_I_prefer_to_finish_a_job_that_I_have_to_do_before_I_start_doing_things_I_really_like-ordinal\",\n",
    "    \"Q92-SC_13_When_I_feel_pain_I_try_not_to_think_about_it-ordinal\",\n",
    "    \"Q93-SC_14_My_selfesteem_increases_when_I_am_able_to_overcome_a_bad_habit-ordinal\",\n",
    "    \"Q94-SC_15_When_I_feel_that_I_am_too_impulsive_I_tell_myself_to_stop_and_think_before_I_do_anything-ordinal\",\n",
    "    \"Q95-SC_16_Even_when_I_am_terribly_angry_at_someone_I_consider_my_actions_very_carefully-ordinal\",\n",
    "    \"Q96-SC_17_When_I_need_to_make_a_decision_I_try_to_look_for_different_alternative-ordinal\",\n",
    "    \"Q97-SC_18_Usually_I_first_do_the_thing_I_really_like_to_do_even_if_there_are_more_urgent_things_to_do-ordinal\",\n",
    "    \"Q98-SC_19_When_I_am_faced_with_a_number_of_things_to_do_I_usually_plan_my_work-ordinal\",\n",
    "    \"Q99-SC_20_When_I_am_tired_and_I_have_no_opportunity_to_sleep_I_try_not_to_think_about_it-ordinal\"\n",
    "]\n",
    "\n",
    "# 9) Household & income & trust\n",
    "household_features_nepal = [\n",
    "    \"Q100-Caste_bhramin-nominal\",\n",
    "    \"Q101-how_many_people_live_in_this_household-continuous\",\n",
    "    \"Q102-How_many_children_do_you_have-continuous\",\n",
    "    \"Q103-How_many_children_do_you_plan_to_have_in_your_whole_live-continuous\",\n",
    "    \"Q105-main_sources_of_income-nominal\",\n",
    "    \"Q106-Education_level_of_this_person_that_is_interviewed._years_of_formal_education-continuous\",\n",
    "    \"Q107-Education_level_of_your_wife_husband_How_many_years_of_formal_education-continuous\",\n",
    "    \"Q110-Do_you_currently_have_a_loan__if_no_zero_if_yes_amount_of_money_loaned_NPR-continuous\",\n",
    "    \"Q111-Generally_speaking_would_you_say_that_most_people_can_be_trusted_or_that_you_cant_be_too_careful_in_dealing_with_people-ordinal\"\n",
    "]\n",
    "\n",
    "household_features_senegal = ['Q85-Group-nominal',\n",
    " 'Q87-Household_size-continuous',\n",
    " 'Q88-Own_business_income_source-nominal',\n",
    " 'Q89-Primary_education-nominal',\n",
    " 'Q#-Has_Education_Yes_No-binary-1',\n",
    " 'Q#-Education_years-continuous',\n",
    " 'Q92-Current_loan_amount_XOF-continuous',\n",
    " 'Q93-Trust_most_people-ordinal']\n",
    "\n",
    "hope_index_nepal = ['Q#-hope_total-continuous']\n",
    "hope_index_senegal = ['Q#-Hope_total-continuous']\n",
    "\n",
    "self_control_index_senegal = ['Q#-self_control_score-continuous']\n",
    "\n",
    "positive_index_nepal = ['Q#-positive_total-continuous']\n",
    "\n",
    "negative_index_nepal = ['Q#-negative_total-continuous']\n",
    "\n",
    "avg_farming_practices_nepal = ['Q#-average_of_farming_practices-ordinal']\n"
   ]
  },
  {
   "cell_type": "markdown",
   "metadata": {},
   "source": [
    "Plot scatter plots with LOESS between numeric / ordinal columns and the targets and boxplots for binary and nominal features against the targets for each of the above defined groups"
   ]
  },
  {
   "cell_type": "code",
   "execution_count": 57,
   "id": "044ed5ed-e646-4633-8202-9a6b20af44cc",
   "metadata": {},
   "outputs": [],
   "source": [
    "import math\n",
    "from statsmodels.nonparametric.smoothers_lowess import lowess\n",
    "BINARY = 1\n",
    "SINGLE_DUMMY = 2\n",
    "ONE_HOT = 3\n",
    "MULTI_SELECT = 4\n",
    "\n",
    "\n",
    "def robust_loess(x, y, **kwargs):\n",
    "    fitted = lowess(endog=y, exog=x, frac=0.6667, it=3)\n",
    "    plt.plot(fitted[:, 0], fitted[:, 1], **kwargs)\n",
    "\n",
    "# 3) pairplot function\n",
    "\n",
    "def plot_pairplots(df, expl_feats, target_feats):\n",
    "\n",
    "    # 2) for each target, plot *only* expl → target\n",
    "    for tgt in target_feats:\n",
    "        tmeta = parse_feature_metadata(tgt)\n",
    "        if not tmeta:\n",
    "            continue\n",
    "        tname = f\"{tmeta['qid']}_{tmeta['name']}\"\n",
    "\n",
    "        # assemble data\n",
    "        tmp = df[expl_feats].copy()\n",
    "        tmp[tname] = df[tgt]\n",
    "        tmp = tmp.dropna()\n",
    "        if tmp.shape[0] < 2:\n",
    "            continue\n",
    "\n",
    "        # i) compute grid shape\n",
    "        n = len(expl_feats)\n",
    "        ncols = int(math.ceil(math.sqrt(n)))\n",
    "        nrows = int(math.ceil(n / ncols))\n",
    "\n",
    "        # ii) create subplots grid\n",
    "        fig, axes = plt.subplots(nrows, ncols,\n",
    "                                 figsize=(ncols * 4, nrows * 3),\n",
    "                                 squeeze=False)\n",
    "        axes = axes.flatten()\n",
    "\n",
    "        # iii) plot each explanatory feature\n",
    "        for i, exp in enumerate(expl_feats):\n",
    "            ax = axes[i]\n",
    "            meta = parse_feature_metadata(exp)\n",
    "            expl_type = meta.get('type', None)\n",
    "\n",
    "            if expl_type in ['continuous', 'discrete', 'ordinal']:\n",
    "                x = tmp[exp]\n",
    "                y = tmp[tname]\n",
    "\n",
    "                # if this is ordinal (labels), convert to ordered categorical codes\n",
    "                if expl_type == 'ordinal' or pd.api.types.is_categorical_dtype(x):\n",
    "                    cat = pd.Categorical(x, ordered=True)\n",
    "                    x_codes = cat.codes\n",
    "                    # scatter & LOESS on codes\n",
    "                    ax.scatter(x_codes, y, alpha=0.6)\n",
    "                    fitted = lowess(endog=y, exog=x_codes, frac=0.6667, it=3)\n",
    "                    ax.plot(fitted[:, 0], fitted[:, 1], color='r')\n",
    "                    # relabel x-ticks with the category names\n",
    "                    ax.set_xticks(range(len(cat.categories)))\n",
    "                    ax.set_xticklabels(cat.categories,\n",
    "                                       rotation=45, ha='right', fontsize=8)\n",
    "                else:\n",
    "                    # purely numeric\n",
    "                    ax.scatter(x, y, alpha=0.6)\n",
    "                    fitted = lowess(endog=y, exog=x, frac=0.6667, it=3)\n",
    "                    ax.plot(fitted[:, 0], fitted[:, 1], color='r')\n",
    "\n",
    "            elif expl_type in ['nominal', 'binary']:\n",
    "\n",
    "                # detect multi-select (list entries) vs. single-select (scalars)\n",
    "                is_multi = tmp[exp].apply(lambda x: isinstance(x, (list, tuple))).any()\n",
    "                if is_multi:\n",
    "                    # --- multi-select nominal: explode lists so each label gets its own box ---\n",
    "                    df_expl = tmp[[exp, tname]].explode(exp)\n",
    "                    df_expl = df_expl.dropna(subset=[exp])\n",
    "                    sns.boxplot(x=df_expl[exp].astype(str),\n",
    "                                y=df_expl[tname],\n",
    "                                ax=ax)\n",
    "                else:\n",
    "                    levels = tmp[exp].astype(str).value_counts().index\n",
    "                    if len(levels) <= 10:\n",
    "                        sns.boxplot(x=tmp[exp].astype(str), y=tmp[tname], ax=ax)\n",
    "                        #ax.set_xticklabels(ax.get_xticklabels(), rotation=45, ha='right', fontsize=8)\n",
    "                        #make x ticks wrap like done for the xlabel below\n",
    "                    else:\n",
    "                        top_levels = tmp[exp].astype(str).value_counts().nlargest(10).index\n",
    "                        tmp2 = tmp[tmp[exp].astype(str).isin(top_levels)]\n",
    "                        sns.boxplot(x=tmp2[exp].astype(str), y=tmp2[tname], ax=ax)\n",
    "                        #ax.set_xticklabels(ax.get_xticklabels(), rotation=45, ha='right', fontsize=8)\n",
    "                        #make x ticks wrap like done for the xlabel below\n",
    "\n",
    "                orig_labels = [lbl.get_text() for lbl in ax.get_xticklabels()]\n",
    "                wrapped_labels = [\"\\n\".join([lab[i:i+30] for i in range(0, len(lab), 30)]) for lab in orig_labels]\n",
    "                ax.set_xticklabels(wrapped_labels, rotation=45, ha='right', fontsize=8)\n",
    "\n",
    "            # per-axis label\n",
    "            wrapped_label = \"\\n\".join([exp[i:i+30] for i in range(0, len(exp), 30)])\n",
    "            ax.set_xlabel(wrapped_label, fontsize=8, labelpad=8)\n",
    "            ax.set_ylabel(\"\")\n",
    "\n",
    "        # turn off leftover axes\n",
    "        for ax in axes[n:]:\n",
    "            ax.set_visible(False)\n",
    "\n",
    "        # tidy and title\n",
    "        plt.tight_layout()\n",
    "        plt.suptitle(f\"Explanatory Features vs {tname}\", y=1.02)\n",
    "        plt.show()\n",
    "\n",
    "\n",
    "# 4) heatmap function\n",
    "\n",
    "def plot_heatmaps(df, expl_feats, target_feats, method='pearson'):\n",
    "    # 1) subset to numeric explanatory + numeric targets\n",
    "    sub = df[expl_feats + target_feats].copy()\n",
    "    # 2) coerce any object/nominal into codes\n",
    "    for c in sub.columns:\n",
    "        if not pd.api.types.is_numeric_dtype(sub[c]):\n",
    "            sub[c] = sub[c].astype(\"category\").cat.codes\n",
    "    # 3) compute corr\n",
    "    corr = sub.corr(method=method).loc[expl_feats, target_feats]\n",
    "    plt.figure(figsize=(len(target_feats)*0.5+3, len(expl_feats)*0.3+3))\n",
    "    sns.heatmap(corr, annot=True, fmt=\".2f\", cmap=\"vlag\", center=0)\n",
    "    plt.title(\"Correlation heatmap: explanatory vs target\", pad=20)\n",
    "    plt.show()\n",
    "\n",
    "def plot_group_heatmap(df, features, method='pearson'):\n",
    "\n",
    "    sub = df[features].copy()\n",
    "    # coerce nominal into codes\n",
    "    for c in sub.columns:\n",
    "        if not pd.api.types.is_numeric_dtype(sub[c]):\n",
    "            sub[c] = sub[c].astype(\"category\").cat.codes\n",
    "    corr = sub.corr(method=method)\n",
    "    sns.heatmap(corr, annot=True, fmt=\".2f\", cmap=\"viridis\", center=0)\n",
    "    plt.title(\"Correlation heatmap: group\", pad=20)\n",
    "    plt.show()\n"
   ]
  },
  {
   "cell_type": "markdown",
   "id": "7d874988-d617-4fda-93da-123db7bbb9a4",
   "metadata": {},
   "source": [
    "## Geography & Location"
   ]
  },
  {
   "cell_type": "code",
   "execution_count": 58,
   "id": "56a8a847-fa49-4358-a858-4711c41f23b1",
   "metadata": {},
   "outputs": [
    {
     "name": "stdout",
     "output_type": "stream",
     "text": [
      "NEPAL DATA\n"
     ]
    }
   ],
   "source": [
    "print(\"NEPAL DATA\")\n",
    "if PLOT_GRAPHS:\n",
    "    plot_pairplots(nepal_df, geo_features_nepal, target_cols)\n"
   ]
  },
  {
   "cell_type": "code",
   "execution_count": 59,
   "id": "aa00b6dc",
   "metadata": {},
   "outputs": [
    {
     "name": "stdout",
     "output_type": "stream",
     "text": [
      "NEPAL DATA, PEARSON CORR\n"
     ]
    }
   ],
   "source": [
    "print(\"NEPAL DATA, PEARSON CORR\")\n",
    "if PLOT_GRAPHS:\n",
    "    plot_heatmaps(nepal_df, geo_features_nepal, target_cols)\n",
    "    plot_group_heatmap(nepal_df, geo_features_nepal)"
   ]
  },
  {
   "cell_type": "code",
   "execution_count": 60,
   "id": "ad8f6a6e",
   "metadata": {},
   "outputs": [
    {
     "name": "stdout",
     "output_type": "stream",
     "text": [
      "NEPAL DATA, SPEARMAN CORR\n"
     ]
    }
   ],
   "source": [
    "print(\"NEPAL DATA, SPEARMAN CORR\")\n",
    "if PLOT_GRAPHS:\n",
    "    plot_heatmaps(nepal_df, geo_features_nepal, target_cols, 'spearman')\n",
    "    plot_group_heatmap(nepal_df, geo_features_nepal, 'spearman')"
   ]
  },
  {
   "cell_type": "code",
   "execution_count": 61,
   "id": "920f7049",
   "metadata": {},
   "outputs": [
    {
     "data": {
      "text/plain": [
       "Q7-District-nominal\n",
       "jhapa    234\n",
       "illam      2\n",
       "6          1\n",
       "Name: count, dtype: int64"
      ]
     },
     "execution_count": 61,
     "metadata": {},
     "output_type": "execute_result"
    }
   ],
   "source": [
    "nepal_df[\"Q7-District-nominal\"].value_counts()"
   ]
  },
  {
   "cell_type": "code",
   "execution_count": 62,
   "id": "0af68b0a-6688-4a56-8968-46704f1624af",
   "metadata": {},
   "outputs": [
    {
     "name": "stdout",
     "output_type": "stream",
     "text": [
      "SENEGAL DATA\n"
     ]
    }
   ],
   "source": [
    "print(\"SENEGAL DATA\")\n",
    "if PLOT_GRAPHS:\n",
    "    plot_pairplots(senegal_df, geo_features_senegal, target_cols)\n"
   ]
  },
  {
   "cell_type": "code",
   "execution_count": 63,
   "id": "0ccfb516",
   "metadata": {},
   "outputs": [
    {
     "name": "stdout",
     "output_type": "stream",
     "text": [
      "SENEGAL DATA, PEARSON CORR\n"
     ]
    }
   ],
   "source": [
    "print(\"SENEGAL DATA, PEARSON CORR\")\n",
    "if PLOT_GRAPHS:\n",
    "    plot_heatmaps(senegal_df, geo_features_senegal, target_cols)\n",
    "    plot_group_heatmap(senegal_df, geo_features_senegal)"
   ]
  },
  {
   "cell_type": "code",
   "execution_count": 64,
   "id": "3db642ea",
   "metadata": {},
   "outputs": [
    {
     "name": "stdout",
     "output_type": "stream",
     "text": [
      "SENEGAL DATA, SPEARMAN CORR\n"
     ]
    }
   ],
   "source": [
    "print(\"SENEGAL DATA, SPEARMAN CORR\")\n",
    "if PLOT_GRAPHS:\n",
    "    plot_heatmaps(senegal_df, geo_features_senegal, target_cols, 'spearman')\n",
    "    plot_group_heatmap(senegal_df, geo_features_senegal, 'spearman')"
   ]
  },
  {
   "cell_type": "markdown",
   "id": "481ddbfb-623e-44e0-98d0-4c482037de0f",
   "metadata": {},
   "source": [
    "### Check Visually on Map"
   ]
  },
  {
   "cell_type": "code",
   "execution_count": 65,
   "id": "b9a666df-6118-404f-aed4-ddee8c8f5614",
   "metadata": {},
   "outputs": [],
   "source": [
    "import geopandas as gpd\n",
    "from shapely.geometry import Point\n",
    "import contextily as ctx\n",
    "\n",
    "def map_targets_on_map(\n",
    "    df,\n",
    "    lon_col,\n",
    "    lat_col,\n",
    "    target_cols,\n",
    "    basemap=True,\n",
    "    figsize=(8, 8),\n",
    "    cmap='viridis',\n",
    "    marker_size=50\n",
    "):\n",
    "    \"\"\"\n",
    "    For each target variable, plot its spatial distribution on a map.\n",
    "\n",
    "    Parameters:\n",
    "    - df: pandas.DataFrame containing data\n",
    "    - lon_col, lat_col: names of longitude and latitude columns\n",
    "    - target_cols: list of target variable names to map\n",
    "    - basemap: whether to include a background map (default True)\n",
    "    - figsize: size of the matplotlib figure\n",
    "    - cmap: colormap for target values\n",
    "    - marker_size: size of plotted points\n",
    "    \"\"\"\n",
    "    # Create GeoDataFrame\n",
    "    gdf = gpd.GeoDataFrame(\n",
    "        df.copy(),\n",
    "        geometry=gpd.points_from_xy(df[lon_col], df[lat_col]),\n",
    "        crs=\"EPSG:4326\"\n",
    "    )\n",
    "    # Project to Web Mercator for basemap\n",
    "    gdf = gdf.to_crs(epsg=3857)\n",
    "\n",
    "    for target in target_cols:\n",
    "        fig, ax = plt.subplots(figsize=figsize)\n",
    "        gdf.plot(\n",
    "            ax=ax,\n",
    "            column=target,\n",
    "            cmap=cmap,\n",
    "            legend=True,\n",
    "            markersize=marker_size\n",
    "        )\n",
    "        if basemap:\n",
    "            # Attempt Stamen terrain; fallback to OSM if unavailable\n",
    "            try:\n",
    "                provider = ctx.providers.Stamen.Terrain\n",
    "            except Exception:\n",
    "                provider = ctx.providers.OpenStreetMap.Mapnik\n",
    "            ctx.add_basemap(ax, source=provider)\n",
    "        ax.set_axis_off()\n",
    "        ax.set_title(f\"Spatial distribution of {target}\")\n",
    "        plt.tight_layout()\n",
    "        plt.show()"
   ]
  },
  {
   "cell_type": "code",
   "execution_count": 66,
   "id": "dca3385d-28ec-4913-a8f2-a47d15e32520",
   "metadata": {},
   "outputs": [],
   "source": [
    "if PLOT_GRAPHS:\n",
    "    map_targets_on_map(nepal_df, 'Q1-Longitude-continuous', 'Q1-Latitude-continuous', target_cols)"
   ]
  },
  {
   "cell_type": "code",
   "execution_count": 67,
   "id": "46bfbb6f-b375-4779-8669-b39c6d594a1d",
   "metadata": {},
   "outputs": [],
   "source": [
    "if PLOT_GRAPHS:\n",
    "    map_targets_on_map(senegal_df, 'Q1-Longitude-continuous', 'Q1-Latitude-continuous', target_cols)"
   ]
  },
  {
   "cell_type": "markdown",
   "id": "f89d9b6a-a8a1-4e32-a8d1-9347f297ab59",
   "metadata": {},
   "source": [
    "## Demographic Data"
   ]
  },
  {
   "cell_type": "code",
   "execution_count": 68,
   "metadata": {},
   "outputs": [],
   "source": [
    "if PLOT_GRAPHS:\n",
    "    plot_pairplots(nepal_df, demo_features_nepal, target_cols)"
   ]
  },
  {
   "cell_type": "code",
   "execution_count": 69,
   "id": "9291f321-9b1b-4883-b693-75d5bed11ea6",
   "metadata": {},
   "outputs": [],
   "source": [
    "if PLOT_GRAPHS:\n",
    "    plot_pairplots(senegal_df, demo_features_senegal, target_cols)\n"
   ]
  },
  {
   "cell_type": "markdown",
   "id": "2416f23c-effc-459b-b667-c934a8341198",
   "metadata": {},
   "source": [
    "## Hope Data"
   ]
  },
  {
   "cell_type": "code",
   "execution_count": 70,
   "id": "441a028c-80d3-4c61-a848-5ae7c1116b30",
   "metadata": {},
   "outputs": [
    {
     "name": "stdout",
     "output_type": "stream",
     "text": [
      "NEPAL DATA\n"
     ]
    }
   ],
   "source": [
    "print(\"NEPAL DATA\")\n",
    "if PLOT_GRAPHS:\n",
    "    plot_pairplots(nepal_df, hope_features_nepal, target_cols)\n"
   ]
  },
  {
   "cell_type": "code",
   "execution_count": 71,
   "id": "489be7c6",
   "metadata": {},
   "outputs": [
    {
     "name": "stdout",
     "output_type": "stream",
     "text": [
      "NEPAL DATA, PEARSON CORR\n"
     ]
    }
   ],
   "source": [
    "print(\"NEPAL DATA, PEARSON CORR\")\n",
    "if PLOT_GRAPHS:\n",
    "    plot_heatmaps(nepal_df, hope_features_nepal, target_cols)\n",
    "    plot_group_heatmap(nepal_df, hope_features_nepal)"
   ]
  },
  {
   "cell_type": "code",
   "execution_count": 72,
   "id": "fb7a5f72",
   "metadata": {},
   "outputs": [
    {
     "name": "stdout",
     "output_type": "stream",
     "text": [
      "NEPAL DATA, SPEARMAN CORR\n"
     ]
    }
   ],
   "source": [
    "print(\"NEPAL DATA, SPEARMAN CORR\")\n",
    "if PLOT_GRAPHS:\n",
    "    plot_heatmaps(nepal_df, hope_features_nepal, target_cols, method='spearman')\n",
    "    plot_group_heatmap(nepal_df, hope_features_nepal, method='spearman')"
   ]
  },
  {
   "cell_type": "code",
   "execution_count": 73,
   "id": "2f993d12-3f5d-44dd-b9a7-46c9db742bb5",
   "metadata": {},
   "outputs": [
    {
     "name": "stdout",
     "output_type": "stream",
     "text": [
      "SENEGAL DATA\n"
     ]
    }
   ],
   "source": [
    "print(\"SENEGAL DATA\")\n",
    "if PLOT_GRAPHS:\n",
    "    plot_pairplots(senegal_df, hope_features_senegal, target_cols)\n"
   ]
  },
  {
   "cell_type": "code",
   "execution_count": 74,
   "id": "956634c8",
   "metadata": {},
   "outputs": [
    {
     "name": "stdout",
     "output_type": "stream",
     "text": [
      "SENEGAL DATA, PEARSON CORR\n"
     ]
    }
   ],
   "source": [
    "print(\"SENEGAL DATA, PEARSON CORR\")\n",
    "if PLOT_GRAPHS:\n",
    "    plot_heatmaps(senegal_df, hope_features_senegal, target_cols)\n",
    "    plot_group_heatmap(senegal_df, hope_features_senegal)"
   ]
  },
  {
   "cell_type": "code",
   "execution_count": 75,
   "id": "12abf047",
   "metadata": {},
   "outputs": [
    {
     "name": "stdout",
     "output_type": "stream",
     "text": [
      "SENEGAL DATA, SPEARMAN CORR\n"
     ]
    }
   ],
   "source": [
    "print(\"SENEGAL DATA, SPEARMAN CORR\")\n",
    "if PLOT_GRAPHS:\n",
    "    plot_heatmaps(senegal_df, hope_features_senegal, target_cols, method='spearman')\n",
    "    plot_group_heatmap(senegal_df, hope_features_senegal, method='spearman')"
   ]
  },
  {
   "cell_type": "markdown",
   "id": "b3fc2fa1-8104-4fc7-a2b2-15dc9ccee05e",
   "metadata": {},
   "source": [
    "## Crop & Fertilizer Data"
   ]
  },
  {
   "cell_type": "code",
   "execution_count": 76,
   "id": "8f5c0fb5-9491-40e4-9b76-da64e660ccb8",
   "metadata": {
    "scrolled": true
   },
   "outputs": [
    {
     "name": "stdout",
     "output_type": "stream",
     "text": [
      "NEPAL DATA\n"
     ]
    }
   ],
   "source": [
    "print(\"NEPAL DATA\")\n",
    "if PLOT_GRAPHS:\n",
    "    plot_pairplots(nepal_df, crop_fertilizer_features_nepal, target_cols)\n"
   ]
  },
  {
   "cell_type": "code",
   "execution_count": 77,
   "id": "31d2b4c2",
   "metadata": {},
   "outputs": [
    {
     "data": {
      "text/plain": [
       "Q53-What_type_of_crop_is_grown_on_this_plot-nominal\n",
       "(_rice, _fruit, _maize, _other_cereals)             93\n",
       "(_rice, _maize, _other_cereals)                     71\n",
       "(_rice, _other_cereals)                             31\n",
       "(_rice, _millet, _maize, _other_cereals)            13\n",
       "(_rice, _fruit, _millet, _maize, _other_cereals)    11\n",
       "(_rice, _maize)                                      7\n",
       "(_rice, _maize, _other_cereals, _other)              3\n",
       "(_rice, _maize, _other)                              2\n",
       "(_rice, _fruit, _maize, _other_cereals, _other)      1\n",
       "(_rice, _fruit, _maize, _other)                      1\n",
       "(_rice, _fruit, _other_cereals)                      1\n",
       "(_rice, _millet, _maize, _other_cereals, _other)     1\n",
       "(_rice, _millet, _maize)                             1\n",
       "(_maize, _other_cereals)                             1\n",
       "Name: count, dtype: int64"
      ]
     },
     "execution_count": 77,
     "metadata": {},
     "output_type": "execute_result"
    }
   ],
   "source": [
    "nepal_df[\"Q53-What_type_of_crop_is_grown_on_this_plot-nominal\"].value_counts()"
   ]
  },
  {
   "cell_type": "code",
   "execution_count": 78,
   "id": "fcd659be",
   "metadata": {},
   "outputs": [
    {
     "name": "stdout",
     "output_type": "stream",
     "text": [
      "NEPAL DATA, PEARSON CORR\n"
     ]
    }
   ],
   "source": [
    "print(\"NEPAL DATA, PEARSON CORR\")\n",
    "if PLOT_GRAPHS:\n",
    "    plot_heatmaps(nepal_df, crop_fertilizer_features_nepal, target_cols)\n",
    "    plot_group_heatmap(nepal_df, crop_fertilizer_features_nepal)"
   ]
  },
  {
   "cell_type": "code",
   "execution_count": 79,
   "id": "d6b9c9b3",
   "metadata": {},
   "outputs": [
    {
     "name": "stdout",
     "output_type": "stream",
     "text": [
      "NEPAL DATA, SPEARMAN CORR\n"
     ]
    }
   ],
   "source": [
    "print(\"NEPAL DATA, SPEARMAN CORR\")\n",
    "if PLOT_GRAPHS:\n",
    "    plot_heatmaps(nepal_df, crop_fertilizer_features_nepal, target_cols, 'spearman')\n",
    "    plot_group_heatmap(nepal_df, crop_fertilizer_features_nepal, 'spearman')"
   ]
  },
  {
   "cell_type": "code",
   "execution_count": 80,
   "id": "8aad5857-8219-4134-b8bb-6ff83173f8fa",
   "metadata": {},
   "outputs": [
    {
     "name": "stdout",
     "output_type": "stream",
     "text": [
      "SENEGAL DATA\n"
     ]
    }
   ],
   "source": [
    "print(\"SENEGAL DATA\")\n",
    "if PLOT_GRAPHS:\n",
    "    plot_pairplots(senegal_df, crop_fertilizer_features_senegal, target_cols)\n"
   ]
  },
  {
   "cell_type": "code",
   "execution_count": 81,
   "id": "818f3698",
   "metadata": {},
   "outputs": [
    {
     "data": {
      "text/plain": [
       "Q63-CROP_Rice-nominal\n",
       "(CROP_Vegetables_3,)                 234\n",
       "(CROP_Fruit_2, CROP_Vegetables_3)     44\n",
       "Name: count, dtype: int64"
      ]
     },
     "execution_count": 81,
     "metadata": {},
     "output_type": "execute_result"
    }
   ],
   "source": [
    "senegal_df[\"Q63-CROP_Rice-nominal\"].value_counts()"
   ]
  },
  {
   "cell_type": "code",
   "execution_count": 82,
   "id": "4bc09418",
   "metadata": {},
   "outputs": [
    {
     "name": "stdout",
     "output_type": "stream",
     "text": [
      "SENEGAL DATA, PEARSON CORR\n"
     ]
    }
   ],
   "source": [
    "print(\"SENEGAL DATA, PEARSON CORR\")\n",
    "if PLOT_GRAPHS:\n",
    "    plot_heatmaps(senegal_df, crop_fertilizer_features_senegal, target_cols)\n",
    "    plot_group_heatmap(senegal_df, crop_fertilizer_features_senegal)"
   ]
  },
  {
   "cell_type": "code",
   "execution_count": 83,
   "id": "60ae4444",
   "metadata": {},
   "outputs": [
    {
     "name": "stdout",
     "output_type": "stream",
     "text": [
      "SENEGAL DATA, SPEARMAN CORR\n"
     ]
    }
   ],
   "source": [
    "print(\"SENEGAL DATA, SPEARMAN CORR\")\n",
    "if PLOT_GRAPHS:\n",
    "    plot_heatmaps(senegal_df, crop_fertilizer_features_senegal, target_cols, method='spearman')\n",
    "    plot_group_heatmap(senegal_df, crop_fertilizer_features_senegal, method='spearman')"
   ]
  },
  {
   "cell_type": "markdown",
   "id": "de25d2bd-0579-4ce4-a8a7-33e424092983",
   "metadata": {},
   "source": [
    "## Pest Control & Machinery & Weeding"
   ]
  },
  {
   "cell_type": "code",
   "execution_count": 84,
   "id": "1b930121-3818-4dd2-9c06-490cb92fd6d8",
   "metadata": {},
   "outputs": [
    {
     "name": "stdout",
     "output_type": "stream",
     "text": [
      "NEPAL DATA\n"
     ]
    }
   ],
   "source": [
    "print(\"NEPAL DATA\")\n",
    "if PLOT_GRAPHS:\n",
    "    plot_pairplots(nepal_df, plot_practice_features_nepal, target_cols)\n"
   ]
  },
  {
   "cell_type": "code",
   "execution_count": 85,
   "metadata": {},
   "outputs": [
    {
     "name": "stdout",
     "output_type": "stream",
     "text": [
      "NEPAL DATA, PEARSON CORR\n"
     ]
    }
   ],
   "source": [
    "print(\"NEPAL DATA, PEARSON CORR\")\n",
    "if PLOT_GRAPHS:\n",
    "    plot_heatmaps(nepal_df, plot_practice_features_nepal, target_cols)\n",
    "    plot_group_heatmap(nepal_df, plot_practice_features_nepal)"
   ]
  },
  {
   "cell_type": "code",
   "execution_count": 86,
   "metadata": {},
   "outputs": [
    {
     "name": "stdout",
     "output_type": "stream",
     "text": [
      "NEPAL DATA, SPEARMAN CORR\n"
     ]
    }
   ],
   "source": [
    "print(\"NEPAL DATA, SPEARMAN CORR\")\n",
    "if PLOT_GRAPHS:\n",
    "    plot_heatmaps(nepal_df, plot_practice_features_nepal, target_cols, method='spearman')\n",
    "    plot_group_heatmap(nepal_df, plot_practice_features_nepal, method='spearman')"
   ]
  },
  {
   "cell_type": "code",
   "execution_count": 87,
   "id": "7b5329c3-b8a3-4b7a-891f-16bd104934e6",
   "metadata": {},
   "outputs": [
    {
     "name": "stdout",
     "output_type": "stream",
     "text": [
      "SENEGAL DATA\n"
     ]
    }
   ],
   "source": [
    "print(\"SENEGAL DATA\")\n",
    "if PLOT_GRAPHS:\n",
    "    plot_pairplots(senegal_df, plot_practice_features_senegal, target_cols)\n"
   ]
  },
  {
   "cell_type": "code",
   "execution_count": 88,
   "id": "6452d08f",
   "metadata": {},
   "outputs": [
    {
     "data": {
      "text/plain": [
       "Q74-Practice_cover_crops-nominal\n",
       "(Practice_crop_rotation_4,)                        256\n",
       "(Practice_manuring_3, Practice_crop_rotation_4)     19\n",
       "(Practice_manuring_3,)                               3\n",
       "Name: count, dtype: int64"
      ]
     },
     "execution_count": 88,
     "metadata": {},
     "output_type": "execute_result"
    }
   ],
   "source": [
    "senegal_df[\"Q74-Practice_cover_crops-nominal\"].value_counts()"
   ]
  },
  {
   "cell_type": "code",
   "execution_count": 89,
   "metadata": {},
   "outputs": [
    {
     "name": "stdout",
     "output_type": "stream",
     "text": [
      "SENEGAL DATA, PEARSON CORR\n"
     ]
    }
   ],
   "source": [
    "print(\"SENEGAL DATA, PEARSON CORR\")\n",
    "if PLOT_GRAPHS:\n",
    "    plot_heatmaps(senegal_df, plot_practice_features_senegal, target_cols)\n",
    "    plot_group_heatmap(senegal_df, plot_practice_features_senegal)"
   ]
  },
  {
   "cell_type": "code",
   "execution_count": 90,
   "metadata": {},
   "outputs": [
    {
     "name": "stdout",
     "output_type": "stream",
     "text": [
      "SENEGAL DATA, SPEARMAN CORR\n"
     ]
    }
   ],
   "source": [
    "print(\"SENEGAL DATA, SPEARMAN CORR\")\n",
    "if PLOT_GRAPHS:\n",
    "    plot_heatmaps(senegal_df, plot_practice_features_senegal, target_cols, method='spearman')\n",
    "    plot_group_heatmap(senegal_df, plot_practice_features_senegal, method='spearman')"
   ]
  },
  {
   "cell_type": "markdown",
   "id": "c9cb10ce-d8d9-4cb5-b5c4-8a0794c5e3da",
   "metadata": {},
   "source": [
    "## Soil Analysis"
   ]
  },
  {
   "cell_type": "code",
   "execution_count": 91,
   "id": "845db7e2-e435-407a-aaa8-d34b8c6d2ff1",
   "metadata": {},
   "outputs": [
    {
     "name": "stdout",
     "output_type": "stream",
     "text": [
      "NEPAL DATA\n"
     ]
    }
   ],
   "source": [
    "print(\"NEPAL DATA\")\n",
    "if PLOT_GRAPHS:\n",
    "    plot_pairplots(nepal_df, soil_features_nepal, target_cols)\n"
   ]
  },
  {
   "cell_type": "code",
   "execution_count": 92,
   "metadata": {},
   "outputs": [
    {
     "name": "stdout",
     "output_type": "stream",
     "text": [
      "NEPAL DATA, PEARSON CORR\n"
     ]
    }
   ],
   "source": [
    "print(\"NEPAL DATA, PEARSON CORR\")\n",
    "if PLOT_GRAPHS:\n",
    "    plot_heatmaps(nepal_df, soil_features_nepal, target_cols)\n",
    "    plot_group_heatmap(nepal_df, soil_features_nepal)"
   ]
  },
  {
   "cell_type": "code",
   "execution_count": 93,
   "metadata": {},
   "outputs": [
    {
     "name": "stdout",
     "output_type": "stream",
     "text": [
      "NEPAL DATA, SPEARMAN CORR\n"
     ]
    }
   ],
   "source": [
    "print(\"NEPAL DATA, SPEARMAN CORR\")\n",
    "if PLOT_GRAPHS:\n",
    "    plot_heatmaps(nepal_df, soil_features_nepal, target_cols, method='spearman')\n",
    "    plot_group_heatmap(nepal_df, soil_features_nepal, method='spearman')"
   ]
  },
  {
   "cell_type": "code",
   "execution_count": 94,
   "id": "d9a0c452-4014-4d5f-b399-99be4078e586",
   "metadata": {},
   "outputs": [
    {
     "name": "stdout",
     "output_type": "stream",
     "text": [
      "SENEGAL DATA\n"
     ]
    }
   ],
   "source": [
    "print(\"SENEGAL DATA\")\n",
    "if PLOT_GRAPHS:\n",
    "    plot_pairplots(senegal_df, soil_features_senegal, target_cols)\n"
   ]
  },
  {
   "cell_type": "code",
   "execution_count": 95,
   "metadata": {},
   "outputs": [
    {
     "name": "stdout",
     "output_type": "stream",
     "text": [
      "SENEGAL DATA, PEARSON CORR\n"
     ]
    }
   ],
   "source": [
    "print(\"SENEGAL DATA, PEARSON CORR\")\n",
    "if PLOT_GRAPHS:\n",
    "    plot_heatmaps(senegal_df, soil_features_senegal, target_cols)\n",
    "    plot_group_heatmap(senegal_df, soil_features_senegal)"
   ]
  },
  {
   "cell_type": "code",
   "execution_count": 96,
   "metadata": {},
   "outputs": [
    {
     "name": "stdout",
     "output_type": "stream",
     "text": [
      "SENEGAL DATA, SPEARMAN CORR\n"
     ]
    }
   ],
   "source": [
    "print(\"SENEGAL DATA, SPEARMAN CORR\")\n",
    "if PLOT_GRAPHS:\n",
    "    plot_heatmaps(senegal_df, soil_features_senegal, target_cols, method='spearman')\n",
    "    plot_group_heatmap(senegal_df, soil_features_senegal, method='spearman')"
   ]
  },
  {
   "cell_type": "markdown",
   "id": "22fc428a-11f3-425e-bd5a-fe88df355d9c",
   "metadata": {},
   "source": [
    "## Plowing, Sowing & Irrigation"
   ]
  },
  {
   "cell_type": "code",
   "execution_count": 97,
   "id": "0cf1f08f",
   "metadata": {},
   "outputs": [
    {
     "data": {
      "text/plain": [
       "Q76-What_type_of_irrigation_do_you_use-nominal\n",
       "(_surface_irrigation, _drip.Sprinklers, _Sprinklers, _Pump_treadle)    135\n",
       "(_surface_irrigation, _Pump_treadle)                                    66\n",
       "(_drip.Sprinklers, _Sprinklers, _Pump_treadle)                          28\n",
       "(_Pump_treadle,)                                                         4\n",
       "(_drip.Sprinklers, _Drip_irrigation, _Sprinklers, _Pump_treadle)         3\n",
       "(_drip.Sprinklers, _Drip_irrigation, _Pump_treadle)                      1\n",
       "Name: count, dtype: int64"
      ]
     },
     "execution_count": 97,
     "metadata": {},
     "output_type": "execute_result"
    }
   ],
   "source": [
    "nepal_df[\"Q76-What_type_of_irrigation_do_you_use-nominal\"].value_counts()"
   ]
  },
  {
   "cell_type": "code",
   "execution_count": 98,
   "metadata": {},
   "outputs": [
    {
     "name": "stdout",
     "output_type": "stream",
     "text": [
      "NEPAL DATA, PEARSON CORR\n"
     ]
    }
   ],
   "source": [
    "print(\"NEPAL DATA, PEARSON CORR\")\n",
    "if PLOT_GRAPHS:\n",
    "    plot_heatmaps(nepal_df, plow_irrigation_features_nepal, target_cols)\n",
    "    plot_group_heatmap(nepal_df, plow_irrigation_features_nepal)"
   ]
  },
  {
   "cell_type": "code",
   "execution_count": 99,
   "metadata": {},
   "outputs": [
    {
     "name": "stdout",
     "output_type": "stream",
     "text": [
      "NEPAL DATA, SPEARMAN CORR\n"
     ]
    }
   ],
   "source": [
    "print(\"NEPAL DATA, SPEARMAN CORR\")\n",
    "if PLOT_GRAPHS:\n",
    "    plot_heatmaps(nepal_df, plow_irrigation_features_nepal, target_cols, method='spearman')\n",
    "    plot_group_heatmap(nepal_df, plow_irrigation_features_nepal, method='spearman')"
   ]
  },
  {
   "cell_type": "code",
   "execution_count": 100,
   "id": "cb9b0f99-2e06-421b-94ac-9934f5cabbb5",
   "metadata": {},
   "outputs": [
    {
     "name": "stdout",
     "output_type": "stream",
     "text": [
      "SENEGAL DATA\n"
     ]
    }
   ],
   "source": [
    "print(\"SENEGAL DATA\")\n",
    "if PLOT_GRAPHS:\n",
    "    plot_pairplots(senegal_df, plow_irrigation_features_senegal, target_cols)\n"
   ]
  },
  {
   "cell_type": "code",
   "execution_count": 101,
   "metadata": {},
   "outputs": [
    {
     "name": "stdout",
     "output_type": "stream",
     "text": [
      "SENEGAL DATA, PEARSON CORR\n"
     ]
    }
   ],
   "source": [
    "print(\"SENEGAL DATA, PEARSON CORR\")\n",
    "if PLOT_GRAPHS:\n",
    "    plot_heatmaps(senegal_df, plow_irrigation_features_senegal, target_cols)\n",
    "    plot_group_heatmap(senegal_df, plow_irrigation_features_senegal)"
   ]
  },
  {
   "cell_type": "code",
   "execution_count": 102,
   "metadata": {},
   "outputs": [
    {
     "name": "stdout",
     "output_type": "stream",
     "text": [
      "SENEGAL DATA, SPEARMAN CORR\n"
     ]
    }
   ],
   "source": [
    "print(\"SENEGAL DATA, SPEARMAN CORR\")\n",
    "if PLOT_GRAPHS:\n",
    "    plot_heatmaps(senegal_df, plow_irrigation_features_senegal, target_cols, method='spearman')\n",
    "    plot_group_heatmap(senegal_df, plow_irrigation_features_senegal, method='spearman')"
   ]
  },
  {
   "cell_type": "markdown",
   "id": "abac01c7-e8a0-474d-8d08-4186d313c2c4",
   "metadata": {},
   "source": [
    "## Self-control Items"
   ]
  },
  {
   "cell_type": "code",
   "execution_count": 103,
   "id": "8aae485c-e014-4902-b8e8-17e4cb7dffa0",
   "metadata": {
    "scrolled": true
   },
   "outputs": [
    {
     "name": "stdout",
     "output_type": "stream",
     "text": [
      "NEPAL DATA\n"
     ]
    }
   ],
   "source": [
    "print(\"NEPAL DATA\")\n",
    "if PLOT_GRAPHS:\n",
    "    plot_pairplots(nepal_df, self_control_features_nepal, target_cols)\n"
   ]
  },
  {
   "cell_type": "code",
   "execution_count": 104,
   "metadata": {},
   "outputs": [
    {
     "name": "stdout",
     "output_type": "stream",
     "text": [
      "SENEGAL DATA, PEARSON CORR\n"
     ]
    }
   ],
   "source": [
    "print(\"SENEGAL DATA, PEARSON CORR\")\n",
    "if PLOT_GRAPHS:\n",
    "    plot_heatmaps(senegal_df, plow_irrigation_features_senegal, target_cols)\n",
    "    plot_group_heatmap(senegal_df, plow_irrigation_features_senegal)"
   ]
  },
  {
   "cell_type": "code",
   "execution_count": 105,
   "metadata": {},
   "outputs": [
    {
     "name": "stdout",
     "output_type": "stream",
     "text": [
      "SENEGAL DATA, SPEARMAN CORR\n"
     ]
    }
   ],
   "source": [
    "print(\"SENEGAL DATA, SPEARMAN CORR\")\n",
    "if PLOT_GRAPHS:\n",
    "    plot_heatmaps(senegal_df, plow_irrigation_features_senegal, target_cols, method='spearman')\n",
    "    plot_group_heatmap(senegal_df, plow_irrigation_features_senegal, method='spearman')"
   ]
  },
  {
   "cell_type": "markdown",
   "id": "3aacd0d0-7ec9-43d1-9c51-0d619993e902",
   "metadata": {},
   "source": [
    "## Household & Income & Trust"
   ]
  },
  {
   "cell_type": "code",
   "execution_count": 106,
   "id": "4a035d6c-9c9e-417b-9c08-14ca9659be4f",
   "metadata": {
    "scrolled": true
   },
   "outputs": [
    {
     "name": "stdout",
     "output_type": "stream",
     "text": [
      "NEPAL DATA\n"
     ]
    }
   ],
   "source": [
    "print(\"NEPAL DATA\")\n",
    "if PLOT_GRAPHS:\n",
    "    plot_pairplots(nepal_df, household_features_nepal, target_cols)\n"
   ]
  },
  {
   "cell_type": "code",
   "execution_count": 107,
   "metadata": {},
   "outputs": [
    {
     "name": "stdout",
     "output_type": "stream",
     "text": [
      "NEPAL DATA, PEARSON CORR\n"
     ]
    }
   ],
   "source": [
    "print(\"NEPAL DATA, PEARSON CORR\")\n",
    "if PLOT_GRAPHS:\n",
    "    plot_heatmaps(nepal_df, household_features_nepal, target_cols)\n",
    "    plot_group_heatmap(nepal_df, household_features_nepal)"
   ]
  },
  {
   "cell_type": "code",
   "execution_count": 108,
   "metadata": {},
   "outputs": [
    {
     "name": "stdout",
     "output_type": "stream",
     "text": [
      "NEPAL DATA, SPEARMAN CORR\n"
     ]
    }
   ],
   "source": [
    "print(\"NEPAL DATA, SPEARMAN CORR\")\n",
    "if PLOT_GRAPHS:\n",
    "    plot_heatmaps(nepal_df, household_features_nepal, target_cols, method='spearman')\n",
    "    plot_group_heatmap(nepal_df, household_features_nepal, method='spearman')"
   ]
  },
  {
   "cell_type": "code",
   "execution_count": 109,
   "id": "06041150-9d1e-4c25-8872-b59dfbceb890",
   "metadata": {},
   "outputs": [
    {
     "name": "stdout",
     "output_type": "stream",
     "text": [
      "SENEGAL DATA\n"
     ]
    }
   ],
   "source": [
    "print(\"SENEGAL DATA\")\n",
    "if PLOT_GRAPHS:\n",
    "    plot_pairplots(senegal_df, household_features_senegal, target_cols)\n"
   ]
  },
  {
   "cell_type": "code",
   "execution_count": 110,
   "metadata": {},
   "outputs": [
    {
     "name": "stdout",
     "output_type": "stream",
     "text": [
      "SENEGAL DATA, PEARSON CORR\n"
     ]
    }
   ],
   "source": [
    "print(\"SENEGAL DATA, PEARSON CORR\")\n",
    "if PLOT_GRAPHS:\n",
    "    plot_heatmaps(senegal_df, household_features_senegal, target_cols)\n",
    "    plot_group_heatmap(senegal_df, household_features_senegal)"
   ]
  },
  {
   "cell_type": "code",
   "execution_count": 111,
   "metadata": {},
   "outputs": [
    {
     "name": "stdout",
     "output_type": "stream",
     "text": [
      "SENEGAL DATA, SPEARMAN CORR\n"
     ]
    }
   ],
   "source": [
    "print(\"SENEGAL DATA, SPEARMAN CORR\")\n",
    "if PLOT_GRAPHS:\n",
    "    plot_heatmaps(senegal_df, household_features_senegal, target_cols, method='spearman')\n",
    "    plot_group_heatmap(senegal_df, household_features_senegal, method='spearman')"
   ]
  },
  {
   "cell_type": "code",
   "execution_count": 112,
   "metadata": {},
   "outputs": [],
   "source": [
    "hope_index_nepal = ['Q#-hope_total-continuous']\n",
    "hope_index_senegal = ['Q#-Hope_total-continuous']\n",
    "\n",
    "self_control_index_nepal = ['Q#-self_control_score-continuous']\n",
    "\n",
    "positive_index_nepal = ['Q#-positive_total-continuous']\n",
    "\n",
    "negative_index_nepal = ['Q#-negative_total-continuous']\n",
    "\n",
    "avg_farming_practices_nepal = ['Q#-average_of_farming_practices-ordinal']"
   ]
  },
  {
   "cell_type": "code",
   "execution_count": 113,
   "metadata": {},
   "outputs": [
    {
     "name": "stdout",
     "output_type": "stream",
     "text": [
      "NEPAL DATA\n"
     ]
    }
   ],
   "source": [
    "print(\"NEPAL DATA\")\n",
    "if PLOT_GRAPHS:\n",
    "    plot_pairplots(nepal_df, self_control_index_nepal, target_cols)"
   ]
  },
  {
   "cell_type": "code",
   "execution_count": 114,
   "metadata": {},
   "outputs": [
    {
     "name": "stdout",
     "output_type": "stream",
     "text": [
      "NEPAL DATA, PEARSON CORR\n"
     ]
    }
   ],
   "source": [
    "print(\"NEPAL DATA, PEARSON CORR\")\n",
    "if PLOT_GRAPHS:\n",
    "    plot_heatmaps(nepal_df, self_control_index_senegal, target_cols)\n"
   ]
  },
  {
   "cell_type": "code",
   "execution_count": 115,
   "metadata": {},
   "outputs": [
    {
     "name": "stdout",
     "output_type": "stream",
     "text": [
      "NEPAL DATA, SPEARMAN CORR\n"
     ]
    }
   ],
   "source": [
    "print(\"NEPAL DATA, SPEARMAN CORR\")\n",
    "if PLOT_GRAPHS:\n",
    "    plot_heatmaps(nepal_df, self_control_index_senegal, target_cols, method='spearman')\n"
   ]
  },
  {
   "cell_type": "code",
   "execution_count": 116,
   "metadata": {},
   "outputs": [
    {
     "name": "stdout",
     "output_type": "stream",
     "text": [
      "NEPAL DATA\n"
     ]
    }
   ],
   "source": [
    "\n",
    "print(\"NEPAL DATA\")\n",
    "if PLOT_GRAPHS:\n",
    "    plot_pairplots(nepal_df, hope_index_nepal, target_cols)"
   ]
  },
  {
   "cell_type": "code",
   "execution_count": 117,
   "metadata": {},
   "outputs": [
    {
     "name": "stdout",
     "output_type": "stream",
     "text": [
      "NEPAL DATA, PEARSON CORR\n"
     ]
    }
   ],
   "source": [
    "print(\"NEPAL DATA, PEARSON CORR\")\n",
    "if PLOT_GRAPHS:\n",
    "    plot_heatmaps(nepal_df, hope_index_nepal, target_cols)"
   ]
  },
  {
   "cell_type": "code",
   "execution_count": 118,
   "metadata": {},
   "outputs": [
    {
     "name": "stdout",
     "output_type": "stream",
     "text": [
      "NEPAL DATA, SPEARMAN CORR\n"
     ]
    }
   ],
   "source": [
    "print(\"NEPAL DATA, SPEARMAN CORR\")\n",
    "if PLOT_GRAPHS:\n",
    "    plot_heatmaps(nepal_df, hope_index_nepal, target_cols, method='spearman')"
   ]
  },
  {
   "cell_type": "code",
   "execution_count": 119,
   "metadata": {},
   "outputs": [
    {
     "name": "stdout",
     "output_type": "stream",
     "text": [
      "SENEGAL DATA\n"
     ]
    }
   ],
   "source": [
    "\n",
    "print(\"SENEGAL DATA\")\n",
    "if PLOT_GRAPHS:\n",
    "    plot_pairplots(senegal_df, hope_index_senegal, target_cols)"
   ]
  },
  {
   "cell_type": "code",
   "execution_count": 120,
   "metadata": {},
   "outputs": [
    {
     "name": "stdout",
     "output_type": "stream",
     "text": [
      "SENEGAL DATA, PEARSON CORR\n"
     ]
    }
   ],
   "source": [
    "print(\"SENEGAL DATA, PEARSON CORR\")\n",
    "if PLOT_GRAPHS:\n",
    "    plot_heatmaps(senegal_df, hope_index_senegal, target_cols)"
   ]
  },
  {
   "cell_type": "code",
   "execution_count": 121,
   "metadata": {},
   "outputs": [
    {
     "name": "stdout",
     "output_type": "stream",
     "text": [
      "SENEGAL DATA, SPEARMAN CORR\n"
     ]
    }
   ],
   "source": [
    "print(\"SENEGAL DATA, SPEARMAN CORR\")\n",
    "if PLOT_GRAPHS:\n",
    "    plot_heatmaps(senegal_df, hope_index_senegal, target_cols, method='spearman')"
   ]
  },
  {
   "cell_type": "code",
   "execution_count": 122,
   "id": "7b33cdb9",
   "metadata": {},
   "outputs": [
    {
     "name": "stdout",
     "output_type": "stream",
     "text": [
      "NEPAL DATA\n"
     ]
    }
   ],
   "source": [
    "print(\"NEPAL DATA\")\n",
    "if PLOT_GRAPHS:\n",
    "    plot_pairplots(nepal_df, positive_index_nepal, target_cols)"
   ]
  },
  {
   "cell_type": "code",
   "execution_count": 123,
   "id": "da7eb2e9",
   "metadata": {},
   "outputs": [
    {
     "name": "stdout",
     "output_type": "stream",
     "text": [
      "NEPAL DATA, PEARSON CORR\n"
     ]
    }
   ],
   "source": [
    "print(\"NEPAL DATA, PEARSON CORR\")\n",
    "if PLOT_GRAPHS:\n",
    "    plot_heatmaps(nepal_df, positive_index_nepal, target_cols)"
   ]
  },
  {
   "cell_type": "code",
   "execution_count": 124,
   "id": "82901c94",
   "metadata": {},
   "outputs": [
    {
     "name": "stdout",
     "output_type": "stream",
     "text": [
      "NEPAL DATA, SPEARMAN CORR\n"
     ]
    }
   ],
   "source": [
    "print(\"NEPAL DATA, SPEARMAN CORR\")\n",
    "if PLOT_GRAPHS:\n",
    "    plot_heatmaps(nepal_df, positive_index_nepal, target_cols, method='spearman')"
   ]
  },
  {
   "cell_type": "code",
   "execution_count": 125,
   "id": "32a5e609",
   "metadata": {},
   "outputs": [
    {
     "name": "stdout",
     "output_type": "stream",
     "text": [
      "NEPAL DATA\n"
     ]
    }
   ],
   "source": [
    "print(\"NEPAL DATA\")\n",
    "if PLOT_GRAPHS:\n",
    "    plot_pairplots(nepal_df, negative_index_nepal, target_cols)"
   ]
  },
  {
   "cell_type": "code",
   "execution_count": 126,
   "id": "cf2d427c",
   "metadata": {},
   "outputs": [
    {
     "name": "stdout",
     "output_type": "stream",
     "text": [
      "NEPAL DATA, PEARSON CORR\n"
     ]
    }
   ],
   "source": [
    "print(\"NEPAL DATA, PEARSON CORR\")\n",
    "if PLOT_GRAPHS:\n",
    "    plot_heatmaps(nepal_df, negative_index_nepal, target_cols)"
   ]
  },
  {
   "cell_type": "code",
   "execution_count": 127,
   "id": "b45f98a7",
   "metadata": {},
   "outputs": [
    {
     "name": "stdout",
     "output_type": "stream",
     "text": [
      "NEPAL DATA, SPEARMAN CORR\n"
     ]
    }
   ],
   "source": [
    "print(\"NEPAL DATA, SPEARMAN CORR\")\n",
    "if PLOT_GRAPHS:\n",
    "    plot_heatmaps(nepal_df, negative_index_nepal, target_cols, method='spearman')"
   ]
  },
  {
   "cell_type": "code",
   "execution_count": 128,
   "id": "5567e862",
   "metadata": {},
   "outputs": [
    {
     "name": "stdout",
     "output_type": "stream",
     "text": [
      "NEPAL DATA\n"
     ]
    }
   ],
   "source": [
    "print(\"NEPAL DATA\")\n",
    "if PLOT_GRAPHS:\n",
    "    plot_pairplots(nepal_df, avg_farming_practices_nepal, target_cols)"
   ]
  },
  {
   "cell_type": "code",
   "execution_count": 129,
   "id": "119a14b3",
   "metadata": {},
   "outputs": [
    {
     "name": "stdout",
     "output_type": "stream",
     "text": [
      "NEPAL DATA, PEARSON CORR\n"
     ]
    }
   ],
   "source": [
    "print(\"NEPAL DATA, PEARSON CORR\")\n",
    "if PLOT_GRAPHS:\n",
    "    plot_heatmaps(nepal_df, avg_farming_practices_nepal, target_cols)"
   ]
  },
  {
   "cell_type": "code",
   "execution_count": 130,
   "id": "73c2af6b",
   "metadata": {},
   "outputs": [
    {
     "name": "stdout",
     "output_type": "stream",
     "text": [
      "NEPAL DATA, SPEARMAN CORR\n"
     ]
    }
   ],
   "source": [
    "print(\"NEPAL DATA, SPEARMAN CORR\")\n",
    "if PLOT_GRAPHS:\n",
    "    plot_heatmaps(nepal_df, avg_farming_practices_nepal, target_cols, method='spearman')"
   ]
  },
  {
   "cell_type": "code",
   "execution_count": 131,
   "id": "66267376",
   "metadata": {},
   "outputs": [
    {
     "name": "stdout",
     "output_type": "stream",
     "text": [
      "NEPAL DATA\n"
     ]
    }
   ],
   "source": [
    "print(\"NEPAL DATA\")\n",
    "if PLOT_GRAPHS:\n",
    "    plot_pairplots(nepal_df, feelings_features_nepal, target_cols)"
   ]
  },
  {
   "cell_type": "code",
   "execution_count": 132,
   "id": "18396615",
   "metadata": {},
   "outputs": [
    {
     "name": "stdout",
     "output_type": "stream",
     "text": [
      "NEPAL DATA, PEARSON CORR\n"
     ]
    }
   ],
   "source": [
    "print(\"NEPAL DATA, PEARSON CORR\")\n",
    "if PLOT_GRAPHS:\n",
    "    plot_heatmaps(nepal_df, feelings_features_nepal, target_cols)"
   ]
  },
  {
   "cell_type": "code",
   "execution_count": 133,
   "id": "a18787a6",
   "metadata": {},
   "outputs": [
    {
     "name": "stdout",
     "output_type": "stream",
     "text": [
      "NEPAL DATA, SPEARMAN CORR\n"
     ]
    }
   ],
   "source": [
    "print(\"NEPAL DATA, SPEARMAN CORR\")\n",
    "if PLOT_GRAPHS:\n",
    "    plot_heatmaps(nepal_df, feelings_features_nepal, target_cols, method='spearman')"
   ]
  },
  {
   "cell_type": "code",
   "execution_count": 134,
   "id": "e4763e98",
   "metadata": {},
   "outputs": [
    {
     "name": "stdout",
     "output_type": "stream",
     "text": [
      "SENEGAL DATA\n"
     ]
    }
   ],
   "source": [
    "print(\"SENEGAL DATA\")\n",
    "if PLOT_GRAPHS:\n",
    "    plot_pairplots(senegal_df, character_features_senegal, target_cols)"
   ]
  },
  {
   "cell_type": "markdown",
   "id": "c6e70c42",
   "metadata": {},
   "source": [
    "## Productivity Metrics Heatmap"
   ]
  },
  {
   "cell_type": "code",
   "execution_count": 135,
   "id": "267f27ef-4551-43b3-9f45-c0b0f1e7844e",
   "metadata": {},
   "outputs": [],
   "source": [
    "if PLOT_GRAPHS:\n",
    "    plot_group_heatmap(nepal_df, target_cols)"
   ]
  },
  {
   "cell_type": "code",
   "execution_count": 136,
   "id": "0a20248c-cde7-4931-9461-c308cda44802",
   "metadata": {},
   "outputs": [],
   "source": [
    "if PLOT_GRAPHS:\n",
    "    plot_group_heatmap(senegal_df, target_cols)"
   ]
  },
  {
   "cell_type": "markdown",
   "id": "1acd8cc1-be9a-4c37-9c9a-f155db36bbe6",
   "metadata": {},
   "source": [
    "# Second Clean"
   ]
  },
  {
   "cell_type": "markdown",
   "metadata": {},
   "source": [
    "Change phone number column to just binary yes no if he has a phone number"
   ]
  },
  {
   "cell_type": "code",
   "execution_count": 137,
   "id": "6a43998a-d55a-4492-a0a5-16bbbf475d33",
   "metadata": {},
   "outputs": [],
   "source": [
    "\n",
    "nepal_df['Q4-PhoneNumberAndIsZeroIfNone-nominal'] = (nepal_df['Q4-PhoneNumberAndIsZeroIfNone-nominal'] == 0).astype(int)\n",
    "senegal_df['Q4-Phone_Number-nominal'] = (senegal_df['Q4-Phone_Number-nominal'] == 0).astype(int)"
   ]
  },
  {
   "cell_type": "code",
   "execution_count": 138,
   "id": "b66175a1-0a27-4daa-9b14-a223f27bed62",
   "metadata": {},
   "outputs": [],
   "source": [
    "nepal_df.rename(columns={'Q4-PhoneNumberAndIsZeroIfNone-nominal' : 'Q4-HasPhoneNumber-binary-1'}, inplace=True)\n",
    "senegal_df.rename(columns={'Q4-Phone_Number-nominal' : 'Q4-HasPhoneNumber-binary-1'}, inplace=True)\n"
   ]
  },
  {
   "cell_type": "markdown",
   "metadata": {},
   "source": [
    "Scale all numeric columns and one hot encode all categorical columns, and deal with missing values in categorical columns by adding a 'missing' category"
   ]
  },
  {
   "cell_type": "code",
   "execution_count": 139,
   "id": "49ba8311-2a30-4a81-bacc-7a6cb451805f",
   "metadata": {},
   "outputs": [],
   "source": [
    "from sklearn.preprocessing import StandardScaler\n",
    "\n",
    "def scale_numeric_columns(df):\n",
    "    df = df.copy()\n",
    "    # Get non-categorical numeric columns\n",
    "    cols_to_scale = [col for col in df.columns if parse_feature_metadata(col)[\"type\"] in ['continuous', 'discrete']]\n",
    "\n",
    "    for col in cols_to_scale:\n",
    "        median = df[col].median()\n",
    "        # this returns a new Series (up-cast to float64) and assigns it back\n",
    "        df[col] = df[col].fillna(median)\n",
    "    \n",
    "    scaler = StandardScaler()\n",
    "    df[cols_to_scale] = scaler.fit_transform(df[cols_to_scale])\n",
    "\n",
    "    return df\n",
    "\n",
    "def one_hot_encode_columns(df):\n",
    "    df = df.copy()\n",
    "    cols_to_dummies = []\n",
    "    cols_to_dummies_prefixes = []\n",
    "    for col in df.columns:\n",
    "        meta = parse_feature_metadata(col)\n",
    "        if meta[\"type\"] in ['ordinal', 'nominal']:\n",
    "            # add it to columns to one hot encode along with its question number\n",
    "            cols_to_dummies_prefixes.append(f\"{meta['qid']}-{meta['name']}\")\n",
    "            cols_to_dummies.append((col, meta[\"type\"]))\n",
    "\n",
    "    # deal with missing by adding a 'Missing' category\n",
    "    for col, _ in cols_to_dummies:\n",
    "        df[col] = df[col].astype('category').cat.add_categories('Missing')\n",
    "        df[col] = df[col].fillna('Missing')\n",
    "    \n",
    "    col_names_to_dummies, _ = zip(*cols_to_dummies) \n",
    "    col_names_to_dummies = list(col_names_to_dummies)\n",
    "    # applying prefix to dummies according to our feature name format\n",
    "    dummies = pd.get_dummies(df[col_names_to_dummies], prefix_sep='_', prefix=cols_to_dummies_prefixes, columns=col_names_to_dummies, dtype=int)\n",
    "    \n",
    "    # applying postfix to dummies according to our feature name format\n",
    "    rename_map = {}\n",
    "    for orig, type in cols_to_dummies:\n",
    "        # find all dummy cols that start with \"<orig's qid>-<orig's name>\"\n",
    "        group = [c for c in dummies.columns if c.startswith(f\"{parse_feature_metadata(orig)['qid']}-{parse_feature_metadata(orig)['name']}\")]\n",
    "        # enumerate them 1,2,3…\n",
    "        for i, col_name in enumerate(group, start=1):\n",
    "            rename_map[col_name] = f\"{col_name}-binary_{type}-{i}\"\n",
    "            \n",
    "    dummies = dummies.rename(columns=rename_map)\n",
    "    df_other = df.drop(columns=col_names_to_dummies)\n",
    "    final_df = pd.concat([df_other, dummies], axis=1)\n",
    "    \n",
    "    return final_df\n",
    "\n"
   ]
  },
  {
   "cell_type": "code",
   "execution_count": 140,
   "id": "d290d250-1660-4063-bbac-0fb42859cbd6",
   "metadata": {},
   "outputs": [],
   "source": [
    "nepal_df = one_hot_encode_columns(nepal_df)\n",
    "nepal_df = scale_numeric_columns(nepal_df)\n"
   ]
  },
  {
   "cell_type": "code",
   "execution_count": 141,
   "id": "abbb1659-9714-41eb-9325-5b2195a48b82",
   "metadata": {},
   "outputs": [],
   "source": [
    "senegal_df = one_hot_encode_columns(senegal_df)\n",
    "senegal_df = scale_numeric_columns(senegal_df)\n"
   ]
  },
  {
   "cell_type": "markdown",
   "id": "6db0f4aa-5d9f-4b7c-86f3-b09f8f87760e",
   "metadata": {},
   "source": [
    "# Multivariate Analysis"
   ]
  },
  {
   "cell_type": "code",
   "execution_count": 142,
   "id": "d9b8675d-cb90-4e3a-8255-d8e61fa1b856",
   "metadata": {},
   "outputs": [],
   "source": [
    "def convert_group_to_dummies(df, group : list):\n",
    "    dummy_group = []\n",
    "    for orig in group:\n",
    "        meta = parse_feature_metadata(orig)\n",
    "        if meta['type'] not in ['ordinal', 'nominal']:\n",
    "            if orig in df.columns:\n",
    "                dummy_group.append(orig)    \n",
    "        else:    \n",
    "            for col in df.columns:\n",
    "                if col.startswith(f\"{meta['qid']}-{meta['name']}\"):\n",
    "                    dummy_group.append(col)\n",
    "                \n",
    "    return dummy_group"
   ]
  },
  {
   "cell_type": "code",
   "execution_count": 143,
   "id": "ec1aa555-8d02-4cee-b70b-b2189b0caad4",
   "metadata": {},
   "outputs": [],
   "source": [
    "groups = {'Geographic Features': (geo_features_nepal, geo_features_senegal),\n",
    "          'Demographic Features': (demo_features_nepal, demo_features_senegal),\n",
    "          'Hope Features': (hope_features_nepal, hope_features_senegal),\n",
    "          'Crop & Fertilizer Features':(crop_fertilizer_features_nepal, crop_fertilizer_features_senegal),\n",
    "          'Plot Practice Features': (plot_practice_features_nepal, plot_practice_features_senegal),\n",
    "          'Soil Analysis Faetures': (soil_features_nepal, soil_features_senegal),\n",
    "          'Plow & Irrigation': (plow_irrigation_features_nepal, plow_irrigation_features_senegal),\n",
    "          'Self-control Features': (self_control_features_nepal, None),\n",
    "          'Household Features': (household_features_nepal, household_features_senegal)}"
   ]
  },
  {
   "cell_type": "code",
   "execution_count": 144,
   "id": "3a009693-93ac-4d7d-8fae-f6870182f65f",
   "metadata": {},
   "outputs": [],
   "source": [
    "from skbio.stats.distance import permanova, DistanceMatrix\n",
    "from sklearn.preprocessing import OneHotEncoder\n",
    "from gower import gower_matrix          # pip install gower\n",
    "# X_enc = result of your pipeline's fit_transform\n",
    "\n",
    "def transform(df, X_features, Y_features):\n",
    "    # — X side —\n",
    "    X_clean = df[X_features].astype(float).copy()\n",
    "    X_enc   = X_clean.values\n",
    "\n",
    "    # --- drop constant cols from X ---\n",
    "    mask_x   = np.nanvar(X_enc, axis=0) > 0\n",
    "    X_enc  = X_enc[:, mask_x]\n",
    "\n",
    "    # — Y side: impute, then drop any col with std=0 before standardizing —\n",
    "    Y_df    = df[Y_features].copy().fillna(df[Y_features].median())\n",
    "    stds    = Y_df.std(ddof=0)\n",
    "    keep    = stds > 0\n",
    "    Y_df    = Y_df.loc[:, keep]\n",
    "    Y_enc   = (Y_df - Y_df.mean()) / stds[keep]\n",
    "\n",
    "    return X_enc, Y_enc\n",
    "\n",
    "\n",
    "def convert_to_dist_matrices(X_enc, Y_enc):\n",
    "    \n",
    "    DX = DistanceMatrix(gower_matrix(X_enc))\n",
    "    DY = DistanceMatrix(gower_matrix(Y_enc))\n",
    "    return DX, DY\n"
   ]
  },
  {
   "cell_type": "code",
   "execution_count": 145,
   "id": "7370e7f5-5cc9-4f81-9399-b0431ae4c47b",
   "metadata": {},
   "outputs": [],
   "source": [
    "from skbio.stats.distance import mantel\n",
    "\n",
    "def mantel_test(DX, DY):\n",
    "    mantel_r, mantel_p, _ = mantel(DX, DY, method='spearman', permutations=999)\n",
    "    print(f\"Mantel ρ = {mantel_r:.3f},  p = {mantel_p:.4f}\")\n"
   ]
  },
  {
   "cell_type": "code",
   "execution_count": 146,
   "id": "2b672539-d85d-44af-9027-c5dd3b21ffcf",
   "metadata": {},
   "outputs": [],
   "source": [
    "import dcor\n",
    "\n",
    "def distance_covariance_test(X_enc, Y_enc):\n",
    "    dcov_p, dcov_stat = dcor.independence.distance_covariance_test(\n",
    "        X_enc, Y_enc, num_resamples=999)\n",
    "\n",
    "    print(f\"dCov statistic = {dcov_stat:.4f},  p = {dcov_p:.4f}\\n\")\n",
    "\n"
   ]
  },
  {
   "cell_type": "code",
   "execution_count": 147,
   "id": "14642fed-92bf-47e3-9e94-e4bfc6013094",
   "metadata": {},
   "outputs": [
    {
     "name": "stdout",
     "output_type": "stream",
     "text": [
      "Mantel and dCov tests on the Geographic Features:\n",
      "Mantel ρ = 0.006,  p = 0.8370\n",
      "dCov statistic = 16.8197,  p = 0.0010\n",
      "\n",
      "Mantel and dCov tests on the Demographic Features:\n",
      "Mantel ρ = 0.032,  p = 0.4660\n",
      "dCov statistic = 1.2470,  p = 0.2790\n",
      "\n",
      "Mantel and dCov tests on the Hope Features:\n",
      "Mantel ρ = 0.039,  p = 0.0270\n",
      "dCov statistic = 17.6668,  p = 0.0010\n",
      "\n",
      "Mantel and dCov tests on the Crop & Fertilizer Features:\n",
      "Mantel ρ = 0.375,  p = 0.0010\n",
      "dCov statistic = 48.0609,  p = 0.0010\n",
      "\n",
      "Mantel and dCov tests on the Plot Practice Features:\n",
      "Mantel ρ = 0.278,  p = 0.0010\n",
      "dCov statistic = 37.0397,  p = 0.0010\n",
      "\n",
      "Mantel and dCov tests on the Soil Analysis Faetures:\n",
      "Mantel ρ = 0.256,  p = 0.0010\n",
      "dCov statistic = 52.9662,  p = 0.0010\n",
      "\n",
      "Mantel and dCov tests on the Plow & Irrigation:\n",
      "Mantel ρ = 0.466,  p = 0.0010\n",
      "dCov statistic = 78.7722,  p = 0.0010\n",
      "\n",
      "Mantel and dCov tests on the Self-control Features:\n",
      "Mantel ρ = 0.027,  p = 0.2090\n",
      "dCov statistic = 23.3776,  p = 0.0010\n",
      "\n",
      "Mantel and dCov tests on the Household Features:\n",
      "Mantel ρ = 0.085,  p = 0.0010\n",
      "dCov statistic = 30.0124,  p = 0.0010\n",
      "\n"
     ]
    }
   ],
   "source": [
    "Y_features = convert_group_to_dummies(nepal_df, target_cols)\n",
    "for key, value in groups.items():\n",
    "    print(f\"Mantel and dCov tests on the {key}:\")\n",
    "    X_feats = convert_group_to_dummies(nepal_df, value[0])\n",
    "    X_enc, Y_enc = transform(nepal_df, X_feats, Y_features)\n",
    "\n",
    "    # no need to re-drop X here, we do both in convert_to_dist_matrices\n",
    "    DX, DY = convert_to_dist_matrices(X_enc, Y_enc)\n",
    "\n",
    "    mantel_test(DX, DY)\n",
    "    distance_covariance_test(X_enc, Y_enc)   # still runs on raw arrays"
   ]
  },
  {
   "cell_type": "code",
   "execution_count": 148,
   "id": "47621043-2685-45e3-ae8c-68c83b6ed82f",
   "metadata": {},
   "outputs": [
    {
     "name": "stdout",
     "output_type": "stream",
     "text": [
      "Mantel and dCov tests on the Geographic Features:\n",
      "Mantel ρ = 0.067,  p = 0.0010\n",
      "dCov statistic = 44.3842,  p = 0.0010\n",
      "\n",
      "Mantel and dCov tests on the Demographic Features:\n",
      "Mantel ρ = 0.006,  p = 0.7240\n",
      "dCov statistic = 1.6979,  p = 0.0080\n",
      "\n",
      "Mantel and dCov tests on the Hope Features:\n",
      "Mantel ρ = 0.148,  p = 0.0010\n",
      "dCov statistic = 31.5106,  p = 0.0010\n",
      "\n",
      "Mantel and dCov tests on the Crop & Fertilizer Features:\n",
      "Mantel ρ = 0.018,  p = 0.3090\n",
      "dCov statistic = 7.1696,  p = 0.0010\n",
      "\n",
      "Mantel and dCov tests on the Plot Practice Features:\n",
      "Mantel ρ = 0.450,  p = 0.0010\n",
      "dCov statistic = 89.4700,  p = 0.0010\n",
      "\n",
      "Mantel and dCov tests on the Soil Analysis Faetures:\n",
      "Mantel ρ = 0.036,  p = 0.1040\n",
      "dCov statistic = 0.3561,  p = 0.2190\n",
      "\n",
      "Mantel and dCov tests on the Plow & Irrigation:\n",
      "Mantel ρ = 0.073,  p = 0.0010\n",
      "dCov statistic = 14.2895,  p = 0.0010\n",
      "\n",
      "Mantel and dCov tests on the Household Features:\n",
      "Mantel ρ = 0.101,  p = 0.0010\n",
      "dCov statistic = 30.6547,  p = 0.0010\n",
      "\n"
     ]
    }
   ],
   "source": [
    "Y_features = convert_group_to_dummies(senegal_df, target_cols)\n",
    "for key in groups.keys():\n",
    "    if 'Self-control' in key:\n",
    "        continue\n",
    "    print(f\"Mantel and dCov tests on the {key}:\")\n",
    "    X_features = convert_group_to_dummies(senegal_df, groups[key][1])\n",
    "    X_enc, Y_enc = transform(senegal_df, X_features, Y_features)\n",
    "    DX, DY = convert_to_dist_matrices(X_enc, Y_enc)\n",
    "    mantel_test(DX, DY)\n",
    "    distance_covariance_test(X_enc, Y_enc)"
   ]
  },
  {
   "cell_type": "markdown",
   "id": "7d761daa-f805-4fb1-9c72-dd630061c918",
   "metadata": {},
   "source": [
    "# Dimensionality Reduction Analysis"
   ]
  },
  {
   "cell_type": "code",
   "execution_count": 149,
   "id": "b13c0a62",
   "metadata": {},
   "outputs": [],
   "source": [
    "from sklearn.decomposition import PCA"
   ]
  },
  {
   "cell_type": "code",
   "execution_count": 150,
   "id": "0515af86",
   "metadata": {},
   "outputs": [],
   "source": [
    "def plot_cumulative_explained_variance_for_group_for_pca(df, group_name, group_features):\n",
    "    # Perform PCA with additional components\n",
    "    pca_full = PCA(n_components=min(len(group_features),10))  # Analyze up to 10 components\n",
    "    pca_full_result = pca_full.fit_transform(df[group_features])\n",
    "    \n",
    "    # Cumulative explained variance\n",
    "    cumulative_variance = pca_full.explained_variance_ratio_.cumsum()\n",
    "    \n",
    "    # Plot cumulative explained variance\n",
    "    plt.figure(figsize=(10, 6))\n",
    "    plt.plot(range(1, len(cumulative_variance) + 1), cumulative_variance, marker='o')\n",
    "    plt.title(\"Cumulative Explained Variance by PCA Components\")\n",
    "    plt.xlabel(\"Number of Principal Components\")\n",
    "    plt.ylabel(\"Cumulative Explained Variance\")\n",
    "    plt.grid(True)\n",
    "    plt.show()"
   ]
  },
  {
   "cell_type": "code",
   "execution_count": 151,
   "id": "c80a3099-a57a-477f-a3ae-6cb689b8c7a3",
   "metadata": {},
   "outputs": [
    {
     "name": "stdout",
     "output_type": "stream",
     "text": [
      "NEPAL\n"
     ]
    }
   ],
   "source": [
    "print(\"NEPAL\")\n",
    "if PLOT_GRAPHS:\n",
    "    for key, value in groups.items():\n",
    "        for target in target_cols[:-1]:\n",
    "            print(f\"PCA of {key}, and then coloring by {target}\")\n",
    "            X_features = convert_group_to_dummies(nepal_df, value[0])\n",
    "\n",
    "            pca_2d = PCA(n_components=2)\n",
    "            pca_2d_result = pca_2d.fit_transform(nepal_df[X_features])\n",
    "            #kmeans = KMeans(n_clusters=groups_k[key], random_state=42)\n",
    "            #kmeans_result = kmeans.fit_predict(nepal_df[X_features])\n",
    "            #kmeans_labels = kmeans.labels_\n",
    "            plt.figure(figsize=(10, 8))\n",
    "            plt.scatter(pca_2d_result[:, 0], pca_2d_result[:, 1], c=nepal_df[target], cmap='viridis', alpha=0.6)\n",
    "            plt.title(f\"PCA of {key}, and then coloring by {target}\")\n",
    "            plt.xlabel(\"Principal Component 1\")\n",
    "            plt.ylabel(\"Principal Component 2\")\n",
    "            name = parse_feature_metadata(target)['name']\n",
    "            plt.colorbar(label=f\"{name}\")\n",
    "            plt.grid(True)\n",
    "            plt.show()\n",
    "            \n",
    "            #for target in target_features:\n",
    "                \n",
    "            #    print_cluster_info_for_target(nepal_df, target, kmeans_labels)\n",
    "\n",
    "        plot_cumulative_explained_variance_for_group_for_pca(nepal_df, key, X_features)"
   ]
  },
  {
   "cell_type": "code",
   "execution_count": 152,
   "id": "4534171c-2801-4780-a871-d147c2e6db72",
   "metadata": {},
   "outputs": [
    {
     "name": "stdout",
     "output_type": "stream",
     "text": [
      "SENEGAL\n"
     ]
    }
   ],
   "source": [
    "print(\"SENEGAL\")\n",
    "if PLOT_GRAPHS:\n",
    "    for key in groups.keys():\n",
    "        if 'Demographic' in key or 'Self-control' in key:\n",
    "                continue\n",
    "        for target in target_cols[:-1]:\n",
    "            \n",
    "            print(f\"PCA of {key}, and then coloring by {target}\") \n",
    "            X_features = convert_group_to_dummies(senegal_df, groups[key][1])\n",
    "\n",
    "            pca_2d = PCA(n_components=2)\n",
    "            pca_2d_result = pca_2d.fit_transform(senegal_df[X_features])\n",
    "            #kmeans = KMeans(n_clusters=groups_k[key], random_state=42)\n",
    "            #kmeans_result = kmeans.fit_predict(senegal_df[X_features])\n",
    "            #kmeans_labels = kmeans.labels_\n",
    "\n",
    "            plt.figure(figsize=(10, 8))\n",
    "            plt.scatter(pca_2d_result[:, 0], pca_2d_result[:, 1], c=senegal_df[target], cmap='viridis', alpha=0.6)\n",
    "            plt.title(f\"PCA of {key}, and then coloring by {target}\")\n",
    "            plt.xlabel(\"Principal Component 1\")\n",
    "            plt.ylabel(\"Principal Component 2\")\n",
    "            name = parse_feature_metadata(target)['name']\n",
    "            plt.colorbar(label=f\"{name}\")\n",
    "            plt.grid(True)\n",
    "            plt.show()\n",
    "            \n",
    "            #for target in target_features:\n",
    "                \n",
    "            #    print_cluster_info_for_target(senegal_df, target, kmeans_labels)\n",
    "\n",
    "            plot_cumulative_explained_variance_for_group_for_pca(senegal_df, key, X_features)"
   ]
  },
  {
   "cell_type": "code",
   "execution_count": 153,
   "id": "e3621d8f-723d-46de-95fa-844db2d7d7bf",
   "metadata": {},
   "outputs": [],
   "source": [
    "from sklearn.decomposition import KernelPCA"
   ]
  },
  {
   "cell_type": "code",
   "execution_count": 154,
   "id": "7ed02c2d-6685-46e7-8f59-d3ec8aa81d23",
   "metadata": {},
   "outputs": [],
   "source": [
    "def plot_cumulative_explained_variance_for_group_for_kpca(df, group_name, group_features):\n",
    "    num_of_components = min(len(group_features),10)\n",
    "    \n",
    "    # Perform PCA with additional components\n",
    "    kpca_full = KernelPCA(\n",
    "                            n_components=num_of_components,     # how many principal axes you want\n",
    "                            kernel=\"rbf\",       # \"rbf\", \"poly\", \"sigmoid\", \"cosine\", etc.\n",
    "                            gamma=0.1,          # only for RBF / polynomial kernels\n",
    "                            fit_inverse_transform=False,  # True if you want to map back to X-space\n",
    "                            random_state=0\n",
    "                        )\n",
    "    kpca_full_result = kpca_full.fit_transform(df[group_features])\n",
    "    pca_on_kpca = PCA(n_components=num_of_components).fit(kpca_full_result)\n",
    "    \n",
    "    \n",
    "    # Cumulative explained variance\n",
    "    cumulative_variance = pca_on_kpca.explained_variance_ratio_.cumsum()\n",
    "    \n",
    "    # Plot cumulative explained variance\n",
    "    plt.figure(figsize=(10, 6))\n",
    "    plt.plot(range(1, len(cumulative_variance) + 1), cumulative_variance, marker='o')\n",
    "    plt.title(\"Cumulative Explained Variance by PCA on KPCA Components\")\n",
    "    plt.xlabel(\"Number of Principal Components\")\n",
    "    plt.ylabel(\"Cumulative Explained Variance\")\n",
    "    plt.grid(True)\n",
    "    plt.show()"
   ]
  },
  {
   "cell_type": "code",
   "execution_count": 155,
   "id": "739533fa-1f3d-42a0-8614-f7cd749226c0",
   "metadata": {
    "scrolled": true
   },
   "outputs": [
    {
     "name": "stdout",
     "output_type": "stream",
     "text": [
      "NEPAL\n"
     ]
    }
   ],
   "source": [
    "print(\"NEPAL\")\n",
    "if PLOT_GRAPHS:\n",
    "    for key, value in groups.items():\n",
    "        print(f\"PCA on {key} -> KPCA on PCA\")\n",
    "        X_features = convert_group_to_dummies(nepal_df, groups[key][0])\n",
    "\n",
    "        # 2. Fit KernelPCA\n",
    "        kpca_2d = KernelPCA(\n",
    "            n_components=2,     # how many principal axes you want\n",
    "            kernel=\"rbf\",       # \"rbf\", \"poly\", \"sigmoid\", \"cosine\", etc.\n",
    "            gamma=0.1,          # only for RBF / polynomial kernels\n",
    "            fit_inverse_transform=False,  # True if you want to map back to X-space\n",
    "            random_state=0\n",
    "        )\n",
    "        kpca_2d_result = kpca_2d.fit_transform(nepal_df[X_features])\n",
    "        #kmeans = KMeans(n_clusters=groups_k[key], random_state=42)\n",
    "        #kmeans_result = kmeans.fit_predict(nepal_df[X_features])\n",
    "        #kmeans_labels = kmeans.labels_\n",
    "\n",
    "        plt.figure(figsize=(10, 8))\n",
    "        plt.scatter(kpca_2d_result[:, 0], kpca_2d_result[:, 1], cmap='viridis', alpha=0.6)\n",
    "        plt.title(f\"KPCA Visualization on {key}\")\n",
    "        plt.xlabel(\"Principal Component 1\")\n",
    "        plt.ylabel(\"Principal Component 2\")\n",
    "        plt.grid(True)\n",
    "        plt.show()\n",
    "        \n",
    "        #for target in target_features:\n",
    "            \n",
    "        #    print_cluster_info_for_target(nepal_df, target, kmeans_labels)\n",
    "\n",
    "        plot_cumulative_explained_variance_for_group_for_kpca(nepal_df, key, X_features)"
   ]
  },
  {
   "cell_type": "code",
   "execution_count": 156,
   "id": "5ffe5501-b4a0-4dd4-80c9-7ef2e9dffab8",
   "metadata": {},
   "outputs": [],
   "source": [
    "if PLOT_GRAPHS:\n",
    "    for key, value in groups.items():\n",
    "        if 'Demographic' in key or 'Self-control' in key:\n",
    "            continue\n",
    "        \n",
    "        print(f\"PCA on {key} -> KPCA on PCA\")\n",
    "        X_features = convert_group_to_dummies(senegal_df, groups[key][1])\n",
    "\n",
    "        # 2. Fit KernelPCA\n",
    "        kpca_2d = KernelPCA(\n",
    "            n_components=2,     # how many principal axes you want\n",
    "            kernel=\"rbf\",       # \"rbf\", \"poly\", \"sigmoid\", \"cosine\", etc.\n",
    "            gamma=0.1,          # only for RBF / polynomial kernels\n",
    "            fit_inverse_transform=False,  # True if you want to map back to X-space\n",
    "            random_state=0\n",
    "        )\n",
    "        kpca_2d_result = kpca_2d.fit_transform(senegal_df[X_features])\n",
    "        #kmeans = KMeans(n_clusters=groups_k[key], random_state=42)\n",
    "        #kmeans_result = kmeans.fit_predict(senegal_df[X_features])\n",
    "        #kmeans_labels = kmeans.labels_\n",
    "\n",
    "        plt.figure(figsize=(10, 8))\n",
    "        plt.scatter(kpca_2d_result[:, 0], kpca_2d_result[:, 1], cmap='viridis', alpha=0.6)\n",
    "        plt.title(f\"KPCA Visualization on {key}\")\n",
    "        plt.xlabel(\"Principal Component 1\")\n",
    "        plt.ylabel(\"Principal Component 2\")\n",
    "        plt.colorbar(label=\"Cluster\")\n",
    "        plt.grid(True)\n",
    "        plt.show()\n",
    "        \n",
    "        #for target in target_features:\n",
    "            \n",
    "        #    print_cluster_info_for_target(senegal_df, target, kmeans_labels)\n",
    "\n",
    "        plot_cumulative_explained_variance_for_group_for_kpca(senegal_df, key, X_features)"
   ]
  },
  {
   "cell_type": "markdown",
   "id": "5dd7038d",
   "metadata": {},
   "source": [
    "# Clustering Analysis"
   ]
  },
  {
   "cell_type": "code",
   "execution_count": 157,
   "id": "e9cd4efe",
   "metadata": {},
   "outputs": [],
   "source": [
    "from sklearn.cluster import KMeans, AgglomerativeClustering\n",
    "from sklearn.metrics import silhouette_score"
   ]
  },
  {
   "cell_type": "code",
   "execution_count": 158,
   "id": "b96ea705",
   "metadata": {},
   "outputs": [],
   "source": [
    "def print_cluster_info_for_target(df, target_feature, kmeans_labels):\n",
    "    target_name = parse_feature_metadata(target_feature)['name']\n",
    "    for cluster_id in np.unique(kmeans_labels):\n",
    "        indices = np.where(kmeans_labels == cluster_id)\n",
    "        avg_label = np.mean(np.array(df[target_feature])[indices])\n",
    "        print(f\"Cluster {cluster_id}:\\nAverage {target_name} = {avg_label:.2f}\\n\")"
   ]
  },
  {
   "cell_type": "code",
   "execution_count": 159,
   "id": "d69de00d",
   "metadata": {},
   "outputs": [],
   "source": [
    "def plot_k_inertias(df, group_features):\n",
    "    inertias = []\n",
    "    K = range(1,11)\n",
    "    X_scaled = StandardScaler().fit_transform(df[group_features])\n",
    "    \n",
    "    for k in K:\n",
    "        km = KMeans(n_clusters=k, random_state=0).fit(X_scaled)\n",
    "        inertias.append(km.inertia_)\n",
    "    \n",
    "    plt.plot(K, inertias, '-o')\n",
    "    plt.xlabel('k'); plt.ylabel('Inertia')\n",
    "    plt.title('Elbow Method for Optimal k')\n",
    "    plt.show()"
   ]
  },
  {
   "cell_type": "code",
   "execution_count": 160,
   "id": "60a70685",
   "metadata": {},
   "outputs": [],
   "source": [
    "def plot_k_sillouhettes(df, group_features):\n",
    "    scores = []\n",
    "    X_scaled = StandardScaler().fit_transform(df[group_features])\n",
    "    \n",
    "    for k in range(2,11):\n",
    "        km = KMeans(n_clusters=k, random_state=0).fit(X_scaled)\n",
    "        labels = km.labels_\n",
    "        scores.append(silhouette_score(X_scaled, labels))\n",
    "    \n",
    "    plt.plot(range(2,11), scores, '-o')\n",
    "    plt.xlabel('k'); plt.ylabel('Avg. Silhouette Score')\n",
    "    plt.title('Silhouette Method for Optimal k')\n",
    "    plt.show()"
   ]
  },
  {
   "cell_type": "code",
   "execution_count": 161,
   "id": "c1436b95",
   "metadata": {},
   "outputs": [],
   "source": [
    "if PLOT_GRAPHS:\n",
    "    target_features = convert_group_to_dummies(senegal_df, target_cols)\n",
    "    for key in groups.keys():\n",
    "        if 'Self-control' in key:\n",
    "            continue\n",
    "        print(f\"Group is: {key}\")\n",
    "        X_features = convert_group_to_dummies(senegal_df, groups[key][1])\n",
    "        \n",
    "        plot_k_inertias(senegal_df, X_features)\n",
    "        \n",
    "        plot_k_sillouhettes(senegal_df, X_features)\n",
    "    \n",
    "    "
   ]
  },
  {
   "cell_type": "code",
   "execution_count": 162,
   "id": "710b3c0a",
   "metadata": {},
   "outputs": [],
   "source": [
    "if PLOT_GRAPHS:\n",
    "    target_features = convert_group_to_dummies(nepal_df, target_cols)\n",
    "    for key, value in groups.items():\n",
    "        print(f\"Group is: {key}\")\n",
    "        X_features = convert_group_to_dummies(nepal_df, value[0])\n",
    "        \n",
    "        plot_k_inertias(nepal_df, X_features)\n",
    "        \n",
    "        plot_k_sillouhettes(nepal_df, X_features)\n",
    "    \n",
    "    "
   ]
  },
  {
   "cell_type": "code",
   "execution_count": 163,
   "id": "2c286b5c",
   "metadata": {},
   "outputs": [],
   "source": [
    "groups_k = {'Geographic Features': 2,\n",
    "          'Demographic Features': 2,\n",
    "          'Hope Features': 2,\n",
    "          'Crop & Fertilizer Features': 3,\n",
    "          'Plot Practice Features': 10,\n",
    "          'Soil Analysis Faetures': 4,\n",
    "          'Plow & Irrigation': 3,\n",
    "          'Self-control Features': 2,\n",
    "          'Household Features': 2}"
   ]
  },
  {
   "cell_type": "code",
   "execution_count": 164,
   "id": "12850cb4",
   "metadata": {},
   "outputs": [],
   "source": [
    "# 2) Clustering functions\n",
    "def cluster_kmeans(df, feature_cols, n_clusters=3, random_state=42):\n",
    "    \"\"\"\n",
    "    Run K-Means on df[feature_cols].\n",
    "    Returns: (labels array, fitted KMeans model)\n",
    "    \"\"\"\n",
    "    X = df[feature_cols].to_numpy()\n",
    "    # explicitly set n_init (old default was 10; new “auto” uses smarter init logic)\n",
    "    km = KMeans(n_clusters=n_clusters,\n",
    "                n_init=\"auto\",          # ← explicitly match the old default\n",
    "                random_state=random_state)\n",
    "    labels = km.fit_predict(X)\n",
    "    return labels, km\n",
    "\n",
    "def cluster_agglomerative(df, feature_cols, n_clusters=3):\n",
    "    \"\"\"\n",
    "    Run AgglomerativeClustering on df[feature_cols].\n",
    "    Returns: (labels array, fitted AgglomerativeClustering model)\n",
    "    \"\"\"\n",
    "    X = df[feature_cols].to_numpy()\n",
    "    ag = AgglomerativeClustering(n_clusters=n_clusters)\n",
    "    labels = ag.fit_predict(X)\n",
    "    return labels, ag\n",
    "\n",
    "# 3) Profiling function\n",
    "def profile_clusters(df, labels, profiling_features):\n",
    "    \"\"\"\n",
    "    Attach `labels` as df['cluster'], then return:\n",
    "    - cluster sizes (Series)\n",
    "    - mean of productivity_metrics per cluster (DataFrame)\n",
    "    \"\"\"\n",
    "    n = len(profiling_features)\n",
    "    ncols = int(math.ceil(math.sqrt(n)))\n",
    "    nrows = int(math.ceil(n / ncols))\n",
    "    \n",
    "    fig, axes = plt.subplots(nrows, ncols,\n",
    "                             figsize=(ncols * 4, nrows * 3),\n",
    "                             squeeze=False)\n",
    "    axes = axes.flatten()\n",
    "\n",
    "    \n",
    "    tmp = df.copy()\n",
    "    tmp['cluster'] = labels\n",
    "\n",
    "    for i, feat in enumerate(profiling_features):\n",
    "        ax = axes[i]\n",
    "        sns.boxplot(x=tmp['cluster'].astype(str), y=tmp[feat], ax=ax)\n",
    "        \n",
    "        orig_labels = [lbl.get_text() for lbl in ax.get_xticklabels()]\n",
    "        wrapped_labels = [\"\\n\".join([lab[i:i+30] for i in range(0, len(lab), 30)]) for lab in orig_labels]\n",
    "        \n",
    "        pos = np.arange(len(wrapped_labels))\n",
    "        ax.set_xticks(pos)\n",
    "        ax.set_xticklabels(wrapped_labels, rotation=45,\n",
    "                        ha='right', fontsize=8)\n",
    "\n",
    "        # per-axis label\n",
    "        wrapped_label = \"\\n\".join([feat[i:i+30] for i in range(0, len(feat), 30)])\n",
    "        ax.set_xlabel(wrapped_label, fontsize=8, labelpad=8)\n",
    "        ax.set_ylabel(\"\")\n",
    "\n",
    "    # turn off leftover axes\n",
    "    for ax in axes[n:]:\n",
    "        ax.set_visible(False)\n",
    "\n",
    "    # tidy and title\n",
    "    plt.tight_layout()\n",
    "    plt.show()\n"
   ]
  },
  {
   "cell_type": "code",
   "execution_count": 165,
   "id": "1485217b",
   "metadata": {},
   "outputs": [],
   "source": [
    "def cluster_and_profile(df, country_key, group_name, profiling_feats, cluster_fn):\n",
    "    \n",
    "    cols = groups[group_name][0 if country_key == 'nepal' else 1]\n",
    "    if not cols:\n",
    "        print(f\"Clustering group {group_name} doesnt exist in this country\")\n",
    "        return  # do nothing for groups missing in this country\n",
    "    cols = convert_group_to_dummies(df, cols)\n",
    "    labels, model = cluster_fn(df, cols, n_clusters=3)\n",
    "    print(f\"\\nClustering by: {group_name}\")\n",
    "    profile_clusters(df, labels, profiling_feats)"
   ]
  },
  {
   "cell_type": "code",
   "execution_count": 166,
   "id": "98031167",
   "metadata": {},
   "outputs": [],
   "source": [
    "import warnings\n",
    "\n",
    "# scikit‐learn KMeans n_init warning\n",
    "warnings.filterwarnings(\n",
    "    \"ignore\",\n",
    "    message=\".*KMeans is known to have a memory leak.*\",\n",
    "    module=\"sklearn.cluster._kmeans\"\n",
    ")\n",
    "\n",
    "# matplotlib FixedFormatter warning\n",
    "warnings.filterwarnings(\n",
    "    \"ignore\",\n",
    "    message=\"FixedFormatter should only be used together with FixedLocator\"\n",
    ")"
   ]
  },
  {
   "cell_type": "code",
   "execution_count": 167,
   "id": "f2498611",
   "metadata": {},
   "outputs": [],
   "source": [
    "if PLOT_GRAPHS:\n",
    "    for country_key, df in [('nepal', nepal_df), ('senegal', senegal_df)]:\n",
    "        target_features = convert_group_to_dummies(df, target_cols)\n",
    "        print(f\"\\n===== {country_key.upper()} =====\")\n",
    "        for method_name, cluster_fn in [\n",
    "                ('K-Means', cluster_kmeans),\n",
    "                ('Agglomerative', cluster_agglomerative)\n",
    "            ]:\n",
    "            print(f\"\\n--- {method_name} Clustering by Feature‐Group ---\")\n",
    "            for group_name in groups.keys():\n",
    "                cluster_and_profile(df, country_key, group_name, target_features, cluster_fn)\n"
   ]
  },
  {
   "cell_type": "markdown",
   "id": "d8dfdbcc",
   "metadata": {},
   "source": [
    "# Proof of Concept of Main Method"
   ]
  },
  {
   "cell_type": "code",
   "execution_count": 168,
   "id": "9bcc2d48",
   "metadata": {},
   "outputs": [],
   "source": [
    "df = nepal_df.copy()"
   ]
  },
  {
   "cell_type": "code",
   "execution_count": 169,
   "id": "b7bd0ada",
   "metadata": {},
   "outputs": [
    {
     "name": "stdout",
     "output_type": "stream",
     "text": [
      "Q#-average_of_farming_practices_0.0-binary_ordinal-1\n",
      "Q#-average_of_farming_practices_0.25-binary_ordinal-2\n",
      "Q#-average_of_farming_practices_0.5-binary_ordinal-3\n",
      "Q#-average_of_farming_practices_0.75-binary_ordinal-4\n",
      "Q#-average_of_farming_practices_1.0-binary_ordinal-5\n",
      "Q#-average_of_farming_practices_Missing-binary_ordinal-6\n"
     ]
    }
   ],
   "source": [
    "for col in df.columns:\n",
    "    if 'farming_practice' in col:\n",
    "        print(col)"
   ]
  },
  {
   "cell_type": "code",
   "execution_count": 170,
   "id": "77eb6828",
   "metadata": {},
   "outputs": [],
   "source": [
    "\n",
    "\n",
    "# Method 1: if all column names are strings:\n",
    "df.columns = df.columns.str.replace('-', '_')\n",
    "df.columns = df.columns.str.replace('#', '0')"
   ]
  },
  {
   "cell_type": "code",
   "execution_count": 171,
   "id": "5f9f24e2",
   "metadata": {},
   "outputs": [],
   "source": [
    "df['XM'] = df['Q70_in_the_past_12_months_did_you_receive_any_info_from_anyone_on_agriculture_binary_1'] * df['Q0_self_control_score_continuous']"
   ]
  },
  {
   "cell_type": "code",
   "execution_count": 172,
   "id": "e69b09c2",
   "metadata": {},
   "outputs": [
    {
     "ename": "KeyError",
     "evalue": "\"None of [Index(['Q0_average_of_farming_practices_0.0_binary_1',\\n       'Q0_average_of_farming_practices_0.25_binary_2',\\n       'Q0_average_of_farming_practices_0.5_binary_3',\\n       'Q0_average_of_farming_practices_0.75_binary_4',\\n       'Q0_average_of_farming_practices_1.0_binary_5'],\\n      dtype='object')] are in the [columns]\"",
     "output_type": "error",
     "traceback": [
      "\u001b[1;31m---------------------------------------------------------------------------\u001b[0m",
      "\u001b[1;31mKeyError\u001b[0m                                  Traceback (most recent call last)",
      "Cell \u001b[1;32mIn[172], line 15\u001b[0m\n\u001b[0;32m     13\u001b[0m \u001b[38;5;66;03m# Method A: dot-product (quick when there’s exactly one “1” per row in bins)\u001b[39;00m\n\u001b[0;32m     14\u001b[0m weights \u001b[38;5;241m=\u001b[39m [\u001b[38;5;241m0.0\u001b[39m, \u001b[38;5;241m0.25\u001b[39m, \u001b[38;5;241m0.5\u001b[39m, \u001b[38;5;241m0.75\u001b[39m, \u001b[38;5;241m1.0\u001b[39m]\n\u001b[1;32m---> 15\u001b[0m df[\u001b[38;5;124m'\u001b[39m\u001b[38;5;124mQ0_average_of_farming_practices\u001b[39m\u001b[38;5;124m'\u001b[39m] \u001b[38;5;241m=\u001b[39m \u001b[43mdf\u001b[49m\u001b[43m[\u001b[49m\u001b[43mbins\u001b[49m\u001b[43m]\u001b[49m\u001b[38;5;241m.\u001b[39mdot(weights)\n\u001b[0;32m     17\u001b[0m \u001b[38;5;66;03m# set missing to NaN\u001b[39;00m\n\u001b[0;32m     18\u001b[0m df\u001b[38;5;241m.\u001b[39mloc[df[missing] \u001b[38;5;241m==\u001b[39m \u001b[38;5;241m1\u001b[39m, \u001b[38;5;124m'\u001b[39m\u001b[38;5;124mQ0_average_of_farming_practices\u001b[39m\u001b[38;5;124m'\u001b[39m] \u001b[38;5;241m=\u001b[39m np\u001b[38;5;241m.\u001b[39mnan\n",
      "File \u001b[1;32me:\\Anaconda3\\envs\\smallholder-env\\lib\\site-packages\\pandas\\core\\frame.py:4108\u001b[0m, in \u001b[0;36mDataFrame.__getitem__\u001b[1;34m(self, key)\u001b[0m\n\u001b[0;32m   4106\u001b[0m     \u001b[38;5;28;01mif\u001b[39;00m is_iterator(key):\n\u001b[0;32m   4107\u001b[0m         key \u001b[38;5;241m=\u001b[39m \u001b[38;5;28mlist\u001b[39m(key)\n\u001b[1;32m-> 4108\u001b[0m     indexer \u001b[38;5;241m=\u001b[39m \u001b[38;5;28;43mself\u001b[39;49m\u001b[38;5;241;43m.\u001b[39;49m\u001b[43mcolumns\u001b[49m\u001b[38;5;241;43m.\u001b[39;49m\u001b[43m_get_indexer_strict\u001b[49m\u001b[43m(\u001b[49m\u001b[43mkey\u001b[49m\u001b[43m,\u001b[49m\u001b[43m \u001b[49m\u001b[38;5;124;43m\"\u001b[39;49m\u001b[38;5;124;43mcolumns\u001b[39;49m\u001b[38;5;124;43m\"\u001b[39;49m\u001b[43m)\u001b[49m[\u001b[38;5;241m1\u001b[39m]\n\u001b[0;32m   4110\u001b[0m \u001b[38;5;66;03m# take() does not accept boolean indexers\u001b[39;00m\n\u001b[0;32m   4111\u001b[0m \u001b[38;5;28;01mif\u001b[39;00m \u001b[38;5;28mgetattr\u001b[39m(indexer, \u001b[38;5;124m\"\u001b[39m\u001b[38;5;124mdtype\u001b[39m\u001b[38;5;124m\"\u001b[39m, \u001b[38;5;28;01mNone\u001b[39;00m) \u001b[38;5;241m==\u001b[39m \u001b[38;5;28mbool\u001b[39m:\n",
      "File \u001b[1;32me:\\Anaconda3\\envs\\smallholder-env\\lib\\site-packages\\pandas\\core\\indexes\\base.py:6200\u001b[0m, in \u001b[0;36mIndex._get_indexer_strict\u001b[1;34m(self, key, axis_name)\u001b[0m\n\u001b[0;32m   6197\u001b[0m \u001b[38;5;28;01melse\u001b[39;00m:\n\u001b[0;32m   6198\u001b[0m     keyarr, indexer, new_indexer \u001b[38;5;241m=\u001b[39m \u001b[38;5;28mself\u001b[39m\u001b[38;5;241m.\u001b[39m_reindex_non_unique(keyarr)\n\u001b[1;32m-> 6200\u001b[0m \u001b[38;5;28;43mself\u001b[39;49m\u001b[38;5;241;43m.\u001b[39;49m\u001b[43m_raise_if_missing\u001b[49m\u001b[43m(\u001b[49m\u001b[43mkeyarr\u001b[49m\u001b[43m,\u001b[49m\u001b[43m \u001b[49m\u001b[43mindexer\u001b[49m\u001b[43m,\u001b[49m\u001b[43m \u001b[49m\u001b[43maxis_name\u001b[49m\u001b[43m)\u001b[49m\n\u001b[0;32m   6202\u001b[0m keyarr \u001b[38;5;241m=\u001b[39m \u001b[38;5;28mself\u001b[39m\u001b[38;5;241m.\u001b[39mtake(indexer)\n\u001b[0;32m   6203\u001b[0m \u001b[38;5;28;01mif\u001b[39;00m \u001b[38;5;28misinstance\u001b[39m(key, Index):\n\u001b[0;32m   6204\u001b[0m     \u001b[38;5;66;03m# GH 42790 - Preserve name from an Index\u001b[39;00m\n",
      "File \u001b[1;32me:\\Anaconda3\\envs\\smallholder-env\\lib\\site-packages\\pandas\\core\\indexes\\base.py:6249\u001b[0m, in \u001b[0;36mIndex._raise_if_missing\u001b[1;34m(self, key, indexer, axis_name)\u001b[0m\n\u001b[0;32m   6247\u001b[0m \u001b[38;5;28;01mif\u001b[39;00m nmissing:\n\u001b[0;32m   6248\u001b[0m     \u001b[38;5;28;01mif\u001b[39;00m nmissing \u001b[38;5;241m==\u001b[39m \u001b[38;5;28mlen\u001b[39m(indexer):\n\u001b[1;32m-> 6249\u001b[0m         \u001b[38;5;28;01mraise\u001b[39;00m \u001b[38;5;167;01mKeyError\u001b[39;00m(\u001b[38;5;124mf\u001b[39m\u001b[38;5;124m\"\u001b[39m\u001b[38;5;124mNone of [\u001b[39m\u001b[38;5;132;01m{\u001b[39;00mkey\u001b[38;5;132;01m}\u001b[39;00m\u001b[38;5;124m] are in the [\u001b[39m\u001b[38;5;132;01m{\u001b[39;00maxis_name\u001b[38;5;132;01m}\u001b[39;00m\u001b[38;5;124m]\u001b[39m\u001b[38;5;124m\"\u001b[39m)\n\u001b[0;32m   6251\u001b[0m     not_found \u001b[38;5;241m=\u001b[39m \u001b[38;5;28mlist\u001b[39m(ensure_index(key)[missing_mask\u001b[38;5;241m.\u001b[39mnonzero()[\u001b[38;5;241m0\u001b[39m]]\u001b[38;5;241m.\u001b[39munique())\n\u001b[0;32m   6252\u001b[0m     \u001b[38;5;28;01mraise\u001b[39;00m \u001b[38;5;167;01mKeyError\u001b[39;00m(\u001b[38;5;124mf\u001b[39m\u001b[38;5;124m\"\u001b[39m\u001b[38;5;132;01m{\u001b[39;00mnot_found\u001b[38;5;132;01m}\u001b[39;00m\u001b[38;5;124m not in index\u001b[39m\u001b[38;5;124m\"\u001b[39m)\n",
      "\u001b[1;31mKeyError\u001b[0m: \"None of [Index(['Q0_average_of_farming_practices_0.0_binary_1',\\n       'Q0_average_of_farming_practices_0.25_binary_2',\\n       'Q0_average_of_farming_practices_0.5_binary_3',\\n       'Q0_average_of_farming_practices_0.75_binary_4',\\n       'Q0_average_of_farming_practices_1.0_binary_5'],\\n      dtype='object')] are in the [columns]\""
     ]
    }
   ],
   "source": [
    "# 2) Reconstruct the ordinal “average_of_farming_practices” score from your dummies\n",
    "\n",
    "bins = [\n",
    "    'Q0_average_of_farming_practices_0.0_binary_1',\n",
    "    'Q0_average_of_farming_practices_0.25_binary_2',\n",
    "    'Q0_average_of_farming_practices_0.5_binary_3',\n",
    "    'Q0_average_of_farming_practices_0.75_binary_4',\n",
    "    'Q0_average_of_farming_practices_1.0_binary_5',\n",
    "]\n",
    "missing = 'Q0_average_of_farming_practices_Missing_binary_6'\n",
    "\n",
    "\n",
    "# Method A: dot-product (quick when there’s exactly one “1” per row in bins)\n",
    "weights = [0.0, 0.25, 0.5, 0.75, 1.0]\n",
    "df['Q0_average_of_farming_practices'] = df[bins].dot(weights)\n",
    "\n",
    "# set missing to NaN\n",
    "df.loc[df[missing] == 1, 'Q0_average_of_farming_practices'] = np.nan\n"
   ]
  },
  {
   "cell_type": "code",
   "execution_count": null,
   "id": "ec126f7f",
   "metadata": {},
   "outputs": [],
   "source": [
    "plot_df = df.copy()\n",
    "plot_df = plot_df.rename(columns={'Q70_in_the_past_12_months_did_you_receive_any_info_from_anyone_on_agriculture_binary_1':\n",
    "                                  'Q70-in_the_past_12_months_did_you_receive_any_info_from_anyone_on_agriculture-binary-1',\n",
    "                                  'Q0_self_control_score_continuous': 'Q#-self_control_score-continuous',\n",
    "                                  'Q0_hope_total_continuous': 'Q#-hope_total-continuous',\n",
    "                                  'XM': 'Q#-moderation_term-continuous',\n",
    "                                  'Q0_average_of_farming_practices': 'Q#-average_of_farming_practices-continuous'}\n",
    "                        )"
   ]
  },
  {
   "cell_type": "code",
   "execution_count": null,
   "id": "9d7d857c",
   "metadata": {},
   "outputs": [],
   "source": [
    "# — or — using sklearn\n",
    "scaler = StandardScaler()\n",
    "df['Q70_in_the_past_12_months_did_you_receive_any_info_from_anyone_on_agriculture_binary_1'] = scaler.fit_transform(df[['Q70_in_the_past_12_months_did_you_receive_any_info_from_anyone_on_agriculture_binary_1']])"
   ]
  },
  {
   "cell_type": "code",
   "execution_count": null,
   "id": "1f7a4955",
   "metadata": {},
   "outputs": [],
   "source": [
    "df['XM'] = df['Q70_in_the_past_12_months_did_you_receive_any_info_from_anyone_on_agriculture_binary_1'] * df['Q0_self_control_score_continuous']"
   ]
  },
  {
   "cell_type": "code",
   "execution_count": null,
   "id": "3a47227e",
   "metadata": {},
   "outputs": [],
   "source": [
    "demo_model_desc = \"\"\"\n",
    "# Structural paths\n",
    "Q0_average_of_farming_practices ~ a*Q70_in_the_past_12_months_did_you_receive_any_info_from_anyone_on_agriculture_binary_1 + b*Q0_self_control_score_continuous + c*Q0_hope_total_continuous + d*XM\n",
    "\"\"\""
   ]
  },
  {
   "cell_type": "code",
   "execution_count": null,
   "id": "abf5ef49",
   "metadata": {},
   "outputs": [
    {
     "ename": "KeyError",
     "evalue": "'Variables Q0_average_of_farming_practices are missing from data.'",
     "output_type": "error",
     "traceback": [
      "\u001b[1;31m---------------------------------------------------------------------------\u001b[0m",
      "\u001b[1;31mKeyError\u001b[0m                                  Traceback (most recent call last)",
      "Cell \u001b[1;32mIn[179], line 4\u001b[0m\n\u001b[0;32m      1\u001b[0m \u001b[38;5;28;01mfrom\u001b[39;00m\u001b[38;5;250m \u001b[39m\u001b[38;5;21;01msemopy\u001b[39;00m\u001b[38;5;250m \u001b[39m\u001b[38;5;28;01mimport\u001b[39;00m Model, calc_stats\n\u001b[0;32m      2\u001b[0m sem \u001b[38;5;241m=\u001b[39m Model(demo_model_desc)\n\u001b[1;32m----> 4\u001b[0m \u001b[43msem\u001b[49m\u001b[38;5;241;43m.\u001b[39;49m\u001b[43mfit\u001b[49m\u001b[43m(\u001b[49m\u001b[43mdf\u001b[49m\u001b[43m)\u001b[49m\n\u001b[0;32m      6\u001b[0m \u001b[38;5;66;03m# 2) Global SEM fit on train\u001b[39;00m\n\u001b[0;32m      7\u001b[0m stats \u001b[38;5;241m=\u001b[39m calc_stats(sem)\n",
      "File \u001b[1;32me:\\Anaconda3\\envs\\smallholder-env\\lib\\site-packages\\semopy\\model.py:1097\u001b[0m, in \u001b[0;36mModel.fit\u001b[1;34m(self, data, cov, obj, solver, groups, clean_slate, regularization, n_samples, **kwargs)\u001b[0m\n\u001b[0;32m   1054\u001b[0m \u001b[38;5;28;01mdef\u001b[39;00m\u001b[38;5;250m \u001b[39m\u001b[38;5;21mfit\u001b[39m(\u001b[38;5;28mself\u001b[39m, data\u001b[38;5;241m=\u001b[39m\u001b[38;5;28;01mNone\u001b[39;00m, cov\u001b[38;5;241m=\u001b[39m\u001b[38;5;28;01mNone\u001b[39;00m, obj\u001b[38;5;241m=\u001b[39m\u001b[38;5;124m'\u001b[39m\u001b[38;5;124mMLW\u001b[39m\u001b[38;5;124m'\u001b[39m, solver\u001b[38;5;241m=\u001b[39m\u001b[38;5;124m'\u001b[39m\u001b[38;5;124mSLSQP\u001b[39m\u001b[38;5;124m'\u001b[39m, groups\u001b[38;5;241m=\u001b[39m\u001b[38;5;28;01mNone\u001b[39;00m,\n\u001b[0;32m   1055\u001b[0m         clean_slate\u001b[38;5;241m=\u001b[39m\u001b[38;5;28;01mFalse\u001b[39;00m, regularization\u001b[38;5;241m=\u001b[39m\u001b[38;5;28;01mNone\u001b[39;00m, n_samples\u001b[38;5;241m=\u001b[39m\u001b[38;5;28;01mNone\u001b[39;00m, \u001b[38;5;241m*\u001b[39m\u001b[38;5;241m*\u001b[39mkwargs):\n\u001b[0;32m   1056\u001b[0m \u001b[38;5;250m    \u001b[39m\u001b[38;5;124;03m\"\"\"\u001b[39;00m\n\u001b[0;32m   1057\u001b[0m \u001b[38;5;124;03m    Fit model to data.\u001b[39;00m\n\u001b[0;32m   1058\u001b[0m \n\u001b[1;32m   (...)\u001b[0m\n\u001b[0;32m   1095\u001b[0m \n\u001b[0;32m   1096\u001b[0m \u001b[38;5;124;03m    \"\"\"\u001b[39;00m\n\u001b[1;32m-> 1097\u001b[0m     \u001b[38;5;28;43mself\u001b[39;49m\u001b[38;5;241;43m.\u001b[39;49m\u001b[43mload\u001b[49m\u001b[43m(\u001b[49m\u001b[43mdata\u001b[49m\u001b[38;5;241;43m=\u001b[39;49m\u001b[43mdata\u001b[49m\u001b[43m,\u001b[49m\u001b[43m \u001b[49m\u001b[43mcov\u001b[49m\u001b[38;5;241;43m=\u001b[39;49m\u001b[43mcov\u001b[49m\u001b[43m,\u001b[49m\u001b[43m \u001b[49m\u001b[43mgroups\u001b[49m\u001b[38;5;241;43m=\u001b[39;49m\u001b[43mgroups\u001b[49m\u001b[43m,\u001b[49m\n\u001b[0;32m   1098\u001b[0m \u001b[43m              \u001b[49m\u001b[43mclean_slate\u001b[49m\u001b[38;5;241;43m=\u001b[39;49m\u001b[43mclean_slate\u001b[49m\u001b[43m,\u001b[49m\u001b[43m \u001b[49m\u001b[43mn_samples\u001b[49m\u001b[38;5;241;43m=\u001b[39;49m\u001b[43mn_samples\u001b[49m\u001b[43m)\u001b[49m\n\u001b[0;32m   1099\u001b[0m     \u001b[38;5;28;01mif\u001b[39;00m obj \u001b[38;5;241m==\u001b[39m \u001b[38;5;124m'\u001b[39m\u001b[38;5;124mFIML\u001b[39m\u001b[38;5;124m'\u001b[39m:\n\u001b[0;32m   1100\u001b[0m         \u001b[38;5;28;01mif\u001b[39;00m \u001b[38;5;129;01mnot\u001b[39;00m \u001b[38;5;28mhasattr\u001b[39m(\u001b[38;5;28mself\u001b[39m, \u001b[38;5;124m'\u001b[39m\u001b[38;5;124mmx_data\u001b[39m\u001b[38;5;124m'\u001b[39m):\n",
      "File \u001b[1;32me:\\Anaconda3\\envs\\smallholder-env\\lib\\site-packages\\semopy\\model.py:1036\u001b[0m, in \u001b[0;36mModel.load\u001b[1;34m(self, data, cov, groups, clean_slate, n_samples)\u001b[0m\n\u001b[0;32m   1034\u001b[0m \u001b[38;5;28;01mif\u001b[39;00m missing:\n\u001b[0;32m   1035\u001b[0m     t \u001b[38;5;241m=\u001b[39m \u001b[38;5;124m'\u001b[39m\u001b[38;5;124m, \u001b[39m\u001b[38;5;124m'\u001b[39m\u001b[38;5;241m.\u001b[39mjoin(missing)\n\u001b[1;32m-> 1036\u001b[0m     \u001b[38;5;28;01mraise\u001b[39;00m \u001b[38;5;167;01mKeyError\u001b[39;00m(\u001b[38;5;124m'\u001b[39m\u001b[38;5;124mVariables \u001b[39m\u001b[38;5;132;01m{}\u001b[39;00m\u001b[38;5;124m are missing from data.\u001b[39m\u001b[38;5;124m'\u001b[39m\u001b[38;5;241m.\u001b[39mformat(t))\n\u001b[0;32m   1037\u001b[0m \u001b[38;5;28;01mif\u001b[39;00m data \u001b[38;5;129;01mis\u001b[39;00m \u001b[38;5;129;01mnot\u001b[39;00m \u001b[38;5;28;01mNone\u001b[39;00m:\n\u001b[0;32m   1038\u001b[0m     \u001b[38;5;28mself\u001b[39m\u001b[38;5;241m.\u001b[39mload_data(data, covariance\u001b[38;5;241m=\u001b[39mcov, groups\u001b[38;5;241m=\u001b[39mgroups)\n",
      "\u001b[1;31mKeyError\u001b[0m: 'Variables Q0_average_of_farming_practices are missing from data.'"
     ]
    }
   ],
   "source": [
    "from semopy import Model, calc_stats\n",
    "sem = Model(demo_model_desc)\n",
    "\n",
    "sem.fit(df)\n",
    "\n",
    "# 2) Global SEM fit on train\n",
    "stats = calc_stats(sem)\n",
    "# extract scalars\n",
    "chi2_scaler  = float(stats['chi2'])\n",
    "cfi   = float(stats['CFI'])\n",
    "tli   = float(stats['TLI'])\n",
    "rmsea = float(stats['RMSEA'])\n",
    "aic   = float(stats['AIC'])\n",
    "bic   = float(stats['BIC'])\n",
    "\n",
    "fit_df = pd.DataFrame({\n",
    "    'Statistic': ['Chi-square (p>0.05)', 'CFI (>=0.95)', 'TLI (>=0.95)', 'RMSEA (<=0.05)', 'AIC', 'BIC'],\n",
    "    'Value':     [chi2_scaler, cfi, tli, rmsea, aic, bic]\n",
    "})"
   ]
  },
  {
   "cell_type": "code",
   "execution_count": null,
   "id": "ed3c6d71",
   "metadata": {},
   "outputs": [
    {
     "name": "stdout",
     "output_type": "stream",
     "text": [
      "             Statistic         Value\n",
      "0  Chi-square (p>0.05)  3.347592e-07\n",
      "1         CFI (>=0.95)  1.074407e+00\n",
      "2         TLI (>=0.95)  1.104169e+00\n",
      "3       RMSEA (<=0.05)  0.000000e+00\n",
      "4                  AIC  1.000000e+01\n",
      "5                  BIC  2.734030e+01\n"
     ]
    }
   ],
   "source": [
    "print(fit_df)"
   ]
  },
  {
   "cell_type": "code",
   "execution_count": null,
   "id": "f6c55fce",
   "metadata": {},
   "outputs": [
    {
     "name": "stdout",
     "output_type": "stream",
     "text": [
      "                                              Effect  Estimate\n",
      "0                                        information  0.088208\n",
      "1                                       self-control  0.040899\n",
      "2                                               hope  0.053371\n",
      "3  self-control moderation of impact of informati...  0.025540\n",
      "                      Effect       p-value\n",
      "0             a (info→adopt)  4.012346e-13\n",
      "1     b (self-control→adopt)  2.737855e-03\n",
      "2             c (hope→adopt)  8.891729e-05\n",
      "3  d (moderation term→adopt)  2.054419e-02\n"
     ]
    }
   ],
   "source": [
    "\n",
    "# 2) Inspect to a DataFrame\n",
    "params_df = sem.inspect()  # default list mode\n",
    "# 3) Keep only regression rows\n",
    "reg = params_df[params_df['op'] == '~']\n",
    "\n",
    "# 4) Helper to extract both Estimate and p-value\n",
    "def extract(lval, rval):\n",
    "    mask = (reg['lval'] == lval) & (reg['rval'] == rval)\n",
    "    return {\n",
    "        'Estimate': reg.loc[mask, 'Estimate'].item(),\n",
    "        'p-value':  reg.loc[mask, 'p-value'].item()\n",
    "    }\n",
    "\n",
    "# 5) Extract each path\n",
    "a = extract(\n",
    "    'Q0_average_of_farming_practices',\n",
    "    'Q70_in_the_past_12_months_did_you_receive_any_info_from_anyone_on_agriculture_binary_1'\n",
    ")\n",
    "b = extract(\n",
    "    'Q0_average_of_farming_practices',\n",
    "    'Q0_self_control_score_continuous'\n",
    ")\n",
    "c = extract(\n",
    "    'Q0_average_of_farming_practices',\n",
    "    'Q0_hope_total_continuous'\n",
    ")\n",
    "d = extract(\n",
    "    'Q0_average_of_farming_practices',\n",
    "    'XM'\n",
    ")\n",
    "\n",
    "# 6) Compute effects (only estimates)\n",
    "info     = a['Estimate']\n",
    "sc       = b['Estimate']\n",
    "hope  = c['Estimate']\n",
    "mod  = d['Estimate']\n",
    "\n",
    "# 7) Summarize (just the estimates)\n",
    "effects_df = pd.DataFrame({\n",
    "    'Effect':   ['information', 'self-control', 'hope', 'self-control moderation of impact of information on farming practices'],\n",
    "    'Estimate': [info,    sc,   hope,     mod]\n",
    "})\n",
    "\n",
    "print(effects_df)\n",
    "\n",
    "pval_df = pd.DataFrame([\n",
    "    {'Effect': 'a (info→adopt)', 'p-value': a['p-value']},\n",
    "    {'Effect': 'b (self-control→adopt)',   'p-value': b['p-value']},\n",
    "    {'Effect': 'c (hope→adopt)',    'p-value': c['p-value']},\n",
    "    {'Effect': 'd (moderation term→adopt)', 'p-value': d['p-value']},\n",
    "])\n",
    "\n",
    "print(pval_df)\n"
   ]
  },
  {
   "cell_type": "markdown",
   "id": "e6b8998a",
   "metadata": {},
   "source": [
    "Very similar results to what our coordinator got when she tested the exact same model"
   ]
  },
  {
   "cell_type": "markdown",
   "id": "b4d65532",
   "metadata": {},
   "source": [
    "![alt text](image.png)"
   ]
  },
  {
   "cell_type": "markdown",
   "id": "7e512de3",
   "metadata": {},
   "source": [
    "Non-linear association between each of hope, self-control, moderation term and the adoption of technologies "
   ]
  },
  {
   "cell_type": "code",
   "execution_count": null,
   "id": "70caa6fb",
   "metadata": {},
   "outputs": [
    {
     "name": "stderr",
     "output_type": "stream",
     "text": [
      "C:\\Users\\nadav\\AppData\\Local\\Temp\\ipykernel_30444\\3686559844.py:96: UserWarning: set_ticklabels() should only be used with a fixed number of ticks, i.e. after set_ticks() or using a FixedLocator.\n",
      "  ax.set_xticklabels(wrapped_labels, rotation=45, ha='right', fontsize=8)\n",
      "C:\\Users\\nadav\\AppData\\Local\\Temp\\ipykernel_30444\\3686559844.py:53: DeprecationWarning: is_categorical_dtype is deprecated and will be removed in a future version. Use isinstance(dtype, pd.CategoricalDtype) instead\n",
      "  if expl_type == 'ordinal' or pd.api.types.is_categorical_dtype(x):\n"
     ]
    },
    {
     "data": {
      "image/png": "[encoded data removed]",
      "text/plain": [
       "<Figure size 800x600 with 4 Axes>"
      ]
     },
     "metadata": {},
     "output_type": "display_data"
    }
   ],
   "source": [
    "plot_pairplots(plot_df, ['Q70-in_the_past_12_months_did_you_receive_any_info_from_anyone_on_agriculture-binary-1',\n",
    "                    'Q#-self_control_score-continuous',\n",
    "                    'Q#-hope_total-continuous',\n",
    "                    'Q#-moderation_term-continuous'], ['Q#-average_of_farming_practices-continuous'])"
   ]
  },
  {
   "cell_type": "markdown",
   "id": "3f61573c",
   "metadata": {},
   "source": [
    "Now we apply GAMs"
   ]
  },
  {
   "cell_type": "code",
   "execution_count": null,
   "id": "c8bc0732",
   "metadata": {},
   "outputs": [],
   "source": [
    "from scipy.sparse import csr_matrix, csc_matrix\n",
    "# re-introduce the .A alias so pygam’s internal code works\n",
    "csr_matrix.A = property(lambda self: self.toarray())\n",
    "csc_matrix.A = property(lambda self: self.toarray())"
   ]
  },
  {
   "cell_type": "code",
   "execution_count": null,
   "id": "9115a528",
   "metadata": {},
   "outputs": [],
   "source": [
    "import numpy as np\n",
    "import pandas as pd\n",
    "from pygam import LinearGAM, s\n",
    "from sklearn.linear_model import LinearRegression\n",
    "from sklearn.model_selection import KFold\n",
    "from sklearn.metrics import mean_squared_error\n",
    "from functools import reduce\n",
    "from operator import add\n",
    "\n",
    "def linear_vs_gam_cv(y, X_df):\n",
    "    X = X_df.values\n",
    "    y_arr = y.values\n",
    "    kf = KFold(n_splits=5, shuffle=True, random_state=0)\n",
    "    rmse_lin, rmse_gam = [], []\n",
    "\n",
    "    # build the combined smooth terms\n",
    "    terms = reduce(add, (s(i) for i in range(X.shape[1])))\n",
    "\n",
    "    for tr, va in kf.split(X):\n",
    "        X_tr, X_va = X[tr], X[va]\n",
    "        y_tr, y_va = y_arr[tr], y_arr[va]\n",
    "\n",
    "        # linear RMSE\n",
    "        lr = LinearRegression().fit(X_tr, y_tr)\n",
    "        rmse_lin.append(np.sqrt(mean_squared_error(y_va, lr.predict(X_va))))\n",
    "\n",
    "        # GAM RMSE\n",
    "        gam = LinearGAM(terms).gridsearch(X_tr, y_tr)\n",
    "        rmse_gam.append(np.sqrt(mean_squared_error(y_va, gam.predict(X_va))))\n",
    "\n",
    "    # final GAM fit for edfs\n",
    "    gam_full = LinearGAM(terms).fit(X, y_arr)\n",
    "    stats   = gam_full.statistics_\n",
    "\n",
    "    # extract per‐term edf if available, else fallback\n",
    "    if 'edof_per_term' in stats:\n",
    "        edfs = stats['edof_per_term']\n",
    "    elif 'edof' in stats:\n",
    "        # spread the total edf equally (or you could choose np.nan)\n",
    "        p    = X_df.shape[1]\n",
    "        edfs = [stats['edof'] / p] * p\n",
    "    else:\n",
    "        edfs = [np.nan] * X_df.shape[1]\n",
    "\n",
    "    return np.mean(rmse_lin), np.mean(rmse_gam), edfs"
   ]
  },
  {
   "cell_type": "code",
   "execution_count": null,
   "id": "74332ad1",
   "metadata": {},
   "outputs": [
    {
     "name": "stderr",
     "output_type": "stream",
     "text": [
      "  0% (0 of 11) |                         | Elapsed Time: 0:00:00 ETA:  --:--:--\n",
      " 18% (2 of 11) |####                     | Elapsed Time: 0:00:00 ETA:   0:00:00\n",
      " 45% (5 of 11) |###########              | Elapsed Time: 0:00:00 ETA:   0:00:00\n",
      " 72% (8 of 11) |##################       | Elapsed Time: 0:00:00 ETA:   0:00:00\n",
      " 90% (10 of 11) |#####################   | Elapsed Time: 0:00:00 ETA:   0:00:00\n",
      "100% (11 of 11) |########################| Elapsed Time: 0:00:00 Time:  0:00:00\n",
      "  0% (0 of 11) |                         | Elapsed Time: 0:00:00 ETA:  --:--:--\n",
      " 27% (3 of 11) |######                   | Elapsed Time: 0:00:00 ETA:   0:00:00\n",
      " 45% (5 of 11) |###########              | Elapsed Time: 0:00:00 ETA:   0:00:00\n",
      " 72% (8 of 11) |##################       | Elapsed Time: 0:00:00 ETA:   0:00:00\n",
      "100% (11 of 11) |########################| Elapsed Time: 0:00:00 Time:  0:00:00\n",
      "  0% (0 of 11) |                         | Elapsed Time: 0:00:00 ETA:  --:--:--\n",
      " 18% (2 of 11) |####                     | Elapsed Time: 0:00:00 ETA:   0:00:00\n",
      " 36% (4 of 11) |#########                | Elapsed Time: 0:00:00 ETA:   0:00:00\n",
      " 63% (7 of 11) |###############          | Elapsed Time: 0:00:00 ETA:   0:00:00\n",
      " 81% (9 of 11) |####################     | Elapsed Time: 0:00:00 ETA:   0:00:00\n",
      "100% (11 of 11) |########################| Elapsed Time: 0:00:00 Time:  0:00:00\n",
      "  0% (0 of 11) |                         | Elapsed Time: 0:00:00 ETA:  --:--:--\n",
      " 27% (3 of 11) |######                   | Elapsed Time: 0:00:00 ETA:   0:00:00\n",
      " 45% (5 of 11) |###########              | Elapsed Time: 0:00:00 ETA:   0:00:00\n",
      " 63% (7 of 11) |###############          | Elapsed Time: 0:00:00 ETA:   0:00:00\n",
      " 81% (9 of 11) |####################     | Elapsed Time: 0:00:00 ETA:   0:00:00\n",
      "100% (11 of 11) |########################| Elapsed Time: 0:00:00 Time:  0:00:00\n",
      "  0% (0 of 11) |                         | Elapsed Time: 0:00:00 ETA:  --:--:--\n",
      " 18% (2 of 11) |####                     | Elapsed Time: 0:00:00 ETA:   0:00:00\n",
      " 45% (5 of 11) |###########              | Elapsed Time: 0:00:00 ETA:   0:00:00\n",
      " 63% (7 of 11) |###############          | Elapsed Time: 0:00:00 ETA:   0:00:00\n",
      " 81% (9 of 11) |####################     | Elapsed Time: 0:00:00 ETA:   0:00:00\n",
      "100% (11 of 11) |########################| Elapsed Time: 0:00:00 Time:  0:00:00\n"
     ]
    },
    {
     "name": "stdout",
     "output_type": "stream",
     "text": [
      "                     Equation  Linear_RMSE  GAM_RMSE  edf_info    edf_sc  \\\n",
      "0  Y ~ info + sc + hope + mod     0.189909  0.188498  7.325351  7.325351   \n",
      "\n",
      "   edf_hope   edf_mod  \n",
      "0  7.325351  7.325351  \n"
     ]
    }
   ],
   "source": [
    "# diagnostics\n",
    "diag = []\n",
    "# Diagnostics for M ~ X1 + X2\n",
    "lin_rmse_m, gam_rmse_m, edfs_m = linear_vs_gam_cv(df['Q0_average_of_farming_practices'],\n",
    "                                                  df[['Q70_in_the_past_12_months_did_you_receive_any_info_from_anyone_on_agriculture_binary_1',\n",
    "                                                      'Q0_self_control_score_continuous',\n",
    "                                                      'Q0_hope_total_continuous',\n",
    "                                                      'XM']])\n",
    "diag.append({\n",
    "    'Equation': 'Y ~ info + sc + hope + mod',\n",
    "    'Linear_RMSE': lin_rmse_m,\n",
    "    'GAM_RMSE':    gam_rmse_m,\n",
    "    'edf_info':      edfs_m[0],\n",
    "    'edf_sc':      edfs_m[1],\n",
    "    'edf_hope':     edfs_m[2],\n",
    "    'edf_mod':      edfs_m[3]\n",
    "})\n",
    "\n",
    "diag_df = pd.DataFrame(diag)\n",
    "print(diag_df)"
   ]
  },
  {
   "cell_type": "code",
   "execution_count": null,
   "id": "7a1a040a",
   "metadata": {},
   "outputs": [],
   "source": [
    "import numpy as np\n",
    "import pandas as pd\n",
    "from pygam import LinearGAM, s, f\n",
    "from sklearn.linear_model import LinearRegression\n",
    "from sklearn.model_selection import KFold\n",
    "from sklearn.metrics import mean_squared_error\n",
    "from functools import reduce\n",
    "from operator import add\n",
    "import matplotlib.pyplot as plt\n",
    "\n",
    "def linear_vs_gam_cv(y, X_df, plot_feature=None):\n",
    "    \"\"\"\n",
    "    Runs 5-fold CV comparing linear vs. GAM, returns (rmse_lin, rmse_gam, edfs),\n",
    "    and then plots for one feature the scatter + linear fit + GAM fit.\n",
    "    \n",
    "    Parameters\n",
    "    ----------\n",
    "    y : pd.Series\n",
    "    X_df : pd.DataFrame\n",
    "    plot_feature : str or None\n",
    "        Name of column in X_df to plot.  If None, you must have exactly one column,\n",
    "        otherwise it will default to the first column.\n",
    "    \"\"\"\n",
    "    X = X_df.values\n",
    "    y_arr = y.values\n",
    "    kf = KFold(n_splits=5, shuffle=True, random_state=0)\n",
    "    rmse_lin, rmse_gam = [], []\n",
    "\n",
    "    # build the combined smooth terms\n",
    "    #terms = reduce(add, (s(i, n_splines=40, spline_order=3) for i in range(X.shape[1])))\n",
    "    terms = s(0, n_splines=20) #+ f(0)  # spline + low‐order poly\n",
    "\n",
    "    # 2) Super‐fine λ grid down to almost zero\n",
    "    lam_grid = np.concatenate([\n",
    "        np.logspace(-8, -2, 10),    # super‐wiggly end\n",
    "        np.logspace(-2, 1, 5)       # plus some smoother end\n",
    "    ])\n",
    "\n",
    "    # 5-fold CV\n",
    "    for tr, va in kf.split(X):\n",
    "        X_tr, X_va = X[tr], X[va]\n",
    "        y_tr, y_va = y_arr[tr], y_arr[va]\n",
    "\n",
    "        # linear RMSE\n",
    "        lr = LinearRegression().fit(X_tr, y_tr)\n",
    "        rmse_lin.append(np.sqrt(mean_squared_error(y_va, lr.predict(X_va))))\n",
    "\n",
    "        # GAM RMSE\n",
    "        gam = LinearGAM(terms).gridsearch(X_tr, y_tr, lam=lam_grid)\n",
    "        rmse_gam.append(np.sqrt(mean_squared_error(y_va, gam.predict(X_va))))\n",
    "\n",
    "    # fit full models\n",
    "    gam_full = LinearGAM(terms, lam=lam_grid[-1]).fit(X, y_arr)\n",
    "    lr_full  = LinearRegression().fit(X, y_arr)\n",
    "\n",
    "    # extract per‐term edf if available\n",
    "    stats = gam_full.statistics_\n",
    "    if 'edof_per_term' in stats:\n",
    "        edfs = stats['edof_per_term']\n",
    "    elif 'edof' in stats:\n",
    "        p    = X_df.shape[1]\n",
    "        edfs = [stats['edof']/p]*p\n",
    "    else:\n",
    "        edfs = [np.nan]*X_df.shape[1]\n",
    "\n",
    "    # —— now the plotting —— \n",
    "    # pick which column to plot\n",
    "    if plot_feature is None:\n",
    "        if X_df.shape[1] == 1:\n",
    "            j = 0\n",
    "        else:\n",
    "            j = 0\n",
    "            print(f\"No plot_feature specified; defaulting to first column: '{X_df.columns[j]}'\")\n",
    "    else:\n",
    "        j = X_df.columns.get_loc(plot_feature)\n",
    "\n",
    "    x = X[:, j]\n",
    "    x_min, x_max = x.min(), x.max()\n",
    "    x_grid = np.linspace(x_min, x_max, 200)\n",
    "\n",
    "    # construct a grid for all features (hold others at their median)\n",
    "    X_grid = np.tile(np.median(X, axis=0), (len(x_grid), 1))\n",
    "    X_grid[:, j] = x_grid\n",
    "\n",
    "    y_lin = lr_full.predict(X_grid)\n",
    "    y_gam = gam_full.predict(X_grid)\n",
    "\n",
    "    plt.figure(figsize=(8, 5))\n",
    "    plt.scatter(x, y_arr, alpha=0.3, label='Data')\n",
    "    plt.plot(x_grid, y_lin, label='Linear fit', linewidth=2)\n",
    "    plt.plot(x_grid, y_gam, label='GAM fit', linewidth=2)\n",
    "    plt.xlabel(X_df.columns[j])\n",
    "    plt.ylabel(y.name if hasattr(y, 'name') else 'y')\n",
    "    plt.title(f\"Linear vs GAM fit for '{X_df.columns[j]}'\")\n",
    "    plt.legend()\n",
    "    plt.tight_layout()\n",
    "    plt.show()\n",
    "\n",
    "    return np.mean(rmse_lin), np.mean(rmse_gam), edfs\n"
   ]
  },
  {
   "cell_type": "code",
   "execution_count": null,
   "id": "96fe1b80",
   "metadata": {},
   "outputs": [
    {
     "data": {
      "text/plain": [
       "['Q#-target1_yearly_income_from_agr_per_land_SQM-continuous',\n",
       " 'Q#-target2_yearly_income_from_agr_USD-continuous',\n",
       " 'Q#-target3_veg_per_area-continuous',\n",
       " 'Q#-target4_self_farming_perception-ordinal']"
      ]
     },
     "execution_count": 252,
     "metadata": {},
     "output_type": "execute_result"
    }
   ],
   "source": [
    "target_cols"
   ]
  },
  {
   "cell_type": "code",
   "execution_count": null,
   "id": "84fec0d5",
   "metadata": {},
   "outputs": [
    {
     "name": "stdout",
     "output_type": "stream",
     "text": [
      "Q0_hope_total_continuous\n"
     ]
    }
   ],
   "source": [
    "for col in df.columns:\n",
    "    if 'hope' in col:\n",
    "        print(col)"
   ]
  },
  {
   "cell_type": "code",
   "execution_count": null,
   "id": "c1f214f0",
   "metadata": {},
   "outputs": [
    {
     "ename": "KeyError",
     "evalue": "'Q#-target1_yearly_income_from_agr_per_land_SQM-continuous'",
     "output_type": "error",
     "traceback": [
      "\u001b[1;31m---------------------------------------------------------------------------\u001b[0m",
      "\u001b[1;31mKeyError\u001b[0m                                  Traceback (most recent call last)",
      "File \u001b[1;32me:\\Anaconda3\\envs\\smallholder-env\\lib\\site-packages\\pandas\\core\\indexes\\base.py:3805\u001b[0m, in \u001b[0;36mIndex.get_loc\u001b[1;34m(self, key)\u001b[0m\n\u001b[0;32m   3804\u001b[0m \u001b[38;5;28;01mtry\u001b[39;00m:\n\u001b[1;32m-> 3805\u001b[0m     \u001b[38;5;28;01mreturn\u001b[39;00m \u001b[38;5;28;43mself\u001b[39;49m\u001b[38;5;241;43m.\u001b[39;49m\u001b[43m_engine\u001b[49m\u001b[38;5;241;43m.\u001b[39;49m\u001b[43mget_loc\u001b[49m\u001b[43m(\u001b[49m\u001b[43mcasted_key\u001b[49m\u001b[43m)\u001b[49m\n\u001b[0;32m   3806\u001b[0m \u001b[38;5;28;01mexcept\u001b[39;00m \u001b[38;5;167;01mKeyError\u001b[39;00m \u001b[38;5;28;01mas\u001b[39;00m err:\n",
      "File \u001b[1;32mindex.pyx:167\u001b[0m, in \u001b[0;36mpandas._libs.index.IndexEngine.get_loc\u001b[1;34m()\u001b[0m\n",
      "File \u001b[1;32mindex.pyx:196\u001b[0m, in \u001b[0;36mpandas._libs.index.IndexEngine.get_loc\u001b[1;34m()\u001b[0m\n",
      "File \u001b[1;32mpandas\\\\_libs\\\\hashtable_class_helper.pxi:7081\u001b[0m, in \u001b[0;36mpandas._libs.hashtable.PyObjectHashTable.get_item\u001b[1;34m()\u001b[0m\n",
      "File \u001b[1;32mpandas\\\\_libs\\\\hashtable_class_helper.pxi:7089\u001b[0m, in \u001b[0;36mpandas._libs.hashtable.PyObjectHashTable.get_item\u001b[1;34m()\u001b[0m\n",
      "\u001b[1;31mKeyError\u001b[0m: 'Q#-target1_yearly_income_from_agr_per_land_SQM-continuous'",
      "\nThe above exception was the direct cause of the following exception:\n",
      "\u001b[1;31mKeyError\u001b[0m                                  Traceback (most recent call last)",
      "Cell \u001b[1;32mIn[254], line 4\u001b[0m\n\u001b[0;32m      2\u001b[0m diag \u001b[38;5;241m=\u001b[39m []\n\u001b[0;32m      3\u001b[0m \u001b[38;5;66;03m# Diagnostics for M ~ X1 + X2\u001b[39;00m\n\u001b[1;32m----> 4\u001b[0m lin_rmse_m, gam_rmse_m, edfs_m \u001b[38;5;241m=\u001b[39m linear_vs_gam_cv(\u001b[43mdf\u001b[49m\u001b[43m[\u001b[49m\u001b[38;5;124;43m'\u001b[39;49m\u001b[38;5;124;43mQ#-target1_yearly_income_from_agr_per_land_SQM-continuous\u001b[39;49m\u001b[38;5;124;43m'\u001b[39;49m\u001b[43m]\u001b[49m,\n\u001b[0;32m      5\u001b[0m                                                   df[[\u001b[38;5;124m'\u001b[39m\u001b[38;5;124mQ#-hope_total-continuous\u001b[39m\u001b[38;5;124m'\u001b[39m]])\n\u001b[0;32m      6\u001b[0m diag\u001b[38;5;241m.\u001b[39mappend({\n\u001b[0;32m      7\u001b[0m     \u001b[38;5;124m'\u001b[39m\u001b[38;5;124mEquation\u001b[39m\u001b[38;5;124m'\u001b[39m: \u001b[38;5;124m'\u001b[39m\u001b[38;5;124mY ~ hope\u001b[39m\u001b[38;5;124m'\u001b[39m,\n\u001b[0;32m      8\u001b[0m     \u001b[38;5;124m'\u001b[39m\u001b[38;5;124mLinear_RMSE\u001b[39m\u001b[38;5;124m'\u001b[39m: lin_rmse_m,\n\u001b[0;32m      9\u001b[0m     \u001b[38;5;124m'\u001b[39m\u001b[38;5;124mGAM_RMSE\u001b[39m\u001b[38;5;124m'\u001b[39m:    gam_rmse_m,\n\u001b[0;32m     10\u001b[0m     \u001b[38;5;124m'\u001b[39m\u001b[38;5;124medf_hope\u001b[39m\u001b[38;5;124m'\u001b[39m:      edfs_m[\u001b[38;5;241m0\u001b[39m]\n\u001b[0;32m     11\u001b[0m })\n\u001b[0;32m     13\u001b[0m diag_df \u001b[38;5;241m=\u001b[39m pd\u001b[38;5;241m.\u001b[39mDataFrame(diag)\n",
      "File \u001b[1;32me:\\Anaconda3\\envs\\smallholder-env\\lib\\site-packages\\pandas\\core\\frame.py:4102\u001b[0m, in \u001b[0;36mDataFrame.__getitem__\u001b[1;34m(self, key)\u001b[0m\n\u001b[0;32m   4100\u001b[0m \u001b[38;5;28;01mif\u001b[39;00m \u001b[38;5;28mself\u001b[39m\u001b[38;5;241m.\u001b[39mcolumns\u001b[38;5;241m.\u001b[39mnlevels \u001b[38;5;241m>\u001b[39m \u001b[38;5;241m1\u001b[39m:\n\u001b[0;32m   4101\u001b[0m     \u001b[38;5;28;01mreturn\u001b[39;00m \u001b[38;5;28mself\u001b[39m\u001b[38;5;241m.\u001b[39m_getitem_multilevel(key)\n\u001b[1;32m-> 4102\u001b[0m indexer \u001b[38;5;241m=\u001b[39m \u001b[38;5;28;43mself\u001b[39;49m\u001b[38;5;241;43m.\u001b[39;49m\u001b[43mcolumns\u001b[49m\u001b[38;5;241;43m.\u001b[39;49m\u001b[43mget_loc\u001b[49m\u001b[43m(\u001b[49m\u001b[43mkey\u001b[49m\u001b[43m)\u001b[49m\n\u001b[0;32m   4103\u001b[0m \u001b[38;5;28;01mif\u001b[39;00m is_integer(indexer):\n\u001b[0;32m   4104\u001b[0m     indexer \u001b[38;5;241m=\u001b[39m [indexer]\n",
      "File \u001b[1;32me:\\Anaconda3\\envs\\smallholder-env\\lib\\site-packages\\pandas\\core\\indexes\\base.py:3812\u001b[0m, in \u001b[0;36mIndex.get_loc\u001b[1;34m(self, key)\u001b[0m\n\u001b[0;32m   3807\u001b[0m     \u001b[38;5;28;01mif\u001b[39;00m \u001b[38;5;28misinstance\u001b[39m(casted_key, \u001b[38;5;28mslice\u001b[39m) \u001b[38;5;129;01mor\u001b[39;00m (\n\u001b[0;32m   3808\u001b[0m         \u001b[38;5;28misinstance\u001b[39m(casted_key, abc\u001b[38;5;241m.\u001b[39mIterable)\n\u001b[0;32m   3809\u001b[0m         \u001b[38;5;129;01mand\u001b[39;00m \u001b[38;5;28many\u001b[39m(\u001b[38;5;28misinstance\u001b[39m(x, \u001b[38;5;28mslice\u001b[39m) \u001b[38;5;28;01mfor\u001b[39;00m x \u001b[38;5;129;01min\u001b[39;00m casted_key)\n\u001b[0;32m   3810\u001b[0m     ):\n\u001b[0;32m   3811\u001b[0m         \u001b[38;5;28;01mraise\u001b[39;00m InvalidIndexError(key)\n\u001b[1;32m-> 3812\u001b[0m     \u001b[38;5;28;01mraise\u001b[39;00m \u001b[38;5;167;01mKeyError\u001b[39;00m(key) \u001b[38;5;28;01mfrom\u001b[39;00m\u001b[38;5;250m \u001b[39m\u001b[38;5;21;01merr\u001b[39;00m\n\u001b[0;32m   3813\u001b[0m \u001b[38;5;28;01mexcept\u001b[39;00m \u001b[38;5;167;01mTypeError\u001b[39;00m:\n\u001b[0;32m   3814\u001b[0m     \u001b[38;5;66;03m# If we have a listlike key, _check_indexing_error will raise\u001b[39;00m\n\u001b[0;32m   3815\u001b[0m     \u001b[38;5;66;03m#  InvalidIndexError. Otherwise we fall through and re-raise\u001b[39;00m\n\u001b[0;32m   3816\u001b[0m     \u001b[38;5;66;03m#  the TypeError.\u001b[39;00m\n\u001b[0;32m   3817\u001b[0m     \u001b[38;5;28mself\u001b[39m\u001b[38;5;241m.\u001b[39m_check_indexing_error(key)\n",
      "\u001b[1;31mKeyError\u001b[0m: 'Q#-target1_yearly_income_from_agr_per_land_SQM-continuous'"
     ]
    }
   ],
   "source": [
    "# diagnostics\n",
    "diag = []\n",
    "# Diagnostics for M ~ X1 + X2\n",
    "lin_rmse_m, gam_rmse_m, edfs_m = linear_vs_gam_cv(df['Q#-target1_yearly_income_from_agr_per_land_SQM-continuous'],\n",
    "                                                  df[['Q#-hope_total-continuous']])\n",
    "diag.append({\n",
    "    'Equation': 'Y ~ hope',\n",
    "    'Linear_RMSE': lin_rmse_m,\n",
    "    'GAM_RMSE':    gam_rmse_m,\n",
    "    'edf_hope':      edfs_m[0]\n",
    "})\n",
    "\n",
    "diag_df = pd.DataFrame(diag)\n",
    "print(diag_df)"
   ]
  },
  {
   "cell_type": "code",
   "execution_count": null,
   "id": "b8252a84",
   "metadata": {},
   "outputs": [
    {
     "name": "stdout",
     "output_type": "stream",
     "text": [
      "Q0_target3_veg_per_area_continuous\n"
     ]
    }
   ],
   "source": [
    "for col in df.columns:\n",
    "    if \"target3\" in col:\n",
    "        print(col)"
   ]
  },
  {
   "cell_type": "code",
   "execution_count": null,
   "id": "6dcf571f",
   "metadata": {},
   "outputs": [
    {
     "data": {
      "text/plain": [
       "Index(['Q0_SurveyLengthTime_time', 'Q1_Latitude_continuous',\n",
       "       'Q1_Longitude_continuous', 'Q1_Altitude_continuous',\n",
       "       'Q1_Accuracy_continuous', 'Q4_HasPhoneNumber_binary_1',\n",
       "       'Q5_AgeYears_continuous', 'Q10_SexMale_binary_1',\n",
       "       'Q50_How_much_land_that_is_yours_do_you_cultivate_bigha_continuous',\n",
       "       'Q51_How_much_land_that_is_rented_or_leased_do_you_cultivate_bigha_continuous',\n",
       "       ...\n",
       "       'Q113_dislike_not_knowing_what_is_going_to_happen__totally_agree_binary_1',\n",
       "       'Q113_dislike_not_knowing_what_is_going_to_happen_dislike_not_knowing_what_is_going_to_happen_3_binary_2',\n",
       "       'Q113_dislike_not_knowing_what_is_going_to_happen_dislike_not_knowing_what_is_going_to_happen_4_binary_3',\n",
       "       'Q113_dislike_not_knowing_what_is_going_to_happen_dislike_not_knowing_what_is_going_to_happen_5_binary_4',\n",
       "       'Q113_dislike_not_knowing_what_is_going_to_happen_dislike_not_knowing_what_is_going_to_happen_6_binary_5',\n",
       "       'Q113_dislike_not_knowing_what_is_going_to_happen_dislike_not_knowing_what_is_going_to_happen_7_binary_6',\n",
       "       'Q113_dislike_not_knowing_what_is_going_to_happen_dislike_not_knowing_what_is_going_to_happen_8_binary_7',\n",
       "       'Q113_dislike_not_knowing_what_is_going_to_happen_Missing_binary_8',\n",
       "       'XM', 'Q0_average_of_farming_practices'],\n",
       "      dtype='object', length=749)"
      ]
     },
     "execution_count": 256,
     "metadata": {},
     "output_type": "execute_result"
    }
   ],
   "source": [
    "df.columns"
   ]
  },
  {
   "cell_type": "markdown",
   "id": "59187c41",
   "metadata": {},
   "source": [
    "# Test Visualizations of SEM"
   ]
  },
  {
   "cell_type": "code",
   "execution_count": null,
   "id": "cc13fe2d",
   "metadata": {},
   "outputs": [],
   "source": [
    "\n",
    "\n",
    "np.random.seed(42)\n",
    "n = 500\n",
    "\n",
    "# Simulate latent variables\n",
    "motivation = np.random.normal(0, 1, n)\n",
    "anxiety = np.random.normal(0, 1, n)\n",
    "\n",
    "# Observed indicators (with some added noise)\n",
    "M1 = 0.8 * motivation + np.random.normal(0, 0.2, n)\n",
    "M2 = 0.9 * motivation + np.random.normal(0, 0.2, n)\n",
    "M3 = 0.85 * motivation + np.random.normal(0, 0.2, n)\n",
    "\n",
    "A1 = 0.9 * anxiety + np.random.normal(0, 0.2, n)\n",
    "A2 = 0.8 * anxiety + np.random.normal(0, 0.2, n)\n",
    "A3 = 0.85 * anxiety + np.random.normal(0, 0.2, n)\n",
    "\n",
    "# Academic performance is influenced by both\n",
    "academic_perf = 0.7 * motivation - 0.5 * anxiety + np.random.normal(0, 0.3, n)\n",
    "\n",
    "# Create a DataFrame\n",
    "df = pd.DataFrame({\n",
    "    'M1': M1, 'M2': M2, 'M3': M3,\n",
    "    'A1': A1, 'A2': A2, 'A3': A3,\n",
    "    'AcademicPerformance': academic_perf\n",
    "})\n",
    "\n"
   ]
  },
  {
   "cell_type": "code",
   "execution_count": null,
   "id": "3f4a414d",
   "metadata": {},
   "outputs": [],
   "source": [
    "model_desc = \"\"\"\n",
    "# Measurement model\n",
    "Motivation =~ M1 + M2 + M3\n",
    "Anxiety =~ A1 + A2 + A3\n",
    "\n",
    "# Structural model\n",
    "AcademicPerformance ~ Motivation + Anxiety\n",
    "\"\"\"\n"
   ]
  },
  {
   "cell_type": "code",
   "execution_count": null,
   "id": "cdcd5406",
   "metadata": {},
   "outputs": [
    {
     "name": "stdout",
     "output_type": "stream",
     "text": [
      "                   lval  op                 rval  Estimate  Std. Err  \\\n",
      "0                    M1   ~           Motivation  1.000000         -   \n",
      "1                    M2   ~           Motivation  1.158976  0.018538   \n",
      "2                    M3   ~           Motivation  1.077037  0.017565   \n",
      "3                    A1   ~              Anxiety  1.000000         -   \n",
      "4                    A2   ~              Anxiety  0.876403  0.014242   \n",
      "5                    A3   ~              Anxiety  0.918097  0.014149   \n",
      "6   AcademicPerformance   ~           Motivation  0.873513  0.020674   \n",
      "7   AcademicPerformance   ~              Anxiety -0.551940  0.016591   \n",
      "8               Anxiety  ~~              Anxiety  0.794745  0.052667   \n",
      "9               Anxiety  ~~           Motivation -0.045126  0.031421   \n",
      "10           Motivation  ~~           Motivation  0.594609  0.040297   \n",
      "11                   A1  ~~                   A1  0.036922  0.004242   \n",
      "12                   A2  ~~                   A2  0.048026  0.004133   \n",
      "13                   A3  ~~                   A3  0.043562  0.004097   \n",
      "14  AcademicPerformance  ~~  AcademicPerformance  0.086046  0.006325   \n",
      "15                   M1  ~~                   M1  0.042777  0.003668   \n",
      "16                   M2  ~~                   M2  0.040470  0.004105   \n",
      "17                   M3  ~~                   M3  0.038554  0.003708   \n",
      "\n",
      "      z-value   p-value  \n",
      "0           -         -  \n",
      "1   62.517734       0.0  \n",
      "2   61.317732       0.0  \n",
      "3           -         -  \n",
      "4   61.538514       0.0  \n",
      "5    64.88831       0.0  \n",
      "6   42.251032       0.0  \n",
      "7  -33.267485       0.0  \n",
      "8   15.090105       0.0  \n",
      "9   -1.436163  0.150956  \n",
      "10  14.755625       0.0  \n",
      "11   8.702993       0.0  \n",
      "12  11.618882       0.0  \n",
      "13  10.632042       0.0  \n",
      "14  13.603196       0.0  \n",
      "15  11.663178       0.0  \n",
      "16   9.858956       0.0  \n",
      "17  10.397764       0.0  \n"
     ]
    }
   ],
   "source": [
    "from semopy import Model\n",
    "\n",
    "model = Model(model_desc)\n",
    "model.fit(df)\n",
    "\n",
    "# See parameter estimates\n",
    "estimates = model.inspect()\n",
    "print(estimates)\n"
   ]
  },
  {
   "cell_type": "code",
   "execution_count": null,
   "id": "c6aa9340",
   "metadata": {},
   "outputs": [
    {
     "name": "stdout",
     "output_type": "stream",
     "text": [
      "       DoF  DoF Baseline       chi2  chi2 p-value  chi2 Baseline       CFI  \\\n",
      "Value   12            21  18.751205      0.094712    5736.446702  0.998819   \n",
      "\n",
      "            GFI     AGFI       NFI       TLI     RMSEA        AIC        BIC  \\\n",
      "Value  0.996731  0.99428  0.996731  0.997933  0.033578  31.924995  99.358725   \n",
      "\n",
      "         LogLik  \n",
      "Value  0.037502  \n"
     ]
    }
   ],
   "source": [
    "from semopy import calc_stats\n",
    "stats = calc_stats(model)\n",
    "print(stats)\n"
   ]
  },
  {
   "cell_type": "code",
   "execution_count": null,
   "id": "de25ace3",
   "metadata": {},
   "outputs": [
    {
     "name": "stdout",
     "output_type": "stream",
     "text": [
      "0.20.3\n"
     ]
    }
   ],
   "source": [
    "import graphviz\n",
    "print(graphviz.__version__)   # your python binding\n",
    "from semopy.plot import semplot\n",
    "# now semplot() should run without the ModuleNotFoundError\n"
   ]
  },
  {
   "cell_type": "code",
   "execution_count": null,
   "id": "abf6f5db",
   "metadata": {},
   "outputs": [
    {
     "name": "stdout",
     "output_type": "stream",
     "text": [
      "PATH = e:\\Anaconda3\\envs\\smallholder-env;E:\\Anaconda3\\envs\\smallholder-env;E:\\Anaconda3\\envs\\smallholder-env\\Library\\mingw-w64\\bin;E:\\Anaconda3\\envs\\smallholder-env\\Library\\usr\\bin;E:\\Anaconda3\\envs\\smallholder-env\\Library\\bin;E:\\Anaconda3\\envs\\smallholder-env\\Scripts;E:\\Anaconda3\\envs\\smallholder-env\\bin;E:\\Anaconda3\\condabin;C:\\Program Files\\NVIDIA GPU Computing Toolkit\\CUDA\\v11.6\\bin;C:\\Program Files\\NVIDIA GPU Computing Toolkit\\CUDA\\v11.6\\libnvvp;C:\\Program Files\\Alacritty;C:\\Program Files\\Common Files\\Oracle\\Java\\javapath;C:\\Windows\\system32;C:\\Windows;C:\\Windows\\System32\\Wbem;C:\\Windows\\System32\\WindowsPowerShell\\v1.0;C:\\Windows\\System32\\OpenSSH;C:\\Program Files (x86)\\NVIDIA Corporation\\PhysX\\Common;C:\\Program Files\\NVIDIA Corporation\\NVIDIA NvDLISR;C:\\Program Files\\NVIDIA Corporation\\Nsight Compute 2022.1.1;C:\\Strawberry\\c\\bin;C:\\Strawberry\\perl\\site\\bin;C:\\Strawberry\\perl\\bin;C:\\Program Files (x86)\\MiKTeX 2.9\\miktex\\bin;C:\\Program Files (x86)\\LyX 2.3\\Perl\\bin;C:\\WINDOWS\\system32;C:\\WINDOWS;C:\\WINDOWS\\System32\\Wbem;C:\\WINDOWS\\System32\\WindowsPowerShell\\v1.0;C:\\WINDOWS\\System32\\OpenSSH;C:\\Program Files\\Java\\jdk-23\\bin;C:\\Users\\nadav\\AppData\\Local\\Programs\\Python\\Python38-32\\Scripts;C:\\Users\\nadav\\AppData\\Local\\Programs\\Python\\Python38-32;C:\\Users\\nadav\\AppData\\Local\\Microsoft\\WindowsApps;C:\\Users\\nadav\\AppData\\Local\\Programs\\Git\\cmd;C:\\Users\\nadav\\AppData\\Local\\Programs\\Microsoft VS Code\\bin;C:\\Users\\nadav\\AppData\\Local\\Programs\\MiKTeX\\miktex\\bin\\x64;.;C:\\Users\\nadav\\.lmstudio\\bin\n",
      "dot found at: E:\\Anaconda3\\envs\\smallholder-env\\Library\\bin\\dot.EXE\n"
     ]
    }
   ],
   "source": [
    "import os, shutil\n",
    "print(\"PATH =\", os.environ.get(\"PATH\", \"\"))  \n",
    "print(\"dot found at:\", shutil.which(\"dot\"))"
   ]
  },
  {
   "cell_type": "code",
   "execution_count": null,
   "id": "30db559f",
   "metadata": {},
   "outputs": [],
   "source": [
    "# 3. Import and call semplot\n",
    "from semopy.plot import semplot\n",
    "# should not raise an error\n",
    "# semplot will:\n",
    "#  - draw latent variables as circles, observed as boxes\n",
    "#  - draw regression arrows (~) and optionally covariances (~~)\n",
    "#  - annotate edges with (standardized) estimates if desired\n",
    "g = semplot(model,\n",
    "            filename=\"sem_model.png\",\n",
    "            plot_covs=False,    # set True to show covariances (~~)\n",
    "            std_ests=True,      # show standardized estimates on arrows\n",
    "            show=True)          # open/view the image after rendering"
   ]
  },
  {
   "cell_type": "markdown",
   "id": "42a7f5c2",
   "metadata": {},
   "source": [
    "# Visualizations nearing main method"
   ]
  },
  {
   "cell_type": "code",
   "execution_count": null,
   "id": "329afc0f",
   "metadata": {},
   "outputs": [
    {
     "name": "stdout",
     "output_type": "stream",
     "text": [
      "Test M _||_ A:  r = -0.108, p = 0.0301\n",
      "Fisher's C = 7.007, df = 2, p = 0.0301\n",
      "LinearGAM                                                                                                 \n",
      "=============================================== ==========================================================\n",
      "Distribution:                        NormalDist Effective DoF:                                     21.4628\n",
      "Link Function:                     IdentityLink Log Likelihood:                                 -1517.3297\n",
      "Number of Samples:                          400 AIC:                                             3079.5851\n",
      "                                                AICc:                                            3082.3845\n",
      "                                                GCV:                                                 0.099\n",
      "                                                Scale:                                              0.0895\n",
      "                                                Pseudo R-Squared:                                   0.9037\n",
      "==========================================================================================================\n",
      "Feature Function                  Lambda               Rank         EDoF         P > x        Sig. Code   \n",
      "================================= ==================== ============ ============ ============ ============\n",
      "s(0)                              [0.6]                20           10.9         1.11e-16     ***         \n",
      "s(1)                              [0.6]                20           10.5         1.11e-16     ***         \n",
      "intercept                                              1            0.0          1.30e-02     *           \n",
      "==========================================================================================================\n",
      "Significance codes:  0 '***' 0.001 '**' 0.01 '*' 0.05 '.' 0.1 ' ' 1\n",
      "\n",
      "WARNING: Fitting splines and a linear function to a feature introduces a model identifiability problem\n",
      "         which can cause p-values to appear significant when they are not.\n",
      "\n",
      "WARNING: p-values calculated in this manner behave correctly for un-penalized models or models with\n",
      "         known smoothing parameters, but when smoothing parameters have been estimated, the p-values\n",
      "         are typically lower than they should be, meaning that the tests reject the null too readily.\n",
      "None\n"
     ]
    },
    {
     "name": "stderr",
     "output_type": "stream",
     "text": [
      "C:\\Users\\nadav\\AppData\\Local\\Temp\\ipykernel_30444\\1609559100.py:83: UserWarning: KNOWN BUG: p-values computed in this summary are likely much smaller than they should be. \n",
      " \n",
      "Please do not make inferences based on these values! \n",
      "\n",
      "Collaborate on a solution, and stay up to date at: \n",
      "github.com/dswah/pyGAM/issues/163 \n",
      "\n",
      "  print(gam_ap.summary())\n"
     ]
    }
   ],
   "source": [
    "# 0. pip install what you need:\n",
    "#    pip install semopy pygam scipy\n",
    "\n",
    "import numpy as np\n",
    "import pandas as pd\n",
    "from semopy import Model\n",
    "\n",
    "# 1) Simulate data & fit a standard SEM to get factor scores\n",
    "np.random.seed(42)\n",
    "n = 400\n",
    "# latent vars\n",
    "mot = np.random.normal(size=n)\n",
    "anx = np.random.normal(size=n)\n",
    "# indicators\n",
    "df = pd.DataFrame({\n",
    "    'M1': 0.8*mot + np.random.normal(scale=0.2,size=n),\n",
    "    'M2': 0.9*mot + np.random.normal(scale=0.2,size=n),\n",
    "    'M3': 0.85*mot+ np.random.normal(scale=0.2,size=n),\n",
    "    'A1': 0.9*anx + np.random.normal(scale=0.2,size=n),\n",
    "    'A2': 0.8*anx + np.random.normal(scale=0.2,size=n),\n",
    "    'A3': 0.85*anx+ np.random.normal(scale=0.2,size=n),\n",
    "})\n",
    "# outcome\n",
    "df['AcademicPerformance'] = 0.7*mot - 0.5*anx + np.random.normal(scale=0.3, size=n)\n",
    "\n",
    "# fit SEM just to get factor scores\n",
    "desc = \"\"\"\n",
    "  Motivation =~ M1 + M2 + M3\n",
    "  Anxiety    =~ A1 + A2 + A3\n",
    "  AcademicPerformance ~ Motivation + Anxiety\n",
    "\"\"\"\n",
    "sem = Model(desc)\n",
    "sem.fit(df)\n",
    "fs = sem.predict_factors(df)\n",
    "# fs is a DataFrame with columns 'Motivation' and 'Anxiety'\n",
    "y = df['AcademicPerformance'].values\n",
    "\n",
    "# ──────────────────────────────────────────────────────────────────────────────\n",
    "# 2. PIECEWISE STEP #1: Fit each structural equation separately with a GAM\n",
    "from pygam import LinearGAM, s, l\n",
    "\n",
    "# In our simple model the only endogenous var is AcademicPerformance,\n",
    "# with two parents (Motivation, Anxiety).  So we fit a GAM:\n",
    "X = fs[['Motivation','Anxiety']].values\n",
    "gam_ap = LinearGAM(s(0) + s(1)).fit(X, y)\n",
    "\n",
    "# If you had other endogenous nodes, you'd fit one model per node here.\n",
    "# e.g. if Anxiety were predicted by something else, you'd fit that too.\n",
    "\n",
    "# ──────────────────────────────────────────────────────────────────────────────\n",
    "# 3. PIECEWISE STEP #2: List the d-separation claims\n",
    "#    These are all pairs of variables *not* directly connected by an arrow,\n",
    "#    conditioning on their “parents.”\n",
    "#\n",
    "# In this simple two-arrow model, the only non-adjacent pair is\n",
    "#   Motivation  _||_  Anxiety\n",
    "# (they share no path between them in the diagram).\n",
    "#\n",
    "# So we test their marginal independence:\n",
    "\n",
    "from scipy.stats import pearsonr, chi2\n",
    "\n",
    "r, p_indep = pearsonr(fs['Motivation'], fs['Anxiety'])\n",
    "print(f\"Test M _||_ A:  r = {r:.3f}, p = {p_indep:.3g}\")\n",
    "\n",
    "# You could also test residual correlations between equations if you had more.\n",
    "\n",
    "# ──────────────────────────────────────────────────────────────────────────────\n",
    "# 4. PIECEWISE STEP #3: Combine with Fisher’s C\n",
    "#    C = -2 * Σ log(p_i),   df = 2k,   p_overall = 1 - χ²_cdf(C, df)\n",
    "\n",
    "p_values = [p_indep]  # add more p’s if you have more independence tests\n",
    "C = -2 * np.sum(np.log(p_values))\n",
    "df_fisher = 2 * len(p_values)\n",
    "p_overall = 1 - chi2.cdf(C, df_fisher)\n",
    "\n",
    "print(f\"Fisher's C = {C:.3f}, df = {df_fisher}, p = {p_overall:.3g}\")\n",
    "\n",
    "# If p_overall > .05, piecewise SEM gives no evidence against the model.\n",
    "\n",
    "# ──────────────────────────────────────────────────────────────────────────────\n",
    "# 5. (Optional) Inspect each GAM’s summary\n",
    "print(gam_ap.summary())\n"
   ]
  },
  {
   "cell_type": "code",
   "execution_count": null,
   "id": "820814e2",
   "metadata": {},
   "outputs": [],
   "source": [
    "from scipy.sparse import csr_matrix, csc_matrix\n",
    "# re-introduce the .A alias so pygam’s internal code works\n",
    "csr_matrix.A = property(lambda self: self.toarray())\n",
    "csc_matrix.A = property(lambda self: self.toarray())"
   ]
  },
  {
   "cell_type": "code",
   "execution_count": null,
   "id": "4b1b6feb",
   "metadata": {},
   "outputs": [
    {
     "data": {
      "image/png": "[encoded data removed]",
      "text/plain": [
       "<Figure size 640x480 with 1 Axes>"
      ]
     },
     "metadata": {},
     "output_type": "display_data"
    },
    {
     "data": {
      "image/png": "[encoded data removed]",
      "text/plain": [
       "<Figure size 640x480 with 1 Axes>"
      ]
     },
     "metadata": {},
     "output_type": "display_data"
    }
   ],
   "source": [
    "import matplotlib.pyplot as plt\n",
    "\n",
    "terms = ['Motivation','Anxiety']\n",
    "for i, name in enumerate(terms):\n",
    "    # 1) grid of values for term i\n",
    "    XX = gam_ap.generate_X_grid(term=i)\n",
    "\n",
    "    # 2) get partial dependence AND confidence band in one call\n",
    "    pdp, ci = gam_ap.partial_dependence(term=i, X=XX, width=0.95)\n",
    "\n",
    "    # 3) plot\n",
    "    plt.figure()\n",
    "    plt.plot(XX[:, i], pdp, label='Estimated f')\n",
    "    plt.fill_between(\n",
    "        XX[:, i],\n",
    "        ci[:, 0],   # lower bound\n",
    "        ci[:, 1],   # upper bound\n",
    "        alpha=0.3,\n",
    "        label='95% CI'\n",
    "    )\n",
    "    plt.title(f\"Smooth effect of {name}\")\n",
    "    plt.xlabel(name)\n",
    "    plt.ylabel(\"Partial Effect\")\n",
    "    plt.legend()\n",
    "    plt.show()\n",
    "\n",
    "\n"
   ]
  },
  {
   "cell_type": "code",
   "execution_count": null,
   "id": "ad6a3140",
   "metadata": {},
   "outputs": [
    {
     "data": {
      "image/png": "[encoded data removed]",
      "text/plain": [
       "<Figure size 640x480 with 1 Axes>"
      ]
     },
     "metadata": {},
     "output_type": "display_data"
    },
    {
     "data": {
      "image/png": "[encoded data removed]",
      "text/plain": [
       "<Figure size 640x480 with 1 Axes>"
      ]
     },
     "metadata": {},
     "output_type": "display_data"
    },
    {
     "data": {
      "image/png": "[encoded data removed]",
      "text/plain": [
       "<Figure size 640x480 with 1 Axes>"
      ]
     },
     "metadata": {},
     "output_type": "display_data"
    },
    {
     "data": {
      "image/png": "[encoded data removed]",
      "text/plain": [
       "<Figure size 640x480 with 1 Axes>"
      ]
     },
     "metadata": {},
     "output_type": "display_data"
    },
    {
     "name": "stdout",
     "output_type": "stream",
     "text": [
      "      Feature  AverageMarginalEffect\n",
      "0  Motivation               0.861317\n",
      "1     Anxiety              -0.598973\n",
      "meadiajn anx: -0.6043821336830693\n"
     ]
    }
   ],
   "source": [
    "import numpy as np\n",
    "import pandas as pd\n",
    "from semopy import Model\n",
    "from pygam import LinearGAM, s\n",
    "import matplotlib.pyplot as plt\n",
    "\n",
    "# 1) Simulate a dummy dataset\n",
    "np.random.seed(0)\n",
    "n = 300\n",
    "mot = np.random.normal(size=n)\n",
    "anx = np.random.normal(size=n)\n",
    "df = pd.DataFrame({\n",
    "    'M1': 0.8*mot + np.random.normal(scale=0.2, size=n),\n",
    "    'M2': 0.9*mot + np.random.normal(scale=0.2, size=n),\n",
    "    'M3': 0.85*mot+ np.random.normal(scale=0.2, size=n),\n",
    "    'A1': 0.9*anx + np.random.normal(scale=0.2, size=n),\n",
    "    'A2': 0.8*anx + np.random.normal(scale=0.2, size=n),\n",
    "    'A3': 0.85*anx+ np.random.normal(scale=0.2, size=n),\n",
    "    'AcademicPerformance': 0.7*mot - 0.5*anx + np.random.normal(scale=0.3, size=n)\n",
    "})\n",
    "\n",
    "# 2) Define & fit the SEM\n",
    "model_desc = \"\"\"\n",
    "  Motivation =~ M1 + M2 + M3\n",
    "  Anxiety    =~ A1 + A2 + A3\n",
    "  AcademicPerformance ~ Motivation + Anxiety\n",
    "\"\"\"\n",
    "sem = Model(model_desc)\n",
    "sem.fit(df)\n",
    "\n",
    "# 3) Extract factor scores\n",
    "fs = sem.predict_factors(df)\n",
    "X = fs[['Motivation','Anxiety']].values\n",
    "y = df['AcademicPerformance'].values\n",
    "\n",
    "# 4) Fit a GAM for the structural part\n",
    "gam = LinearGAM(s(0) + s(1)).fit(X, y)\n",
    "\n",
    "# 5) Prepare grids and partial‐dependence\n",
    "grid_mot = np.linspace(fs['Motivation'].min(), fs['Motivation'].max(), 100)\n",
    "grid_anx = np.linspace(fs['Anxiety'].min(),    fs['Anxiety'].max(),    100)\n",
    "\n",
    "X_mot = np.column_stack([grid_mot, np.repeat(fs['Anxiety'].mean(), len(grid_mot))])\n",
    "X_anx = np.column_stack([np.repeat(fs['Motivation'].mean(), len(grid_anx)), grid_anx])\n",
    "\n",
    "pd_mot = gam.partial_dependence(term=0, X=X_mot)\n",
    "pd_anx = gam.partial_dependence(term=1, X=X_anx)\n",
    "\n",
    "# 6) Plot raw data vs. latent scores\n",
    "plt.figure()\n",
    "plt.scatter(fs['Motivation'], y)\n",
    "plt.xlabel('Motivation')\n",
    "plt.ylabel('AcademicPerformance')\n",
    "plt.title('Scatter: Motivation vs AcademicPerformance')\n",
    "plt.show()\n",
    "\n",
    "plt.figure()\n",
    "plt.scatter(fs['Anxiety'], y)\n",
    "plt.xlabel('Anxiety')\n",
    "plt.ylabel('AcademicPerformance')\n",
    "plt.title('Scatter: Anxiety vs AcademicPerformance')\n",
    "plt.show()\n",
    "\n",
    "# 7) Plot the GAM smooth functions\n",
    "plt.figure()\n",
    "plt.plot(grid_mot, pd_mot)\n",
    "plt.xlabel('Motivation')\n",
    "plt.ylabel('Partial Dependence')\n",
    "plt.title('GAM Smooth: Motivation Effect')\n",
    "plt.show()\n",
    "\n",
    "plt.figure()\n",
    "plt.plot(grid_anx, pd_anx)\n",
    "plt.xlabel('Anxiety')\n",
    "plt.ylabel('Partial Dependence')\n",
    "plt.title('GAM Smooth: Anxiety Effect')\n",
    "plt.show()\n",
    "\n",
    "# 8) Approximate derivatives & compute AMEs (unchanged)\n",
    "deriv_mot = np.gradient(pd_mot, grid_mot)\n",
    "deriv_anx = np.gradient(pd_anx, grid_anx)\n",
    "ame_mot = deriv_mot.mean()\n",
    "ame_anx = deriv_anx.mean()\n",
    "\n",
    "ame_df = pd.DataFrame({\n",
    "    'Feature': ['Motivation', 'Anxiety'],\n",
    "    'AverageMarginalEffect': [ame_mot, ame_anx]\n",
    "})\n",
    "print(ame_df)\n",
    "\n",
    "print(f\"meadiajn anx: {np.median(deriv_anx)}\")"
   ]
  },
  {
   "cell_type": "markdown",
   "id": "04ad2512",
   "metadata": {},
   "source": [
    "# Main Method Found Thank God"
   ]
  },
  {
   "cell_type": "code",
   "execution_count": null,
   "id": "912d7ade",
   "metadata": {},
   "outputs": [
    {
     "name": "stderr",
     "output_type": "stream",
     "text": [
      "C:\\Users\\nadav\\AppData\\Local\\Temp\\ipykernel_30444\\3438924327.py:34: FutureWarning: Calling float on a single element Series is deprecated and will raise a TypeError in the future. Use float(ser.iloc[0]) instead\n",
      "  chi2_scaler  = float(stats['chi2'])\n",
      "C:\\Users\\nadav\\AppData\\Local\\Temp\\ipykernel_30444\\3438924327.py:35: FutureWarning: Calling float on a single element Series is deprecated and will raise a TypeError in the future. Use float(ser.iloc[0]) instead\n",
      "  cfi   = float(stats['CFI'])\n",
      "C:\\Users\\nadav\\AppData\\Local\\Temp\\ipykernel_30444\\3438924327.py:36: FutureWarning: Calling float on a single element Series is deprecated and will raise a TypeError in the future. Use float(ser.iloc[0]) instead\n",
      "  tli   = float(stats['TLI'])\n",
      "C:\\Users\\nadav\\AppData\\Local\\Temp\\ipykernel_30444\\3438924327.py:37: FutureWarning: Calling float on a single element Series is deprecated and will raise a TypeError in the future. Use float(ser.iloc[0]) instead\n",
      "  rmsea = float(stats['RMSEA'])\n",
      "C:\\Users\\nadav\\AppData\\Local\\Temp\\ipykernel_30444\\3438924327.py:38: FutureWarning: Calling float on a single element Series is deprecated and will raise a TypeError in the future. Use float(ser.iloc[0]) instead\n",
      "  aic   = float(stats['AIC'])\n",
      "C:\\Users\\nadav\\AppData\\Local\\Temp\\ipykernel_30444\\3438924327.py:39: FutureWarning: Calling float on a single element Series is deprecated and will raise a TypeError in the future. Use float(ser.iloc[0]) instead\n",
      "  bic   = float(stats['BIC'])\n",
      "  0% (0 of 11) |                         | Elapsed Time: 0:00:00 ETA:  --:--:--\n",
      " 27% (3 of 11) |######                   | Elapsed Time: 0:00:00 ETA:   0:00:00\n",
      " 63% (7 of 11) |###############          | Elapsed Time: 0:00:00 ETA:   0:00:00\n",
      "100% (11 of 11) |########################| Elapsed Time: 0:00:00 Time:  0:00:00\n",
      "  0% (0 of 11) |                         | Elapsed Time: 0:00:00 ETA:  --:--:--\n",
      " 36% (4 of 11) |#########                | Elapsed Time: 0:00:00 ETA:   0:00:00\n",
      " 63% (7 of 11) |###############          | Elapsed Time: 0:00:00 ETA:   0:00:00\n",
      "100% (11 of 11) |########################| Elapsed Time: 0:00:00 Time:  0:00:00\n",
      "  0% (0 of 11) |                         | Elapsed Time: 0:00:00 ETA:  --:--:--\n",
      " 36% (4 of 11) |#########                | Elapsed Time: 0:00:00 ETA:   0:00:00\n",
      " 72% (8 of 11) |##################       | Elapsed Time: 0:00:00 ETA:   0:00:00\n",
      "100% (11 of 11) |########################| Elapsed Time: 0:00:00 Time:  0:00:00\n",
      "  0% (0 of 11) |                         | Elapsed Time: 0:00:00 ETA:  --:--:--\n",
      " 36% (4 of 11) |#########                | Elapsed Time: 0:00:00 ETA:   0:00:00\n",
      " 72% (8 of 11) |##################       | Elapsed Time: 0:00:00 ETA:   0:00:00\n",
      "100% (11 of 11) |########################| Elapsed Time: 0:00:00 Time:  0:00:00\n",
      "  0% (0 of 11) |                         | Elapsed Time: 0:00:00 ETA:  --:--:--\n",
      " 27% (3 of 11) |######                   | Elapsed Time: 0:00:00 ETA:   0:00:00\n",
      " 63% (7 of 11) |###############          | Elapsed Time: 0:00:00 ETA:   0:00:00\n",
      "100% (11 of 11) |########################| Elapsed Time: 0:00:00 Time:  0:00:00\n",
      "  0% (0 of 11) |                         | Elapsed Time: 0:00:00 ETA:  --:--:--\n",
      " 27% (3 of 11) |######                   | Elapsed Time: 0:00:00 ETA:   0:00:00\n",
      " 54% (6 of 11) |#############            | Elapsed Time: 0:00:00 ETA:   0:00:00\n",
      " 81% (9 of 11) |####################     | Elapsed Time: 0:00:00 ETA:   0:00:00\n",
      "100% (11 of 11) |########################| Elapsed Time: 0:00:00 Time:  0:00:00\n",
      "  0% (0 of 11) |                         | Elapsed Time: 0:00:00 ETA:  --:--:--\n",
      " 27% (3 of 11) |######                   | Elapsed Time: 0:00:00 ETA:   0:00:00\n",
      " 54% (6 of 11) |#############            | Elapsed Time: 0:00:00 ETA:   0:00:00\n",
      " 81% (9 of 11) |####################     | Elapsed Time: 0:00:00 ETA:   0:00:00\n",
      "100% (11 of 11) |########################| Elapsed Time: 0:00:00 Time:  0:00:00\n",
      "  0% (0 of 11) |                         | Elapsed Time: 0:00:00 ETA:  --:--:--\n",
      " 27% (3 of 11) |######                   | Elapsed Time: 0:00:00 ETA:   0:00:00\n",
      " 54% (6 of 11) |#############            | Elapsed Time: 0:00:00 ETA:   0:00:00\n",
      " 81% (9 of 11) |####################     | Elapsed Time: 0:00:00 ETA:   0:00:00\n",
      "100% (11 of 11) |########################| Elapsed Time: 0:00:00 Time:  0:00:00\n",
      "  0% (0 of 11) |                         | Elapsed Time: 0:00:00 ETA:  --:--:--\n",
      " 27% (3 of 11) |######                   | Elapsed Time: 0:00:00 ETA:   0:00:00\n",
      " 54% (6 of 11) |#############            | Elapsed Time: 0:00:00 ETA:   0:00:00\n",
      " 81% (9 of 11) |####################     | Elapsed Time: 0:00:00 ETA:   0:00:00\n",
      "100% (11 of 11) |########################| Elapsed Time: 0:00:00 Time:  0:00:00\n",
      "  0% (0 of 11) |                         | Elapsed Time: 0:00:00 ETA:  --:--:--\n",
      " 27% (3 of 11) |######                   | Elapsed Time: 0:00:00 ETA:   0:00:00\n",
      " 54% (6 of 11) |#############            | Elapsed Time: 0:00:00 ETA:   0:00:00\n",
      " 81% (9 of 11) |####################     | Elapsed Time: 0:00:00 ETA:   0:00:00\n",
      "100% (11 of 11) |########################| Elapsed Time: 0:00:00 Time:  0:00:00\n"
     ]
    },
    {
     "name": "stdout",
     "output_type": "stream",
     "text": [
      "SEM Global Fit\n",
      "             Statistic      Value\n",
      "0  Chi-square (p>0.05)   0.000063\n",
      "1         CFI (>=0.95)   1.003816\n",
      "2         TLI (>=0.95)   1.010175\n",
      "3       RMSEA (<=0.05)   0.000000\n",
      "4                  AIC  13.999999\n",
      "5                  BIC  37.429752\n",
      "GAM Diagnostics (AIC & edf)\n",
      "      Equation  Linear_RMSE  GAM_RMSE     edf_X1     edf_X2     edf_M\n",
      "0    M ~ X1,X2     0.399807  0.098230  10.284292  10.284292       NaN\n",
      "1  Y ~ M,X1,X2     0.103257  0.099995   9.897982   9.897982  9.897982\n",
      "D-separation Residual Test & Fisher's C\n",
      "      Test         r   p-value  Fisher_C  Fisher_p\n",
      "0  X1 ⟂ X2 -0.080592  0.244905  2.813766  0.244905\n",
      "Average Marginal Effects: Train vs Test\n",
      "     Path  Train_AME  Test_AME\n",
      "0  M ~ X1   0.115361  0.146613\n",
      "1  M ~ X2  -0.051154 -0.002528\n",
      "2   Y ~ M   0.628561  0.817706\n",
      "3  Y ~ X1   0.200574  0.186789\n",
      "4  Y ~ X2  -0.030593 -0.006018\n"
     ]
    }
   ],
   "source": [
    "import numpy as np\n",
    "import pandas as pd\n",
    "from semopy import Model, calc_stats\n",
    "from pygam import LinearGAM, s\n",
    "from sklearn.linear_model import LinearRegression\n",
    "from sklearn.model_selection import KFold\n",
    "from sklearn.metrics import mean_squared_error\n",
    "from scipy.stats import pearsonr, chi2\n",
    "from functools import reduce\n",
    "from operator import add\n",
    "\n",
    "# 0) Simulate and split data\n",
    "np.random.seed(42)\n",
    "n = 300\n",
    "X1 = np.random.normal(size=n)\n",
    "X2 = np.random.normal(size=n)\n",
    "M  = 0.5*np.sin(X1) + 0.3*X2**2 + np.random.normal(0,0.1,n)\n",
    "Y  = 0.7*M + 0.2*X1 + 0.1*np.log(np.abs(X2)+1) + np.random.normal(0,0.1,n)\n",
    "df    = pd.DataFrame(dict(X1=X1, X2=X2, M=M, Y=Y))\n",
    "train = df.sample(frac=0.7, random_state=1)\n",
    "test  = df.drop(train.index)\n",
    "\n",
    "# 1) Fit initial SEM on train\n",
    "model_desc = \"\"\"\n",
    "M ~ X1 + X2\n",
    "Y ~ M + X1 + X2\n",
    "\"\"\"\n",
    "sem = Model(model_desc)\n",
    "sem.fit(train)\n",
    "\n",
    "# 2) Global SEM fit on train\n",
    "stats = calc_stats(sem)\n",
    "# extract scalars\n",
    "chi2_scaler  = float(stats['chi2'])\n",
    "cfi   = float(stats['CFI'])\n",
    "tli   = float(stats['TLI'])\n",
    "rmsea = float(stats['RMSEA'])\n",
    "aic   = float(stats['AIC'])\n",
    "bic   = float(stats['BIC'])\n",
    "\n",
    "fit_df = pd.DataFrame({\n",
    "    'Statistic': ['Chi-square (p>0.05)', 'CFI (>=0.95)', 'TLI (>=0.95)', 'RMSEA (<=0.05)', 'AIC', 'BIC'],\n",
    "    'Value':     [chi2_scaler, cfi, tli, rmsea, aic, bic]\n",
    "})\n",
    "\n",
    "# 3) Cross-validated RMSE vs. GAM for non-linearity diagnostics\n",
    "def linear_vs_gam_cv(y, X_df):\n",
    "    X = X_df.values\n",
    "    y_arr = y.values\n",
    "    kf = KFold(n_splits=5, shuffle=True, random_state=0)\n",
    "    rmse_lin, rmse_gam = [], []\n",
    "\n",
    "    # build the combined smooth terms\n",
    "    terms = reduce(add, (s(i) for i in range(X.shape[1])))\n",
    "\n",
    "    for tr, va in kf.split(X):\n",
    "        X_tr, X_va = X[tr], X[va]\n",
    "        y_tr, y_va = y_arr[tr], y_arr[va]\n",
    "\n",
    "        # linear RMSE\n",
    "        lr = LinearRegression().fit(X_tr, y_tr)\n",
    "        rmse_lin.append(np.sqrt(mean_squared_error(y_va, lr.predict(X_va))))\n",
    "\n",
    "        # GAM RMSE\n",
    "        gam = LinearGAM(terms).gridsearch(X_tr, y_tr)\n",
    "        rmse_gam.append(np.sqrt(mean_squared_error(y_va, gam.predict(X_va))))\n",
    "\n",
    "    # final GAM fit for edfs\n",
    "    gam_full = LinearGAM(terms).fit(X, y_arr)\n",
    "    stats   = gam_full.statistics_\n",
    "\n",
    "    # extract per‐term edf if available, else fallback\n",
    "    if 'edof_per_term' in stats:\n",
    "        edfs = stats['edof_per_term']\n",
    "    elif 'edof' in stats:\n",
    "        # spread the total edf equally (or you could choose np.nan)\n",
    "        p    = X_df.shape[1]\n",
    "        edfs = [stats['edof'] / p] * p\n",
    "    else:\n",
    "        edfs = [np.nan] * X_df.shape[1]\n",
    "\n",
    "    return np.mean(rmse_lin), np.mean(rmse_gam), edfs\n",
    "\n",
    "# diagnostics\n",
    "diag = []\n",
    "# Diagnostics for M ~ X1 + X2\n",
    "lin_rmse_m, gam_rmse_m, edfs_m = linear_vs_gam_cv(train['M'], train[['X1','X2']])\n",
    "diag.append({\n",
    "    'Equation': 'M ~ X1,X2',\n",
    "    'Linear_RMSE': lin_rmse_m,\n",
    "    'GAM_RMSE':    gam_rmse_m,\n",
    "    'edf_X1':      edfs_m[0],\n",
    "    'edf_X2':      edfs_m[1]\n",
    "})\n",
    "# Diagnostics for Y ~ M,X1,X2\n",
    "lin_rmse_y, gam_rmse_y, edfs_y = linear_vs_gam_cv(train['Y'], train[['M','X1','X2']])\n",
    "diag.append({\n",
    "    'Equation': 'Y ~ M,X1,X2',\n",
    "    'Linear_RMSE': lin_rmse_y,\n",
    "    'GAM_RMSE':    gam_rmse_y,\n",
    "    'edf_M':       edfs_y[0],\n",
    "    'edf_X1':      edfs_y[1],\n",
    "    'edf_X2':      edfs_y[2]\n",
    "})\n",
    "\n",
    "diag_df = pd.DataFrame(diag)\n",
    "\n",
    "# 4) Correct d-separation test: test only exogenous pair X1 ⟂ X2\n",
    "r12, p12 = pearsonr(train['X1'], train['X2'])\n",
    "C = -2*np.log(p12)\n",
    "p_fish = 1 - chi2.cdf(C, 2)\n",
    "dsep_df = pd.DataFrame({\n",
    "    'Test': ['X1 ⟂ X2'],\n",
    "    'r':     [r12],\n",
    "    'p-value': [p12],\n",
    "    'Fisher_C': [C],\n",
    "    'Fisher_p': [p_fish]\n",
    "})\n",
    "\n",
    "# 5) Compute final GAM AMEs on train\n",
    "def compute_ame(gam, term, grid, means):\n",
    "    X = np.column_stack([\n",
    "        grid if i == term else np.repeat(means[i], grid.size)\n",
    "        for i in range(len(means))\n",
    "    ])\n",
    "    f = gam.partial_dependence(term=term, X=X)\n",
    "    d = np.gradient(f, grid)\n",
    "    return d.mean()\n",
    "\n",
    "# Fit GAMs\n",
    "gam_m = LinearGAM(s(0) + s(1)).fit(train[['X1','X2']], train['M'])\n",
    "gam_y = LinearGAM(s(0) + s(1) + s(2)).fit(train[['M','X1','X2']], train['Y'])\n",
    "\n",
    "# Grids and means\n",
    "grid_X1 = np.linspace(train.X1.min(), train.X1.max(), 200)\n",
    "grid_X2 = np.linspace(train.X2.min(), train.X2.max(), 200)\n",
    "grid_M  = np.linspace(train.M.min(),  train.M.max(),  200)\n",
    "mean_MX = [train.M.mean(), train.X1.mean(), train.X2.mean()]\n",
    "mean_X  = [train.X1.mean(), train.X2.mean()]\n",
    "\n",
    "ame_results = {\n",
    "    'Path': ['M ~ X1', 'M ~ X2', 'Y ~ M', 'Y ~ X1', 'Y ~ X2'],\n",
    "    'Train_AME': [\n",
    "        compute_ame(gam_m, 0, grid_X1, mean_X),\n",
    "        compute_ame(gam_m, 1, grid_X2, mean_X),\n",
    "        compute_ame(gam_y, 0, grid_M, mean_MX),\n",
    "        compute_ame(gam_y, 1, grid_X1, mean_MX),\n",
    "        compute_ame(gam_y, 2, grid_X2, mean_MX),\n",
    "    ]\n",
    "}\n",
    "\n",
    "ame_train_df = pd.DataFrame(ame_results)\n",
    "\n",
    "# 6) Validate AMEs on test set\n",
    "# Fit same GAMs on test\n",
    "gam_m_t = LinearGAM(s(0) + s(1)).fit(test[['X1','X2']], test['M'])\n",
    "gam_y_t = LinearGAM(s(0) + s(1) + s(2)).fit(test[['M','X1','X2']], test['Y'])\n",
    "\n",
    "ame_results['Test_AME'] = [\n",
    "    compute_ame(gam_m_t, 0, grid_X1, mean_X),\n",
    "    compute_ame(gam_m_t, 1, grid_X2, mean_X),\n",
    "    compute_ame(gam_y_t, 0, grid_M, mean_MX),\n",
    "    compute_ame(gam_y_t, 1, grid_X1, mean_MX),\n",
    "    compute_ame(gam_y_t, 2, grid_X2, mean_MX),\n",
    "]\n",
    "ame_full_df = pd.DataFrame(ame_results)\n",
    "\n",
    "# Display all results\n",
    "print(\"SEM Global Fit\")\n",
    "print(fit_df)\n",
    "print(\"GAM Diagnostics (AIC & edf)\")\n",
    "print(diag_df)\n",
    "print(\"D-separation Residual Test & Fisher's C\")\n",
    "print(dsep_df)\n",
    "print(\"Average Marginal Effects: Train vs Test\")\n",
    "print(ame_full_df)\n"
   ]
  },
  {
   "cell_type": "code",
   "execution_count": null,
   "id": "2413a738",
   "metadata": {},
   "outputs": [
    {
     "name": "stdout",
     "output_type": "stream",
     "text": [
      "In-sample fit indices:\n",
      "            chi2  chi2 p-value  DoF    RMSEA       CFI       TLI        AIC\n",
      "Value  24.945185      0.162354   19  0.03235  0.995498  0.993365  33.833699\n"
     ]
    },
    {
     "ename": "ValueError",
     "evalue": "Input contains NaN.",
     "output_type": "error",
     "traceback": [
      "\u001b[1;31m---------------------------------------------------------------------------\u001b[0m",
      "\u001b[1;31mValueError\u001b[0m                                Traceback (most recent call last)",
      "Cell \u001b[1;32mIn[269], line 105\u001b[0m\n\u001b[0;32m    102\u001b[0m     \u001b[38;5;66;03m# then compute per-fold RMSE\u001b[39;00m\n\u001b[0;32m    103\u001b[0m     \u001b[38;5;28;01mfor\u001b[39;00m y \u001b[38;5;129;01min\u001b[39;00m preds:\n\u001b[0;32m    104\u001b[0m         rmse_out[y]\u001b[38;5;241m.\u001b[39mappend(\n\u001b[1;32m--> 105\u001b[0m             \u001b[43mroot_mean_squared_error\u001b[49m\u001b[43m(\u001b[49m\u001b[43mtest_df\u001b[49m\u001b[43m[\u001b[49m\u001b[43my\u001b[49m\u001b[43m]\u001b[49m\u001b[43m,\u001b[49m\u001b[43m \u001b[49m\u001b[43mpreds\u001b[49m\u001b[43m[\u001b[49m\u001b[43my\u001b[49m\u001b[43m]\u001b[49m\u001b[43m)\u001b[49m\n\u001b[0;32m    106\u001b[0m         )\n\u001b[0;32m    108\u001b[0m \u001b[38;5;66;03m# After the loop\u001b[39;00m\n\u001b[0;32m    109\u001b[0m \u001b[38;5;28mprint\u001b[39m({y: np\u001b[38;5;241m.\u001b[39mmean(vals) \u001b[38;5;28;01mfor\u001b[39;00m y, vals \u001b[38;5;129;01min\u001b[39;00m rmse_out\u001b[38;5;241m.\u001b[39mitems()})\n",
      "File \u001b[1;32me:\\Anaconda3\\envs\\smallholder-env\\lib\\site-packages\\sklearn\\utils\\_param_validation.py:216\u001b[0m, in \u001b[0;36mvalidate_params.<locals>.decorator.<locals>.wrapper\u001b[1;34m(*args, **kwargs)\u001b[0m\n\u001b[0;32m    210\u001b[0m \u001b[38;5;28;01mtry\u001b[39;00m:\n\u001b[0;32m    211\u001b[0m     \u001b[38;5;28;01mwith\u001b[39;00m config_context(\n\u001b[0;32m    212\u001b[0m         skip_parameter_validation\u001b[38;5;241m=\u001b[39m(\n\u001b[0;32m    213\u001b[0m             prefer_skip_nested_validation \u001b[38;5;129;01mor\u001b[39;00m global_skip_validation\n\u001b[0;32m    214\u001b[0m         )\n\u001b[0;32m    215\u001b[0m     ):\n\u001b[1;32m--> 216\u001b[0m         \u001b[38;5;28;01mreturn\u001b[39;00m func(\u001b[38;5;241m*\u001b[39margs, \u001b[38;5;241m*\u001b[39m\u001b[38;5;241m*\u001b[39mkwargs)\n\u001b[0;32m    217\u001b[0m \u001b[38;5;28;01mexcept\u001b[39;00m InvalidParameterError \u001b[38;5;28;01mas\u001b[39;00m e:\n\u001b[0;32m    218\u001b[0m     \u001b[38;5;66;03m# When the function is just a wrapper around an estimator, we allow\u001b[39;00m\n\u001b[0;32m    219\u001b[0m     \u001b[38;5;66;03m# the function to delegate validation to the estimator, but we replace\u001b[39;00m\n\u001b[0;32m    220\u001b[0m     \u001b[38;5;66;03m# the name of the estimator by the name of the function in the error\u001b[39;00m\n\u001b[0;32m    221\u001b[0m     \u001b[38;5;66;03m# message to avoid confusion.\u001b[39;00m\n\u001b[0;32m    222\u001b[0m     msg \u001b[38;5;241m=\u001b[39m re\u001b[38;5;241m.\u001b[39msub(\n\u001b[0;32m    223\u001b[0m         \u001b[38;5;124mr\u001b[39m\u001b[38;5;124m\"\u001b[39m\u001b[38;5;124mparameter of \u001b[39m\u001b[38;5;124m\\\u001b[39m\u001b[38;5;124mw+ must be\u001b[39m\u001b[38;5;124m\"\u001b[39m,\n\u001b[0;32m    224\u001b[0m         \u001b[38;5;124mf\u001b[39m\u001b[38;5;124m\"\u001b[39m\u001b[38;5;124mparameter of \u001b[39m\u001b[38;5;132;01m{\u001b[39;00mfunc\u001b[38;5;241m.\u001b[39m\u001b[38;5;18m__qualname__\u001b[39m\u001b[38;5;132;01m}\u001b[39;00m\u001b[38;5;124m must be\u001b[39m\u001b[38;5;124m\"\u001b[39m,\n\u001b[0;32m    225\u001b[0m         \u001b[38;5;28mstr\u001b[39m(e),\n\u001b[0;32m    226\u001b[0m     )\n",
      "File \u001b[1;32me:\\Anaconda3\\envs\\smallholder-env\\lib\\site-packages\\sklearn\\metrics\\_regression.py:651\u001b[0m, in \u001b[0;36mroot_mean_squared_error\u001b[1;34m(y_true, y_pred, sample_weight, multioutput)\u001b[0m\n\u001b[0;32m    601\u001b[0m \u001b[38;5;250m\u001b[39m\u001b[38;5;124;03m\"\"\"Root mean squared error regression loss.\u001b[39;00m\n\u001b[0;32m    602\u001b[0m \n\u001b[0;32m    603\u001b[0m \u001b[38;5;124;03mRead more in the :ref:`User Guide <mean_squared_error>`.\u001b[39;00m\n\u001b[1;32m   (...)\u001b[0m\n\u001b[0;32m    645\u001b[0m \u001b[38;5;124;03m0.822...\u001b[39;00m\n\u001b[0;32m    646\u001b[0m \u001b[38;5;124;03m\"\"\"\u001b[39;00m\n\u001b[0;32m    648\u001b[0m xp, _ \u001b[38;5;241m=\u001b[39m get_namespace(y_true, y_pred, sample_weight, multioutput)\n\u001b[0;32m    650\u001b[0m output_errors \u001b[38;5;241m=\u001b[39m xp\u001b[38;5;241m.\u001b[39msqrt(\n\u001b[1;32m--> 651\u001b[0m     \u001b[43mmean_squared_error\u001b[49m\u001b[43m(\u001b[49m\n\u001b[0;32m    652\u001b[0m \u001b[43m        \u001b[49m\u001b[43my_true\u001b[49m\u001b[43m,\u001b[49m\u001b[43m \u001b[49m\u001b[43my_pred\u001b[49m\u001b[43m,\u001b[49m\u001b[43m \u001b[49m\u001b[43msample_weight\u001b[49m\u001b[38;5;241;43m=\u001b[39;49m\u001b[43msample_weight\u001b[49m\u001b[43m,\u001b[49m\u001b[43m \u001b[49m\u001b[43mmultioutput\u001b[49m\u001b[38;5;241;43m=\u001b[39;49m\u001b[38;5;124;43m\"\u001b[39;49m\u001b[38;5;124;43mraw_values\u001b[39;49m\u001b[38;5;124;43m\"\u001b[39;49m\n\u001b[0;32m    653\u001b[0m \u001b[43m    \u001b[49m\u001b[43m)\u001b[49m\n\u001b[0;32m    654\u001b[0m )\n\u001b[0;32m    656\u001b[0m \u001b[38;5;28;01mif\u001b[39;00m \u001b[38;5;28misinstance\u001b[39m(multioutput, \u001b[38;5;28mstr\u001b[39m):\n\u001b[0;32m    657\u001b[0m     \u001b[38;5;28;01mif\u001b[39;00m multioutput \u001b[38;5;241m==\u001b[39m \u001b[38;5;124m\"\u001b[39m\u001b[38;5;124mraw_values\u001b[39m\u001b[38;5;124m\"\u001b[39m:\n",
      "File \u001b[1;32me:\\Anaconda3\\envs\\smallholder-env\\lib\\site-packages\\sklearn\\utils\\_param_validation.py:189\u001b[0m, in \u001b[0;36mvalidate_params.<locals>.decorator.<locals>.wrapper\u001b[1;34m(*args, **kwargs)\u001b[0m\n\u001b[0;32m    187\u001b[0m global_skip_validation \u001b[38;5;241m=\u001b[39m get_config()[\u001b[38;5;124m\"\u001b[39m\u001b[38;5;124mskip_parameter_validation\u001b[39m\u001b[38;5;124m\"\u001b[39m]\n\u001b[0;32m    188\u001b[0m \u001b[38;5;28;01mif\u001b[39;00m global_skip_validation:\n\u001b[1;32m--> 189\u001b[0m     \u001b[38;5;28;01mreturn\u001b[39;00m func(\u001b[38;5;241m*\u001b[39margs, \u001b[38;5;241m*\u001b[39m\u001b[38;5;241m*\u001b[39mkwargs)\n\u001b[0;32m    191\u001b[0m func_sig \u001b[38;5;241m=\u001b[39m signature(func)\n\u001b[0;32m    193\u001b[0m \u001b[38;5;66;03m# Map *args/**kwargs to the function signature\u001b[39;00m\n",
      "File \u001b[1;32me:\\Anaconda3\\envs\\smallholder-env\\lib\\site-packages\\sklearn\\metrics\\_regression.py:565\u001b[0m, in \u001b[0;36mmean_squared_error\u001b[1;34m(y_true, y_pred, sample_weight, multioutput)\u001b[0m\n\u001b[0;32m    515\u001b[0m \u001b[38;5;250m\u001b[39m\u001b[38;5;124;03m\"\"\"Mean squared error regression loss.\u001b[39;00m\n\u001b[0;32m    516\u001b[0m \n\u001b[0;32m    517\u001b[0m \u001b[38;5;124;03mRead more in the :ref:`User Guide <mean_squared_error>`.\u001b[39;00m\n\u001b[1;32m   (...)\u001b[0m\n\u001b[0;32m    561\u001b[0m \u001b[38;5;124;03m0.825...\u001b[39;00m\n\u001b[0;32m    562\u001b[0m \u001b[38;5;124;03m\"\"\"\u001b[39;00m\n\u001b[0;32m    563\u001b[0m xp, _ \u001b[38;5;241m=\u001b[39m get_namespace(y_true, y_pred, sample_weight, multioutput)\n\u001b[0;32m    564\u001b[0m _, y_true, y_pred, sample_weight, multioutput \u001b[38;5;241m=\u001b[39m (\n\u001b[1;32m--> 565\u001b[0m     \u001b[43m_check_reg_targets_with_floating_dtype\u001b[49m\u001b[43m(\u001b[49m\n\u001b[0;32m    566\u001b[0m \u001b[43m        \u001b[49m\u001b[43my_true\u001b[49m\u001b[43m,\u001b[49m\u001b[43m \u001b[49m\u001b[43my_pred\u001b[49m\u001b[43m,\u001b[49m\u001b[43m \u001b[49m\u001b[43msample_weight\u001b[49m\u001b[43m,\u001b[49m\u001b[43m \u001b[49m\u001b[43mmultioutput\u001b[49m\u001b[43m,\u001b[49m\u001b[43m \u001b[49m\u001b[43mxp\u001b[49m\u001b[38;5;241;43m=\u001b[39;49m\u001b[43mxp\u001b[49m\n\u001b[0;32m    567\u001b[0m \u001b[43m    \u001b[49m\u001b[43m)\u001b[49m\n\u001b[0;32m    568\u001b[0m )\n\u001b[0;32m    569\u001b[0m check_consistent_length(y_true, y_pred, sample_weight)\n\u001b[0;32m    570\u001b[0m output_errors \u001b[38;5;241m=\u001b[39m _average((y_true \u001b[38;5;241m-\u001b[39m y_pred) \u001b[38;5;241m*\u001b[39m\u001b[38;5;241m*\u001b[39m \u001b[38;5;241m2\u001b[39m, axis\u001b[38;5;241m=\u001b[39m\u001b[38;5;241m0\u001b[39m, weights\u001b[38;5;241m=\u001b[39msample_weight)\n",
      "File \u001b[1;32me:\\Anaconda3\\envs\\smallholder-env\\lib\\site-packages\\sklearn\\metrics\\_regression.py:198\u001b[0m, in \u001b[0;36m_check_reg_targets_with_floating_dtype\u001b[1;34m(y_true, y_pred, sample_weight, multioutput, xp)\u001b[0m\n\u001b[0;32m    148\u001b[0m \u001b[38;5;250m\u001b[39m\u001b[38;5;124;03m\"\"\"Ensures that y_true, y_pred, and sample_weight correspond to the same\u001b[39;00m\n\u001b[0;32m    149\u001b[0m \u001b[38;5;124;03mregression task.\u001b[39;00m\n\u001b[0;32m    150\u001b[0m \n\u001b[1;32m   (...)\u001b[0m\n\u001b[0;32m    194\u001b[0m \u001b[38;5;124;03m    correct keyword.\u001b[39;00m\n\u001b[0;32m    195\u001b[0m \u001b[38;5;124;03m\"\"\"\u001b[39;00m\n\u001b[0;32m    196\u001b[0m dtype_name \u001b[38;5;241m=\u001b[39m _find_matching_floating_dtype(y_true, y_pred, sample_weight, xp\u001b[38;5;241m=\u001b[39mxp)\n\u001b[1;32m--> 198\u001b[0m y_type, y_true, y_pred, multioutput \u001b[38;5;241m=\u001b[39m \u001b[43m_check_reg_targets\u001b[49m\u001b[43m(\u001b[49m\n\u001b[0;32m    199\u001b[0m \u001b[43m    \u001b[49m\u001b[43my_true\u001b[49m\u001b[43m,\u001b[49m\u001b[43m \u001b[49m\u001b[43my_pred\u001b[49m\u001b[43m,\u001b[49m\u001b[43m \u001b[49m\u001b[43mmultioutput\u001b[49m\u001b[43m,\u001b[49m\u001b[43m \u001b[49m\u001b[43mdtype\u001b[49m\u001b[38;5;241;43m=\u001b[39;49m\u001b[43mdtype_name\u001b[49m\u001b[43m,\u001b[49m\u001b[43m \u001b[49m\u001b[43mxp\u001b[49m\u001b[38;5;241;43m=\u001b[39;49m\u001b[43mxp\u001b[49m\n\u001b[0;32m    200\u001b[0m \u001b[43m\u001b[49m\u001b[43m)\u001b[49m\n\u001b[0;32m    202\u001b[0m \u001b[38;5;66;03m# _check_reg_targets does not accept sample_weight as input.\u001b[39;00m\n\u001b[0;32m    203\u001b[0m \u001b[38;5;66;03m# Convert sample_weight's data type separately to match dtype_name.\u001b[39;00m\n\u001b[0;32m    204\u001b[0m \u001b[38;5;28;01mif\u001b[39;00m sample_weight \u001b[38;5;129;01mis\u001b[39;00m \u001b[38;5;129;01mnot\u001b[39;00m \u001b[38;5;28;01mNone\u001b[39;00m:\n",
      "File \u001b[1;32me:\\Anaconda3\\envs\\smallholder-env\\lib\\site-packages\\sklearn\\metrics\\_regression.py:106\u001b[0m, in \u001b[0;36m_check_reg_targets\u001b[1;34m(y_true, y_pred, multioutput, dtype, xp)\u001b[0m\n\u001b[0;32m    104\u001b[0m check_consistent_length(y_true, y_pred)\n\u001b[0;32m    105\u001b[0m y_true \u001b[38;5;241m=\u001b[39m check_array(y_true, ensure_2d\u001b[38;5;241m=\u001b[39m\u001b[38;5;28;01mFalse\u001b[39;00m, dtype\u001b[38;5;241m=\u001b[39mdtype)\n\u001b[1;32m--> 106\u001b[0m y_pred \u001b[38;5;241m=\u001b[39m \u001b[43mcheck_array\u001b[49m\u001b[43m(\u001b[49m\u001b[43my_pred\u001b[49m\u001b[43m,\u001b[49m\u001b[43m \u001b[49m\u001b[43mensure_2d\u001b[49m\u001b[38;5;241;43m=\u001b[39;49m\u001b[38;5;28;43;01mFalse\u001b[39;49;00m\u001b[43m,\u001b[49m\u001b[43m \u001b[49m\u001b[43mdtype\u001b[49m\u001b[38;5;241;43m=\u001b[39;49m\u001b[43mdtype\u001b[49m\u001b[43m)\u001b[49m\n\u001b[0;32m    108\u001b[0m \u001b[38;5;28;01mif\u001b[39;00m y_true\u001b[38;5;241m.\u001b[39mndim \u001b[38;5;241m==\u001b[39m \u001b[38;5;241m1\u001b[39m:\n\u001b[0;32m    109\u001b[0m     y_true \u001b[38;5;241m=\u001b[39m xp\u001b[38;5;241m.\u001b[39mreshape(y_true, (\u001b[38;5;241m-\u001b[39m\u001b[38;5;241m1\u001b[39m, \u001b[38;5;241m1\u001b[39m))\n",
      "File \u001b[1;32me:\\Anaconda3\\envs\\smallholder-env\\lib\\site-packages\\sklearn\\utils\\validation.py:1107\u001b[0m, in \u001b[0;36mcheck_array\u001b[1;34m(array, accept_sparse, accept_large_sparse, dtype, order, copy, force_writeable, force_all_finite, ensure_all_finite, ensure_non_negative, ensure_2d, allow_nd, ensure_min_samples, ensure_min_features, estimator, input_name)\u001b[0m\n\u001b[0;32m   1101\u001b[0m     \u001b[38;5;28;01mraise\u001b[39;00m \u001b[38;5;167;01mValueError\u001b[39;00m(\n\u001b[0;32m   1102\u001b[0m         \u001b[38;5;124m\"\u001b[39m\u001b[38;5;124mFound array with dim \u001b[39m\u001b[38;5;132;01m%d\u001b[39;00m\u001b[38;5;124m. \u001b[39m\u001b[38;5;132;01m%s\u001b[39;00m\u001b[38;5;124m expected <= 2.\u001b[39m\u001b[38;5;124m\"\u001b[39m\n\u001b[0;32m   1103\u001b[0m         \u001b[38;5;241m%\u001b[39m (array\u001b[38;5;241m.\u001b[39mndim, estimator_name)\n\u001b[0;32m   1104\u001b[0m     )\n\u001b[0;32m   1106\u001b[0m \u001b[38;5;28;01mif\u001b[39;00m ensure_all_finite:\n\u001b[1;32m-> 1107\u001b[0m     \u001b[43m_assert_all_finite\u001b[49m\u001b[43m(\u001b[49m\n\u001b[0;32m   1108\u001b[0m \u001b[43m        \u001b[49m\u001b[43marray\u001b[49m\u001b[43m,\u001b[49m\n\u001b[0;32m   1109\u001b[0m \u001b[43m        \u001b[49m\u001b[43minput_name\u001b[49m\u001b[38;5;241;43m=\u001b[39;49m\u001b[43minput_name\u001b[49m\u001b[43m,\u001b[49m\n\u001b[0;32m   1110\u001b[0m \u001b[43m        \u001b[49m\u001b[43mestimator_name\u001b[49m\u001b[38;5;241;43m=\u001b[39;49m\u001b[43mestimator_name\u001b[49m\u001b[43m,\u001b[49m\n\u001b[0;32m   1111\u001b[0m \u001b[43m        \u001b[49m\u001b[43mallow_nan\u001b[49m\u001b[38;5;241;43m=\u001b[39;49m\u001b[43mensure_all_finite\u001b[49m\u001b[43m \u001b[49m\u001b[38;5;241;43m==\u001b[39;49m\u001b[43m \u001b[49m\u001b[38;5;124;43m\"\u001b[39;49m\u001b[38;5;124;43mallow-nan\u001b[39;49m\u001b[38;5;124;43m\"\u001b[39;49m\u001b[43m,\u001b[49m\n\u001b[0;32m   1112\u001b[0m \u001b[43m    \u001b[49m\u001b[43m)\u001b[49m\n\u001b[0;32m   1114\u001b[0m \u001b[38;5;28;01mif\u001b[39;00m copy:\n\u001b[0;32m   1115\u001b[0m     \u001b[38;5;28;01mif\u001b[39;00m _is_numpy_namespace(xp):\n\u001b[0;32m   1116\u001b[0m         \u001b[38;5;66;03m# only make a copy if `array` and `array_orig` may share memory`\u001b[39;00m\n",
      "File \u001b[1;32me:\\Anaconda3\\envs\\smallholder-env\\lib\\site-packages\\sklearn\\utils\\validation.py:120\u001b[0m, in \u001b[0;36m_assert_all_finite\u001b[1;34m(X, allow_nan, msg_dtype, estimator_name, input_name)\u001b[0m\n\u001b[0;32m    117\u001b[0m \u001b[38;5;28;01mif\u001b[39;00m first_pass_isfinite:\n\u001b[0;32m    118\u001b[0m     \u001b[38;5;28;01mreturn\u001b[39;00m\n\u001b[1;32m--> 120\u001b[0m \u001b[43m_assert_all_finite_element_wise\u001b[49m\u001b[43m(\u001b[49m\n\u001b[0;32m    121\u001b[0m \u001b[43m    \u001b[49m\u001b[43mX\u001b[49m\u001b[43m,\u001b[49m\n\u001b[0;32m    122\u001b[0m \u001b[43m    \u001b[49m\u001b[43mxp\u001b[49m\u001b[38;5;241;43m=\u001b[39;49m\u001b[43mxp\u001b[49m\u001b[43m,\u001b[49m\n\u001b[0;32m    123\u001b[0m \u001b[43m    \u001b[49m\u001b[43mallow_nan\u001b[49m\u001b[38;5;241;43m=\u001b[39;49m\u001b[43mallow_nan\u001b[49m\u001b[43m,\u001b[49m\n\u001b[0;32m    124\u001b[0m \u001b[43m    \u001b[49m\u001b[43mmsg_dtype\u001b[49m\u001b[38;5;241;43m=\u001b[39;49m\u001b[43mmsg_dtype\u001b[49m\u001b[43m,\u001b[49m\n\u001b[0;32m    125\u001b[0m \u001b[43m    \u001b[49m\u001b[43mestimator_name\u001b[49m\u001b[38;5;241;43m=\u001b[39;49m\u001b[43mestimator_name\u001b[49m\u001b[43m,\u001b[49m\n\u001b[0;32m    126\u001b[0m \u001b[43m    \u001b[49m\u001b[43minput_name\u001b[49m\u001b[38;5;241;43m=\u001b[39;49m\u001b[43minput_name\u001b[49m\u001b[43m,\u001b[49m\n\u001b[0;32m    127\u001b[0m \u001b[43m\u001b[49m\u001b[43m)\u001b[49m\n",
      "File \u001b[1;32me:\\Anaconda3\\envs\\smallholder-env\\lib\\site-packages\\sklearn\\utils\\validation.py:169\u001b[0m, in \u001b[0;36m_assert_all_finite_element_wise\u001b[1;34m(X, xp, allow_nan, msg_dtype, estimator_name, input_name)\u001b[0m\n\u001b[0;32m    152\u001b[0m \u001b[38;5;28;01mif\u001b[39;00m estimator_name \u001b[38;5;129;01mand\u001b[39;00m input_name \u001b[38;5;241m==\u001b[39m \u001b[38;5;124m\"\u001b[39m\u001b[38;5;124mX\u001b[39m\u001b[38;5;124m\"\u001b[39m \u001b[38;5;129;01mand\u001b[39;00m has_nan_error:\n\u001b[0;32m    153\u001b[0m     \u001b[38;5;66;03m# Improve the error message on how to handle missing values in\u001b[39;00m\n\u001b[0;32m    154\u001b[0m     \u001b[38;5;66;03m# scikit-learn.\u001b[39;00m\n\u001b[0;32m    155\u001b[0m     msg_err \u001b[38;5;241m+\u001b[39m\u001b[38;5;241m=\u001b[39m (\n\u001b[0;32m    156\u001b[0m         \u001b[38;5;124mf\u001b[39m\u001b[38;5;124m\"\u001b[39m\u001b[38;5;130;01m\\n\u001b[39;00m\u001b[38;5;132;01m{\u001b[39;00mestimator_name\u001b[38;5;132;01m}\u001b[39;00m\u001b[38;5;124m does not accept missing values\u001b[39m\u001b[38;5;124m\"\u001b[39m\n\u001b[0;32m    157\u001b[0m         \u001b[38;5;124m\"\u001b[39m\u001b[38;5;124m encoded as NaN natively. For supervised learning, you might want\u001b[39m\u001b[38;5;124m\"\u001b[39m\n\u001b[1;32m   (...)\u001b[0m\n\u001b[0;32m    167\u001b[0m         \u001b[38;5;124m\"\u001b[39m\u001b[38;5;124m#estimators-that-handle-nan-values\u001b[39m\u001b[38;5;124m\"\u001b[39m\n\u001b[0;32m    168\u001b[0m     )\n\u001b[1;32m--> 169\u001b[0m \u001b[38;5;28;01mraise\u001b[39;00m \u001b[38;5;167;01mValueError\u001b[39;00m(msg_err)\n",
      "\u001b[1;31mValueError\u001b[0m: Input contains NaN."
     ]
    }
   ],
   "source": [
    "import numpy as np\n",
    "import pandas as pd\n",
    "from semopy import Model, calc_stats\n",
    "from sklearn.linear_model import Lasso, LinearRegression\n",
    "from sklearn.model_selection import KFold\n",
    "from sklearn.metrics import root_mean_squared_error\n",
    "from pygam import LinearGAM, s\n",
    "import networkx as nx\n",
    "import matplotlib.pyplot as plt\n",
    "\n",
    "# 1. Generate dummy data\n",
    "np.random.seed(0)\n",
    "n = 300\n",
    "\n",
    "# Latent psychological constructs (Hope, Risk)\n",
    "# Simulate latent factors\n",
    "hope_latent = np.random.normal(0, 1, n)\n",
    "risk_latent = np.random.normal(0, 1, n)\n",
    "\n",
    "# Manifest indicators (with noise)\n",
    "data = pd.DataFrame({\n",
    "    'hope1': 0.8 * hope_latent + np.random.normal(0, 0.5, n),\n",
    "    'hope2': 0.9 * hope_latent + np.random.normal(0, 0.5, n),\n",
    "    'hope3': 0.7 * hope_latent + np.random.normal(0, 0.5, n),\n",
    "    'risk1': 0.6 * risk_latent + np.random.normal(0, 0.5, n),\n",
    "    'risk2': 0.8 * risk_latent + np.random.normal(0, 0.5, n),\n",
    "    'risk3': 0.7 * risk_latent + np.random.normal(0, 0.5, n),\n",
    "})\n",
    "\n",
    "# Outcomes\n",
    "# Initial bivariate associations\n",
    "data['prod1'] = 1.2 * hope_latent + np.random.normal(0, 1, n)\n",
    "data['prod2'] = -0.8 * risk_latent + np.random.normal(0, 1, n)\n",
    "\n",
    "# 2. SEM specification (CFA + regressions)\n",
    "model_desc = \"\"\"\n",
    "# Measurement models for latent constructs\n",
    "Hope =~ hope1 + hope2 + hope3\n",
    "Risk =~ risk1 + risk2 + risk3\n",
    "\n",
    "# Structural regressions (initially both paths)\n",
    "prod1 ~ Hope\n",
    "prod2 ~ Risk\n",
    "\"\"\"\n",
    "\n",
    "# 3. Fit SEM with LASSO penalty to select edges\n",
    "sem = Model(model_desc)\n",
    "# semopy allows penalized fitting; here we use LASSO on regression paths\n",
    "np.int = int\n",
    "from semopy import create_regularization\n",
    "\n",
    "all_names = sem.parameters.keys()                  # all model parameters\n",
    "regr_names = [n for n in all_names if '~' in n]       # filter to regressions only\n",
    "\n",
    "reg = create_regularization(model=sem, regularization='l1-thresh', c=0.1, param_names=regr_names)\n",
    "sem.fit(data, obj='MLW', regularization=reg)\n",
    "\n",
    "# 4. In-sample fit indices\n",
    "stats = calc_stats(sem)\n",
    "print(\"In-sample fit indices:\")\n",
    "print(stats[['chi2', 'chi2 p-value', 'DoF', 'RMSEA', 'CFI', 'TLI', 'AIC']])\n",
    "\n",
    "# 5. K-fold CV for SEM predictive power\n",
    "kf = KFold(n_splits=5, shuffle=True, random_state=0)\n",
    "rmse_out = {y: [] for y in ['prod1','prod2']}\n",
    "\n",
    "for train_idx, test_idx in kf.split(data):\n",
    "    train_df = data.iloc[train_idx]\n",
    "    test_df = data.iloc[test_idx]\n",
    "\n",
    "    sem_cv = Model(model_desc)\n",
    "    # Build the L1 penalty for this sem_cv instance\n",
    "    reg_cv = create_regularization(\n",
    "        model=sem_cv,\n",
    "        regularization='l1-thresh',\n",
    "        c=0.1,\n",
    "        param_names=regr_names\n",
    "    )\n",
    "    sem_cv.fit(train_df, obj='MLW', regularization=reg_cv)\n",
    "    # After fitting sem_cv on train_df:\n",
    "    # 1. Estimate latent scores for the test set\n",
    "    factors_test = sem_cv.predict_factors(test_df)\n",
    "    # This yields columns [\"Hope\", \"Risk\"] corresponding to your two latent constructs\n",
    "\n",
    "    # 2. Merge the factor scores into test_df\n",
    "    test_aug = test_df.join(factors_test)\n",
    "\n",
    "    # 3. Now build predictions using latent factors instead of missing ones\n",
    "    coef_df = sem_cv.inspect()\n",
    "    preds = {}\n",
    "    for y in ['prod1','prod2']:\n",
    "        regr = coef_df[(coef_df['op']=='~') & (coef_df['lval']==y)]\n",
    "        if '1' in regr['rval'].values:\n",
    "            intercept = regr.loc[regr['rval']=='1','Estimate'].iloc[0]\n",
    "            regr = regr[regr['rval']!='1']\n",
    "        else:\n",
    "            intercept = 0.0\n",
    "        coefs = regr.set_index('rval')['Estimate']\n",
    "        # Now `coefs.index` will include \"Hope\" or \"Risk\"\n",
    "        preds[y] = test_aug[coefs.index].dot(coefs) + intercept\n",
    "\n",
    "    # then compute per-fold RMSE\n",
    "    for y in preds:\n",
    "        rmse_out[y].append(\n",
    "            root_mean_squared_error(test_df[y], preds[y])\n",
    "        )\n",
    "\n",
    "# After the loop\n",
    "print({y: np.mean(vals) for y, vals in rmse_out.items()})\n",
    "\n",
    "from pygam.utils import gen_edge_knots  # public utility :contentReference[oaicite:12]{index=12}\n",
    "\n",
    "# 6. If fit & CV OK, refine each surviving arrow with GAM\n",
    "# Get regression edges from sem.inspect()\n",
    "params = sem.inspect()\n",
    "surviving = params[(params['op'] == '~') & (np.abs(params['Estimate']) > 1e-3)]\n",
    "results = {}\n",
    "\n",
    "for _, row in surviving.iterrows():\n",
    "    parent = row['rval']\n",
    "    child = row['lval']\n",
    "    X = data[[parent]].values\n",
    "    # Partial out other parents\n",
    "    other_parents = surviving[surviving['lval'] == child]['rval'].tolist()\n",
    "    other_parents.remove(parent)\n",
    "    if other_parents:\n",
    "        lm = LinearRegression().fit(data[other_parents], data[child])\n",
    "        y_star = data[child] - lm.predict(data[other_parents])\n",
    "    else:\n",
    "        y_star = data[child].values\n",
    "\n",
    "    # Linear vs. GAM\n",
    "    lin = LinearRegression().fit(X, y_star)\n",
    "    rss_lin = ((y_star - lin.predict(X))**2).sum()\n",
    "    k_lin = 2  # intercept + slope\n",
    "    gam = LinearGAM(s(0, n_splines=5)).fit(X, y_star)\n",
    "    rss_gam = ((y_star - gam.predict(X))**2).sum()\n",
    "    k_gam = gam.statistics_['edof']\n",
    "    aic_lin = len(y_star)*np.log(rss_lin/len(y_star)) + 2*k_lin\n",
    "    aic_gam = len(y_star)*np.log(rss_gam/len(y_star)) + 2*k_gam\n",
    "\n",
    "    if aic_gam + 2 < aic_lin:\n",
    "        # Nonlinear wins\n",
    "        # Suppose X is your one-dimensional feature array for this term:\n",
    "        edge_min, edge_max = gen_edge_knots(X.flatten(), dtype='numerical')\n",
    "        n_splines = gam.terms[0].info['n_splines']  # from SplineTerm info :contentReference[oaicite:13]{index=13}\n",
    "\n",
    "        knots = np.linspace(edge_min, edge_max, n_splines)\n",
    "        deriv = gam.partial_derivative(X)\n",
    "        avg_effects = [\n",
    "            deriv[(X[:,0]>=knots[i]) & (X[:,0]<knots[i+1])].mean()\n",
    "            for i in range(len(knots)-1)\n",
    "        ]\n",
    "        results[f\"{parent}->{child}\"] = {\n",
    "            'type': 'GAM',\n",
    "            'knots': knots.tolist(),\n",
    "            'avg_effects': avg_effects\n",
    "        }\n",
    "    else:\n",
    "        # Keep linear\n",
    "        results[f\"{parent}->{child}\"] = {\n",
    "            'type': 'linear',\n",
    "            'beta': lin.coef_[0]\n",
    "        }\n",
    "\n",
    "print(\"Edge refinements:\")\n",
    "print(results)\n",
    "\n",
    "# 7. Plot SEM graph\n",
    "G = nx.DiGraph()\n",
    "for edge, info in results.items():\n",
    "    p, c = edge.split('->')\n",
    "    label = \"\"\n",
    "    if info['type'] == 'linear':\n",
    "        label = f\"{info['beta']:.2f}\"\n",
    "    else:\n",
    "        label = \"GAM\"\n",
    "    G.add_edge(p, c, label=label)\n",
    "\n",
    "pos = nx.spring_layout(G)\n",
    "nx.draw(G, pos, with_labels=True, node_size=2000, node_color='lightblue')\n",
    "edge_labels = nx.get_edge_attributes(G, 'label')\n",
    "nx.draw_networkx_edge_labels(G, pos, edge_labels=edge_labels)\n",
    "plt.show()\n"
   ]
  },
  {
   "cell_type": "code",
   "execution_count": null,
   "id": "d30d13c4",
   "metadata": {},
   "outputs": [
    {
     "name": "stdout",
     "output_type": "stream",
     "text": [
      "In-sample fit indices:\n",
      "            chi2  chi2 p-value  DoF     RMSEA       CFI       TLI        AIC\n",
      "Value  23.859808      0.201585   19  0.029248  0.996429  0.994738  33.840935\n",
      "CV RMSE: {'prod1': np.float64(2.2508456956427625), 'prod2': np.float64(0.8783966787672449)}\n",
      "Edge refinements:\n",
      "{'Hope->prod1': {'type': 'GAM', 'knots': [-2.8827914184063403, -1.5903240889894525, -0.29785675957256474, 0.9946105698443231, 2.287077899261211], 'avg_effects': [np.float64(5.383240595456474), np.float64(4.666042159852257), np.float64(4.370400877065564), np.float64(4.482371009543537)]}, 'Risk->prod2': {'type': 'linear', 'beta': np.float64(-1.4461820798780696)}}\n"
     ]
    },
    {
     "data": {
      "image/png": "[encoded data removed]",
      "text/plain": [
       "<Figure size 640x480 with 1 Axes>"
      ]
     },
     "metadata": {},
     "output_type": "display_data"
    }
   ],
   "source": [
    "import numpy as np\n",
    "import pandas as pd\n",
    "\n",
    "# Restore np.int for semopy compatibility (NumPy ≥1.24)\n",
    "np.int = int\n",
    "\n",
    "from semopy import Model, calc_stats, create_regularization\n",
    "from sklearn.linear_model import LinearRegression\n",
    "from sklearn.model_selection import KFold\n",
    "from sklearn.metrics import mean_squared_error\n",
    "from pygam import LinearGAM, s\n",
    "from pygam.utils import gen_edge_knots\n",
    "import networkx as nx\n",
    "import matplotlib.pyplot as plt\n",
    "\n",
    "# 1. Generate dummy data\n",
    "np.random.seed(0)\n",
    "n = 300\n",
    "hope_latent = np.random.normal(size=n)\n",
    "risk_latent = np.random.normal(size=n)\n",
    "\n",
    "data = pd.DataFrame({\n",
    "    'hope1': 0.8 * hope_latent + np.random.normal(scale=0.5, size=n),\n",
    "    'hope2': 0.9 * hope_latent + np.random.normal(scale=0.5, size=n),\n",
    "    'hope3': 0.7 * hope_latent + np.random.normal(scale=0.5, size=n),\n",
    "    'risk1': 0.6 * risk_latent + np.random.normal(scale=0.5, size=n),\n",
    "    'risk2': 0.8 * risk_latent + np.random.normal(scale=0.5, size=n),\n",
    "    'risk3': 0.7 * risk_latent + np.random.normal(scale=0.5, size=n),\n",
    "})\n",
    "data['prod1'] = 1.2 * hope_latent**3 + np.random.normal(scale=1, size=n)\n",
    "data['prod2'] = -0.8 * risk_latent + np.random.normal(scale=1, size=n)\n",
    "\n",
    "# 2. SEM specification\n",
    "model_desc = \"\"\"\n",
    "Hope =~ hope1 + hope2 + hope3\n",
    "Risk =~ risk1 + risk2 + risk3\n",
    "\n",
    "prod1 ~ Hope\n",
    "prod2 ~ Risk\n",
    "\"\"\"\n",
    "\n",
    "# 3. Fit SEM with L1-threshold penalty\n",
    "sem = Model(model_desc)\n",
    "all_params  = list(sem.parameters.keys())\n",
    "regr_params = [p for p in all_params if '~' in p]\n",
    "\n",
    "reg = create_regularization(\n",
    "    model=sem,\n",
    "    regularization='l1-thresh',\n",
    "    c=0.1,\n",
    "    param_names=regr_params\n",
    ")\n",
    "sem.fit(data, obj='MLW', regularization=reg)\n",
    "\n",
    "# 4. In-sample fit indices\n",
    "stats = calc_stats(sem)\n",
    "print(\"In-sample fit indices:\")\n",
    "print(stats[['chi2','chi2 p-value','DoF','RMSEA','CFI','TLI','AIC']])\n",
    "\n",
    "# 5. 5-fold CV for true out-of-sample RMSE\n",
    "kf = KFold(n_splits=5, shuffle=True, random_state=0)\n",
    "rmse_out = {y: [] for y in ['prod1','prod2']}\n",
    "\n",
    "for train_idx, test_idx in kf.split(data):\n",
    "    train_df = data.iloc[train_idx]\n",
    "    test_df  = data.iloc[test_idx]\n",
    "\n",
    "    # (a) fit penalized SEM on train fold\n",
    "    sem_cv = Model(model_desc)\n",
    "    reg_cv = create_regularization(\n",
    "        model=sem_cv,\n",
    "        regularization='l1-thresh',\n",
    "        c=0.1,\n",
    "        param_names=regr_params\n",
    "    )\n",
    "    sem_cv.fit(train_df, obj='MLW', regularization=reg_cv)\n",
    "\n",
    "    # (b) estimate factor scores on hold-out and merge\n",
    "    f_test       = sem_cv.predict_factors(test_df)\n",
    "    f_test.index = test_df.index\n",
    "    test_aug     = pd.concat([test_df, f_test], axis=1)\n",
    "\n",
    "    # (c) build out-of-sample preds using inspect()\n",
    "    coef_df = sem_cv.inspect()\n",
    "    preds   = {}\n",
    "    for y in ['prod1','prod2']:\n",
    "        regr = coef_df[(coef_df['op']=='~') & (coef_df['lval']==y)]\n",
    "        # extract intercept\n",
    "        if '1' in set(regr['rval']):\n",
    "            intercept = regr.loc[regr['rval']=='1','Estimate'].iloc[0]\n",
    "            regr      = regr[regr['rval']!='1']\n",
    "        else:\n",
    "            intercept = 0.0\n",
    "        coefs = regr.set_index('rval')['Estimate']\n",
    "        preds[y] = test_aug[coefs.index].dot(coefs) + intercept\n",
    "\n",
    "    # (d) compute RMSE for this fold\n",
    "    for y, y_pred in preds.items():\n",
    "        y_true = test_aug[y]\n",
    "        mse    = mean_squared_error(y_true, y_pred)\n",
    "        rmse_out[y].append(np.sqrt(mse))\n",
    "\n",
    "# report average CV-RMSE\n",
    "print(\"CV RMSE:\", {y: np.mean(v) for y, v in rmse_out.items()})\n",
    "\n",
    "# 6. GAM-based edge refinement on the full dataset\n",
    "# first augment the full data with its factor scores\n",
    "f_full        = sem.predict_factors(data)\n",
    "f_full.index  = data.index\n",
    "data_aug_full = pd.concat([data, f_full], axis=1)\n",
    "\n",
    "params    = sem.inspect()\n",
    "# only structural regressions on prod1 and prod2:\n",
    "surviving = params[\n",
    "    (params['op']=='~') &\n",
    "    (params['lval'].isin(['prod1','prod2'])) &\n",
    "    (params['Estimate'].abs()>1e-3)\n",
    "]\n",
    "results = {}\n",
    "\n",
    "for _, row in surviving.iterrows():\n",
    "    parent, child = row['rval'], row['lval']\n",
    "    X = data_aug_full[[parent]].values\n",
    "\n",
    "    # partial-out other structural parents (none in this simple model)\n",
    "    others = list(surviving[surviving['lval']==child]['rval'])\n",
    "    others.remove(parent)\n",
    "    if others:\n",
    "        lm     = LinearRegression().fit(data_aug_full[others], data_aug_full[child])\n",
    "        y_star = data_aug_full[child] - lm.predict(data_aug_full[others])\n",
    "    else:\n",
    "        y_star = data_aug_full[child].values\n",
    "\n",
    "    # Linear vs GAM\n",
    "    lin     = LinearRegression().fit(X, y_star)\n",
    "    rss_lin = ((y_star - lin.predict(X))**2).sum()\n",
    "    k_lin   = 2\n",
    "\n",
    "    gam     = LinearGAM(s(0, n_splines=5)).fit(X, y_star)\n",
    "    rss_gam = ((y_star - gam.predict(X))**2).sum()\n",
    "    k_gam   = gam.statistics_['edof']\n",
    "\n",
    "    aic_lin = len(y_star)*np.log(rss_lin/len(y_star)) + 2*k_lin\n",
    "    aic_gam = len(y_star)*np.log(rss_gam/len(y_star)) + 2*k_gam\n",
    "\n",
    "    if aic_gam + 2 < aic_lin:\n",
    "        emin, emax   = gen_edge_knots(X.flatten(), dtype='numerical')\n",
    "        n_spl        = gam.terms[0].info['n_splines']\n",
    "        knots        = np.linspace(emin, emax, n_spl)\n",
    "        # 2) choose a small step for finite differences\n",
    "        eps = (emax - emin) / 200.0\n",
    "\n",
    "        # 3) flatten X for vectorized prediction\n",
    "        X_flat = X.flatten()\n",
    "\n",
    "        # 4) compute +eps and –eps predictions\n",
    "        pred_plus  = gam.predict((X_flat + eps).reshape(-1, 1))\n",
    "        pred_minus = gam.predict((X_flat - eps).reshape(-1, 1))\n",
    "\n",
    "        # 5) approximate derivative\n",
    "        deriv = (pred_plus - pred_minus) / (2 * eps)\n",
    "\n",
    "        # 6) average effects over each knot interval\n",
    "        avg_effects = [\n",
    "            deriv[(X_flat >= knots[i]) & (X_flat < knots[i+1])].mean()\n",
    "            for i in range(len(knots)-1)\n",
    "        ]\n",
    "        results[f\"{parent}->{child}\"] = {\n",
    "            'type': 'GAM',\n",
    "            'knots': knots.tolist(),\n",
    "            'avg_effects': avg_effects\n",
    "        }\n",
    "    else:\n",
    "        results[f\"{parent}->{child}\"] = {\n",
    "            'type': 'linear',\n",
    "            'beta': lin.coef_[0]\n",
    "        }\n",
    "\n",
    "print(\"Edge refinements:\")\n",
    "print(results)\n",
    "\n",
    "# 7. Plot SEM graph\n",
    "G = nx.DiGraph()\n",
    "for edge, info in results.items():\n",
    "    p, c = edge.split('->')\n",
    "    lbl  = f\"{info['beta']:.2f}\" if info['type']=='linear' else \"GAM\"\n",
    "    G.add_edge(p, c, label=lbl)\n",
    "\n",
    "pos = nx.spring_layout(G, seed=0)\n",
    "nx.draw(G, pos, with_labels=True, node_color='lightblue', node_size=2000)\n",
    "nx.draw_networkx_edge_labels(G, pos, edge_labels=nx.get_edge_attributes(G,'label'))\n",
    "plt.show()\n",
    "\n"
   ]
  },
  {
   "cell_type": "code",
   "execution_count": null,
   "id": "963a132f",
   "metadata": {},
   "outputs": [
    {
     "name": "stdout",
     "output_type": "stream",
     "text": [
      "In-sample fit indices:\n",
      "             chi2  chi2 p-value  DoF     RMSEA       CFI       TLI        AIC\n",
      "Value  117.188037  9.451271e-10   39  0.063385  0.984441  0.978058  53.531248\n",
      "CV RMSE: {'prod1': np.float64(0.6345478170602673), 'prod2': np.float64(0.42336653404164926)}\n",
      "Edge refinements:\n",
      "{'Motivation->prod1': {'type': 'GAM', 'knots': [-1.6587677609933926, -0.7850702409598015, 0.08862727907378964, 0.9623247991073807, 1.836022319140972], 'avg_effects': [np.float64(1.5119378647315784), np.float64(1.7384336346134182), np.float64(1.7163444047859395), np.float64(1.4937190051204097)]}, 'Hope->prod1': {'type': 'linear', 'beta': np.float64(1.138671428512716)}, 'Risk->prod2': {'type': 'linear', 'beta': np.float64(-1.3779927298875925)}, 'Motivation->prod2': {'type': 'linear', 'beta': np.float64(1.0266703724567774)}}\n"
     ]
    },
    {
     "name": "stderr",
     "output_type": "stream",
     "text": [
      "C:\\Users\\nadav\\AppData\\Local\\Temp\\ipykernel_30444\\1622841917.py:212: UserWarning: This figure includes Axes that are not compatible with tight_layout, so results might be incorrect.\n",
      "  plt.tight_layout()\n"
     ]
    },
    {
     "data": {
      "image/png": "[encoded data removed]",
      "text/plain": [
       "<Figure size 800x600 with 1 Axes>"
      ]
     },
     "metadata": {},
     "output_type": "display_data"
    }
   ],
   "source": [
    "import numpy as np\n",
    "import pandas as pd\n",
    "\n",
    "# Restore np.int for semopy compatibility (NumPy ≥1.24)\n",
    "np.int = int\n",
    "\n",
    "from semopy import Model, calc_stats, create_regularization\n",
    "from sklearn.linear_model import LinearRegression\n",
    "from sklearn.model_selection import KFold\n",
    "from sklearn.metrics import mean_squared_error\n",
    "from pygam import LinearGAM, s\n",
    "from pygam.utils import gen_edge_knots\n",
    "import networkx as nx\n",
    "import matplotlib.pyplot as plt\n",
    "\n",
    "# 1. Generate dummy data (more complex)\n",
    "np.random.seed(0)\n",
    "n = 500\n",
    "\n",
    "# Three correlated latent factors: Hope, Risk, Motivation\n",
    "# Base draws\n",
    "base       = np.random.multivariate_normal(\n",
    "    mean=[0,0,0],\n",
    "    cov=[[1,  0.5, 0.3],\n",
    "         [0.5,1,   0.2],\n",
    "         [0.3,0.2, 1  ]],\n",
    "    size=n\n",
    ")\n",
    "hope_lat, risk_lat, mot_lat = base.T\n",
    "\n",
    "# Manifest indicators with differing loadings & noise\n",
    "data = pd.DataFrame({\n",
    "    # Hope indicators\n",
    "    'hope1': 0.7*hope_lat + np.random.normal(0,0.3,n),\n",
    "    'hope2': 0.8*hope_lat + np.random.normal(0,0.3,n),\n",
    "    'hope3': 0.6*hope_lat + np.random.normal(0,0.3,n),\n",
    "    # Risk indicators\n",
    "    'risk1': 0.5*risk_lat + np.random.normal(0,0.4,n),\n",
    "    'risk2': 0.9*risk_lat + np.random.normal(0,0.4,n),\n",
    "    'risk3': 0.7*risk_lat + np.random.normal(0,0.4,n),\n",
    "    # Motivation indicators (cross‐loading subtlety)\n",
    "    'mot1': 0.6*mot_lat + 0.1*hope_lat + np.random.normal(0,0.3,n),\n",
    "    'mot2': 0.8*mot_lat + 0.2*risk_lat + np.random.normal(0,0.3,n),\n",
    "    'mot3': 0.7*mot_lat + np.random.normal(0,0.3,n),\n",
    "})\n",
    "\n",
    "# Outcomes with mixed effects\n",
    "# prod1 driven nonlinearly by Motivation and linearly by Hope\n",
    "data['prod1'] = 1.5 * np.sin(mot_lat) + 0.5 * hope_lat + np.random.normal(0,0.5,n)\n",
    "# prod2 driven linearly by Risk and Motivation\n",
    "data['prod2'] = -0.7 * risk_lat + 0.8 * mot_lat + np.random.normal(0,0.5,n)\n",
    "\n",
    "# 2. SEM specification (CFA + structural complexity)\n",
    "model_desc = \"\"\"\n",
    "# Measurement models\n",
    "Hope       =~ hope1 + hope2 + hope3\n",
    "Risk       =~ risk1 + risk2 + risk3\n",
    "Motivation =~ mot1   + mot2   + mot3\n",
    "\n",
    "# Structural regressions\n",
    "Motivation ~ Hope + Risk       # Motivation is downstream of both\n",
    "prod1      ~ Motivation + Hope # allows direct & indirect Hope→prod1\n",
    "prod2      ~ Risk + Motivation # allows both Risk→prod2 paths\n",
    "\n",
    "# Covariances among exogenous latents\n",
    "Hope ~~ Risk\n",
    "\"\"\"\n",
    "\n",
    "# 3. Fit SEM with L1-threshold penalty\n",
    "sem = Model(model_desc)\n",
    "all_params  = list(sem.parameters.keys())\n",
    "regr_params = [p for p in all_params if '~' in p]\n",
    "\n",
    "reg = create_regularization(\n",
    "    model=sem,\n",
    "    regularization='l1-thresh',\n",
    "    c=0.1,\n",
    "    param_names=regr_params\n",
    ")\n",
    "sem.fit(data, obj='MLW', regularization=reg)\n",
    "\n",
    "# 4. In-sample fit indices\n",
    "stats = calc_stats(sem)\n",
    "print(\"In-sample fit indices:\")\n",
    "print(stats[['chi2','chi2 p-value','DoF','RMSEA','CFI','TLI','AIC']])\n",
    "\n",
    "# 5. 5-fold CV for true out-of-sample RMSE\n",
    "kf = KFold(n_splits=5, shuffle=True, random_state=0)\n",
    "rmse_out = {y: [] for y in ['prod1','prod2']}\n",
    "\n",
    "for train_idx, test_idx in kf.split(data):\n",
    "    train_df = data.iloc[train_idx]\n",
    "    test_df  = data.iloc[test_idx]\n",
    "\n",
    "    sem_cv = Model(model_desc)\n",
    "    reg_cv = create_regularization(\n",
    "        model=sem_cv,\n",
    "        regularization='l1-thresh',\n",
    "        c=0.1,\n",
    "        param_names=regr_params\n",
    "    )\n",
    "    sem_cv.fit(train_df, obj='MLW', regularization=reg_cv)\n",
    "\n",
    "    # factor‐score imputation on holdout\n",
    "    f_test       = sem_cv.predict_factors(test_df)\n",
    "    f_test.index = test_df.index\n",
    "    test_aug     = pd.concat([test_df, f_test], axis=1)\n",
    "\n",
    "    coef_df = sem_cv.inspect()\n",
    "    preds   = {}\n",
    "    for y in ['prod1','prod2']:\n",
    "        regr = coef_df[(coef_df['op']=='~') & (coef_df['lval']==y)]\n",
    "        if '1' in set(regr['rval']):\n",
    "            intercept = regr.loc[regr['rval']=='1','Estimate'].iloc[0]\n",
    "            regr      = regr[regr['rval']!='1']\n",
    "        else:\n",
    "            intercept = 0.0\n",
    "        coefs     = regr.set_index('rval')['Estimate']\n",
    "        preds[y]  = test_aug[coefs.index].dot(coefs) + intercept\n",
    "\n",
    "    for y, y_pred in preds.items():\n",
    "        y_true = test_aug[y]\n",
    "        mse    = mean_squared_error(y_true, y_pred)\n",
    "        rmse_out[y].append(np.sqrt(mse))\n",
    "\n",
    "print(\"CV RMSE:\", {y: np.mean(vals) for y, vals in rmse_out.items()})\n",
    "\n",
    "# 6. GAM-based edge refinement on the full dataset\n",
    "# first augment with full-data factor scores\n",
    "f_full        = sem.predict_factors(data)\n",
    "f_full.index  = data.index\n",
    "data_aug_full = pd.concat([data, f_full], axis=1)\n",
    "\n",
    "params    = sem.inspect()\n",
    "surviving = params[\n",
    "    (params['op']=='~') &\n",
    "    (params['lval'].isin(['prod1','prod2'])) &\n",
    "    (params['Estimate'].abs()>1e-3)\n",
    "]\n",
    "results = {}\n",
    "\n",
    "for _, row in surviving.iterrows():\n",
    "    parent, child = row['rval'], row['lval']\n",
    "    X = data_aug_full[[parent]].values\n",
    "\n",
    "    # no other parents in this simple model\n",
    "    y_star = data_aug_full[child].values\n",
    "\n",
    "    # fit linear & GAM\n",
    "    lin     = LinearRegression().fit(X, y_star)\n",
    "    rss_lin = ((y_star - lin.predict(X))**2).sum()\n",
    "    k_lin   = 2\n",
    "\n",
    "    gam     = LinearGAM(s(0, n_splines=5)).fit(X, y_star)\n",
    "    rss_gam = ((y_star - gam.predict(X))**2).sum()\n",
    "    k_gam   = gam.statistics_['edof']\n",
    "\n",
    "    aic_lin = len(y_star)*np.log(rss_lin/len(y_star)) + 2*k_lin\n",
    "    aic_gam = len(y_star)*np.log(rss_gam/len(y_star)) + 2*k_gam\n",
    "\n",
    "    if aic_gam + 2 < aic_lin:\n",
    "        # finite-difference derivative + build intervals\n",
    "        emin, emax = gen_edge_knots(X.flatten(), dtype='numerical')\n",
    "        n_spl      = gam.terms[0].info['n_splines']\n",
    "        knots      = np.linspace(emin, emax, n_spl)\n",
    "\n",
    "        eps     = (emax - emin) / 200.0\n",
    "        Xf      = X.flatten()\n",
    "        p_plus  = gam.predict((Xf + eps).reshape(-1,1))\n",
    "        p_minus = gam.predict((Xf - eps).reshape(-1,1))\n",
    "        deriv   = (p_plus - p_minus) / (2*eps)\n",
    "\n",
    "        avg_eff = [\n",
    "            deriv[(Xf >= knots[i]) & (Xf < knots[i+1])].mean()\n",
    "            for i in range(len(knots)-1)\n",
    "        ]\n",
    "        results[f\"{parent}->{child}\"] = {\n",
    "            'type': 'GAM',\n",
    "            'knots': knots.tolist(),\n",
    "            'avg_effects': avg_eff\n",
    "        }\n",
    "    else:\n",
    "        results[f\"{parent}->{child}\"] = {\n",
    "            'type': 'linear',\n",
    "            'beta': lin.coef_[0]\n",
    "        }\n",
    "\n",
    "print(\"Edge refinements:\")\n",
    "print(results)\n",
    "\n",
    "# 7. Plot SEM graph with detailed GAM labels\n",
    "plt.figure(figsize=(8,6))\n",
    "G = nx.DiGraph()\n",
    "for edge, info in results.items():\n",
    "    p, c = edge.split('->')\n",
    "    if info['type'] == 'linear':\n",
    "        label = f\"{info['beta']:.2f}\"\n",
    "    else:\n",
    "        # build \"k0–k1:eff0\" lines\n",
    "        segs = []\n",
    "        knots = info['knots']\n",
    "        for i, eff in enumerate(info['avg_effects']):\n",
    "            segs.append(f\"{knots[i]:.2f}–{knots[i+1]:.2f}:{eff:.2f}\")\n",
    "        label = \"\\n\".join(segs)\n",
    "\n",
    "    G.add_edge(p, c, label=label)\n",
    "\n",
    "pos = nx.spring_layout(G, seed=0)\n",
    "nx.draw(G, pos, with_labels=True, node_color='lightblue', node_size=2000)\n",
    "edge_labels = nx.get_edge_attributes(G, 'label')\n",
    "nx.draw_networkx_edge_labels(G, pos, edge_labels=edge_labels)\n",
    "plt.tight_layout()\n",
    "plt.show()\n"
   ]
  },
  {
   "cell_type": "code",
   "execution_count": null,
   "id": "2763b2c7",
   "metadata": {},
   "outputs": [
    {
     "name": "stdout",
     "output_type": "stream",
     "text": [
      "In-sample fit indices:\n",
      "             chi2  chi2 p-value  DoF     RMSEA       CFI       TLI        AIC\n",
      "Value  112.691781  4.416059e-09   39  0.061536  0.984394  0.977991  53.549233\n",
      "CV RMSE: {'prod1': np.float64(0.6377836689308648), 'prod2': np.float64(0.4250774196721957)}\n",
      "Edge refinements:\n",
      "{'Motivation->prod1': {'type': 'GAM', 'knots': [-1.6624281622667554, -0.7870873438169563, 0.08825347463284272, 0.9635942930826418, 1.8389351115324408], 'avg_effects': [np.float64(1.5124419328974426), np.float64(1.7370752723739586), np.float64(1.7162781224307708), np.float64(1.4947175558925334)]}, 'Hope->prod1': {'type': 'GAM', 'knots': [-2.034932779353929, -1.015356495296935, 0.004219788760059018, 1.0237960728170532, 2.043372356874047], 'avg_effects': [np.float64(0.6865609785510414), np.float64(0.47353209828566795), np.float64(0.5941613527958576), np.float64(0.9289681851323446)]}, 'Risk->prod2': {'type': 'linear', 'beta': np.float64(-1.3772948929540476)}, 'Motivation->prod2': {'type': 'linear', 'beta': np.float64(1.024880150084331)}}\n"
     ]
    },
    {
     "name": "stderr",
     "output_type": "stream",
     "text": [
      "C:\\Users\\nadav\\AppData\\Local\\Temp\\ipykernel_30444\\1813181619.py:215: UserWarning: This figure includes Axes that are not compatible with tight_layout, so results might be incorrect.\n",
      "  plt.tight_layout()\n"
     ]
    },
    {
     "data": {
      "image/png": "[encoded data removed]",
      "text/plain": [
       "<Figure size 800x600 with 1 Axes>"
      ]
     },
     "metadata": {},
     "output_type": "display_data"
    }
   ],
   "source": [
    "import numpy as np\n",
    "import pandas as pd\n",
    "\n",
    "# Restore np.int for semopy compatibility (NumPy ≥1.24)\n",
    "np.int = int\n",
    "\n",
    "from semopy import Model, calc_stats, create_regularization\n",
    "from sklearn.linear_model import LinearRegression\n",
    "from sklearn.model_selection import KFold\n",
    "from sklearn.metrics import mean_squared_error\n",
    "from pygam import LinearGAM, s\n",
    "from pygam.utils import gen_edge_knots\n",
    "import networkx as nx\n",
    "import matplotlib.pyplot as plt\n",
    "\n",
    "# 1. Generate mixed continuous + ordinal dummy data\n",
    "np.random.seed(0)\n",
    "n = 500\n",
    "\n",
    "# Three correlated latents\n",
    "base       = np.random.multivariate_normal(\n",
    "    mean=[0,0,0],\n",
    "    cov=[[1,  0.5, 0.3],\n",
    "         [0.5,1,   0.2],\n",
    "         [0.3,0.2, 1  ]],\n",
    "    size=n\n",
    ")\n",
    "hope_lat, risk_lat, mot_lat = base.T\n",
    "\n",
    "# Start building DataFrame\n",
    "data = pd.DataFrame()\n",
    "\n",
    "# a) Ordinal Hope indicators (1–5 Likert)\n",
    "for i, loading in enumerate([0.7, 0.8, 0.6], start=1):\n",
    "    cont = loading * hope_lat + np.random.normal(0, 0.3, n)\n",
    "    # cut into 5 bins, label 1–5\n",
    "    data[f'hope{i}'] = pd.qcut(cont, 5, labels=False) + 1\n",
    "\n",
    "# b) Continuous Risk indicators\n",
    "data['risk1'] = 0.5 * risk_lat + np.random.normal(0, 0.4, n)\n",
    "data['risk2'] = 0.9 * risk_lat + np.random.normal(0, 0.4, n)\n",
    "data['risk3'] = 0.7 * risk_lat + np.random.normal(0, 0.4, n)\n",
    "\n",
    "# c) Continuous Motivation with slight cross‐loading\n",
    "data['mot1'] = 0.6 * mot_lat + 0.1 * hope_lat + np.random.normal(0,0.3,n)\n",
    "data['mot2'] = 0.8 * mot_lat + 0.2 * risk_lat + np.random.normal(0,0.3,n)\n",
    "data['mot3'] = 0.7 * mot_lat + np.random.normal(0,0.3,n)\n",
    "\n",
    "# d) Outcomes\n",
    "data['prod1'] = 1.5 * np.sin(mot_lat) + 0.5 * hope_lat + np.random.normal(0,0.5,n)\n",
    "data['prod2'] = -0.7 * risk_lat   + 0.8 * mot_lat + np.random.normal(0,0.5,n)\n",
    "\n",
    "# 2. SEM specification (same structure)\n",
    "model_desc = \"\"\"\n",
    "Hope       =~ hope1 + hope2 + hope3\n",
    "Risk       =~ risk1 + risk2 + risk3\n",
    "Motivation =~ mot1   + mot2   + mot3\n",
    "\n",
    "Motivation ~ Hope + Risk\n",
    "prod1      ~ Motivation + Hope\n",
    "prod2      ~ Risk + Motivation\n",
    "\n",
    "Hope ~~ Risk\n",
    "\"\"\"\n",
    "\n",
    "# Then later, when you fit:\n",
    "sem = Model(model_desc)\n",
    "# … build your l1-thresh regularizer as before …\n",
    "sem.fit(data, obj='WLS', regularization=reg)\n",
    "\n",
    "\n",
    "# 3. Fit SEM with L1-threshold penalty\n",
    "sem = Model(model_desc)\n",
    "all_params  = list(sem.parameters.keys())\n",
    "regr_params = [p for p in all_params if '~' in p]\n",
    "\n",
    "reg = create_regularization(\n",
    "    model=sem,\n",
    "    regularization='l1-thresh',\n",
    "    c=0.1,\n",
    "    param_names=regr_params\n",
    ")\n",
    "sem.fit(data, obj='MLW', regularization=reg)\n",
    "\n",
    "# 4. In-sample fit indices\n",
    "stats = calc_stats(sem)\n",
    "print(\"In-sample fit indices:\")\n",
    "print(stats[['chi2','chi2 p-value','DoF','RMSEA','CFI','TLI','AIC']])\n",
    "\n",
    "# 5. 5-fold CV for true out-of-sample RMSE\n",
    "kf = KFold(n_splits=5, shuffle=True, random_state=0)\n",
    "rmse_out = {y: [] for y in ['prod1','prod2']}\n",
    "\n",
    "for train_idx, test_idx in kf.split(data):\n",
    "    train_df = data.iloc[train_idx]\n",
    "    test_df  = data.iloc[test_idx]\n",
    "\n",
    "    sem_cv = Model(model_desc)\n",
    "    reg_cv = create_regularization(\n",
    "        model=sem_cv,\n",
    "        regularization='l1-thresh',\n",
    "        c=0.1,\n",
    "        param_names=regr_params\n",
    "    )\n",
    "    sem_cv.fit(train_df, obj='MLW', regularization=reg_cv)\n",
    "\n",
    "    # factor‐score imputation on holdout\n",
    "    f_test       = sem_cv.predict_factors(test_df)\n",
    "    f_test.index = test_df.index\n",
    "    test_aug     = pd.concat([test_df, f_test], axis=1)\n",
    "\n",
    "    coef_df = sem_cv.inspect()\n",
    "    preds   = {}\n",
    "    for y in ['prod1','prod2']:\n",
    "        regr = coef_df[(coef_df['op']=='~') & (coef_df['lval']==y)]\n",
    "        if '1' in set(regr['rval']):\n",
    "            intercept = regr.loc[regr['rval']=='1','Estimate'].iloc[0]\n",
    "            regr      = regr[regr['rval']!='1']\n",
    "        else:\n",
    "            intercept = 0.0\n",
    "        coefs     = regr.set_index('rval')['Estimate']\n",
    "        preds[y]  = test_aug[coefs.index].dot(coefs) + intercept\n",
    "\n",
    "    for y, y_pred in preds.items():\n",
    "        y_true = test_aug[y]\n",
    "        mse    = mean_squared_error(y_true, y_pred)\n",
    "        rmse_out[y].append(np.sqrt(mse))\n",
    "\n",
    "print(\"CV RMSE:\", {y: np.mean(vals) for y, vals in rmse_out.items()})\n",
    "\n",
    "# 6. GAM-based edge refinement on the full dataset\n",
    "# first augment with full-data factor scores\n",
    "f_full        = sem.predict_factors(data)\n",
    "f_full.index  = data.index\n",
    "data_aug_full = pd.concat([data, f_full], axis=1)\n",
    "\n",
    "params    = sem.inspect()\n",
    "surviving = params[\n",
    "    (params['op']=='~') &\n",
    "    (params['lval'].isin(['prod1','prod2'])) &\n",
    "    (params['Estimate'].abs()>1e-3)\n",
    "]\n",
    "results = {}\n",
    "\n",
    "for _, row in surviving.iterrows():\n",
    "    parent, child = row['rval'], row['lval']\n",
    "    X = data_aug_full[[parent]].values\n",
    "\n",
    "    # no other parents in this simple model\n",
    "    y_star = data_aug_full[child].values\n",
    "\n",
    "    # fit linear & GAM\n",
    "    lin     = LinearRegression().fit(X, y_star)\n",
    "    rss_lin = ((y_star - lin.predict(X))**2).sum()\n",
    "    k_lin   = 2\n",
    "\n",
    "    gam     = LinearGAM(s(0, n_splines=5)).fit(X, y_star)\n",
    "    rss_gam = ((y_star - gam.predict(X))**2).sum()\n",
    "    k_gam   = gam.statistics_['edof']\n",
    "\n",
    "    aic_lin = len(y_star)*np.log(rss_lin/len(y_star)) + 2*k_lin\n",
    "    aic_gam = len(y_star)*np.log(rss_gam/len(y_star)) + 2*k_gam\n",
    "\n",
    "    if aic_gam + 2 < aic_lin:\n",
    "        # finite-difference derivative + build intervals\n",
    "        emin, emax = gen_edge_knots(X.flatten(), dtype='numerical')\n",
    "        n_spl      = gam.terms[0].info['n_splines']\n",
    "        knots      = np.linspace(emin, emax, n_spl)\n",
    "\n",
    "        eps     = (emax - emin) / 200.0\n",
    "        Xf      = X.flatten()\n",
    "        p_plus  = gam.predict((Xf + eps).reshape(-1,1))\n",
    "        p_minus = gam.predict((Xf - eps).reshape(-1,1))\n",
    "        deriv   = (p_plus - p_minus) / (2*eps)\n",
    "\n",
    "        avg_eff = [\n",
    "            deriv[(Xf >= knots[i]) & (Xf < knots[i+1])].mean()\n",
    "            for i in range(len(knots)-1)\n",
    "        ]\n",
    "        results[f\"{parent}->{child}\"] = {\n",
    "            'type': 'GAM',\n",
    "            'knots': knots.tolist(),\n",
    "            'avg_effects': avg_eff\n",
    "        }\n",
    "    else:\n",
    "        results[f\"{parent}->{child}\"] = {\n",
    "            'type': 'linear',\n",
    "            'beta': lin.coef_[0]\n",
    "        }\n",
    "\n",
    "print(\"Edge refinements:\")\n",
    "print(results)\n",
    "\n",
    "# 7. Plot SEM graph with detailed GAM labels\n",
    "plt.figure(figsize=(8,6))\n",
    "G = nx.DiGraph()\n",
    "for edge, info in results.items():\n",
    "    p, c = edge.split('->')\n",
    "    if info['type'] == 'linear':\n",
    "        label = f\"{info['beta']:.2f}\"\n",
    "    else:\n",
    "        # build \"k0–k1:eff0\" lines\n",
    "        segs = []\n",
    "        knots = info['knots']\n",
    "        for i, eff in enumerate(info['avg_effects']):\n",
    "            segs.append(f\"{knots[i]:.2f}–{knots[i+1]:.2f}:{eff:.2f}\")\n",
    "        label = \"\\n\".join(segs)\n",
    "\n",
    "    G.add_edge(p, c, label=label)\n",
    "\n",
    "pos = nx.spring_layout(G, seed=0)\n",
    "nx.draw(G, pos, with_labels=True, node_color='lightblue', node_size=2000)\n",
    "edge_labels = nx.get_edge_attributes(G, 'label')\n",
    "nx.draw_networkx_edge_labels(G, pos, edge_labels=edge_labels)\n",
    "plt.tight_layout()\n",
    "plt.show()\n"
   ]
  },
  {
   "cell_type": "markdown",
   "id": "f291bbbe",
   "metadata": {},
   "source": [
    "# Step 1: Initial EDA Seeding"
   ]
  },
  {
   "cell_type": "code",
   "execution_count": null,
   "id": "4a2a3890",
   "metadata": {},
   "outputs": [],
   "source": [
    "# nepal_df_cat = combine_dummy_columns(nepal_df)\n",
    "# senegal_df_cat = combine_dummy_columns(senegal_df)\n",
    "\n",
    "# nepal_df = pd.concat([nepal_df_cat, nepal_df.loc[:, ~nepal_df.columns.isin(nepal_df_cat.columns)]], axis=1)\n",
    "# senegal_df = pd.concat([senegal_df_cat, senegal_df.loc[:, ~senegal_df.columns.isin(senegal_df_cat.columns)]], axis=1)\n"
   ]
  },
  {
   "cell_type": "code",
   "execution_count": 227,
   "id": "f6f27cde",
   "metadata": {},
   "outputs": [],
   "source": [
    "# eda_pairs_nepal = [\n",
    "#     ('X1', 'Y'),\n",
    "#     ('X2', 'Y'),\n",
    "#     ...\n",
    "# ]\n",
    "# eda_pairs_senegal = [\n",
    "#     ('X1', 'Y'),\n",
    "#     ('X2', 'Y'),\n",
    "#     ...\n",
    "# ]\n",
    "eda_pairs_nepal = []\n",
    "eda_pairs_senegal = []\n",
    "\n",
    "eda_sig_lin_nepal = []\n",
    "eda_sig_lin_senegal = []\n",
    "\n",
    "eda_candidate_nl_nepal = []\n",
    "eda_candidate_nl_senegal = []\n",
    "\n",
    "eda_sig_nl_nepal = []\n",
    "eda_sig_nl_senegal = []"
   ]
  },
  {
   "cell_type": "code",
   "execution_count": 228,
   "id": "d207c4ce",
   "metadata": {},
   "outputs": [],
   "source": [
    "def get_one_hot_encoded_cols(df, cat_col_meta):\n",
    "    dummy_group = []\n",
    "    for col in df.columns:\n",
    "        if 'binary' in parse_feature_metadata(col)['type'] and col.startswith(f\"{cat_col_meta['qid']}-{cat_col_meta['name']}\"):\n",
    "            dummy_group.append(col)\n",
    "    return dummy_group"
   ]
  },
  {
   "cell_type": "code",
   "execution_count": 229,
   "id": "a1f46b0d",
   "metadata": {},
   "outputs": [],
   "source": [
    "\n",
    "from scipy.stats import pearsonr\n",
    "\n",
    "def pairwise_pearson_lin_sig_test(\n",
    "    df,\n",
    "    pairs,\n",
    "    lin_pairs,\n",
    "    candidate_nl_pairs,\n",
    "    alpha_lin=0.05\n",
    "):\n",
    "\n",
    "    for (X, Y) in pairs:\n",
    "\n",
    "        x = df[X].values\n",
    "        y = df[Y].values\n",
    "        # If either side is constant (zero variance), pearsonr is invalid → skip to NL\n",
    "        if np.all(x == x[0]) or np.all(y == y[0]):\n",
    "            candidate_nl_pairs.append((X, Y))\n",
    "            continue\n",
    "\n",
    "        try:\n",
    "            r, p_val = pearsonr(x, y)\n",
    "        except Exception:\n",
    "            # Numerical issues? Treat as not significant\n",
    "            print(f\"Numerical issues computing pearson for the pair {(X, Y)}, treating as linearly not significant...\")\n",
    "            p_val = 1.0\n",
    "\n",
    "        if p_val < alpha_lin:\n",
    "            lin_pairs.append((X, Y))\n",
    "        else:\n",
    "            candidate_nl_pairs.append((X, Y))\n",
    "\n"
   ]
  },
  {
   "cell_type": "code",
   "execution_count": 230,
   "id": "a627d7a7",
   "metadata": {},
   "outputs": [],
   "source": [
    "import dcor\n",
    "from statsmodels.stats.multitest import multipletests\n",
    "\n",
    "def pairwise_dcov_nl_sig_test(\n",
    "    df,\n",
    "    pairs,\n",
    "    nl_pairs,\n",
    "    alpha_nl=0.05\n",
    "):\n",
    "\n",
    "    dcov_pvals = []\n",
    "\n",
    "    for (X, Y) in pairs:\n",
    "\n",
    "        X_block = df[X].values.reshape(-1, 1)  # shape (n, 1)\n",
    "        Y_block = df[Y].values.reshape(-1, 1)  # shape (n, 1)\n",
    "\n",
    "        # Now run dCov test on (X_block, Y_block)\n",
    "        try:\n",
    "            p_val, stat = dcor.independence.distance_covariance_test(\n",
    "                X_block, Y_block, num_resamples=200\n",
    "            )\n",
    "        except Exception:\n",
    "            print(f\"Issues with dCov test for the pair {(X, Y)}, treating as not significant...\")\n",
    "            p_val = 1.0\n",
    "\n",
    "        dcov_pvals.append(p_val)\n",
    "\n",
    "    # FDR‐correct the dCov p‐values across all tested pairs\n",
    "    reject_mask, pvals_fdr, *_ = multipletests(dcov_pvals, alpha=alpha_nl, method=\"fdr_bh\")\n",
    "\n",
    "    for idx, (X, Y) in enumerate(pairs):\n",
    "        if reject_mask[idx]:\n",
    "            nl_pairs.append((X, Y))"
   ]
  },
  {
   "cell_type": "code",
   "execution_count": 231,
   "id": "385ee74d",
   "metadata": {},
   "outputs": [],
   "source": [
    "# # run Pearson on every EDA pair, no FDR here since EDA is trusted and was verified by coordinator\n",
    "# pairwise_pearson_lin_sig_test(nepal_df, eda_pairs_nepal, eda_sig_lin_nepal, eda_candidate_nl_nepal)\n",
    "# pairwise_pearson_lin_sig_test(senegal_df, eda_pairs_senegal, eda_sig_lin_senegal, eda_candidate_nl_senegal)\n",
    "\n",
    "# # we only run dCov on the subset where pearson was not significant, run FDR here\n",
    "# pairwise_dcov_nl_sig_test(nepal_df, eda_candidate_nl_nepal, eda_sig_nl_nepal)\n",
    "# pairwise_dcov_nl_sig_test(senegal_df, eda_candidate_nl_senegal, eda_sig_nl_senegal)"
   ]
  },
  {
   "cell_type": "markdown",
   "id": "7b2115d6",
   "metadata": {},
   "source": [
    "### Step 1 POC"
   ]
  },
  {
   "cell_type": "code",
   "execution_count": 263,
   "id": "f2e045a0",
   "metadata": {},
   "outputs": [
    {
     "name": "stdout",
     "output_type": "stream",
     "text": [
      "More Complex Dummy Data (n=200) – First 5 Rows:\n",
      "\n",
      "   Q1-age-continuous  Q2-farm_size-continuous  Q3-rainfall-continuous  \\\n",
      "0               35.6                     5.26                  1171.5   \n",
      "1               62.7                     8.30                   968.0   \n",
      "2               52.4                     8.56                   996.2   \n",
      "3               46.1                     5.17                   799.5   \n",
      "4               25.3                    18.78                   996.3   \n",
      "\n",
      "   Q4-fertilizer-continuous  Q5-edu_years-ordinal  Q6-region-binary_nominal-1  \\\n",
      "0                     64.41                    16                           0   \n",
      "1                     49.67                     7                           0   \n",
      "2                     51.50                    13                           1   \n",
      "3                     37.92                    11                           1   \n",
      "4                     47.38                    15                           0   \n",
      "\n",
      "   Q6-region-binary_nominal-2  Q6-region-binary_nominal-3  \\\n",
      "0                           0                           1   \n",
      "1                           1                           0   \n",
      "2                           0                           0   \n",
      "3                           0                           0   \n",
      "4                           1                           0   \n",
      "\n",
      "   Q7-irrigation-binary_nominal-1  Q7-irrigation-binary_nominal-2  \\\n",
      "0                               1                               0   \n",
      "1                               1                               0   \n",
      "2                               0                               1   \n",
      "3                               0                               1   \n",
      "4                               1                               0   \n",
      "\n",
      "   Q8-seed_bvar-binary_nominal-1  Q8-seed_bvar-binary_nominal-2  \\\n",
      "0                              0                              0   \n",
      "1                              1                              0   \n",
      "2                              0                              0   \n",
      "3                              0                              1   \n",
      "4                              0                              0   \n",
      "\n",
      "   Q8-seed_bvar-binary_nominal-3  Q8-seed_bvar-binary_nominal-4  \\\n",
      "0                              1                              0   \n",
      "1                              0                              0   \n",
      "2                              1                              0   \n",
      "3                              0                              0   \n",
      "4                              1                              0   \n",
      "\n",
      "   Q9-pesticide-binary-1  Q10-productivity-continuous  Q11-income-continuous  \n",
      "0                      1                     -1263.73               -1516.58  \n",
      "1                      0                        79.56                  53.13  \n",
      "2                      0                       131.73                 141.58  \n",
      "3                      0                     -1911.97               -2296.83  \n",
      "4                      0                       147.62                 155.44   \n",
      "\n",
      "Results of the cheap “linear” stage (lin_pairs):\n",
      "[('Q10-productivity-continuous', 'Q11-income-continuous')]\n",
      "\n",
      "Pairs sent to dCov (candidate_nl_pairs):\n",
      "[('Q1-age-continuous', 'Q10-productivity-continuous'), ('Q2-farm_size-continuous', 'Q10-productivity-continuous'), ('Q3-rainfall-continuous', 'Q10-productivity-continuous'), ('Q4-fertilizer-continuous', 'Q10-productivity-continuous'), ('Q5-edu_years-ordinal', 'Q10-productivity-continuous'), ('Q6-region-binary_nominal-1', 'Q10-productivity-continuous'), ('Q6-region-binary_nominal-2', 'Q10-productivity-continuous'), ('Q6-region-binary_nominal-3', 'Q10-productivity-continuous'), ('Q9-pesticide-binary-1', 'Q10-productivity-continuous'), ('Q1-age-continuous', 'Q9-pesticide-binary-1'), ('Q3-rainfall-continuous', 'Q7-irrigation-binary_nominal-1'), ('Q3-rainfall-continuous', 'Q5-edu_years-ordinal'), ('Q8-seed_bvar-binary_nominal-2', 'Q11-income-continuous'), ('Q8-seed_bvar-binary_nominal-4', 'Q11-income-continuous'), ('Q9-pesticide-binary-1', 'Q5-edu_years-ordinal')]\n",
      "\n",
      "From those, which dCov flagged nonlinear (nl_pairs):\n",
      "[('Q3-rainfall-continuous', 'Q10-productivity-continuous'), ('Q4-fertilizer-continuous', 'Q10-productivity-continuous')]\n"
     ]
    }
   ],
   "source": [
    "# ── 1) SET RANDOM SEED ──────────────────────────────────────────────────────────────\n",
    "np.random.seed(42)\n",
    "\n",
    "# ── 2) DEFINE SAMPLE SIZE ──────────────────────────────────────────────────────────\n",
    "n = 200  # number of “farmers” / observations\n",
    "\n",
    "# ── 3) CONTINUOUS FEATURES ─────────────────────────────────────────────────────────\n",
    "# Q1: age (continuous, uniform 18–65)\n",
    "age = np.random.uniform(18, 65, size=n).round(1)\n",
    "\n",
    "# Q2: farm_size (continuous, log‐normal)\n",
    "farm_size = np.exp(np.random.normal(2.0, 0.5, size=n)).round(2)  # e.g. hectares\n",
    "\n",
    "# Q3: annual_rainfall (continuous, normal around 1000 mm ± 200)\n",
    "rainfall = np.random.normal(1000, 200, size=n).clip(min=200).round(1)\n",
    "\n",
    "# Q4: fertilizer_use (continuous, roughly linear relationship with rainfall + noise)\n",
    "fertilizer = (0.05 * rainfall + np.random.normal(0, 5, size=n)).clip(min=0).round(2)\n",
    "\n",
    "# Q5: education_years (ordinal, 0–20 but treat as continuous for now)\n",
    "edu_years = np.random.choice(np.arange(0, 21), size=n, p=np.linspace(1, 2, 21) / np.sum(np.linspace(1, 2, 21)))\n",
    "\n",
    "# ── 4) BINARY_NOMINAL FEATURES (ONE‐HOT ENCODED) ─────────────────────────────────────\n",
    "# Q6: region (3 levels → 3 binary_nominal dummies)\n",
    "regions = np.random.choice([1, 2, 3], size=n, p=[0.3, 0.4, 0.3])\n",
    "region_1 = (regions == 1).astype(int)\n",
    "region_2 = (regions == 2).astype(int)\n",
    "region_3 = (regions == 3).astype(int)\n",
    "\n",
    "# Q7: irrigation_type (2 levels → 2 binary_nominal dummies)\n",
    "#   0 = “rainfed only”; 1 = “some irrigation”\n",
    "irrig_code = np.random.binomial(1, 0.4, size=n)\n",
    "irrig_1 = (irrig_code == 1).astype(int)\n",
    "irrig_0 = (irrig_code == 0).astype(int)\n",
    "\n",
    "# Q8: seed_variety (4 levels → 4 binary_nominal dummies)\n",
    "seed_codes = np.random.choice([1, 2, 3, 4], size=n, p=[0.25, 0.25, 0.25, 0.25])\n",
    "seed_1 = (seed_codes == 1).astype(int)\n",
    "seed_2 = (seed_codes == 2).astype(int)\n",
    "seed_3 = (seed_codes == 3).astype(int)\n",
    "seed_4 = (seed_codes == 4).astype(int)\n",
    "\n",
    "# Q9: pesticide_use (binary_nominal 0/1)\n",
    "pest_use = np.random.binomial(1, 0.5, size=n)\n",
    "\n",
    "# ── 5) DEFINE OUTCOME METRIC (PRODUCTIVITY) WITH MIXED EFFECTS ─────────────────────────\n",
    "# Let “productivity” depend on:\n",
    "#   • 0.5 * farm_size  (linear)\n",
    "#   • 0.02 * edu_years (linear)\n",
    "#   • region 2 has +5 bonus, region 3 has −3 penalty\n",
    "#   • nonlinearity in rainfall → productivity (U‐shape, since too little and too much rain hurt)\n",
    "#   • irrigation_code (binary) has +8 bonus if irrigated\n",
    "#   • pesticide_use interacts with fertilizer use (a small diminishing‐returns effect)\n",
    "# plus Gaussian noise.\n",
    "\n",
    "# (a) Base linear term\n",
    "prod_linear = 0.5 * farm_size + 0.02 * edu_years\n",
    "\n",
    "# (b) Region effect\n",
    "prod_region = np.where(regions == 2, 5.0, np.where(regions == 3, -3.0, 0.0))\n",
    "\n",
    "# (c) Rainfall U‐shape: best near 1000; drop off quadratically beyond ±300\n",
    "prod_rain_nl = -0.05 * (rainfall - 1000)**2 + 75  # peak around 75\n",
    "\n",
    "# (d) Irrigation bonus\n",
    "prod_irrig = 8.0 * irrig_1  # irrig_1 = 1 if irrigated\n",
    "\n",
    "# (e) Pesticide × Fertilizer interaction: pesticide enhances fertilizer up to a point\n",
    "prod_pest_fert = (2.0 * fertilizer) * (0.5 + 0.5 * pest_use)\n",
    "\n",
    "# (f) Combine and add noise\n",
    "productivity = (\n",
    "    prod_linear\n",
    "    + prod_region\n",
    "    + prod_rain_nl\n",
    "    + prod_irrig\n",
    "    + prod_pest_fert\n",
    "    + np.random.normal(0, 10, size=n)  # Gaussian noise\n",
    ").round(2)\n",
    "\n",
    "# ── 6) ADD A SECOND OUTCOME FOR MULTIVARIATE TESTING ──────────────────────────────────\n",
    "# Q10: income_continuous: depends on productivity (linear), age (nonlinear), seed variety, plus noise\n",
    "income = (\n",
    "    1.2 * productivity\n",
    "    - 0.1 * (age - 40)**2       # too young or too old slightly reduce income\n",
    "    + 3.0 * seed_2               # if seed variety 2, +3\n",
    "    - 2.0 * seed_4               # if seed variety 4, -2\n",
    "    + np.random.normal(0, 5, size=n)\n",
    ").round(2)\n",
    "\n",
    "# ── 7) ASSEMBLE INTO A DATAFRAME ────────────────────────────────────────────────────\n",
    "df = pd.DataFrame({\n",
    "    # Continuous / ordinal\n",
    "    \"Q1-age-continuous\":             age,\n",
    "    \"Q2-farm_size-continuous\":       farm_size,\n",
    "    \"Q3-rainfall-continuous\":        rainfall,\n",
    "    \"Q4-fertilizer-continuous\":      fertilizer,\n",
    "    \"Q5-edu_years-ordinal\":          edu_years,\n",
    "\n",
    "    # Binary_nominal (one‐hot)\n",
    "    \"Q6-region-binary_nominal-1\":    region_1,\n",
    "    \"Q6-region-binary_nominal-2\":    region_2,\n",
    "    \"Q6-region-binary_nominal-3\":    region_3,\n",
    "    \"Q7-irrigation-binary_nominal-1\": irrig_1,\n",
    "    \"Q7-irrigation-binary_nominal-2\": irrig_0,\n",
    "    \"Q8-seed_bvar-binary_nominal-1\":  seed_1,\n",
    "    \"Q8-seed_bvar-binary_nominal-2\":  seed_2,\n",
    "    \"Q8-seed_bvar-binary_nominal-3\":  seed_3,\n",
    "    \"Q8-seed_bvar-binary_nominal-4\":  seed_4,\n",
    "    \"Q9-pesticide-binary-1\":         pest_use,\n",
    "\n",
    "    # Outcomes\n",
    "    \"Q10-productivity-continuous\":   productivity,\n",
    "    \"Q11-income-continuous\":         income\n",
    "})\n",
    "\n",
    "# Display first 5 rows\n",
    "print(\"More Complex Dummy Data (n=200) – First 5 Rows:\\n\")\n",
    "print(df.head(), \"\\n\")\n",
    "\n",
    "\n",
    "# ── 8) DEFINE PAIRS FOR TESTING (NO RAW NOMINALS, ONLY BINARY_NOMINAL) ─────────────────\n",
    "pairs = [\n",
    "    # Continuous vs Continuous\n",
    "    (\"Q1-age-continuous\",          \"Q10-productivity-continuous\"),\n",
    "    (\"Q2-farm_size-continuous\",    \"Q10-productivity-continuous\"),\n",
    "    (\"Q3-rainfall-continuous\",     \"Q10-productivity-continuous\"),\n",
    "    (\"Q4-fertilizer-continuous\",   \"Q10-productivity-continuous\"),\n",
    "\n",
    "    # Ordinal vs Continuous\n",
    "    (\"Q5-edu_years-ordinal\",       \"Q10-productivity-continuous\"),\n",
    "\n",
    "    # Binary_nominal (region) vs Continuous\n",
    "    (\"Q6-region-binary_nominal-1\", \"Q10-productivity-continuous\"),\n",
    "    (\"Q6-region-binary_nominal-2\", \"Q10-productivity-continuous\"),\n",
    "    (\"Q6-region-binary_nominal-3\", \"Q10-productivity-continuous\"),\n",
    "\n",
    "    # Binary (pesticide) vs Continuous\n",
    "    (\"Q9-pesticide-binary-1\",      \"Q10-productivity-continuous\"),\n",
    "\n",
    "    # Continuous vs Continuous (for the second outcome)\n",
    "    (\"Q10-productivity-continuous\", \"Q11-income-continuous\"),\n",
    "\n",
    "    # Continuous vs Binary (no association expected for random pairs)\n",
    "    (\"Q1-age-continuous\",          \"Q9-pesticide-binary-1\"),\n",
    "    (\"Q3-rainfall-continuous\",     \"Q7-irrigation-binary_nominal-1\"),\n",
    "    \n",
    "    # Continuous vs Ordinal\n",
    "    (\"Q3-rainfall-continuous\",     \"Q5-edu_years-ordinal\"),\n",
    "    \n",
    "    # Binary_nominal (seed_variety) vs Continuous\n",
    "    (\"Q8-seed_bvar-binary_nominal-2\", \"Q11-income-continuous\"),\n",
    "    (\"Q8-seed_bvar-binary_nominal-4\", \"Q11-income-continuous\"),\n",
    "    \n",
    "    # Binary (pesticide) vs Ordinal\n",
    "    (\"Q9-pesticide-binary-1\",      \"Q5-edu_years-ordinal\")\n",
    "]\n",
    "\n",
    "\n",
    "\n",
    "# ── 5) RUN THE “CHEAP LINEAR” STAGE ― STEP 1 ─────────────────────────────────────────\n",
    "lin_pairs = []\n",
    "candidate_nl_pairs = []\n",
    "pairwise_pearson_lin_sig_test(\n",
    "    df,\n",
    "    pairs,\n",
    "    lin_pairs,\n",
    "    candidate_nl_pairs,\n",
    "    alpha_lin=0.05\n",
    ")\n",
    "\n",
    "# At this point:\n",
    "#   lin_pairs          contains all (X,Y) that passed p<0.05 “linear” test\n",
    "#   candidate_nl_pairs contains the rest (they now go to Step 2)\n",
    "\n",
    "# ── 6) RUN THE “HEAVIER NONLINEAR” dCov STAGE ― STEP 2 ──────────────────────────────\n",
    "nl_pairs = []\n",
    "pairwise_dcov_nl_sig_test(\n",
    "    df,\n",
    "    candidate_nl_pairs,\n",
    "    nl_pairs,\n",
    "    alpha_nl=0.05\n",
    ")\n",
    "\n",
    "# ── 7) PRINT OUT RESULTS ───────────────────────────────────────────────────────────\n",
    "print(\"Results of the cheap “linear” stage (lin_pairs):\")\n",
    "print(lin_pairs)\n",
    "print(\"\\nPairs sent to dCov (candidate_nl_pairs):\")\n",
    "print(candidate_nl_pairs)\n",
    "print(\"\\nFrom those, which dCov flagged nonlinear (nl_pairs):\")\n",
    "print(nl_pairs)"
   ]
  },
  {
   "cell_type": "markdown",
   "id": "964bca0b",
   "metadata": {},
   "source": [
    "# Step 2: Lasso-SEM on Network"
   ]
  },
  {
   "cell_type": "code",
   "execution_count": 264,
   "id": "0ce6d677",
   "metadata": {},
   "outputs": [],
   "source": [
    "import re\n",
    "\n",
    "def sanitize_column_name(col: str) -> str:\n",
    "    \"\"\"\n",
    "    Sanitize a column name to be semopy-compatible.\n",
    "    Replaces problematic characters based on a defined mapping.\n",
    "    \"\"\"\n",
    "    replacements = {\n",
    "        '-': '__',\n",
    "        '#': '0',\n",
    "        ':': '',\n",
    "        '.': ''\n",
    "    }\n",
    "    # Use regex to apply all replacements efficiently\n",
    "    return re.sub(r'[-#:.]', lambda m: replacements[m.group()], col)\n"
   ]
  },
  {
   "cell_type": "code",
   "execution_count": 265,
   "id": "1515069c",
   "metadata": {},
   "outputs": [],
   "source": [
    "def sanitize_edges(edges):\n",
    "    \"\"\"\n",
    "    Given edges = {'LIN': [(X, Y), ...], 'NL': [(X, Y), ...]},\n",
    "    return a new dictionary where every X and Y string has hyphens replaced by underscores.\n",
    "    \"\"\"\n",
    "    new_lin = [(sanitize_column_name(X), sanitize_column_name(Y))\n",
    "               for (X, Y) in edges.get(\"LIN\", [])]\n",
    "    new_nl  = [(sanitize_column_name(X), sanitize_column_name(Y))\n",
    "               for (X, Y) in edges.get(\"NL\", [])]\n",
    "    return {\"LIN\": new_lin, \"NL\": new_nl}"
   ]
  },
  {
   "cell_type": "code",
   "execution_count": 266,
   "id": "dd703dd9",
   "metadata": {},
   "outputs": [],
   "source": [
    "def sanitize_dataframe(df):\n",
    "    \"\"\"\n",
    "    Returns a copy of `df` where every column name has hyphens '-' replaced by underscores '_'.\n",
    "    Also returns a dict mapping original column names to sanitized names.\n",
    "    \n",
    "    Example:\n",
    "        df.columns == [\"Q1-age-continuous\", \"Q2-gender-binary-1\", ...]\n",
    "        → df_safe.columns == [\"Q1_age_continuous\", \"Q2_gender_binary_1\", ...]\n",
    "    \"\"\"\n",
    "    # Build mapping from original to sanitized names\n",
    "    mapping = {col: sanitize_column_name(col) for col in df.columns}\n",
    "    # Create a copy of df with renamed columns\n",
    "    df_safe = df.rename(columns=mapping).copy()\n",
    "    return df_safe, mapping\n"
   ]
  },
  {
   "cell_type": "code",
   "execution_count": 267,
   "id": "c3fe1f2b",
   "metadata": {},
   "outputs": [],
   "source": [
    "def cov_to_corr(cov: np.ndarray) -> np.ndarray:\n",
    "    \"\"\"\n",
    "    Convert a covariance matrix `cov` (p × p) into the corresponding correlation matrix (p × p).\n",
    "    diag(cov) gives variances; the standard deviation vector is sqrt(diag).\n",
    "    \"\"\"\n",
    "    stddev = np.sqrt(np.diag(cov))           # shape: (p,)\n",
    "    corr = cov / np.outer(stddev, stddev)    # elementwise division\n",
    "    return corr"
   ]
  },
  {
   "cell_type": "code",
   "execution_count": 268,
   "id": "84fe91bb",
   "metadata": {},
   "outputs": [],
   "source": [
    "def build_sem_model(df, edges):\n",
    "    \"\"\"\n",
    "    Build a semopy-style model description, expanding any nominal features into their \n",
    "    one-hot dummy columns.\n",
    "\n",
    "    Args:\n",
    "      - df : pandas.DataFrame, must contain all dummy columns for any nominal features.\n",
    "      - seed_edges : dict with keys \"LIN\" and \"NL\", each a list of (X, Y) tuples,\n",
    "                     where X and Y are the *feature prefixes* (e.g. \"Q3-region-nominal\").\n",
    "                     For 'nominal' X, we expand via get_one_hot_encoded_cols().\n",
    "\n",
    "    Returns:\n",
    "      - model_desc : str, multiline SEM syntax, e.g.\n",
    "          Q5-outcome-continuous ~ Q1-age-continuous + Q2-gender-binary-1 + Q3-region-nominal-1 + Q3-region-nominal-2 + Q3-region-nominal-3\n",
    "          Q7-someY ~ Q3-region-nominal-1 + Q4-someX-continuous\n",
    "    \"\"\"\n",
    "    lines = []\n",
    "    parents_of = {}\n",
    "\n",
    "\n",
    "    # Collect edges\n",
    "    for (X, Y) in edges.get(\"LIN\", []) + edges.get(\"NL\", []):\n",
    "        parents_of.setdefault(sanitize_column_name(Y), []).append(sanitize_column_name(X))\n",
    "\n",
    "\n",
    "    # Build one line per endogenous variable Y\n",
    "    for Y, X_list in parents_of.items():\n",
    "        rhs = \" + \".join(X_list)\n",
    "        lines.append(f\"{Y} ~ {rhs}\")\n",
    "\n",
    "    # expand edges\n",
    "\n",
    "\n",
    "    return \"\\n\".join(lines)\n"
   ]
  },
  {
   "cell_type": "code",
   "execution_count": 269,
   "id": "589fa524",
   "metadata": {},
   "outputs": [],
   "source": [
    "from semopy import Model\n",
    "from semopy.regularization import create_regularization\n",
    "from semopy.inspector import inspect\n",
    "\n",
    "def fit_lasso_sem(\n",
    "    df,\n",
    "    model_desc,\n",
    "    edges,\n",
    "    lambda_grid=[0.1, 0.01, 0.001],\n",
    "    tiny_penalty=1e-6,\n",
    "    alpha_reg=\"l1-thresh\",\n",
    "    fdr_alpha=0.05\n",
    "):\n",
    "    \"\"\"\n",
    "    1. Builds a semopy Model from the seeds in `edges = {\"LIN\": [(X,Y),…], \"NL\": [(X,Y),…]}`.\n",
    "    2. Loops over `lambda_grid`, and for each λ:\n",
    "       - Creates an L1 penalty (via semopy.regularization.create_regularization) where:\n",
    "         • edges in edges[\"NL\"] get penalty weight = tiny_penalty (1e-6, so they are almost un-penalized),\n",
    "         • edges in edges[\"LIN\"] get penalty weight = 1.0.\n",
    "       - Fits the penalized SEM.\n",
    "       - Records which (X→Y) survived (coefficient ≠ 0).\n",
    "       - Computes a simple BIC on the fitted model.\n",
    "    3. Selects the best λ via minimal BIC.\n",
    "    4. Refits with that λ to get final estimates.\n",
    "    5. Returns a DataFrame of surviving edges and their coefficients, plus basic fit indices.\n",
    "\n",
    "    **Arguments:**\n",
    "      - df : pandas.DataFrame\n",
    "          Your data (columns must match exactly the feature names in the seeds).\n",
    "      - edges : dict with keys \"LIN\" and \"NL\", each a list of (X,Y) tuples.\n",
    "      - lambda_grid : list of floats \n",
    "          The grid of λ values to try for the L1 penalty.\n",
    "      - tiny_penalty : float\n",
    "          The “c” value assigned to flagged-NL edges so that semopy's lasso\n",
    "          never drops them unless absolutely zero evidence remains.\n",
    "      - alpha_reg : str\n",
    "          Which semopy regularization type to use; default “l1-thresh” (soft-thresholding).\n",
    "      - fdr_alpha : float\n",
    "          If you want to further prune obviously spurious survivors by FDR on p-values,\n",
    "          you can apply a post-hoc screening here. (Optional.)\n",
    "\n",
    "    **Returns:**\n",
    "      - best_lambda : float\n",
    "      - surviving_edges : pd.DataFrame with columns [“X”, “Y”, “Estimate”, “Type”],\n",
    "          where Type is “LIN” or “NL” according to seed_edges.\n",
    "      - fit_indices : dict, e.g. {\"AIC\": …, \"BIC\": …, \"CFI\": …, …}\n",
    "\n",
    "    **Usage:**\n",
    "      >>> seeds = {\"LIN\": [(\"Q1-age\", \"Q2-income\")], \"NL\": [(\"Q3-u\",\"Q2-income\")]}\n",
    "      >>> model_desc = build_sem_model(seeds)\n",
    "      >>> best_lambda, survivors, fit_idx = fit_lasso_sem(df, seeds)\n",
    "    \"\"\"\n",
    "\n",
    "    np.int = int\n",
    "\n",
    "    # 2) Prepare a list of all parameter names (the “betas”) we want to penalize:\n",
    "    #    semopy parameter names are of the form \"Y~X\"\n",
    "    #    For each (X,Y) in seeds, the semopy parameter label is \"Y~X\"\n",
    "    all_lin = edges.get(\"LIN\", [])\n",
    "    all_nl  = edges.get(\"NL\", [])\n",
    "    param_names_lin = [f\"{Y}~{X}\" for (X, Y) in all_lin]\n",
    "    param_names_nl  = [f\"{Y}~{X}\" for (X, Y) in all_nl]\n",
    "    all_param_names = param_names_lin + param_names_nl\n",
    "\n",
    "    # 3) For each lambda in the grid, fit a penalized SEM and record the BIC\n",
    "    results = []  # will store tuples: (λ, BIC, surviving_param_names, ModelObject)\n",
    "    for lam in lambda_grid:\n",
    "        # 3a) Construct semopy Model\n",
    "        mod = Model(model_desc)\n",
    "        mod.load_dataset(df)\n",
    "\n",
    "        # 3b) Build a combined regularization structure\n",
    "        #     Semopy expects \"regularization\" to be one object (fun, grad)\n",
    "        regu_lin = None\n",
    "        regu_nl  = None\n",
    "\n",
    "        # LIN edges: penalty = lam * 1.0\n",
    "        if param_names_lin:\n",
    "            regu_lin, regu_lin_grad = create_regularization(\n",
    "                model=mod,\n",
    "                regularization=alpha_reg,\n",
    "                c=lam * 1.0,\n",
    "                param_names=param_names_lin,\n",
    "                mx_names=None\n",
    "            )\n",
    "\n",
    "        # NL edges: penalty = lam * tiny_penalty\n",
    "        if param_names_nl:\n",
    "            regu_nl, regu_nl_grad = create_regularization(\n",
    "                model=mod,\n",
    "                regularization=alpha_reg,\n",
    "                c=lam * tiny_penalty,\n",
    "                param_names=param_names_nl,\n",
    "                mx_names=None\n",
    "            )\n",
    "\n",
    "        # 3c) Combine both regularizations into one callable pair\n",
    "        #     semopy expects a single (fun, grad) tuple for `regularization=...`\n",
    "        if regu_lin is None and regu_nl is None:\n",
    "            combined_regu = None\n",
    "        elif regu_lin is None:\n",
    "            combined_regu = (regu_nl, regu_nl_grad)\n",
    "        elif regu_nl is None:\n",
    "            combined_regu = (regu_lin, regu_lin_grad)\n",
    "        else:\n",
    "            # sum of two regularizations: (f1 + f2, g1 + g2)\n",
    "            f1, g1 = regu_lin, regu_lin_grad\n",
    "            f2, g2 = regu_nl,  regu_nl_grad\n",
    "            combined_regu = (\n",
    "                lambda x: f1(x) + f2(x),\n",
    "                (None if g1 is None or g2 is None else (lambda x: g1(x) + g2(x)))\n",
    "            )\n",
    "\n",
    "        # 3d) Fit via Model.fit, passing solver=\"L-BFGS-B\" and the combined regularization\n",
    "        try:\n",
    "            mod.fit(\n",
    "                data=df,\n",
    "                solver=\"L-BFGS-B\",        # choose L-BFGS-B as the optimizer\n",
    "                clean_slate=True,         # reset starts each λ\n",
    "                regularization=combined_regu\n",
    "            )\n",
    "        except Exception:\n",
    "            # If it fails, skip this λ\n",
    "            print(f\"lambda = {lam} caused error when fitting lasso-SEM, skipping...\")\n",
    "            continue\n",
    "\n",
    "        # 3e) Extract parameter estimates and keep only those with |est| > 0\n",
    "        est = inspect(mod)  # DataFrame with columns: [\"Param\", \"Op\", \"Value\", ...]\n",
    "        # We want only the “regression” parameters whose “Op” is “~”\n",
    "        regs = est[ est[\"op\"] == \"~\" ].copy()\n",
    "        # Keep those coefficients whose absolute value > 1e-8\n",
    "        nonzero = regs[np.abs(regs[\"Estimate\"]) > 1e-8]\n",
    "        survivors = nonzero.apply(lambda row: f\"{row['lval']} {row['op']} {row['rval']}\", axis=1).tolist()  # e.g. [\"Q2-income~Q1-age\", ...]\n",
    "\n",
    "        # 3f) Compute a simple BIC (semopy’s built‐in `calc_stats` method)\n",
    "        from semopy import calc_stats\n",
    "        stats = calc_stats(mod)\n",
    "        bic = float(stats[\"BIC\"])\n",
    "\n",
    "        results.append((lam, bic, survivors, mod))\n",
    "\n",
    "    # 4) Select best λ (lowest BIC)\n",
    "    if not results:\n",
    "        raise RuntimeError(\"No λ in lambda_grid converged.\")\n",
    "    results.sort(key=lambda x: x[1])  # sort by BIC\n",
    "    best_lambda, best_bic, best_survivors, best_model = results[0]\n",
    "\n",
    "    # 5) Re-extract the final parameter estimates from best_model\n",
    "    est_final = inspect(best_model)\n",
    "    regs_final = est_final[ est_final[\"op\"] == \"~\" ].copy()\n",
    "    regs_final[\"Parameter\"] = regs_final.apply(lambda row: f\"{row['lval']}{row['op']}{row['rval']}\", axis=1)  # e.g. \"Y~X\"\n",
    "    regs_final[\"X\"] = regs_final[\"rval\"]\n",
    "    regs_final[\"Y\"] = regs_final[\"lval\"]\n",
    "    sanitized_all_lin = [(sanitize_column_name(param[0]), sanitize_column_name(param[1])) for param in all_lin]\n",
    "    regs_final[\"Type\"] = regs_final[\"Parameter\"].apply(\n",
    "        lambda p: \"LIN\" if (p.split(\"~\")[1], p.split(\"~\")[0]) in sanitized_all_lin else \"NL\"\n",
    "    )\n",
    "    # Keep only nonzero survivors\n",
    "    final_survivors = regs_final[ np.abs(regs_final[\"Estimate\"]) > 1e-8 ].copy()\n",
    "    surviving_edges = final_survivors[ [\"X\", \"Y\", \"Estimate\", \"Type\"] ].reset_index(drop=True)\n",
    "\n",
    "    # 6) Report final fit indices (e.g. CFI, RMSEA, SRMR)\n",
    "\n",
    "    stats_final = calc_stats(best_model)\n",
    "\n",
    "    # Obtain observed and implied covariance matrices\n",
    "    obs_vars = best_model.vars['observed']\n",
    "    X = df[obs_vars].values # (n_samples, p)\n",
    "    S = np.cov(X, rowvar=False, bias=False) # covariance matrix (p, p)\n",
    "\n",
    "    Sigma, _ = best_model.calc_sigma()\n",
    "\n",
    "    # Convert to correlation matrices\n",
    "    S_corr = cov_to_corr(S)\n",
    "    Sigma_corr = cov_to_corr(Sigma)\n",
    "\n",
    "    # Compute the standardized residuals\n",
    "    residuals = S_corr - Sigma_corr\n",
    "\n",
    "    # Calculate SRMR\n",
    "    srmr = np.sqrt(np.mean(residuals[np.triu_indices_from(residuals, k=1)] ** 2))\n",
    "    \n",
    "    fit_indices = {\n",
    "        \"AIC\":    float(stats_final[\"AIC\"]),\n",
    "        \"BIC\":    float(stats_final[\"BIC\"]),\n",
    "        \"CFI\":    float(stats_final[\"CFI\"]),\n",
    "        \"RMSEA\":  float(stats_final[\"RMSEA\"]),\n",
    "        \"SRMR\":   srmr\n",
    "    }\n",
    "\n",
    "    return best_lambda, surviving_edges, fit_indices"
   ]
  },
  {
   "cell_type": "markdown",
   "id": "6f638cc9",
   "metadata": {},
   "source": [
    "### Step 2 POC"
   ]
  },
  {
   "cell_type": "code",
   "execution_count": 270,
   "id": "1a35415a",
   "metadata": {},
   "outputs": [],
   "source": [
    "\n",
    "seeds = {\n",
    "    \"LIN\": lin_pairs,\n",
    "    \"NL\": nl_pairs\n",
    "}\n"
   ]
  },
  {
   "cell_type": "code",
   "execution_count": 271,
   "id": "6693022b",
   "metadata": {},
   "outputs": [
    {
     "data": {
      "text/plain": [
       "{'LIN': [('Q10-productivity-continuous', 'Q11-income-continuous')],\n",
       " 'NL': [('Q3-rainfall-continuous', 'Q10-productivity-continuous'),\n",
       "  ('Q4-fertilizer-continuous', 'Q10-productivity-continuous')]}"
      ]
     },
     "execution_count": 271,
     "metadata": {},
     "output_type": "execute_result"
    }
   ],
   "source": [
    "seeds"
   ]
  },
  {
   "cell_type": "code",
   "execution_count": 272,
   "id": "4de51a14",
   "metadata": {},
   "outputs": [],
   "source": [
    "# build the semopy model description\n",
    "model_desc = build_sem_model(df, seeds)"
   ]
  },
  {
   "cell_type": "code",
   "execution_count": 273,
   "id": "8442c794",
   "metadata": {},
   "outputs": [
    {
     "data": {
      "text/plain": [
       "'Q11__income__continuous ~ Q10__productivity__continuous\\nQ10__productivity__continuous ~ Q3__rainfall__continuous + Q4__fertilizer__continuous'"
      ]
     },
     "execution_count": 273,
     "metadata": {},
     "output_type": "execute_result"
    }
   ],
   "source": [
    "model_desc"
   ]
  },
  {
   "cell_type": "code",
   "execution_count": 274,
   "id": "74584016",
   "metadata": {},
   "outputs": [
    {
     "name": "stdout",
     "output_type": "stream",
     "text": [
      "Best λ chosen: 0.1\n",
      "Surviving Edges from Lasso-SEM:\n",
      "                               X                              Y   Estimate  \\\n",
      "0       Q3__rainfall__continuous  Q10__productivity__continuous   0.239537   \n",
      "1     Q4__fertilizer__continuous  Q10__productivity__continuous -19.004673   \n",
      "2  Q10__productivity__continuous        Q11__income__continuous   1.199596   \n",
      "\n",
      "  Type  \n",
      "0   NL  \n",
      "1   NL  \n",
      "2  LIN  \n",
      "Fit indices on final model:\n",
      "{'AIC': -8.115921376659205, 'BIC': 8.375665456080977, 'CFI': 0.2898905318587133, 'RMSEA': 1.3474681777750832, 'SRMR': np.float64(0.11981843568868258)}\n"
     ]
    },
    {
     "name": "stderr",
     "output_type": "stream",
     "text": [
      "C:\\Users\\nadav\\AppData\\Local\\Temp\\ipykernel_26780\\848937733.py:138: FutureWarning: Calling float on a single element Series is deprecated and will raise a TypeError in the future. Use float(ser.iloc[0]) instead\n",
      "  bic = float(stats[\"BIC\"])\n",
      "C:\\Users\\nadav\\AppData\\Local\\Temp\\ipykernel_26780\\848937733.py:138: FutureWarning: Calling float on a single element Series is deprecated and will raise a TypeError in the future. Use float(ser.iloc[0]) instead\n",
      "  bic = float(stats[\"BIC\"])\n",
      "C:\\Users\\nadav\\AppData\\Local\\Temp\\ipykernel_26780\\848937733.py:138: FutureWarning: Calling float on a single element Series is deprecated and will raise a TypeError in the future. Use float(ser.iloc[0]) instead\n",
      "  bic = float(stats[\"BIC\"])\n",
      "C:\\Users\\nadav\\AppData\\Local\\Temp\\ipykernel_26780\\848937733.py:184: FutureWarning: Calling float on a single element Series is deprecated and will raise a TypeError in the future. Use float(ser.iloc[0]) instead\n",
      "  \"AIC\":    float(stats_final[\"AIC\"]),\n",
      "C:\\Users\\nadav\\AppData\\Local\\Temp\\ipykernel_26780\\848937733.py:185: FutureWarning: Calling float on a single element Series is deprecated and will raise a TypeError in the future. Use float(ser.iloc[0]) instead\n",
      "  \"BIC\":    float(stats_final[\"BIC\"]),\n",
      "C:\\Users\\nadav\\AppData\\Local\\Temp\\ipykernel_26780\\848937733.py:186: FutureWarning: Calling float on a single element Series is deprecated and will raise a TypeError in the future. Use float(ser.iloc[0]) instead\n",
      "  \"CFI\":    float(stats_final[\"CFI\"]),\n",
      "C:\\Users\\nadav\\AppData\\Local\\Temp\\ipykernel_26780\\848937733.py:187: FutureWarning: Calling float on a single element Series is deprecated and will raise a TypeError in the future. Use float(ser.iloc[0]) instead\n",
      "  \"RMSEA\":  float(stats_final[\"RMSEA\"]),\n"
     ]
    }
   ],
   "source": [
    "df_copy, _ = sanitize_dataframe(df)\n",
    "edges_copy = sanitize_edges(seeds)\n",
    "\n",
    "best_lambda, surviving_edges, fit_indices = fit_lasso_sem(\n",
    "    df=df_copy,\n",
    "    model_desc=model_desc,\n",
    "    edges=edges_copy,\n",
    "    lambda_grid=[0.1, 0.01, 0.001],   # adjust as needed\n",
    "    tiny_penalty=1e-6,\n",
    "    alpha_reg=\"l1-thresh\",\n",
    "    fdr_alpha=0.05\n",
    ")\n",
    "\n",
    "print(\"Best λ chosen:\", best_lambda)\n",
    "print(\"Surviving Edges from Lasso-SEM:\")\n",
    "print(surviving_edges)\n",
    "print(\"Fit indices on final model:\")\n",
    "print(fit_indices)\n"
   ]
  },
  {
   "cell_type": "markdown",
   "id": "b7775012",
   "metadata": {},
   "source": [
    "# Step 3: Arrow-by-Arrow GAM vs. Linear"
   ]
  },
  {
   "cell_type": "code",
   "execution_count": 275,
   "id": "746f33ef",
   "metadata": {},
   "outputs": [],
   "source": [
    "def compute_residual(Y: str, X: str, parents_map: dict, edge_coefs: dict, df: pd.DataFrame):\n",
    "    \"\"\"\n",
    "    Compute R_Y = Y - sum_{Z in parents(Y), Z != X} [beta_{Z→Y} * df[Z]]. \n",
    "    Inputs:\n",
    "      - Y: column name of dependent variable\n",
    "      - X: column name of the edge we are refining\n",
    "      - parents_map: dict Y->[Z1,Z2,...]\n",
    "      - edge_coefs: dict mapping (\"Z\",\"Y\") -> coefficient float (from step 3)\n",
    "      - df: DataFrame with all columns\n",
    "    Output:\n",
    "      - R_Y: a 1d NumPy array of length n_samples\n",
    "    \"\"\"\n",
    "    y_vec = df[Y].values.astype(float)\n",
    "    for Z in parents_map.get(Y, []):\n",
    "        if Z == X:\n",
    "            continue\n",
    "        beta = edge_coefs.get((Z, Y), 0.0)\n",
    "        y_vec = y_vec - beta * df[Z].values.astype(float)\n",
    "    return y_vec\n"
   ]
  },
  {
   "cell_type": "code",
   "execution_count": 276,
   "id": "82b26a6e",
   "metadata": {},
   "outputs": [],
   "source": [
    "def aicc_from_aic(aic: float, k: int, n: int) -> float:\n",
    "    \"\"\"\n",
    "    Compute AICc = AIC + [2k(k+1)] / [n - k - 1].\n",
    "    Here k = number of estimated parameters (including intercept).\n",
    "    n = sample size.\n",
    "    \"\"\"\n",
    "    if n - k - 1 <= 0:\n",
    "        # fallback if sample is too small; return raw AIC\n",
    "        return aic\n",
    "    return aic + (2.0 * k * (k + 1)) / float(n - k - 1)"
   ]
  },
  {
   "cell_type": "code",
   "execution_count": 277,
   "id": "91c0945f",
   "metadata": {},
   "outputs": [],
   "source": [
    "from statsmodels.regression.linear_model import OLS\n",
    "from statsmodels.tools import add_constant\n",
    "\n",
    "def fit_linear_model(R: np.ndarray, X: np.ndarray):\n",
    "    \"\"\"\n",
    "    Fit R ~ 1 + X using OLS; return:\n",
    "      - beta_hat (the slope on X)\n",
    "      - aicc_lin\n",
    "      - p_value of slope (two-sided from t-test)\n",
    "    \"\"\"\n",
    "    n = len(R)\n",
    "    # design matrix: [1, X]\n",
    "    X_design = add_constant(X)  # (n,2)\n",
    "    model = OLS(R, X_design).fit()\n",
    "    beta_hat = model.params[1]\n",
    "    aic = model.aic\n",
    "    k = int(model.df_model) + 1  # df_model excludes intercept, so +1 for intercept\n",
    "    aicc_lin = aicc_from_aic(aic, k, n)\n",
    "    # p-value for slope is at index 1\n",
    "    p_val = float(model.pvalues[1])\n",
    "    return beta_hat, aicc_lin, p_val, model"
   ]
  },
  {
   "cell_type": "code",
   "execution_count": 278,
   "id": "12323222",
   "metadata": {},
   "outputs": [],
   "source": [
    "from statsmodels.api import families\n",
    "from statsmodels.gam.api import GLMGam, BSplines\n",
    "\n",
    "def fit_gam_model(R: np.ndarray, X: np.ndarray, n_splines: int = 4):\n",
    "    \"\"\"\n",
    "    Fit a univariate GAM: R ~ s(X), using cubic B‐splines with `n_splines` basis functions.\n",
    "    Returns:\n",
    "      - gam_res: the fitted GLMGamResults object\n",
    "      - aicc_gam: the small‐sample‐corrected AIC (AICc)\n",
    "      - piecewise_slopes: a 1‐D array of length (n_splines-1), approximating \n",
    "                          the derivative d/dx [E(R|X=x)] at interior grid points.\n",
    "    \"\"\"\n",
    "\n",
    "    # 1) Build B-spline basis for X (use default quantile‐based knots)\n",
    "    #    You can replace `knot_kwds=None` with explicit placement if desired.\n",
    "    n = len(R)\n",
    "    x_min, x_max = np.min(X), np.max(X)\n",
    "    x_1d = X.reshape(-1, 1)\n",
    "\n",
    "    # Note: we no longer use find_inflection_knots here, so omit knots entirely\n",
    "    bs = BSplines(\n",
    "        x_1d,\n",
    "        df=[n_splines],\n",
    "        degree=[3]\n",
    "        # If you want to force custom knots, use: knot_kwds={\"knots\":[custom_knots]}\n",
    "    )\n",
    "\n",
    "    # 2) Fit the GAM with Gaussian family + identity link\n",
    "    gam_model = GLMGam(R, exog=np.ones((n, 1)), smoother=bs, family=families.Gaussian())\n",
    "    gam_res = gam_model.fit()\n",
    "\n",
    "    # 3) Compute AICc from gam_res.aic\n",
    "    aic = float(gam_res.aic)\n",
    "    k = int(gam_res.df_model) + 1                # # params = df_model + intercept\n",
    "    if n - k - 1 <= 0:\n",
    "        aicc_gam = aic\n",
    "    else:\n",
    "        aicc_gam = aic + (2.0 * k * (k + 1)) / float(n - k - 1)\n",
    "\n",
    "    # 4) Build grid of (n_splines - 1) interior x-values for slope estimation\n",
    "    if n_splines > 1:\n",
    "        # n_splines + 1 total points → drop endpoints → interior = n_splines-1\n",
    "        x_grid = np.linspace(x_min, x_max, num=(n_splines + 1))[1:-1]\n",
    "    else:\n",
    "        x_grid = np.array([(x_min + x_max) / 2.0])  # fallback if n_splines == 1\n",
    "\n",
    "    # 5) Evaluate the fitted smooth on a slightly denser grid, for finite differences\n",
    "    #    We pick a grid of twice the resolution so differences are stable.\n",
    "    m = len(x_grid)\n",
    "    # Create a finer grid that includes all interior nodes plus tiny eps around them:\n",
    "    eps = 1e-6 * (x_max - x_min + 1e-6)\n",
    "    x_dense = np.sort(np.concatenate([\n",
    "        x_grid - eps,\n",
    "        x_grid + eps\n",
    "    ]))\n",
    "    x_dense_reshaped = x_dense.reshape(-1, 1)\n",
    "    # Prepare the design matrix for the smooth: intercept only + smooth(X)\n",
    "    exog_dense = np.ones((len(x_dense), 1))\n",
    "\n",
    "    # 6) Predict on x_dense via gam_res.predict()\n",
    "    #    In current statsmodels, .predict(endog=None, exog=None, transform=True)\n",
    "    #    will produce fitted values on the new exog.  We only need the smooth part,\n",
    "    #    but since exog is constant intercept, predict() yields intercept + s(x).\n",
    "    preds_dense = gam_res.predict(exog=exog_dense, exog_smooth=x_dense_reshaped)\n",
    "\n",
    "    # 7) Approximate the derivative at each x_grid[i] by finite difference:\n",
    "    #    If x_dense = [x1 - eps, x1 + eps, x2 - eps, x2 + eps, ...], then\n",
    "    #      slope_at_x_grid[i] ≈ [ pred(x_i+eps) - pred(x_i-eps) ] / (2*eps)\n",
    "    #\n",
    "    #    Because x_dense is ordered [x1-eps, x1+eps, x2-eps, x2+eps, ...],\n",
    "    #    we can take differences in pairs.\n",
    "    piecewise_slopes = np.empty(m, dtype=float)\n",
    "    for i in range(m):\n",
    "        low = preds_dense[2*i]       # pred at (x_grid[i] - eps)\n",
    "        high = preds_dense[2*i + 1]  # pred at (x_grid[i] + eps)\n",
    "        piecewise_slopes[i] = (high - low) / (2 * eps)\n",
    "\n",
    "    return gam_res, aicc_gam, piecewise_slopes\n"
   ]
  },
  {
   "cell_type": "code",
   "execution_count": 279,
   "id": "13ec2910",
   "metadata": {},
   "outputs": [],
   "source": [
    "def refine_continuous_edge(\n",
    "    R: np.ndarray,\n",
    "    X: np.ndarray,\n",
    "    alpha_threshold: float = 2.0\n",
    "):\n",
    "    \"\"\"\n",
    "    Compare a linear fit vs. GAM fit of R ~ X using AICc.  \n",
    "    If GAM's AICc + alpha_threshold < linear AICc, we choose 'NL' \n",
    "    and return the piecewise_slopes array. Otherwise, we choose 'LIN' \n",
    "    and return the linear slope.\n",
    "\n",
    "    Returns:\n",
    "      - keep_edge: always True (we don’t drop continuous edges at this stage)\n",
    "      - final_type: \"LIN\" or \"NL\"\n",
    "      - final_estimate: if \"LIN\", a single float (the OLS slope);\n",
    "                        if \"NL\", a 1D np.ndarray of length (n_splines-1)\n",
    "    \"\"\"\n",
    "    # (1) Fit the linear model\n",
    "    beta_lin, aicc_lin, p_lin, lin_model = fit_linear_model(R, X)\n",
    "\n",
    "    # (2) Fit the GAM model (new version returns piecewise_slopes)\n",
    "    gam_res, aicc_gam, piecewise_slopes = fit_gam_model(R, X)\n",
    "\n",
    "    # (3) Compare AICc + threshold\n",
    "    if (aicc_gam + alpha_threshold) < aicc_lin:\n",
    "        # Nonlinear wins: return the piecewise slopes array\n",
    "        return True, \"NL\", piecewise_slopes\n",
    "    else:\n",
    "        # Linear wins: return the single OLS slope\n",
    "        return True, \"LIN\", beta_lin\n"
   ]
  },
  {
   "cell_type": "code",
   "execution_count": 280,
   "id": "e214a165",
   "metadata": {},
   "outputs": [],
   "source": [
    "from scipy.stats import ttest_ind\n",
    "\n",
    "def refine_binary_edge(R: np.ndarray, X: np.ndarray):\n",
    "    grp0 = R[X == 0]\n",
    "    grp1 = R[X == 1]\n",
    "    if len(grp0) < 2 or len(grp1) < 2:\n",
    "        return 1.0, None\n",
    "    tstat, p_val = ttest_ind(grp0, grp1, equal_var=False)\n",
    "    mean_diff = float(np.mean(grp1) - np.mean(grp0))\n",
    "    return p_val, mean_diff"
   ]
  },
  {
   "cell_type": "code",
   "execution_count": 281,
   "id": "22fbc195",
   "metadata": {},
   "outputs": [],
   "source": [
    "def refine_edges(df: pd.DataFrame, surviving_edges: pd.DataFrame):\n",
    "    \"\"\"\n",
    "    Perform Step 4 refinement on each (X→Y). Returns a DataFrame\n",
    "    with columns [\"X\",\"Y\",\"Type\",\"Estimate\"], where:\n",
    "      - Type=\"LIN\"  → Estimate is a float (slope).\n",
    "      - Type=\"NL\"   → Estimate is a 1D array of piecewise slopes.\n",
    "    \"\"\"\n",
    "    # (A) Build parent‐map and coefficient dict\n",
    "    parents_of = {}\n",
    "    coefs = {}\n",
    "    for _, row in surviving_edges.iterrows():\n",
    "        X, Y, est = row[\"X\"], row[\"Y\"], float(row[\"Estimate\"])\n",
    "        parents_of.setdefault(Y, []).append(X)\n",
    "        coefs[(X, Y)] = est\n",
    "\n",
    "    # (B) Gather edges by predictor‐type\n",
    "    cont_info   = []  # (X, Y, R_Y, X_values) for continuous/ordinal X\n",
    "    bin_info    = []  # (X, Y, R_Y, X_values, mean_diff, p_val) for binary\n",
    "    pvals_bin   = []  # list of p‐values for all binary edges\n",
    "\n",
    "    for _, row in surviving_edges.iterrows():\n",
    "        typ = row[\"Type\"]\n",
    "        X, Y = row[\"X\"], row[\"Y\"]\n",
    "        R_Y = compute_residual(Y, X, parents_of, coefs, df)\n",
    "\n",
    "        meta = parse_feature_metadata(X)\n",
    "        if meta[\"type\"] in [\"continuous\", \"ordinal\"]:\n",
    "            cont_info.append((X, Y, R_Y, df[X].values.astype(float), typ))\n",
    "\n",
    "        elif meta[\"type\"] == \"binary\":\n",
    "            p_val, mean_diff = refine_binary_edge(R_Y, df[X].values.astype(int))\n",
    "            pvals_bin.append(p_val)\n",
    "            bin_info.append((X, Y, R_Y, df[X].values.astype(int), mean_diff, p_val))\n",
    "\n",
    "        else:\n",
    "            # If you have no remaining \"nominal\" features, this branch never happens.\n",
    "            continue\n",
    "\n",
    "    refined = []\n",
    "\n",
    "    # (C) Refine continuous/ordinal via AICc comparison\n",
    "    for X, Y, R_Y, X_vals, typ in cont_info:\n",
    "        if typ == \"LIN\":\n",
    "            refined.append((X, Y, typ, coefs[(X, Y)]))\n",
    "            continue\n",
    "        keep, ttype, est = refine_continuous_edge(R_Y, X_vals)\n",
    "        if keep:\n",
    "            refined.append((X, Y, ttype, est))\n",
    "\n",
    "    # (D) Refine binary edges with FDR\n",
    "    if pvals_bin:\n",
    "        reject_bin, *_ = multipletests(pvals_bin, alpha=0.05, method=\"fdr_bh\")\n",
    "        for idx, (X, Y, R_Y, X_vals, mean_diff, p_val) in enumerate(bin_info):\n",
    "            if reject_bin[idx]:\n",
    "                refined.append((X, Y, \"LIN\", mean_diff))\n",
    "            # else: drop this edge\n",
    "\n",
    "    # (E) Build the final DataFrame\n",
    "    df_refined = pd.DataFrame(refined, columns=[\"X\", \"Y\", \"Type\", \"Estimate\"])\n",
    "    return df_refined\n"
   ]
  },
  {
   "cell_type": "markdown",
   "id": "2939221c",
   "metadata": {},
   "source": [
    "### Step 3 POC"
   ]
  },
  {
   "cell_type": "code",
   "execution_count": 282,
   "id": "5abde22c",
   "metadata": {},
   "outputs": [
    {
     "data": {
      "text/html": [
       "<div>\n",
       "<style scoped>\n",
       "    .dataframe tbody tr th:only-of-type {\n",
       "        vertical-align: middle;\n",
       "    }\n",
       "\n",
       "    .dataframe tbody tr th {\n",
       "        vertical-align: top;\n",
       "    }\n",
       "\n",
       "    .dataframe thead th {\n",
       "        text-align: right;\n",
       "    }\n",
       "</style>\n",
       "<table border=\"1\" class=\"dataframe\">\n",
       "  <thead>\n",
       "    <tr style=\"text-align: right;\">\n",
       "      <th></th>\n",
       "      <th>X</th>\n",
       "      <th>Y</th>\n",
       "      <th>Estimate</th>\n",
       "      <th>Type</th>\n",
       "    </tr>\n",
       "  </thead>\n",
       "  <tbody>\n",
       "    <tr>\n",
       "      <th>0</th>\n",
       "      <td>Q3__rainfall__continuous</td>\n",
       "      <td>Q10__productivity__continuous</td>\n",
       "      <td>0.239537</td>\n",
       "      <td>NL</td>\n",
       "    </tr>\n",
       "    <tr>\n",
       "      <th>1</th>\n",
       "      <td>Q4__fertilizer__continuous</td>\n",
       "      <td>Q10__productivity__continuous</td>\n",
       "      <td>-19.004673</td>\n",
       "      <td>NL</td>\n",
       "    </tr>\n",
       "    <tr>\n",
       "      <th>2</th>\n",
       "      <td>Q10__productivity__continuous</td>\n",
       "      <td>Q11__income__continuous</td>\n",
       "      <td>1.199596</td>\n",
       "      <td>LIN</td>\n",
       "    </tr>\n",
       "  </tbody>\n",
       "</table>\n",
       "</div>"
      ],
      "text/plain": [
       "                               X                              Y   Estimate  \\\n",
       "0       Q3__rainfall__continuous  Q10__productivity__continuous   0.239537   \n",
       "1     Q4__fertilizer__continuous  Q10__productivity__continuous -19.004673   \n",
       "2  Q10__productivity__continuous        Q11__income__continuous   1.199596   \n",
       "\n",
       "  Type  \n",
       "0   NL  \n",
       "1   NL  \n",
       "2  LIN  "
      ]
     },
     "execution_count": 282,
     "metadata": {},
     "output_type": "execute_result"
    }
   ],
   "source": [
    "surviving_edges"
   ]
  },
  {
   "cell_type": "code",
   "execution_count": 283,
   "id": "052d0b23",
   "metadata": {},
   "outputs": [
    {
     "data": {
      "text/html": [
       "<div>\n",
       "<style scoped>\n",
       "    .dataframe tbody tr th:only-of-type {\n",
       "        vertical-align: middle;\n",
       "    }\n",
       "\n",
       "    .dataframe tbody tr th {\n",
       "        vertical-align: top;\n",
       "    }\n",
       "\n",
       "    .dataframe thead th {\n",
       "        text-align: right;\n",
       "    }\n",
       "</style>\n",
       "<table border=\"1\" class=\"dataframe\">\n",
       "  <thead>\n",
       "    <tr style=\"text-align: right;\">\n",
       "      <th></th>\n",
       "      <th>Q1__age__continuous</th>\n",
       "      <th>Q2__farm_size__continuous</th>\n",
       "      <th>Q3__rainfall__continuous</th>\n",
       "      <th>Q4__fertilizer__continuous</th>\n",
       "      <th>Q5__edu_years__ordinal</th>\n",
       "      <th>Q6__region__binary_nominal__1</th>\n",
       "      <th>Q6__region__binary_nominal__2</th>\n",
       "      <th>Q6__region__binary_nominal__3</th>\n",
       "      <th>Q7__irrigation__binary_nominal__1</th>\n",
       "      <th>Q7__irrigation__binary_nominal__2</th>\n",
       "      <th>Q8__seed_bvar__binary_nominal__1</th>\n",
       "      <th>Q8__seed_bvar__binary_nominal__2</th>\n",
       "      <th>Q8__seed_bvar__binary_nominal__3</th>\n",
       "      <th>Q8__seed_bvar__binary_nominal__4</th>\n",
       "      <th>Q9__pesticide__binary__1</th>\n",
       "      <th>Q10__productivity__continuous</th>\n",
       "      <th>Q11__income__continuous</th>\n",
       "    </tr>\n",
       "  </thead>\n",
       "  <tbody>\n",
       "    <tr>\n",
       "      <th>0</th>\n",
       "      <td>35.6</td>\n",
       "      <td>5.26</td>\n",
       "      <td>1171.5</td>\n",
       "      <td>64.41</td>\n",
       "      <td>16</td>\n",
       "      <td>0</td>\n",
       "      <td>0</td>\n",
       "      <td>1</td>\n",
       "      <td>1</td>\n",
       "      <td>0</td>\n",
       "      <td>0</td>\n",
       "      <td>0</td>\n",
       "      <td>1</td>\n",
       "      <td>0</td>\n",
       "      <td>1</td>\n",
       "      <td>-1263.73</td>\n",
       "      <td>-1516.58</td>\n",
       "    </tr>\n",
       "    <tr>\n",
       "      <th>1</th>\n",
       "      <td>62.7</td>\n",
       "      <td>8.30</td>\n",
       "      <td>968.0</td>\n",
       "      <td>49.67</td>\n",
       "      <td>7</td>\n",
       "      <td>0</td>\n",
       "      <td>1</td>\n",
       "      <td>0</td>\n",
       "      <td>1</td>\n",
       "      <td>0</td>\n",
       "      <td>1</td>\n",
       "      <td>0</td>\n",
       "      <td>0</td>\n",
       "      <td>0</td>\n",
       "      <td>0</td>\n",
       "      <td>79.56</td>\n",
       "      <td>53.13</td>\n",
       "    </tr>\n",
       "    <tr>\n",
       "      <th>2</th>\n",
       "      <td>52.4</td>\n",
       "      <td>8.56</td>\n",
       "      <td>996.2</td>\n",
       "      <td>51.50</td>\n",
       "      <td>13</td>\n",
       "      <td>1</td>\n",
       "      <td>0</td>\n",
       "      <td>0</td>\n",
       "      <td>0</td>\n",
       "      <td>1</td>\n",
       "      <td>0</td>\n",
       "      <td>0</td>\n",
       "      <td>1</td>\n",
       "      <td>0</td>\n",
       "      <td>0</td>\n",
       "      <td>131.73</td>\n",
       "      <td>141.58</td>\n",
       "    </tr>\n",
       "    <tr>\n",
       "      <th>3</th>\n",
       "      <td>46.1</td>\n",
       "      <td>5.17</td>\n",
       "      <td>799.5</td>\n",
       "      <td>37.92</td>\n",
       "      <td>11</td>\n",
       "      <td>1</td>\n",
       "      <td>0</td>\n",
       "      <td>0</td>\n",
       "      <td>0</td>\n",
       "      <td>1</td>\n",
       "      <td>0</td>\n",
       "      <td>1</td>\n",
       "      <td>0</td>\n",
       "      <td>0</td>\n",
       "      <td>0</td>\n",
       "      <td>-1911.97</td>\n",
       "      <td>-2296.83</td>\n",
       "    </tr>\n",
       "    <tr>\n",
       "      <th>4</th>\n",
       "      <td>25.3</td>\n",
       "      <td>18.78</td>\n",
       "      <td>996.3</td>\n",
       "      <td>47.38</td>\n",
       "      <td>15</td>\n",
       "      <td>0</td>\n",
       "      <td>1</td>\n",
       "      <td>0</td>\n",
       "      <td>1</td>\n",
       "      <td>0</td>\n",
       "      <td>0</td>\n",
       "      <td>0</td>\n",
       "      <td>1</td>\n",
       "      <td>0</td>\n",
       "      <td>0</td>\n",
       "      <td>147.62</td>\n",
       "      <td>155.44</td>\n",
       "    </tr>\n",
       "    <tr>\n",
       "      <th>...</th>\n",
       "      <td>...</td>\n",
       "      <td>...</td>\n",
       "      <td>...</td>\n",
       "      <td>...</td>\n",
       "      <td>...</td>\n",
       "      <td>...</td>\n",
       "      <td>...</td>\n",
       "      <td>...</td>\n",
       "      <td>...</td>\n",
       "      <td>...</td>\n",
       "      <td>...</td>\n",
       "      <td>...</td>\n",
       "      <td>...</td>\n",
       "      <td>...</td>\n",
       "      <td>...</td>\n",
       "      <td>...</td>\n",
       "      <td>...</td>\n",
       "    </tr>\n",
       "    <tr>\n",
       "      <th>195</th>\n",
       "      <td>34.4</td>\n",
       "      <td>3.66</td>\n",
       "      <td>959.4</td>\n",
       "      <td>44.19</td>\n",
       "      <td>3</td>\n",
       "      <td>1</td>\n",
       "      <td>0</td>\n",
       "      <td>0</td>\n",
       "      <td>0</td>\n",
       "      <td>1</td>\n",
       "      <td>0</td>\n",
       "      <td>0</td>\n",
       "      <td>0</td>\n",
       "      <td>1</td>\n",
       "      <td>0</td>\n",
       "      <td>44.82</td>\n",
       "      <td>49.84</td>\n",
       "    </tr>\n",
       "    <tr>\n",
       "      <th>196</th>\n",
       "      <td>52.1</td>\n",
       "      <td>5.16</td>\n",
       "      <td>1074.2</td>\n",
       "      <td>50.65</td>\n",
       "      <td>8</td>\n",
       "      <td>0</td>\n",
       "      <td>1</td>\n",
       "      <td>0</td>\n",
       "      <td>1</td>\n",
       "      <td>0</td>\n",
       "      <td>1</td>\n",
       "      <td>0</td>\n",
       "      <td>0</td>\n",
       "      <td>0</td>\n",
       "      <td>1</td>\n",
       "      <td>-92.60</td>\n",
       "      <td>-115.39</td>\n",
       "    </tr>\n",
       "    <tr>\n",
       "      <th>197</th>\n",
       "      <td>60.2</td>\n",
       "      <td>6.64</td>\n",
       "      <td>879.2</td>\n",
       "      <td>36.93</td>\n",
       "      <td>16</td>\n",
       "      <td>0</td>\n",
       "      <td>1</td>\n",
       "      <td>0</td>\n",
       "      <td>0</td>\n",
       "      <td>1</td>\n",
       "      <td>0</td>\n",
       "      <td>1</td>\n",
       "      <td>0</td>\n",
       "      <td>0</td>\n",
       "      <td>0</td>\n",
       "      <td>-598.20</td>\n",
       "      <td>-760.24</td>\n",
       "    </tr>\n",
       "    <tr>\n",
       "      <th>198</th>\n",
       "      <td>59.7</td>\n",
       "      <td>8.63</td>\n",
       "      <td>1017.3</td>\n",
       "      <td>46.25</td>\n",
       "      <td>4</td>\n",
       "      <td>0</td>\n",
       "      <td>0</td>\n",
       "      <td>1</td>\n",
       "      <td>1</td>\n",
       "      <td>0</td>\n",
       "      <td>1</td>\n",
       "      <td>0</td>\n",
       "      <td>0</td>\n",
       "      <td>0</td>\n",
       "      <td>1</td>\n",
       "      <td>156.57</td>\n",
       "      <td>136.42</td>\n",
       "    </tr>\n",
       "    <tr>\n",
       "      <th>199</th>\n",
       "      <td>54.7</td>\n",
       "      <td>15.45</td>\n",
       "      <td>968.9</td>\n",
       "      <td>41.69</td>\n",
       "      <td>18</td>\n",
       "      <td>1</td>\n",
       "      <td>0</td>\n",
       "      <td>0</td>\n",
       "      <td>0</td>\n",
       "      <td>1</td>\n",
       "      <td>0</td>\n",
       "      <td>1</td>\n",
       "      <td>0</td>\n",
       "      <td>0</td>\n",
       "      <td>1</td>\n",
       "      <td>126.19</td>\n",
       "      <td>131.39</td>\n",
       "    </tr>\n",
       "  </tbody>\n",
       "</table>\n",
       "<p>200 rows × 17 columns</p>\n",
       "</div>"
      ],
      "text/plain": [
       "     Q1__age__continuous  Q2__farm_size__continuous  Q3__rainfall__continuous  \\\n",
       "0                   35.6                       5.26                    1171.5   \n",
       "1                   62.7                       8.30                     968.0   \n",
       "2                   52.4                       8.56                     996.2   \n",
       "3                   46.1                       5.17                     799.5   \n",
       "4                   25.3                      18.78                     996.3   \n",
       "..                   ...                        ...                       ...   \n",
       "195                 34.4                       3.66                     959.4   \n",
       "196                 52.1                       5.16                    1074.2   \n",
       "197                 60.2                       6.64                     879.2   \n",
       "198                 59.7                       8.63                    1017.3   \n",
       "199                 54.7                      15.45                     968.9   \n",
       "\n",
       "     Q4__fertilizer__continuous  Q5__edu_years__ordinal  \\\n",
       "0                         64.41                      16   \n",
       "1                         49.67                       7   \n",
       "2                         51.50                      13   \n",
       "3                         37.92                      11   \n",
       "4                         47.38                      15   \n",
       "..                          ...                     ...   \n",
       "195                       44.19                       3   \n",
       "196                       50.65                       8   \n",
       "197                       36.93                      16   \n",
       "198                       46.25                       4   \n",
       "199                       41.69                      18   \n",
       "\n",
       "     Q6__region__binary_nominal__1  Q6__region__binary_nominal__2  \\\n",
       "0                                0                              0   \n",
       "1                                0                              1   \n",
       "2                                1                              0   \n",
       "3                                1                              0   \n",
       "4                                0                              1   \n",
       "..                             ...                            ...   \n",
       "195                              1                              0   \n",
       "196                              0                              1   \n",
       "197                              0                              1   \n",
       "198                              0                              0   \n",
       "199                              1                              0   \n",
       "\n",
       "     Q6__region__binary_nominal__3  Q7__irrigation__binary_nominal__1  \\\n",
       "0                                1                                  1   \n",
       "1                                0                                  1   \n",
       "2                                0                                  0   \n",
       "3                                0                                  0   \n",
       "4                                0                                  1   \n",
       "..                             ...                                ...   \n",
       "195                              0                                  0   \n",
       "196                              0                                  1   \n",
       "197                              0                                  0   \n",
       "198                              1                                  1   \n",
       "199                              0                                  0   \n",
       "\n",
       "     Q7__irrigation__binary_nominal__2  Q8__seed_bvar__binary_nominal__1  \\\n",
       "0                                    0                                 0   \n",
       "1                                    0                                 1   \n",
       "2                                    1                                 0   \n",
       "3                                    1                                 0   \n",
       "4                                    0                                 0   \n",
       "..                                 ...                               ...   \n",
       "195                                  1                                 0   \n",
       "196                                  0                                 1   \n",
       "197                                  1                                 0   \n",
       "198                                  0                                 1   \n",
       "199                                  1                                 0   \n",
       "\n",
       "     Q8__seed_bvar__binary_nominal__2  Q8__seed_bvar__binary_nominal__3  \\\n",
       "0                                   0                                 1   \n",
       "1                                   0                                 0   \n",
       "2                                   0                                 1   \n",
       "3                                   1                                 0   \n",
       "4                                   0                                 1   \n",
       "..                                ...                               ...   \n",
       "195                                 0                                 0   \n",
       "196                                 0                                 0   \n",
       "197                                 1                                 0   \n",
       "198                                 0                                 0   \n",
       "199                                 1                                 0   \n",
       "\n",
       "     Q8__seed_bvar__binary_nominal__4  Q9__pesticide__binary__1  \\\n",
       "0                                   0                         1   \n",
       "1                                   0                         0   \n",
       "2                                   0                         0   \n",
       "3                                   0                         0   \n",
       "4                                   0                         0   \n",
       "..                                ...                       ...   \n",
       "195                                 1                         0   \n",
       "196                                 0                         1   \n",
       "197                                 0                         0   \n",
       "198                                 0                         1   \n",
       "199                                 0                         1   \n",
       "\n",
       "     Q10__productivity__continuous  Q11__income__continuous  \n",
       "0                         -1263.73                 -1516.58  \n",
       "1                            79.56                    53.13  \n",
       "2                           131.73                   141.58  \n",
       "3                         -1911.97                 -2296.83  \n",
       "4                           147.62                   155.44  \n",
       "..                             ...                      ...  \n",
       "195                          44.82                    49.84  \n",
       "196                         -92.60                  -115.39  \n",
       "197                        -598.20                  -760.24  \n",
       "198                         156.57                   136.42  \n",
       "199                         126.19                   131.39  \n",
       "\n",
       "[200 rows x 17 columns]"
      ]
     },
     "execution_count": 283,
     "metadata": {},
     "output_type": "execute_result"
    }
   ],
   "source": [
    "df_copy"
   ]
  },
  {
   "cell_type": "code",
   "execution_count": 284,
   "id": "fde75ecd",
   "metadata": {},
   "outputs": [],
   "source": [
    "def parse_feature_metadata(col: str):\n",
    "    parts = col.split('__', maxsplit=3)\n",
    "    if len(parts) not in (3,4):\n",
    "        return None\n",
    "    qid, name, ftype = parts[:3]\n",
    "    if not re.fullmatch(r'Q\\d+|Q#', qid):\n",
    "        return None\n",
    "    dummy = parts[3] if len(parts)==4 else None\n",
    "    return {\"qid\": qid, \"name\": name, \"type\": ftype, \"dummy\": dummy}"
   ]
  },
  {
   "cell_type": "code",
   "execution_count": null,
   "id": "2dc9bf79",
   "metadata": {},
   "outputs": [
    {
     "data": {
      "text/html": [
       "<div>\n",
       "<style scoped>\n",
       "    .dataframe tbody tr th:only-of-type {\n",
       "        vertical-align: middle;\n",
       "    }\n",
       "\n",
       "    .dataframe tbody tr th {\n",
       "        vertical-align: top;\n",
       "    }\n",
       "\n",
       "    .dataframe thead th {\n",
       "        text-align: right;\n",
       "    }\n",
       "</style>\n",
       "<table border=\"1\" class=\"dataframe\">\n",
       "  <thead>\n",
       "    <tr style=\"text-align: right;\">\n",
       "      <th></th>\n",
       "      <th>X</th>\n",
       "      <th>Y</th>\n",
       "      <th>Type</th>\n",
       "      <th>Estimate</th>\n",
       "    </tr>\n",
       "  </thead>\n",
       "  <tbody>\n",
       "    <tr>\n",
       "      <th>0</th>\n",
       "      <td>Q3__rainfall__continuous</td>\n",
       "      <td>Q10__productivity__continuous</td>\n",
       "      <td>NL</td>\n",
       "      <td>[22.69842766583067, -4.948209794781352, -32.69...</td>\n",
       "    </tr>\n",
       "    <tr>\n",
       "      <th>1</th>\n",
       "      <td>Q4__fertilizer__continuous</td>\n",
       "      <td>Q10__productivity__continuous</td>\n",
       "      <td>NL</td>\n",
       "      <td>[363.06516722800853, -9.35770274087134, -490.4...</td>\n",
       "    </tr>\n",
       "    <tr>\n",
       "      <th>2</th>\n",
       "      <td>Q10__productivity__continuous</td>\n",
       "      <td>Q11__income__continuous</td>\n",
       "      <td>LIN</td>\n",
       "      <td>1.199596</td>\n",
       "    </tr>\n",
       "  </tbody>\n",
       "</table>\n",
       "</div>"
      ],
      "text/plain": [
       "                               X                              Y Type  \\\n",
       "0       Q3__rainfall__continuous  Q10__productivity__continuous   NL   \n",
       "1     Q4__fertilizer__continuous  Q10__productivity__continuous   NL   \n",
       "2  Q10__productivity__continuous        Q11__income__continuous  LIN   \n",
       "\n",
       "                                            Estimate  \n",
       "0  [22.69842766583067, -4.948209794781352, -32.69...  \n",
       "1  [363.06516722800853, -9.35770274087134, -490.4...  \n",
       "2                                           1.199596  "
      ]
     },
     "execution_count": 286,
     "metadata": {},
     "output_type": "execute_result"
    }
   ],
   "source": [
    "refine_edges(df_copy, surviving_edges)"
   ]
  }
 ],
 "metadata": {
  "kernelspec": {
   "display_name": "smallholder-env",
   "language": "python",
   "name": "python3"
  },
  "language_info": {
   "codemirror_mode": {
    "name": "ipython",
    "version": 3
   },
   "file_extension": ".py",
   "mimetype": "text/x-python",
   "name": "python",
   "nbconvert_exporter": "python",
   "pygments_lexer": "ipython3",
   "version": "3.10.16"
  }
 },
 "nbformat": 4,
 "nbformat_minor": 5
}
